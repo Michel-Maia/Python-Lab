{
  "nbformat": 4,
  "nbformat_minor": 0,
  "metadata": {
    "colab": {
      "provenance": [],
      "authorship_tag": "ABX9TyOgWOFis5mwz7WJsJkRHR5H"
    },
    "kernelspec": {
      "name": "python3",
      "display_name": "Python 3"
    },
    "language_info": {
      "name": "python"
    }
  },
  "cells": [
    {
      "cell_type": "markdown",
      "source": [
        "O comando print(), que é uma das diretrizes mais fáceis em Python, simplesmente imprime uma linha na tela.\n",
        "\n",
        "Em seu primeiro laboratório:\n",
        "\n",
        "Use a função de print() para imprimir a linha Olá, Python! na tela. Use aspas duplas ao redor da string.\n",
        "Depois de fazer isso, use a função print() novamente, mas desta vez imprima seu primeiro nome.\n",
        "Remova as aspas duplas e execute o código. Assista à reação do Python. Que tipo de erro é gerado?\n",
        "Em seguida, remova os parênteses, coloque aspas duplas e execute o código novamente. Que tipo de erro é gerado desta vez?\n",
        "Experimente o máximo que puder. Altere aspas duplas para aspas simples, use várias funções print() na mesma linha e, em seguida, em linhas diferentes. Veja o que acontece.\n"
      ],
      "metadata": {
        "id": "VFaHwQYnms1d"
      }
    },
    {
      "cell_type": "markdown",
      "source": [
        "Modifique a primeira linha de código no editor, usando as palavras-chave sep e end, para corresponder à saída esperada. Use as duas funções print() no editor.\n",
        "\n",
        "Não altere nada na segunda invocação de print()."
      ],
      "metadata": {
        "id": "dL7CRt1imzfv"
      }
    },
    {
      "cell_type": "markdown",
      "source": [
        "Saída esperada\n",
        "Programação***Essenciais***em...Python\n",
        " "
      ],
      "metadata": {
        "id": "agUJWI1Fm3I-"
      }
    },
    {
      "cell_type": "code",
      "execution_count": null,
      "metadata": {
        "colab": {
          "base_uri": "https://localhost:8080/"
        },
        "id": "e0ZcAHFcmCVp",
        "outputId": "3ff3f8ab-fc4f-46ca-f8df-e1752fc8dc18"
      },
      "outputs": [
        {
          "output_type": "stream",
          "name": "stdout",
          "text": [
            "Programação Essenciais em\n",
            "Python\n"
          ]
        }
      ],
      "source": [
        "print(\"Programação\",\"Essenciais\",\"em\")\n",
        "print(\"Python\")"
      ]
    },
    {
      "cell_type": "markdown",
      "source": [
        "Recomendamos que você brinque com o código que escrevemos para você e faça algumas alterações (talvez até destrutivas). Sinta-se livre para modificar qualquer parte do código, mas há uma condição: aprender com seus erros e tirar suas próprias conclusões.\n",
        "\n",
        "Tente:\n",
        "\n",
        "minimizar o número de invocações de função print() inserindo a sequência \\n nas strings;\n",
        "aumentar a flecha duas vezes (mas manter as proporções)\n",
        "duplique a seta, colocando as duas setas lado a lado; observação: uma string pode ser multiplicada usando o seguinte truque: \"string\" * 2 produzirá \"stringstring\" (falaremos sobre isso em breve)\n",
        "remova qualquer uma das aspas e analise com cuidado a resposta do Python; preste atenção onde Python vê um erro - este é o lugar onde o erro realmente existe?\n",
        "faça o mesmo com alguns parênteses;\n",
        "altere qualquer uma das palavras Print em algo diferente, diferindo apenas no caso (por exemplo, Print) - o que acontece agora?\n",
        "substitua algumas aspas por apóstrofos; veja o que acontece com cuidado."
      ],
      "metadata": {
        "id": "xjtBz4QVm9OD"
      }
    },
    {
      "cell_type": "code",
      "source": [
        "\n",
        "\n",
        "print(\" *\")\n",
        "print(\" * *\")\n",
        "print(\" * *\")\n",
        "print(\" * *\")\n",
        "print(\"*** ***\")\n",
        "print(\" * *\")\n",
        "print(\" * *\")\n",
        "print(\" *****\")\n"
      ],
      "metadata": {
        "colab": {
          "base_uri": "https://localhost:8080/"
        },
        "id": "Ch8HhVTCnAfR",
        "outputId": "6c95acae-c4d2-45fa-b1d7-4f5dc1fda06e"
      },
      "execution_count": null,
      "outputs": [
        {
          "output_type": "stream",
          "name": "stdout",
          "text": [
            " *\n",
            " * *\n",
            " * *\n",
            " * *\n",
            "*** ***\n",
            " * *\n",
            " * *\n",
            " *****\n"
          ]
        }
      ]
    },
    {
      "cell_type": "markdown",
      "source": [
        "Cenário\n",
        "Escreva um código de uma linha usando a função de print(), bem como os caracteres de nova linha e de escape, para corresponder ao resultado esperado gerado em três linhas.\n",
        "\n",
        "Saída esperada\n",
        "\"Eu sou\"\n",
        "\"\"aprendizado\"\"\n",
        "\"\"\"Python\"\"\""
      ],
      "metadata": {
        "id": "fOIXbvAZnH-a"
      }
    }
  ]
}