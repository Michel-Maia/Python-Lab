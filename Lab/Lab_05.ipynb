{
  "nbformat": 4,
  "nbformat_minor": 0,
  "metadata": {
    "colab": {
      "provenance": [],
      "authorship_tag": "ABX9TyOZdjDiot3N4q3Ixg+uk8IG"
    },
    "kernelspec": {
      "name": "python3",
      "display_name": "Python 3"
    },
    "language_info": {
      "name": "python"
    }
  },
  "cells": [
    {
      "cell_type": "code",
      "execution_count": 1,
      "metadata": {
        "colab": {
          "base_uri": "https://localhost:8080/"
        },
        "id": "42hteKisNgfQ",
        "outputId": "488770b2-6caf-4ac6-d967-5a47a3efe5b1"
      },
      "outputs": [
        {
          "output_type": "stream",
          "name": "stdout",
          "text": [
            "[[':(', ':)', ':(', ':)'], [':)', ':(', ':)', ':)'], [':(', ':)', ':)', ':('], [':)', ':)', ':)', ':(']]\n",
            ":(\n",
            ":)\n"
          ]
        }
      ],
      "source": [
        "# Uma tabela de quatro colunas/quatro linhas ‒ uma matriz bidimensional (4x4)\n",
        " \n",
        "table = [[\":(\", \":)\", \":(\", \":)\"],\n",
        "         [\":)\", \":(\", \":)\", \":)\"],\n",
        "         [\":(\", \":)\", \":)\", \":(\"],\n",
        "         [\":)\", \":)\", \":)\", \":(\"]]\n",
        " \n",
        "print(table)\n",
        "print(table[0][0])  # outputs: ':('\n",
        "print(table[0][3])  # outputs: ':)'\n",
        " \n"
      ]
    },
    {
      "cell_type": "code",
      "source": [
        "# Cubo - uma matriz tridimensional (3x3x3)\n",
        " \n",
        "cube = [[[':(', 'x', 'x'],\n",
        "         [':)', 'x', 'x'],\n",
        "         [':(', 'x', 'x']],\n",
        " \n",
        "        [[':)', 'x', 'x'],\n",
        "         [':(', 'x', 'x'],\n",
        "         [':)', 'x', 'x']],\n",
        " \n",
        "        [[':(', 'x', 'x'],\n",
        "         [':)', 'x', 'x'],\n",
        "         [':)', 'x', 'x']]]\n",
        " \n",
        "print(cube)\n",
        "print(cube[0][0][0])  # outputs: ':('\n",
        "print(cube[2][2][0])  # outputs: ':)'\n",
        " \n"
      ],
      "metadata": {
        "colab": {
          "base_uri": "https://localhost:8080/"
        },
        "id": "ZRWoHbD0Nx1O",
        "outputId": "1bd78f5b-f547-4c30-bc01-ccae5b30f944"
      },
      "execution_count": 2,
      "outputs": [
        {
          "output_type": "stream",
          "name": "stdout",
          "text": [
            "[[[':(', 'x', 'x'], [':)', 'x', 'x'], [':(', 'x', 'x']], [[':)', 'x', 'x'], [':(', 'x', 'x'], [':)', 'x', 'x']], [[':(', 'x', 'x'], [':)', 'x', 'x'], [':)', 'x', 'x']]]\n",
            ":(\n",
            ":)\n"
          ]
        }
      ]
    }
  ]
}