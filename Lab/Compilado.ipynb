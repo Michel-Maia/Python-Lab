{
  "cells": [
    {
      "cell_type": "code",
      "execution_count": null,
      "id": "f8914f01",
      "metadata": {
        "id": "f8914f01"
      },
      "outputs": [],
      "source": [
        "Funções em python:\n",
        "    Funções tem essa característica:\n",
        "nome()\n",
        "Então para usar, jamais poderemos:\n",
        "    1 usar :\n",
        "    2 esquecer de abrir e fechar parênteses.\n",
        ""
      ]
    },
    {
      "cell_type": "code",
      "execution_count": null,
      "id": "2f115b69",
      "metadata": {
        "id": "2f115b69",
        "outputId": "beb29894-34af-4679-a6e6-639471e30c78"
      },
      "outputs": [
        {
          "name": "stdout",
          "output_type": "stream",
          "text": [
            "Bom dia leonardo\n",
            "Bom dia leonardo \n",
            "Bom dia\n",
            "Au au\n"
          ]
        }
      ],
      "source": [
        "nome = 'michel'\n",
        "print(f'Bom dia {nome}')\n",
        "print('Bom dia {} '.format(nome))\n",
        "print('Bom dia')\n",
        "flora()"
      ]
    },
    {
      "cell_type": "code",
      "execution_count": null,
      "id": "16533086",
      "metadata": {
        "id": "16533086"
      },
      "outputs": [],
      "source": [
        "def flora():\n",
        "    print('Au au')"
      ]
    },
    {
      "cell_type": "code",
      "execution_count": null,
      "id": "392d3f6c",
      "metadata": {
        "id": "392d3f6c",
        "outputId": "068524ac-0125-46b6-edcd-b6fe87451924"
      },
      "outputs": [
        {
          "name": "stdout",
          "output_type": "stream",
          "text": [
            "esse é o valor do teste 1234_esse é o valor do teste 1234_esse é o valor do teste 1234_"
          ]
        }
      ],
      "source": [
        "print('esse é o valor do teste {}'.format(teste),end = \"_\")\n",
        "print('esse é o valor do teste {}'.format(teste),end = \"_\")\n",
        "print('esse é o valor do teste {}'.format(teste),end = \"_\")"
      ]
    },
    {
      "cell_type": "code",
      "execution_count": null,
      "id": "bb6abeb1",
      "metadata": {
        "id": "bb6abeb1",
        "outputId": "3fadda53-4158-4a67-d187-9383f98ece0d"
      },
      "outputs": [
        {
          "name": "stdout",
          "output_type": "stream",
          "text": [
            "alguma cois\n"
          ]
        }
      ],
      "source": [
        "print()\n",
        "input()\n",
        "len()\n",
        "int()\n",
        "float()"
      ]
    },
    {
      "cell_type": "code",
      "execution_count": null,
      "id": "22e9ac39",
      "metadata": {
        "id": "22e9ac39"
      },
      "outputs": [],
      "source": [
        "import keyboard\n",
        "keyboard.press_and_release('ctrl + t')\n",
        "keyboard.write('youtube.com')\n",
        "keyboard.press_and_release('enter')"
      ]
    },
    {
      "cell_type": "code",
      "execution_count": null,
      "id": "191508b6",
      "metadata": {
        "id": "191508b6"
      },
      "outputs": [],
      "source": [
        "'texto'.format()\n",
        "'texto'.upper()\n",
        "'texto'.capitalize()\n",
        "\n",
        "[1,2,3].append()"
      ]
    },
    {
      "cell_type": "code",
      "execution_count": null,
      "id": "28f97dc3",
      "metadata": {
        "id": "28f97dc3",
        "outputId": "3a83aa8d-9f1b-423b-e17d-0364b9f6ebbf"
      },
      "outputs": [
        {
          "name": "stdout",
          "output_type": "stream",
          "text": [
            "digite s ou nn\n",
            "negativo\n"
          ]
        }
      ],
      "source": [
        "# escolha =\n",
        "if input('digite s ou n') == 's':\n",
        "    print('positivo')\n",
        "else:\n",
        "    print('negativo')"
      ]
    },
    {
      "cell_type": "code",
      "execution_count": null,
      "id": "56f84950",
      "metadata": {
        "id": "56f84950"
      },
      "outputs": [],
      "source": [
        "aux = input('digite seu salario')\n",
        "salario = float(aux)"
      ]
    },
    {
      "cell_type": "code",
      "execution_count": null,
      "id": "45001624",
      "metadata": {
        "id": "45001624"
      },
      "outputs": [],
      "source": [
        "if\n",
        "    if\n",
        "    else\n",
        "    elif\n",
        "elif\n",
        "else\n",
        "    if\n",
        "else"
      ]
    },
    {
      "cell_type": "code",
      "execution_count": null,
      "id": "e7d691d0",
      "metadata": {
        "id": "e7d691d0",
        "outputId": "b3da7bbe-7777-4b7f-a4ec-85111bb8adc4"
      },
      "outputs": [
        {
          "name": "stdout",
          "output_type": "stream",
          "text": [
            "bom dia\n",
            "boa tarde\n"
          ]
        }
      ],
      "source": [
        "variavel = <valor>"
      ]
    },
    {
      "cell_type": "code",
      "execution_count": null,
      "id": "2a9fd2e5",
      "metadata": {
        "id": "2a9fd2e5",
        "outputId": "4e04718a-9176-4d43-b52e-4ed670fcffb6"
      },
      "outputs": [
        {
          "name": "stdout",
          "output_type": "stream",
          "text": [
            "b\n",
            "o\n",
            "m\n"
          ]
        }
      ],
      "source": [
        "variavel = 'bom dia' #(0,1,2)\n",
        "for i in range(3):\n",
        "    print(variavel[i])\n",
        "    soneca(2)"
      ]
    },
    {
      "cell_type": "code",
      "execution_count": null,
      "id": "c39c0353",
      "metadata": {
        "id": "c39c0353",
        "outputId": "5bff342a-202b-4ae9-8ccf-9397f33a5a3f"
      },
      "outputs": [
        {
          "name": "stdout",
          "output_type": "stream",
          "text": [
            "[1, 2, 3, 4]\n"
          ]
        }
      ],
      "source": [
        "lista = [1,2,3]\n",
        "lista.append(4)\n",
        "print(lista)"
      ]
    },
    {
      "cell_type": "code",
      "execution_count": null,
      "id": "73edbddd",
      "metadata": {
        "id": "73edbddd",
        "outputId": "bae2e36f-7d5e-4ee5-c871-0ec4b0411648"
      },
      "outputs": [
        {
          "name": "stdout",
          "output_type": "stream",
          "text": [
            "['andressa', 'barbara', 'diego']\n",
            "Qual o próximo nome?: ragatanga\n",
            "Qual o próximo nome?: bitous\n",
            "Qual o próximo nome?: flora\n",
            "Qual o próximo nome?: hulk\n",
            "['andressa', 'barbara', 'diego', 'ragatanga', 'bitous', 'flora', 'hulk']\n"
          ]
        }
      ],
      "source": [
        "nomes = ['andressa','barbara','diego']\n",
        "print(nomes)\n",
        "for i in range(4):\n",
        "    nome = input('Qual o próximo nome?: ')\n",
        "    nomes.append(nome)\n",
        "print(nomes)"
      ]
    },
    {
      "cell_type": "code",
      "execution_count": null,
      "id": "99173254",
      "metadata": {
        "id": "99173254"
      },
      "outputs": [],
      "source": [
        "Estrutura:\n",
        "    for i in <escada>: #range(45) lista string dicionário\n",
        "        <Faça>"
      ]
    },
    {
      "cell_type": "code",
      "execution_count": null,
      "id": "c80e86a6",
      "metadata": {
        "id": "c80e86a6",
        "outputId": "c7107673-a843-4a37-a0a9-8ad7f0d63157"
      },
      "outputs": [
        {
          "name": "stdout",
          "output_type": "stream",
          "text": [
            "0\n",
            "1\n",
            "2\n"
          ]
        }
      ],
      "source": [
        "for i in range(3):\n",
        "    print(i)\n",
        "    soneca(5)"
      ]
    },
    {
      "cell_type": "code",
      "execution_count": null,
      "id": "7087a38c",
      "metadata": {
        "id": "7087a38c"
      },
      "outputs": [],
      "source": [
        "1 - repita 10x a frase olá mundo\n",
        "2 - pergunte 5x o nome de uma pessoa e responda: Bom dia <pessoa>\n",
        "3 - crie um programa que pergunte o salário bruto de um funcionário e\n",
        "informe o quanto ele deve pagar de inss (considere 9% do salário), repita\n",
        "4 vezes\n",
        "4 - crie um programa que cadastre 5 nomes informados pelo usuário em uma\n",
        "lista de nomes previamente definida (caso ela já tenha 11 nomes,\n",
        "por exemplo, deverá ficar com 16 nomes ao final do programa.)\n",
        "Dica: Utilize o método de lista .append()\n",
        "5 - dada a lista de nomes anterior, realize um print com a seguinte saída:\n",
        "\"Bom dia <nome>. Bem vindo ao nosso encontro!\"\n",
        "para cada nome na lista.\n",
        "6 - Crie um programa que pergunte um <nome> e em seguida pergunte o salário\n",
        "do <nome>. Após ter perguntado para 5 pessoas, faça com que o programa\n",
        "informe o valor do inss para cada uma delas\n",
        "Desafio: Pesquise as faixas de imposto do inss e utilize a % adequada para\n",
        "cada faixa salarial\n",
        "\"Bom dia <nome>, com um salário de <salário>, você pagará <inss> de INSS\""
      ]
    },
    {
      "cell_type": "code",
      "execution_count": null,
      "id": "9e2117c4",
      "metadata": {
        "id": "9e2117c4",
        "outputId": "64779120-b492-42ac-dd8f-593373d4b656"
      },
      "outputs": [
        {
          "name": "stdout",
          "output_type": "stream",
          "text": [
            "2000.0\n",
            "1500.0\n"
          ]
        }
      ],
      "source": [
        "if salarios[0] < 1412:\n",
        "        taxa = 0.075\n",
        "print(salarios[0]*taxa)\n",
        "if salarios[1] < 1412:\n",
        "        taxa = 0.075\n",
        "print(salarios[1]*taxa)\n",
        "print(salarios[2])\n",
        "print(salarios[3])"
      ]
    },
    {
      "cell_type": "code",
      "execution_count": null,
      "id": "e5f173b3",
      "metadata": {
        "id": "e5f173b3",
        "outputId": "8a5543fe-b32c-426f-9c03-6d7dbb6c4778"
      },
      "outputs": [
        {
          "name": "stdout",
          "output_type": "stream",
          "text": [
            "digite a qtd a ser cadastrado: 4\n",
            "informe seu nome\n",
            "leo\n",
            "Qual é o seu salário leo\n",
            "1212\n",
            "informe seu nome\n",
            "maria\n",
            "Qual é o seu salário maria\n",
            "2143\n",
            "informe seu nome\n",
            "marieta\n",
            "Qual é o seu salário marieta\n",
            "344325\n",
            "informe seu nome\n",
            "paulo\n",
            "Qual é o seu salário paulo\n",
            "100000\n",
            "Bom dia leo, com um salário de R$1212.00, você pagará R$90.90 de INSS\n",
            "Bom dia maria, com um salário de R$2143.00, você pagará R$192.87 de INSS\n",
            "Bom dia marieta, com um salário de R$344325.00, você pagará R$48205.50 de INSS\n",
            "Bom dia paulo, com um salário de R$100000.00, você pagará R$14000.00 de INSS\n"
          ]
        }
      ],
      "source": [
        "# 6\n",
        "qtd = int(input('digite a qtd a ser cadastrado: '))\n",
        "nomes = []\n",
        "salarios = []\n",
        "for i in range(qtd):\n",
        "    nome = input('informe seu nome\\n')\n",
        "    salario = float(input('Qual é o seu salário {}\\n'.format(nome)))\n",
        "    nomes.append(nome)\n",
        "    salarios.append(salario)\n",
        "for i in range(qtd):\n",
        "    if salarios[i] < 1412:\n",
        "        taxa = 0.075\n",
        "    elif salarios[i] < 2666:\n",
        "        taxa = 0.09\n",
        "    elif salarios[i] < 4000:\n",
        "        taxa = 0.12\n",
        "    else:\n",
        "        taxa = 0.14\n",
        "    print(\"Bom dia {}, com um salário de R${:.2f}, você pagará R${:.2f} de INSS\".format(nomes[i],salarios[i],salarios[i]*taxa))\n",
        "\n"
      ]
    },
    {
      "cell_type": "code",
      "execution_count": null,
      "id": "b841fbb3",
      "metadata": {
        "id": "b841fbb3",
        "outputId": "83106f70-c571-4eab-eba5-cfd1c1ec31d1"
      },
      "outputs": [
        {
          "data": {
            "text/plain": [
              "18.0"
            ]
          },
          "execution_count": 205,
          "metadata": {},
          "output_type": "execute_result"
        }
      ],
      "source": [
        "0.09*200"
      ]
    },
    {
      "cell_type": "code",
      "execution_count": null,
      "id": "ce207dac",
      "metadata": {
        "id": "ce207dac"
      },
      "outputs": [],
      "source": [
        "#1\n",
        "for i in range(10):\n",
        "    print('Olá Mundo')"
      ]
    },
    {
      "cell_type": "code",
      "execution_count": null,
      "id": "d0762418",
      "metadata": {
        "id": "d0762418",
        "outputId": "77a9fe7a-ae4d-4325-fa81-4f65e4ffdf5c"
      },
      "outputs": [
        {
          "name": "stdout",
          "output_type": "stream",
          "text": [
            "Qual é seu nome?\n",
            "leo\n",
            "Bom dia leo\n",
            "Qual é seu nome?\n",
            "pat\n",
            "Bom dia pat\n",
            "Qual é seu nome?\n",
            "andr\n",
            "Bom dia andr\n",
            "Qual é seu nome?\n",
            "barb\n",
            "Bom dia barb\n",
            "Qual é seu nome?\n",
            "diego\n",
            "Bom dia diego\n"
          ]
        }
      ],
      "source": [
        "#2\n",
        "for i in range(5):\n",
        "    nome = input('Qual é seu nome?\\n')\n",
        "    print('Bom dia {}'.format(nome))"
      ]
    },
    {
      "cell_type": "code",
      "execution_count": null,
      "id": "07a5bd2a",
      "metadata": {
        "id": "07a5bd2a",
        "outputId": "3dccb573-dc19-46ca-bdbe-cae092de7408"
      },
      "outputs": [
        {
          "name": "stdout",
          "output_type": "stream",
          "text": [
            "salario1300\n",
            "Você deve pagar R$117.00 de inss\n",
            "salario555\n",
            "Você deve pagar R$49.95 de inss\n"
          ]
        }
      ],
      "source": [
        "#3:\n",
        "for i in range(2):\n",
        "    salario = float(input('salario'))\n",
        "    inss = 0.09*salario\n",
        "    print('Você deve pagar R${:.2f} de inss'.format(inss))"
      ]
    },
    {
      "cell_type": "code",
      "execution_count": null,
      "id": "6c18b2f5",
      "metadata": {
        "id": "6c18b2f5",
        "outputId": "4e137e6f-542e-45fe-812c-9a282a0baafb"
      },
      "outputs": [
        {
          "name": "stdout",
          "output_type": "stream",
          "text": [
            "Qual seu salário?:\n",
            "1300\n",
            "Você deve pagar R$117.00 de inss\n",
            "Qual seu salário?:\n",
            "32\n",
            "Você deve pagar R$2.88 de inss\n"
          ]
        }
      ],
      "source": [
        "for i in range(2):\n",
        "    print('Você deve pagar R${:.2f} de inss'.format(0.09*float(input('Qual seu salário?:\\n'))))"
      ]
    },
    {
      "cell_type": "code",
      "execution_count": null,
      "id": "a8b28e3f",
      "metadata": {
        "id": "a8b28e3f"
      },
      "outputs": [],
      "source": [
        "nomes = [\n",
        "    'leo','maria','dani','andressa'\n",
        "]"
      ]
    },
    {
      "cell_type": "code",
      "execution_count": null,
      "id": "8ce22675",
      "metadata": {
        "id": "8ce22675"
      },
      "outputs": [],
      "source": [
        "# for i in range(2):\n",
        "#     nome = input('Digite o próximo nome\\n')\n",
        "#     nomes.append(nome)\n",
        "# print(nomes)\n",
        "nomes = ['leo', 'maria', 'dani', 'andressa', 'tristana', 'gojo', 'ricardo', 'leandro']\n"
      ]
    },
    {
      "cell_type": "code",
      "execution_count": null,
      "id": "8c71cb1e",
      "metadata": {
        "id": "8c71cb1e",
        "outputId": "8059341f-8112-43e0-bdf3-723b011771d1"
      },
      "outputs": [
        {
          "name": "stdout",
          "output_type": "stream",
          "text": [
            "Bom dia leo. Bem vindo ao nosso encontro!\n",
            "Bom dia maria. Bem vindo ao nosso encontro!\n",
            "Bom dia dani. Bem vindo ao nosso encontro!\n",
            "Bom dia andressa. Bem vindo ao nosso encontro!\n",
            "Bom dia tristana. Bem vindo ao nosso encontro!\n",
            "Bom dia gojo. Bem vindo ao nosso encontro!\n",
            "Bom dia ricardo. Bem vindo ao nosso encontro!\n",
            "Bom dia leandro. Bem vindo ao nosso encontro!\n"
          ]
        }
      ],
      "source": [
        "for i in nomes:\n",
        "    print(\"Bom dia {}. Bem vindo ao nosso encontro!\".format(i))"
      ]
    },
    {
      "cell_type": "code",
      "execution_count": null,
      "id": "afded7d6",
      "metadata": {
        "id": "afded7d6",
        "outputId": "e74f18f3-921f-4888-9d20-06f8ad08d311"
      },
      "outputs": [
        {
          "name": "stdout",
          "output_type": "stream",
          "text": [
            "qual é o seu nome?\n",
            "leo\n",
            "Qual seu salário? {}1200\n",
            "qual é o seu nome?\n",
            "sa\n",
            "Qual seu salário? {}1300\n",
            "qual é o seu nome?\n",
            "leo\n",
            "Qual seu salário? {}1500\n",
            "qual é o seu nome?\n",
            "pat\n",
            "Qual seu salário? {}3500\n",
            "qual é o seu nome?\n",
            "gabi\n",
            "Qual seu salário? {}7000\n",
            "Bom dia leo, com um salário de 1200.0, você pagará 108.0 de INSS\n",
            "Bom dia sa, com um salário de 1300.0, você pagará 117.0 de INSS\n",
            "Bom dia leo, com um salário de 1500.0, você pagará 135.0 de INSS\n",
            "Bom dia pat, com um salário de 3500.0, você pagará 315.0 de INSS\n",
            "Bom dia gabi, com um salário de 7000.0, você pagará 630.0 de INSS\n"
          ]
        }
      ],
      "source": [
        "#6\n",
        "nomes,salarios = [],[]\n",
        "for i in range(5):\n",
        "    nome = input('qual é o seu nome?\\n')\n",
        "    nomes.append(nome)\n",
        "    salarios.append(float(input('Qual seu salário? {}')))\n",
        "tamanhodalista = len(nomes)\n",
        "for i in range(tamanhodalista):\n",
        "    print(\"Bom dia {}, com um salário de {}, você pagará {} de\n",
        "          INSS\".format(nomes[i],salarios[i],salarios[i]*0.09))\n",
        ""
      ]
    },
    {
      "cell_type": "code",
      "execution_count": null,
      "id": "dd4966fb",
      "metadata": {
        "id": "dd4966fb"
      },
      "outputs": [],
      "source": [
        "from random import randint\n",
        "tamanho = randint(20,40)\n",
        "listainicial = []\n",
        "for i in range(tamanho):\n",
        "    listainicial.append(randint(22,3500))"
      ]
    },
    {
      "cell_type": "code",
      "execution_count": null,
      "id": "e85c566c",
      "metadata": {
        "id": "e85c566c",
        "outputId": "50fce34d-10a8-4d6c-af50-b9ccc20d9305"
      },
      "outputs": [
        {
          "name": "stdout",
          "output_type": "stream",
          "text": [
            "[899, 1682, 865, 656, 2444, 215, 2378, 1065, 3213, 925, 540, 3162, 2675, 3164, 521, 1494, 2508, 1868, 2229, 106, 2695, 2932, 180, 1471, 2938]\n"
          ]
        }
      ],
      "source": [
        "print(listainicial)\n",
        "listainicial = [899, 1682, 865, 656, 2444, 215, 2378, 1065, 3213, 925, 540, 3162, 2675, 3164, 521, 1494, 2508, 1868, 2229, 106, 2695, 2932, 180, 1471, 2938]"
      ]
    },
    {
      "cell_type": "code",
      "execution_count": null,
      "id": "b3dcbf4a",
      "metadata": {
        "id": "b3dcbf4a"
      },
      "outputs": [],
      "source": [
        "listapares = []\n",
        "for i in listainicial:\n",
        "    if i % 2 == 0:\n",
        "        listapares.append(i)\n",
        "for i in listapares:\n",
        "\n",
        "    listainicial.remove(i)\n",
        ""
      ]
    },
    {
      "cell_type": "code",
      "execution_count": null,
      "id": "8d315354",
      "metadata": {
        "id": "8d315354",
        "outputId": "7cdbeb7f-a3f6-41eb-8e76-dfe9d13ec18f"
      },
      "outputs": [
        {
          "name": "stdout",
          "output_type": "stream",
          "text": [
            "[2697, 2595, 645, 3195, 9639, 2775, 8025, 1563, 6687, 8085, 4413]\n"
          ]
        }
      ],
      "source": [
        "tamanho = len(listainicial)\n",
        "for i in range(tamanho):\n",
        "    listainicial[i] = listainicial[i]*3\n",
        "print(listainicial)"
      ]
    },
    {
      "cell_type": "code",
      "execution_count": null,
      "id": "60522bf1",
      "metadata": {
        "id": "60522bf1"
      },
      "outputs": [],
      "source": [
        "for i in range(tamanho-1):\n",
        "    listainicial[i] =listainicial[i]+listainicial[i+1]"
      ]
    },
    {
      "cell_type": "code",
      "execution_count": null,
      "id": "fd0f7ac6",
      "metadata": {
        "id": "fd0f7ac6",
        "outputId": "e9f139e4-f84d-4ec6-8144-996446184543"
      },
      "outputs": [
        {
          "name": "stdout",
          "output_type": "stream",
          "text": [
            "14772\n"
          ]
        }
      ],
      "source": [
        "maiornumero = 0\n",
        "for i in listainicial:\n",
        "    if i>maiornumero:\n",
        "        maiornumero = i\n",
        "print(maiornumero)"
      ]
    },
    {
      "cell_type": "code",
      "execution_count": null,
      "id": "37e94acb",
      "metadata": {
        "id": "37e94acb",
        "outputId": "893e92ca-f9db-436e-e183-84183e225f4a"
      },
      "outputs": [
        {
          "name": "stdout",
          "output_type": "stream",
          "text": [
            "[8.573951525234847, 8.083328608786376, 8.253227645581772, 9.45985317831046, 9.426580146973597, 9.287301413112312, 9.168267595554275, 9.017968479328726, 9.600488775972455, 9.433323910489028, 8.392310009269547]\n",
            "[8.573951525234847, 8.083328608786376, 8.253227645581772, 9.45985317831046, 9.426580146973597, 9.287301413112312, 9.168267595554275, 9.017968479328726, 9.600488775972455, 9.433323910489028, 8.392310009269547]\n"
          ]
        }
      ],
      "source": [
        "import math\n",
        "aux = []\n",
        "for i in listainicial:\n",
        "    aux.append(math.log(i))\n",
        "print(aux)\n",
        "for i in range(tamanho):\n",
        "    listainicial[i] = aux[i]\n",
        "print(listainicial)"
      ]
    },
    {
      "cell_type": "code",
      "execution_count": null,
      "id": "85efe67b",
      "metadata": {
        "id": "85efe67b",
        "outputId": "db37cbb6-f4f6-40e4-b2b7-3f79bd4ef0dd"
      },
      "outputs": [
        {
          "name": "stdout",
          "output_type": "stream",
          "text": [
            "[8.573951525234847, 8.083328608786376, 8.253227645581772, 9.45985317831046, 9.426580146973597, 9.287301413112312, 9.168267595554275, 9.017968479328726, 9.600488775972455, 9.433323910489028, 8.392310009269547]\n",
            "['8.573951525234847', '8.083328608786376', '8.253227645581772', '9.45985317831046', '9.426580146973597', '9.287301413112312', '9.168267595554275', '9.017968479328726', '9.600488775972455', '9.433323910489028', '8.392310009269547']\n"
          ]
        }
      ],
      "source": [
        "print(listainicial)\n",
        "for i in range(tamanho):\n",
        "    listainicial[i] = str(listainicial[i])\n",
        "print(listainicial)"
      ]
    },
    {
      "cell_type": "code",
      "execution_count": null,
      "id": "ad59ec3b",
      "metadata": {
        "id": "ad59ec3b"
      },
      "outputs": [],
      "source": [
        "listainicial = ['8.57395523847', '8.08338786376', '8.253227645581772', '9.45985317831046', '9.426580146973597', '9.287413112312', '9.16826759275', '9.017479328726', '9.600488775972455', '9.433323910489028', '8.392310009269547']"
      ]
    },
    {
      "cell_type": "code",
      "execution_count": null,
      "id": "11735f5c",
      "metadata": {
        "id": "11735f5c"
      },
      "outputs": [],
      "source": [
        "aux = []\n",
        "for i in listainicial:\n",
        "    if len(i)<16:\n",
        "        aux.append(i)"
      ]
    },
    {
      "cell_type": "code",
      "execution_count": null,
      "id": "b16ef926",
      "metadata": {
        "id": "b16ef926",
        "outputId": "20af4b2e-136d-4ff8-c734-07f144cd421d"
      },
      "outputs": [
        {
          "name": "stdout",
          "output_type": "stream",
          "text": [
            "['8.57395523847', '8.08338786376', '9.287413112312', '9.16826759275', '9.017479328726']\n",
            "[]\n",
            "['8.57395523847', '8.08338786376', '9.287413112312', '9.16826759275', '9.017479328726']\n"
          ]
        }
      ],
      "source": [
        "print(aux)\n",
        "listainicial.clear()\n",
        "print(listainicial)\n",
        "for i in aux:\n",
        "    listainicial.append(i)\n",
        "print(listainicial)\n"
      ]
    },
    {
      "cell_type": "code",
      "execution_count": null,
      "id": "25e2869d",
      "metadata": {
        "id": "25e2869d",
        "outputId": "81e262a8-974a-4be1-afb4-1aa877282fe7"
      },
      "outputs": [
        {
          "name": "stdout",
          "output_type": "stream",
          "text": [
            "['9.287413112312', '9.16826759275', '9.017479328726', '8.57395523847', '8.08338786376']\n"
          ]
        }
      ],
      "source": [
        "listainicial.sort(reverse=True)\n",
        "print(listainicial)"
      ]
    },
    {
      "cell_type": "code",
      "execution_count": null,
      "id": "9398a1c8",
      "metadata": {
        "id": "9398a1c8",
        "outputId": "5925f1ab-1d64-49f1-98a5-aecb2fa9faa9"
      },
      "outputs": [
        {
          "ename": "IndexError",
          "evalue": "list index out of range",
          "output_type": "error",
          "traceback": [
            "\u001b[1;31m---------------------------------------------------------------------------\u001b[0m",
            "\u001b[1;31mIndexError\u001b[0m                                Traceback (most recent call last)",
            "Cell \u001b[1;32mIn[112], line 2\u001b[0m\n\u001b[0;32m      1\u001b[0m nomes \u001b[38;5;241m=\u001b[39m [\u001b[38;5;124m'\u001b[39m\u001b[38;5;124mleo\u001b[39m\u001b[38;5;124m'\u001b[39m,\u001b[38;5;124m'\u001b[39m\u001b[38;5;124mpat\u001b[39m\u001b[38;5;124m'\u001b[39m,\u001b[38;5;124m'\u001b[39m\u001b[38;5;124mgabi\u001b[39m\u001b[38;5;124m'\u001b[39m]\n\u001b[1;32m----> 2\u001b[0m \u001b[38;5;28mprint\u001b[39m(nomes[\u001b[38;5;241m3\u001b[39m])\n",
            "\u001b[1;31mIndexError\u001b[0m: list index out of range"
          ]
        }
      ],
      "source": [
        "nomes = ['leo','pat','gabi']\n",
        "print(nomes[3])\n",
        "numeros = [10,20,30,40,50,60]"
      ]
    },
    {
      "cell_type": "code",
      "execution_count": null,
      "id": "059ca05f",
      "metadata": {
        "id": "059ca05f"
      },
      "outputs": [],
      "source": []
    },
    {
      "cell_type": "code",
      "execution_count": null,
      "id": "0897c1d5",
      "metadata": {
        "id": "0897c1d5"
      },
      "outputs": [],
      "source": []
    },
    {
      "cell_type": "code",
      "execution_count": null,
      "id": "8fbd86bf",
      "metadata": {
        "id": "8fbd86bf"
      },
      "outputs": [],
      "source": []
    },
    {
      "cell_type": "code",
      "execution_count": null,
      "id": "a2f899d8",
      "metadata": {
        "id": "a2f899d8"
      },
      "outputs": [],
      "source": []
    },
    {
      "cell_type": "code",
      "execution_count": null,
      "id": "479d9220",
      "metadata": {
        "id": "479d9220"
      },
      "outputs": [],
      "source": []
    },
    {
      "cell_type": "markdown",
      "id": "e74b5929",
      "metadata": {
        "id": "e74b5929"
      },
      "source": [
        "## Exercício GPTECO:"
      ]
    },
    {
      "cell_type": "code",
      "execution_count": null,
      "id": "bb890735",
      "metadata": {
        "id": "bb890735"
      },
      "outputs": [],
      "source": [
        "import keyboard\n",
        "keyboard.press_and_release('ctrl+t')\n",
        "keyboard.write('youtube.com')\n",
        "keyboard.press_and_release('enter')"
      ]
    },
    {
      "cell_type": "code",
      "execution_count": null,
      "id": "6a376e68",
      "metadata": {
        "id": "6a376e68"
      },
      "outputs": [],
      "source": [
        "While"
      ]
    },
    {
      "cell_type": "code",
      "execution_count": null,
      "id": "09754acd",
      "metadata": {
        "id": "09754acd"
      },
      "outputs": [],
      "source": [
        "while <teste lógico>:\n",
        ""
      ]
    },
    {
      "cell_type": "code",
      "execution_count": null,
      "id": "6c302ab3",
      "metadata": {
        "id": "6c302ab3"
      },
      "outputs": [],
      "source": []
    },
    {
      "cell_type": "code",
      "execution_count": null,
      "id": "4d8f5ff2",
      "metadata": {
        "id": "4d8f5ff2",
        "outputId": "757fa809-1d18-4db0-8141-9f290714a5c8"
      },
      "outputs": [
        {
          "name": "stdout",
          "output_type": "stream",
          "text": [
            "trocar de emprego\n"
          ]
        }
      ],
      "source": [
        "salario = 0\n",
        "while True:\n",
        "    print('trocar de emprego')\n",
        "    break"
      ]
    },
    {
      "cell_type": "code",
      "execution_count": null,
      "id": "31bded55",
      "metadata": {
        "id": "31bded55",
        "outputId": "dc90295a-fe82-429a-f269-031c25fca00a"
      },
      "outputs": [
        {
          "name": "stdout",
          "output_type": "stream",
          "text": [
            "leonardo tem a idade de_15\n"
          ]
        }
      ],
      "source": []
    },
    {
      "cell_type": "code",
      "execution_count": null,
      "id": "e13956e4",
      "metadata": {
        "id": "e13956e4",
        "outputId": "1c59a31e-6970-4ab5-bda5-06f52d198727"
      },
      "outputs": [
        {
          "name": "stdout",
          "output_type": "stream",
          "text": [
            "range(0, 10)\n"
          ]
        }
      ],
      "source": [
        "print(range(10))"
      ]
    },
    {
      "cell_type": "code",
      "execution_count": null,
      "id": "722c5f56",
      "metadata": {
        "id": "722c5f56"
      },
      "outputs": [],
      "source": [
        "while :\n",
        "    ...\n"
      ]
    },
    {
      "cell_type": "code",
      "execution_count": null,
      "id": "bb339e01",
      "metadata": {
        "id": "bb339e01"
      },
      "outputs": [],
      "source": [
        "promgrama\n",
        "...\n",
        "...\n",
        "...\n",
        "...\n",
        "...\n",
        "...\n",
        "...\n",
        "if <TL>:\n",
        "    ...\n",
        "    ...\n",
        "    ...\n",
        "    ...\n",
        "    ...\n",
        "    if:\n",
        "        ...\n",
        "        ...\n",
        "        for:\n",
        "            ...\n",
        "            ...\n",
        "            ...\n",
        "            for...\n",
        "                ...\n",
        "                ...\n",
        "                while\n",
        "                ...\n",
        "                if\n",
        "                ...\n",
        "...\n",
        "...\n",
        "...\n",
        "...\n",
        "...\n",
        "...\n",
        "...\n"
      ]
    },
    {
      "cell_type": "code",
      "execution_count": null,
      "id": "fc9f3255",
      "metadata": {
        "id": "fc9f3255"
      },
      "outputs": [],
      "source": []
    },
    {
      "cell_type": "code",
      "execution_count": null,
      "id": "8cacbfb7",
      "metadata": {
        "id": "8cacbfb7"
      },
      "outputs": [],
      "source": []
    },
    {
      "cell_type": "code",
      "execution_count": null,
      "id": "f58f73cd",
      "metadata": {
        "id": "f58f73cd"
      },
      "outputs": [],
      "source": []
    },
    {
      "cell_type": "code",
      "execution_count": null,
      "id": "69cb0039",
      "metadata": {
        "id": "69cb0039"
      },
      "outputs": [],
      "source": []
    },
    {
      "cell_type": "code",
      "execution_count": null,
      "id": "0d61825e",
      "metadata": {
        "id": "0d61825e"
      },
      "outputs": [],
      "source": [
        "tempo = 'dia'\n",
        "while tempo == 'dia':\n",
        "    print('bom dia')\n",
        "    tempo = input()"
      ]
    },
    {
      "cell_type": "code",
      "execution_count": null,
      "id": "66807d31",
      "metadata": {
        "id": "66807d31"
      },
      "outputs": [],
      "source": [
        "Exercicio bom dia\n",
        "Enquanto a variavel tempo for dia\n",
        "continue dando bom dia\n",
        "faça inputs da variavel <tempo> e, quando o input\n",
        "for tarde, pare de dar bom dia\n",
        "#2:\n",
        "Crie um programa onde, antes do while, seja perguntado\n",
        "o salário da pessoa.\n",
        "Após, entre no while onde haverá uma pergunta\n",
        "\"Quanto é o próximo gasto?\"\n",
        "e deduza do salário, mostrando o restante.\n",
        "Caso o usuário fique sem saldo, pare o programa."
      ]
    },
    {
      "cell_type": "code",
      "execution_count": null,
      "id": "87f0ff23",
      "metadata": {
        "id": "87f0ff23",
        "outputId": "aab8240b-59e0-41c9-c678-3e703cb98198"
      },
      "outputs": [
        {
          "name": "stdout",
          "output_type": "stream",
          "text": [
            "paciente 1 cadastrado\n",
            "deseja continuar? s/ns\n",
            "paciente 2 cadastrado\n",
            "deseja continuar? s/ns\n",
            "paciente 3 cadastrado\n",
            "deseja continuar? s/ns\n",
            "paciente 4 cadastrado\n",
            "deseja continuar? s/nn\n",
            "acabou\n",
            "boa noite\n"
          ]
        }
      ],
      "source": [
        "continuar = 's'\n",
        "contador = 1\n",
        "while continuar == 's':\n",
        "    print('paciente {} cadastrado'.format(contador))\n",
        "    continuar = input('deseja continuar? s/n')\n",
        "    contador += 1\n",
        "else:\n",
        "    print('acabou')\n",
        "print('boa noite')\n"
      ]
    },
    {
      "cell_type": "code",
      "execution_count": null,
      "id": "09ea1632",
      "metadata": {
        "id": "09ea1632",
        "outputId": "e95acbcb-a1bf-4197-c2c6-b48c4383d84d"
      },
      "outputs": [
        {
          "name": "stdout",
          "output_type": "stream",
          "text": [
            "paciente 1 cadastrado\n",
            "paciente 2 cadastrado\n",
            "paciente 3 cadastrado\n",
            "paciente 4 cadastrado\n",
            "paciente 5 cadastrado\n",
            "paciente 6 cadastrado\n",
            "paciente 7 cadastrado\n",
            "paciente 8 cadastrado\n",
            "paciente 9 cadastrado\n",
            "paciente 10 cadastrado\n",
            "paciente 11 cadastrado\n",
            "paciente 12 cadastrado\n",
            "paciente 13 cadastrado\n",
            "paciente 14 cadastrado\n",
            "paciente 15 cadastrado\n"
          ]
        }
      ],
      "source": [
        "for i in range(15):\n",
        "    print('paciente {} cadastrado'.format(i+1))"
      ]
    },
    {
      "cell_type": "code",
      "execution_count": null,
      "id": "b50e3b74",
      "metadata": {
        "id": "b50e3b74",
        "outputId": "894ae364-1d4d-47e4-f07a-edb3ebe3e689"
      },
      "outputs": [
        {
          "name": "stdout",
          "output_type": "stream",
          "text": [
            "levar guardachuva\n",
            "vai chover hoje?s\n",
            "levar guardachuva\n",
            "vai chover hoje?s\n",
            "levar guardachuva\n",
            "vai chover hoje?n\n",
            "pode sair sem guardachuva\n"
          ]
        }
      ],
      "source": [
        "chovendo = True\n",
        "while chovendo == True:\n",
        "    print('levar guardachuva')\n",
        "    esta = input('vai chover hoje?')\n",
        "    if esta == 's':\n",
        "        chovendo = True\n",
        "    else:\n",
        "        chovendo = False\n",
        "print('pode sair sem guardachuva')"
      ]
    },
    {
      "cell_type": "code",
      "execution_count": null,
      "id": "48da021a",
      "metadata": {
        "id": "48da021a"
      },
      "outputs": [],
      "source": []
    },
    {
      "cell_type": "code",
      "execution_count": null,
      "id": "8ba2e2c3",
      "metadata": {
        "id": "8ba2e2c3"
      },
      "outputs": [],
      "source": []
    },
    {
      "cell_type": "code",
      "execution_count": null,
      "id": "c85e986c",
      "metadata": {
        "id": "c85e986c",
        "outputId": "f575c9c4-c307-4974-e7e7-6a1639a8d403"
      },
      "outputs": [
        {
          "name": "stdout",
          "output_type": "stream",
          "text": [
            "o numero rodado é 17\n",
            "o numero rodado é 22\n",
            "por fim, o numero é 22\n"
          ]
        }
      ],
      "source": [
        "from random import randint\n",
        "from time import sleep\n",
        "tamanho = 1\n",
        "while tamanho % 2 == 1:\n",
        "    tamanho = randint(10,26)\n",
        "    print('o numero rodado é',tamanho)\n",
        "    sleep(1)\n",
        "print('por fim, o numero é',tamanho)"
      ]
    },
    {
      "cell_type": "code",
      "execution_count": null,
      "id": "fafe5bd5",
      "metadata": {
        "id": "fafe5bd5"
      },
      "outputs": [],
      "source": [
        "listainicial = []"
      ]
    },
    {
      "cell_type": "code",
      "execution_count": null,
      "id": "d961cf29",
      "metadata": {
        "id": "d961cf29",
        "outputId": "df793b43-03be-4d9c-ec54-83f4ab5a3468"
      },
      "outputs": [
        {
          "name": "stdout",
          "output_type": "stream",
          "text": [
            "[10, 22, 20, 23, 14, 24, 22, 23, 12, 16, 14, 12, 20, 15, 10, 20, 10, 21, 13, 14, 13, 17]\n"
          ]
        }
      ],
      "source": [
        "for i in range(tamanho):\n",
        "    listainicial.append(randint(10,26))\n",
        "print(listainicial)"
      ]
    },
    {
      "cell_type": "code",
      "execution_count": null,
      "id": "950d1f0b",
      "metadata": {
        "id": "950d1f0b",
        "outputId": "f2373c07-818b-4086-fb5e-9d56d7f5ee22"
      },
      "outputs": [
        {
          "name": "stdout",
          "output_type": "stream",
          "text": [
            "sao os pareS: [10, 20, 14, 22, 12, 14, 20, 10, 10, 13, 13]\n",
            "sao os pareS: [22, 23, 24, 23, 16, 12, 15, 20, 21, 14, 17]\n"
          ]
        }
      ],
      "source": [
        "listapospar = []\n",
        "listaposimpar = []\n",
        "# tamanho = len(listainicial)\n",
        "for i in range(tamanho):\n",
        "    if i % 2 == 0:\n",
        "        listapospar.append(listainicial[i])\n",
        "    else:\n",
        "        listaposimpar.append(listainicial[i])\n",
        "print('sao os pareS:',listapospar)\n",
        "print('sao os pareS:',listaposimpar)\n",
        "[10, 22, 20, 23, 14, 24, 22, 23, 12, 16, 14,"
      ]
    },
    {
      "cell_type": "code",
      "execution_count": null,
      "id": "dd981c28",
      "metadata": {
        "id": "dd981c28"
      },
      "outputs": [],
      "source": []
    },
    {
      "cell_type": "code",
      "execution_count": null,
      "id": "cf789719",
      "metadata": {
        "id": "cf789719"
      },
      "outputs": [],
      "source": []
    },
    {
      "cell_type": "code",
      "execution_count": null,
      "id": "d9b2cf09",
      "metadata": {
        "id": "d9b2cf09",
        "outputId": "97ac6bb8-9f23-47cc-ed7c-bab17590cad1"
      },
      "outputs": [
        {
          "name": "stdout",
          "output_type": "stream",
          "text": [
            "Bom dia leo. Bem vindo ao nosso encontro!\n",
            "Bom dia pat. Bem vindo ao nosso encontro!\n",
            "Bom dia wes. Bem vindo ao nosso encontro!\n",
            "Bom dia rex. Bem vindo ao nosso encontro!\n"
          ]
        }
      ],
      "source": [
        "nomes = ['leo','pat','wes','rex']\n",
        "for i in nomes:\n",
        "    print(nomes)"
      ]
    },
    {
      "cell_type": "code",
      "execution_count": null,
      "id": "52ed28e2",
      "metadata": {
        "id": "52ed28e2"
      },
      "outputs": [],
      "source": []
    },
    {
      "cell_type": "code",
      "execution_count": null,
      "id": "9a0a473f",
      "metadata": {
        "id": "9a0a473f"
      },
      "outputs": [],
      "source": [
        "def caio():\n",
        "    print('ronaldinho gaúcho é melhor que cr7')"
      ]
    },
    {
      "cell_type": "code",
      "execution_count": null,
      "id": "13f90e0a",
      "metadata": {
        "id": "13f90e0a"
      },
      "outputs": [],
      "source": []
    },
    {
      "cell_type": "code",
      "execution_count": null,
      "id": "af7089af",
      "metadata": {
        "id": "af7089af"
      },
      "outputs": [],
      "source": []
    },
    {
      "cell_type": "code",
      "execution_count": null,
      "id": "30107c2e",
      "metadata": {
        "id": "30107c2e"
      },
      "outputs": [],
      "source": []
    },
    {
      "cell_type": "code",
      "execution_count": null,
      "id": "3d08af87",
      "metadata": {
        "id": "3d08af87"
      },
      "outputs": [],
      "source": []
    },
    {
      "cell_type": "code",
      "execution_count": null,
      "id": "b18d6d98",
      "metadata": {
        "id": "b18d6d98"
      },
      "outputs": [],
      "source": []
    },
    {
      "cell_type": "code",
      "execution_count": null,
      "id": "50e0f2bf",
      "metadata": {
        "id": "50e0f2bf",
        "outputId": "71e35c8d-7c5e-4481-8794-7b03d93d92c5"
      },
      "outputs": [
        {
          "name": "stdout",
          "output_type": "stream",
          "text": [
            "que número c acha q é?:  700\n",
            "ih, mt alto\n",
            "que número c acha q é?:  501\n",
            "ih, mt alto\n",
            "que número c acha q é?:  322\n",
            "ih, mt alto\n",
            "que número c acha q é?:  100\n",
            "tá baixo\n",
            "que número c acha q é?:  205\n",
            "ih, mt alto\n",
            "que número c acha q é?:  178\n",
            "ih, mt alto\n",
            "que número c acha q é?:  120\n",
            "ih, mt alto\n",
            "que número c acha q é?:  110\n",
            "ih, mt alto\n",
            "que número c acha q é?:  105\n"
          ]
        }
      ],
      "source": [
        "import random\n",
        "numeroaleatorio = random.randint(1,900)\n",
        "chute = 0\n",
        "while chute != numeroaleatorio:\n",
        "    chute = int(input(\"que número c acha q é?:  \"))\n",
        "    if chute > numeroaleatorio:\n",
        "        print('ih, mt alto')\n",
        "    elif chute < numeroaleatorio:\n",
        "        print('tá baixo')"
      ]
    },
    {
      "cell_type": "code",
      "execution_count": null,
      "id": "a0b29a53",
      "metadata": {
        "id": "a0b29a53",
        "outputId": "1b331e68-2a5a-4499-d0d0-99e76379a1e2"
      },
      "outputs": [
        {
          "name": "stdout",
          "output_type": "stream",
          "text": [
            "qual seu nome? silinha\n",
            "usuário com acesso! \n"
          ]
        }
      ],
      "source": [
        "nome1,nome2,nome3 = 'gabi','silinha','cailu'\n",
        "nome = input('qual seu nome? ')\n",
        "if nome == nome1:\n",
        "    print('usuário com acesso! ')\n",
        "elif nome == nome2:\n",
        "    print('usuário com acesso! ')\n",
        "elif nome == nome3:\n",
        "    print('usuário com acesso! ')\n",
        "else:\n",
        "    print('sem acesso')"
      ]
    },
    {
      "cell_type": "code",
      "execution_count": null,
      "id": "b2831951",
      "metadata": {
        "id": "b2831951"
      },
      "outputs": [],
      "source": [
        "else:\n",
        "    print('usuário sem acesso privilegiado.')"
      ]
    },
    {
      "cell_type": "code",
      "execution_count": null,
      "id": "c15a87a3",
      "metadata": {
        "id": "c15a87a3"
      },
      "outputs": [],
      "source": [
        "while <teste lógico>:\n",
        "    <Faça>"
      ]
    },
    {
      "cell_type": "code",
      "execution_count": null,
      "id": "31c6ebeb",
      "metadata": {
        "id": "31c6ebeb",
        "outputId": "b898f672-7faf-4a29-afa8-3ecf1c7f5ad1"
      },
      "outputs": [
        {
          "name": "stdout",
          "output_type": "stream",
          "text": [
            "deseja continuar? s/ns\n",
            "linha 1\n",
            "deseja continuar? s/ns\n",
            "linha 2\n",
            "deseja continuar? s/ns\n",
            "linha 3\n",
            "deseja continuar? s/nn\n",
            "linha 4\n"
          ]
        }
      ],
      "source": [
        "continuar = 's'\n",
        "contadordelinhas = 1\n",
        "while continuar == 's':\n",
        "    continuar = input('deseja continuar? s/n')\n",
        "    print('linha',contadordelinhas)\n",
        "    contadordelinhas +=1"
      ]
    },
    {
      "cell_type": "code",
      "execution_count": null,
      "id": "b37e4687",
      "metadata": {
        "id": "b37e4687",
        "outputId": "522562de-3cd4-4791-802e-37db7f7d8196"
      },
      "outputs": [
        {
          "name": "stdout",
          "output_type": "stream",
          "text": [
            "Informe o 1º número: 10\n",
            "Informe o 2º número: 20\n",
            "30.0\n",
            "Informe o 1º número: 50\n",
            "Informe o 2º número: 90\n",
            "140.0\n"
          ]
        },
        {
          "ename": "KeyboardInterrupt",
          "evalue": "Interrupted by user",
          "output_type": "error",
          "traceback": [
            "\u001b[1;31m---------------------------------------------------------------------------\u001b[0m",
            "\u001b[1;31mKeyboardInterrupt\u001b[0m                         Traceback (most recent call last)",
            "Cell \u001b[1;32mIn[10], line 2\u001b[0m\n\u001b[0;32m      1\u001b[0m \u001b[38;5;28;01mwhile\u001b[39;00m \u001b[38;5;241m1\u001b[39m \u001b[38;5;241m==\u001b[39m \u001b[38;5;241m1\u001b[39m:\n\u001b[1;32m----> 2\u001b[0m     n1 \u001b[38;5;241m=\u001b[39m \u001b[38;5;28mfloat\u001b[39m(\u001b[38;5;28minput\u001b[39m(\u001b[38;5;124m'\u001b[39m\u001b[38;5;124mInforme o 1º número: \u001b[39m\u001b[38;5;124m'\u001b[39m))\n\u001b[0;32m      3\u001b[0m     n2 \u001b[38;5;241m=\u001b[39m \u001b[38;5;28mfloat\u001b[39m(\u001b[38;5;28minput\u001b[39m(\u001b[38;5;124m'\u001b[39m\u001b[38;5;124mInforme o 2º número: \u001b[39m\u001b[38;5;124m'\u001b[39m))\n\u001b[0;32m      4\u001b[0m     resultado \u001b[38;5;241m=\u001b[39m n1\u001b[38;5;241m+\u001b[39mn2\n",
            "File \u001b[1;32m~\\anaconda3\\Lib\\site-packages\\ipykernel\\kernelbase.py:1202\u001b[0m, in \u001b[0;36mKernel.raw_input\u001b[1;34m(self, prompt)\u001b[0m\n\u001b[0;32m   1200\u001b[0m     msg \u001b[38;5;241m=\u001b[39m \u001b[38;5;124m\"\u001b[39m\u001b[38;5;124mraw_input was called, but this frontend does not support input requests.\u001b[39m\u001b[38;5;124m\"\u001b[39m\n\u001b[0;32m   1201\u001b[0m     \u001b[38;5;28;01mraise\u001b[39;00m StdinNotImplementedError(msg)\n\u001b[1;32m-> 1202\u001b[0m \u001b[38;5;28;01mreturn\u001b[39;00m \u001b[38;5;28mself\u001b[39m\u001b[38;5;241m.\u001b[39m_input_request(\n\u001b[0;32m   1203\u001b[0m     \u001b[38;5;28mstr\u001b[39m(prompt),\n\u001b[0;32m   1204\u001b[0m     \u001b[38;5;28mself\u001b[39m\u001b[38;5;241m.\u001b[39m_parent_ident[\u001b[38;5;124m\"\u001b[39m\u001b[38;5;124mshell\u001b[39m\u001b[38;5;124m\"\u001b[39m],\n\u001b[0;32m   1205\u001b[0m     \u001b[38;5;28mself\u001b[39m\u001b[38;5;241m.\u001b[39mget_parent(\u001b[38;5;124m\"\u001b[39m\u001b[38;5;124mshell\u001b[39m\u001b[38;5;124m\"\u001b[39m),\n\u001b[0;32m   1206\u001b[0m     password\u001b[38;5;241m=\u001b[39m\u001b[38;5;28;01mFalse\u001b[39;00m,\n\u001b[0;32m   1207\u001b[0m )\n",
            "File \u001b[1;32m~\\anaconda3\\Lib\\site-packages\\ipykernel\\kernelbase.py:1245\u001b[0m, in \u001b[0;36mKernel._input_request\u001b[1;34m(self, prompt, ident, parent, password)\u001b[0m\n\u001b[0;32m   1242\u001b[0m \u001b[38;5;28;01mexcept\u001b[39;00m \u001b[38;5;167;01mKeyboardInterrupt\u001b[39;00m:\n\u001b[0;32m   1243\u001b[0m     \u001b[38;5;66;03m# re-raise KeyboardInterrupt, to truncate traceback\u001b[39;00m\n\u001b[0;32m   1244\u001b[0m     msg \u001b[38;5;241m=\u001b[39m \u001b[38;5;124m\"\u001b[39m\u001b[38;5;124mInterrupted by user\u001b[39m\u001b[38;5;124m\"\u001b[39m\n\u001b[1;32m-> 1245\u001b[0m     \u001b[38;5;28;01mraise\u001b[39;00m \u001b[38;5;167;01mKeyboardInterrupt\u001b[39;00m(msg) \u001b[38;5;28;01mfrom\u001b[39;00m \u001b[38;5;28;01mNone\u001b[39;00m\n\u001b[0;32m   1246\u001b[0m \u001b[38;5;28;01mexcept\u001b[39;00m \u001b[38;5;167;01mException\u001b[39;00m:\n\u001b[0;32m   1247\u001b[0m     \u001b[38;5;28mself\u001b[39m\u001b[38;5;241m.\u001b[39mlog\u001b[38;5;241m.\u001b[39mwarning(\u001b[38;5;124m\"\u001b[39m\u001b[38;5;124mInvalid Message:\u001b[39m\u001b[38;5;124m\"\u001b[39m, exc_info\u001b[38;5;241m=\u001b[39m\u001b[38;5;28;01mTrue\u001b[39;00m)\n",
            "\u001b[1;31mKeyboardInterrupt\u001b[0m: Interrupted by user"
          ]
        }
      ],
      "source": [
        "while 1 == 1:\n",
        "    n1 = float(input('Informe o 1º número: '))\n",
        "    n2 = float(input('Informe o 2º número: '))\n",
        "    resultado = n1+n2\n",
        "    print(resultado)"
      ]
    },
    {
      "cell_type": "code",
      "execution_count": null,
      "id": "6d567ee7",
      "metadata": {
        "id": "6d567ee7"
      },
      "outputs": [],
      "source": [
        "# parar = 'não'\n",
        "# if parar != 'sim':\n",
        "#     n1 = float(input('digite o n1: '))\n",
        "#     n2 = float(input('digite o n2: '))\n",
        "#     resultado = n1 + n2\n",
        "#     print(resultado)\n",
        "# if parar != 'sim':\n",
        "#     n1 = float(input('digite o n1: '))\n",
        "#     n2 = float(input('digite o n2: '))\n",
        "#     resultado = n1 + n2\n",
        "#     print(resultado)\n",
        "# if parar != 'sim':\n",
        "#     n1 = float(input('digite o n1: '))\n",
        "#     n2 = float(input('digite o n2: '))\n",
        "#     resultado = n1 + n2\n",
        "#     print(resultado)\n",
        "if parar != 'sim':\n",
        "    n1 = float(input('digite o n1: '))\n",
        "    n2 = float(input('digite o n2: '))\n",
        "    resultado = n1 + n2\n",
        "    print(resultado)"
      ]
    },
    {
      "cell_type": "code",
      "execution_count": null,
      "id": "3dbeaa1b",
      "metadata": {
        "id": "3dbeaa1b"
      },
      "outputs": [],
      "source": [
        "1- Faça um programa utilizando while que some dois números\n",
        "para o usuário e entregue o resultado da soma logo em\n",
        "seguida, repetindo infinitamente.\n",
        "2 - faça um progama que, infinitamente, pergunte o nome e\n",
        "a idade de uma pessoa e responda se a mesma pode votar.\n",
        "3 - Crie um programa que, indefinidamente, adicione nomes\n",
        "em uma lista previamente dada.\n",
        "4 - utilizando a estrutura de repetição while, crie\n",
        "um programa que conte de 1 a 50.\n",
        "5 - utilizando o while, crie um programa que conte de 1 a n,\n",
        "tal que n seja um input inteiro informado pelo usuário.\n",
        "6 - Utilizando a biblioteca random > randint, crie um loop while\n",
        "que peça ao usuário que adivinhe um número entre 1 e 999, caso ele\n",
        "erre o número diga se o resultado é menor ou maior.\n",
        "7 - Crie uma lista de feira onde a pessoa pode adicionar diversas\n",
        "frutas; Caso ela digite \"Parar\", o programa deve parar o cadastramento\n",
        "e exibir a lista final"
      ]
    },
    {
      "cell_type": "code",
      "execution_count": null,
      "id": "6d524132",
      "metadata": {
        "id": "6d524132",
        "outputId": "4602c7f2-1b59-4b2e-e183-058e067bf088"
      },
      "outputs": [
        {
          "name": "stdout",
          "output_type": "stream",
          "text": [
            "True\n"
          ]
        }
      ],
      "source": [
        "print(2<3)"
      ]
    },
    {
      "cell_type": "code",
      "execution_count": null,
      "id": "6f58521a",
      "metadata": {
        "id": "6f58521a"
      },
      "outputs": [],
      "source": [
        "while True:\n",
        "    n1 = int(input('n1: '))\n",
        "    n2 = int(input('n2: '))\n",
        "    resultado= n1 + n2\n",
        "    print(resultado)\n",
        "# Ou\n",
        "#print(int(input('n1: ')) + int(input('n2: ')))"
      ]
    },
    {
      "cell_type": "code",
      "execution_count": null,
      "id": "5ca0b212",
      "metadata": {
        "id": "5ca0b212"
      },
      "outputs": [],
      "source": [
        "while True:\n",
        "    nome = input('nome:\\n')\n",
        "    if int(input('idade:\\n'))<16:\n",
        "        print('n pod votar')\n",
        "    else:\n",
        "        print('poid votá')"
      ]
    },
    {
      "cell_type": "code",
      "execution_count": null,
      "id": "83300412",
      "metadata": {
        "id": "83300412"
      },
      "outputs": [],
      "source": [
        "nominhos = ['a','b','c','d','e']"
      ]
    },
    {
      "cell_type": "code",
      "execution_count": null,
      "id": "05c6294b",
      "metadata": {
        "id": "05c6294b",
        "outputId": "e55e3730-1128-43b5-8473-46af14d675c1"
      },
      "outputs": [
        {
          "name": "stdout",
          "output_type": "stream",
          "text": [
            "qual o próximo nominho?\n",
            "titio\n",
            "qual o próximo nominho?\n",
            "tiririca\n",
            "qual o próximo nominho?\n",
            "bambam\n",
            "qual o próximo nominho?\n",
            "popó\n"
          ]
        },
        {
          "ename": "KeyboardInterrupt",
          "evalue": "Interrupted by user",
          "output_type": "error",
          "traceback": [
            "\u001b[1;31m---------------------------------------------------------------------------\u001b[0m",
            "\u001b[1;31mKeyboardInterrupt\u001b[0m                         Traceback (most recent call last)",
            "Cell \u001b[1;32mIn[160], line 3\u001b[0m\n\u001b[0;32m      1\u001b[0m \u001b[38;5;28;01mwhile\u001b[39;00m \u001b[38;5;28;01mTrue\u001b[39;00m:\n\u001b[0;32m      2\u001b[0m \u001b[38;5;66;03m#     nome = \u001b[39;00m\n\u001b[1;32m----> 3\u001b[0m     nominhos\u001b[38;5;241m.\u001b[39mappend(\u001b[38;5;28minput\u001b[39m(\u001b[38;5;124m'\u001b[39m\u001b[38;5;124mqual o próximo nominho?\u001b[39m\u001b[38;5;130;01m\\n\u001b[39;00m\u001b[38;5;124m'\u001b[39m))\n",
            "File \u001b[1;32m~\\anaconda3\\Lib\\site-packages\\ipykernel\\kernelbase.py:1202\u001b[0m, in \u001b[0;36mKernel.raw_input\u001b[1;34m(self, prompt)\u001b[0m\n\u001b[0;32m   1200\u001b[0m     msg \u001b[38;5;241m=\u001b[39m \u001b[38;5;124m\"\u001b[39m\u001b[38;5;124mraw_input was called, but this frontend does not support input requests.\u001b[39m\u001b[38;5;124m\"\u001b[39m\n\u001b[0;32m   1201\u001b[0m     \u001b[38;5;28;01mraise\u001b[39;00m StdinNotImplementedError(msg)\n\u001b[1;32m-> 1202\u001b[0m \u001b[38;5;28;01mreturn\u001b[39;00m \u001b[38;5;28mself\u001b[39m\u001b[38;5;241m.\u001b[39m_input_request(\n\u001b[0;32m   1203\u001b[0m     \u001b[38;5;28mstr\u001b[39m(prompt),\n\u001b[0;32m   1204\u001b[0m     \u001b[38;5;28mself\u001b[39m\u001b[38;5;241m.\u001b[39m_parent_ident[\u001b[38;5;124m\"\u001b[39m\u001b[38;5;124mshell\u001b[39m\u001b[38;5;124m\"\u001b[39m],\n\u001b[0;32m   1205\u001b[0m     \u001b[38;5;28mself\u001b[39m\u001b[38;5;241m.\u001b[39mget_parent(\u001b[38;5;124m\"\u001b[39m\u001b[38;5;124mshell\u001b[39m\u001b[38;5;124m\"\u001b[39m),\n\u001b[0;32m   1206\u001b[0m     password\u001b[38;5;241m=\u001b[39m\u001b[38;5;28;01mFalse\u001b[39;00m,\n\u001b[0;32m   1207\u001b[0m )\n",
            "File \u001b[1;32m~\\anaconda3\\Lib\\site-packages\\ipykernel\\kernelbase.py:1245\u001b[0m, in \u001b[0;36mKernel._input_request\u001b[1;34m(self, prompt, ident, parent, password)\u001b[0m\n\u001b[0;32m   1242\u001b[0m \u001b[38;5;28;01mexcept\u001b[39;00m \u001b[38;5;167;01mKeyboardInterrupt\u001b[39;00m:\n\u001b[0;32m   1243\u001b[0m     \u001b[38;5;66;03m# re-raise KeyboardInterrupt, to truncate traceback\u001b[39;00m\n\u001b[0;32m   1244\u001b[0m     msg \u001b[38;5;241m=\u001b[39m \u001b[38;5;124m\"\u001b[39m\u001b[38;5;124mInterrupted by user\u001b[39m\u001b[38;5;124m\"\u001b[39m\n\u001b[1;32m-> 1245\u001b[0m     \u001b[38;5;28;01mraise\u001b[39;00m \u001b[38;5;167;01mKeyboardInterrupt\u001b[39;00m(msg) \u001b[38;5;28;01mfrom\u001b[39;00m \u001b[38;5;28;01mNone\u001b[39;00m\n\u001b[0;32m   1246\u001b[0m \u001b[38;5;28;01mexcept\u001b[39;00m \u001b[38;5;167;01mException\u001b[39;00m:\n\u001b[0;32m   1247\u001b[0m     \u001b[38;5;28mself\u001b[39m\u001b[38;5;241m.\u001b[39mlog\u001b[38;5;241m.\u001b[39mwarning(\u001b[38;5;124m\"\u001b[39m\u001b[38;5;124mInvalid Message:\u001b[39m\u001b[38;5;124m\"\u001b[39m, exc_info\u001b[38;5;241m=\u001b[39m\u001b[38;5;28;01mTrue\u001b[39;00m)\n",
            "\u001b[1;31mKeyboardInterrupt\u001b[0m: Interrupted by user"
          ]
        }
      ],
      "source": [
        "while True:\n",
        "    nominhos.append(input('qual o próximo nominho?\\n'))\n"
      ]
    },
    {
      "cell_type": "code",
      "execution_count": null,
      "id": "c1fe7243",
      "metadata": {
        "id": "c1fe7243"
      },
      "outputs": [],
      "source": [
        "nomes = ['leonardo','andrezza','ricardinho']"
      ]
    },
    {
      "cell_type": "code",
      "execution_count": null,
      "id": "3785cdc8",
      "metadata": {
        "id": "3785cdc8",
        "outputId": "9d1469df-73ed-4d23-da3c-2ab036cb29d4"
      },
      "outputs": [
        {
          "name": "stdout",
          "output_type": "stream",
          "text": [
            "1-Adicionar\n",
            "2-Remover\n",
            "3-Consultar\n",
            "4-Sair\n",
            "3\n",
            "O 1º nome é leonardo\n",
            "O 2º nome é andrezza\n",
            "O 3º nome é ricardinho\n",
            "1-Adicionar\n",
            "2-Remover\n",
            "3-Consultar\n",
            "4-Sair\n",
            "4\n",
            "programinha continuou\n",
            "vida q segue\n"
          ]
        }
      ],
      "source": [
        "parar = 'não'\n",
        "while parar != 'sim':\n",
        "    menu = input('1-Adicionar\\n2-Remover\\n3-Consultar\\n4-Sair\\n')\n",
        "    match menu:\n",
        "        case '1':\n",
        "            print('adicionei')\n",
        "        case '2':\n",
        "            print('removi')\n",
        "        case '3':\n",
        "            for i in range(len(nomes)):\n",
        "                print('O {}º nome é {}'.format(i+1,nomes[i]))\n",
        "        case '4':\n",
        "            break\n",
        "        case _:\n",
        "            print('escolha uma válida')\n",
        "print('programinha continuou')\n",
        "print('vida q segue')"
      ]
    },
    {
      "cell_type": "code",
      "execution_count": null,
      "id": "4d09034a",
      "metadata": {
        "id": "4d09034a"
      },
      "outputs": [],
      "source": []
    },
    {
      "cell_type": "code",
      "execution_count": null,
      "id": "a263e479",
      "metadata": {
        "id": "a263e479"
      },
      "outputs": [],
      "source": []
    },
    {
      "cell_type": "code",
      "execution_count": null,
      "id": "25b5a986",
      "metadata": {
        "id": "25b5a986",
        "outputId": "54ab35d5-34f6-4dd8-8579-52acb39b6a6b"
      },
      "outputs": [
        {
          "name": "stdout",
          "output_type": "stream",
          "text": [
            "a\n",
            "b\n",
            "c\n",
            "d\n",
            "e\n"
          ]
        },
        {
          "ename": "IndexError",
          "evalue": "list index out of range",
          "output_type": "error",
          "traceback": [
            "\u001b[1;31m---------------------------------------------------------------------------\u001b[0m",
            "\u001b[1;31mIndexError\u001b[0m                                Traceback (most recent call last)",
            "Cell \u001b[1;32mIn[52], line 9\u001b[0m\n\u001b[0;32m      2\u001b[0m \u001b[38;5;66;03m# from time import sleep as sl\u001b[39;00m\n\u001b[0;32m      3\u001b[0m \u001b[38;5;66;03m# for item in extra:\u001b[39;00m\n\u001b[0;32m      4\u001b[0m \u001b[38;5;66;03m#     if item == 'c':\u001b[39;00m\n\u001b[0;32m      5\u001b[0m \u001b[38;5;66;03m#         extra.remove('c')\u001b[39;00m\n\u001b[0;32m      6\u001b[0m \u001b[38;5;66;03m#     print(item)\u001b[39;00m\n\u001b[0;32m      7\u001b[0m \u001b[38;5;66;03m#     sl(1)\u001b[39;00m\n\u001b[0;32m      8\u001b[0m \u001b[38;5;28;01mfor\u001b[39;00m i \u001b[38;5;129;01min\u001b[39;00m \u001b[38;5;28mrange\u001b[39m(\u001b[38;5;241m6\u001b[39m):\n\u001b[1;32m----> 9\u001b[0m     \u001b[38;5;28mprint\u001b[39m(extra[i])\n",
            "\u001b[1;31mIndexError\u001b[0m: list index out of range"
          ]
        }
      ],
      "source": [
        "extra = ['a','b','c','d','e']\n",
        "# from time import sleep as sl\n",
        "# for item in extra:\n",
        "#     if item == 'c':\n",
        "#         extra.remove('c')\n",
        "#     print(item)\n",
        "#     sl(1)\n",
        "for i in range(6):\n",
        "    print(extra[i])\n",
        "\n"
      ]
    },
    {
      "cell_type": "code",
      "execution_count": null,
      "id": "d5da2e0f",
      "metadata": {
        "id": "d5da2e0f",
        "outputId": "f1fb4f07-ea97-4264-b541-ddc0d60e9f69"
      },
      "outputs": [
        {
          "name": "stdout",
          "output_type": "stream",
          "text": [
            "[11, 1726, 22, 1142, 474, 853, 1281, 483, 1735, 1439, 727, 1228, 588, 508, 1657, 639, 1757, 121, 1848, 1739, 198, 1370, 555, 1083, 713, 1220, 680, 1223, 1798, 1434, 449, 394, 1062, 1830, 402, 84, 772, 1836, 1554, 1576]\n"
          ]
        }
      ],
      "source": [
        "listanumerica = [11, 1726, 22, 1142, 474, 853,\n",
        "                 1281, 483, 1735, 1439, 727, 1228, 588,\n",
        "                 508, 1657, 639, 1757, 121, 1848, 1739, 198,\n",
        "                 1370, 555, 1083, 713, 1220, 680, 1223, 1798, 1434, 449,\n",
        "                 394, 1062, 1830, 402, 84, 772, 1836, 1554, 1576]"
      ]
    },
    {
      "cell_type": "code",
      "execution_count": null,
      "id": "818fd778",
      "metadata": {
        "id": "818fd778",
        "outputId": "da9715a9-dfdf-478a-f7c3-62e3a3adb89b"
      },
      "outputs": [
        {
          "name": "stdout",
          "output_type": "stream",
          "text": [
            "[1281, 1227, 1439, 613, 1056, 1894, 1183, 1564, 1631, 14, 716, 235, 1305, 1055, 642, 286, 1991, 1463, 333, 1281]\n",
            "[1281, 1227, 1439, 613, 1183, 1631, 235, 1305, 1055, 1991, 1463, 333, 1281]\n",
            "[3843, 3681, 4317, 1839, 3549, 4893, 705, 3915, 3165, 5973, 4389, 999, 3843]\n"
          ]
        }
      ],
      "source": [
        "from random import randint as rt\n",
        "aux = []\n",
        "listanumerica = []\n",
        "for a in range(20):\n",
        "    listanumerica.append(rt(0,2000))\n",
        "print(listanumerica)\n",
        "for item in listanumerica:\n",
        "    if item % 2 == 0:\n",
        "        aux.append(item)\n",
        "for item in aux:\n",
        "    listanumerica.remove(item)\n",
        "print(listanumerica)\n",
        "for i in range(len(listanumerica)):\n",
        "    listanumerica[i] = listanumerica[i] *3\n",
        "print(listanumerica)"
      ]
    },
    {
      "cell_type": "code",
      "execution_count": null,
      "id": "2f88cff7",
      "metadata": {
        "id": "2f88cff7",
        "outputId": "8eba1a00-1d05-4bf0-fd2b-7a7c8eadd2d2"
      },
      "outputs": [
        {
          "name": "stdout",
          "output_type": "stream",
          "text": [
            "[3843, 3681, 4317, 1839, 3549, 4893, 705, 3915, 3165, 5973, 4389, 999, 3843]\n",
            "[162, -636, 2478, -1710, -1344, 4188, -3210, 750, -2808, 1584, 3390, -2844, 3843]\n"
          ]
        }
      ],
      "source": [
        "print(listanumerica)\n",
        "for i in range(len(listanumerica)):\n",
        "    if i <len(listanumerica)-1:\n",
        "        listanumerica[i] = listanumerica[i] - listanumerica[i+1]\n",
        "print(listanumerica)"
      ]
    },
    {
      "cell_type": "code",
      "execution_count": null,
      "id": "e4bf701b",
      "metadata": {
        "id": "e4bf701b",
        "outputId": "431ecf67-eea4-4194-9a48-9a2a03e98ff9"
      },
      "outputs": [
        {
          "name": "stdout",
          "output_type": "stream",
          "text": [
            "4188\n"
          ]
        }
      ],
      "source": [
        "maioritem = 0 max(listanumerica)\n",
        "for i in listanumerica:\n",
        "    if maioritem < i:\n",
        "        maioritem = i\n",
        "print(maioritem)"
      ]
    },
    {
      "cell_type": "code",
      "execution_count": null,
      "id": "df932b07",
      "metadata": {
        "id": "df932b07",
        "outputId": "972dddc3-dc3e-40b0-b271-859b0d69b7ec"
      },
      "outputs": [
        {
          "name": "stdout",
          "output_type": "stream",
          "text": [
            "-1.2039728043259361\n"
          ]
        }
      ],
      "source": [
        "print(math.log(0.3))"
      ]
    },
    {
      "cell_type": "code",
      "execution_count": null,
      "id": "7d0a95c0",
      "metadata": {
        "scrolled": true,
        "id": "7d0a95c0",
        "outputId": "f3060654-0a3d-4ea9-debf-a82d87c48de5"
      },
      "outputs": [
        {
          "name": "stdout",
          "output_type": "stream",
          "text": [
            "162\n",
            "-636\n",
            "2478\n",
            "-1710\n",
            "-1344\n",
            "4188\n",
            "-3210\n",
            "750\n",
            "-2808\n",
            "1584\n",
            "3390\n",
            "-2844\n",
            "3843\n",
            "[5.087596335232384, 6.455198563340122, 7.815207062189088, 7.444248649496705, 7.203405521083095, 8.339978571990427, 8.07402621612406, 6.620073206530356, 7.940227765145702, 7.367708572374371, 8.128585200374497, 7.952966790923131, 8.254008590564844]\n"
          ]
        }
      ],
      "source": [
        "aux = []\n",
        "for i in range(len(listanumerica)):\n",
        "    if listanumerica[i] > 0 :\n",
        "        b = math.log(listanumerica[i])\n",
        "        aux.append(b)\n",
        "    else:\n",
        "        b = math.log(-listanumerica[i])\n",
        "        aux.append(b)\n",
        "for i in range(len(aux)):\n",
        "    listanumerica[i] = aux [i]\n",
        "\n",
        "print(listanumerica)"
      ]
    },
    {
      "cell_type": "code",
      "execution_count": null,
      "id": "00441aff",
      "metadata": {
        "id": "00441aff",
        "outputId": "ad2b0ee4-f5c5-4858-9a00-3310de1ae819"
      },
      "outputs": [
        {
          "name": "stdout",
          "output_type": "stream",
          "text": [
            "['5.087596335232384', '6.455198563340122', '7.815207062189088', '7.444248649496705', '7.203405521083095', '8.339978571990427', '8.07402621612406', '6.620073206530356', '7.940227765145702', '7.367708572374371', '8.128585200374497', '7.952966790923131', '8.254008590564844']\n"
          ]
        }
      ],
      "source": [
        "aux = []\n",
        "for item in listanumerica:\n",
        "    aux.append(str(item))\n",
        "listanumerica.clear()\n",
        "for item in aux:\n",
        "    listanumerica.append(item)\n",
        "print(listanumerica)"
      ]
    },
    {
      "cell_type": "code",
      "execution_count": null,
      "id": "4eca347b",
      "metadata": {
        "id": "4eca347b",
        "outputId": "d675fd54-aa6a-4575-d6d7-193b7654881d"
      },
      "outputs": [
        {
          "name": "stdout",
          "output_type": "stream",
          "text": [
            "['8.339978571990427', '8.254008590564844', '8.128585200374497', '8.07402621612406', '7.952966790923131', '7.940227765145702', '7.815207062189088', '7.444248649496705', '7.367708572374371', '7.203405521083095', '6.620073206530356', '6.455198563340122', '5.087596335232384']\n"
          ]
        }
      ],
      "source": [
        "listanumerica.sort(reverse= True)\n",
        "print(listanumerica)"
      ]
    },
    {
      "cell_type": "code",
      "execution_count": null,
      "id": "98fc090c",
      "metadata": {
        "id": "98fc090c"
      },
      "outputs": [],
      "source": [
        "for i in range(2):\n",
        "    nome =\n",
        "    comida =\n",
        "    idade,time,naturalidade = input('Digite a {}ª idade: '.format(i+1)),input('Digite o {}º time: '.format(i+1)),input('Digite a {}ª naturalidade: '.format(i+1))\n",
        "     =\n",
        "     =\n",
        "    nomes.append(input('Digite o {}º nome: '.format(i+1)))\n",
        "    comidas.append(input('Digite a {}ª comida: '.format(i+1))\n",
        "    times.append(time)\n",
        "    idades.append(idade)\n",
        "    naturalidades.append(naturalidade)"
      ]
    },
    {
      "cell_type": "markdown",
      "id": "a6038568-3333-4f88-93f1-686973b1b17e",
      "metadata": {
        "id": "a6038568-3333-4f88-93f1-686973b1b17e"
      },
      "source": [
        "# Sintaxes:\n",
        "## Print:\n",
        "print('texto')\n",
        "### Método .format para strings\n",
        " O format é uma ferramenta poderosa que serve\n",
        " para colocarmos valores diretamente no nosso\n",
        " texto sem que tenhamos que previamente fazer\n",
        " alguma conversão\n",
        "## Sintaxe do .format:\n",
        "Após o seu texto, você irá digitar .format abre e fecha parênteses.\n",
        "E dentro dele, colocar as variáveis.\n",
        "'texto'.format(variável,variável2 )"
      ]
    },
    {
      "cell_type": "markdown",
      "id": "979a6a40-9e10-4e2a-99be-23fc23635ede",
      "metadata": {
        "id": "979a6a40-9e10-4e2a-99be-23fc23635ede"
      },
      "source": [
        "\n",
        "## Input:\n",
        "var = input('texto a ser perguntado para o usuário')"
      ]
    },
    {
      "cell_type": "code",
      "execution_count": null,
      "id": "3152eaa4-24bc-4b93-bbe3-620bb3cb2b0d",
      "metadata": {
        "id": "3152eaa4-24bc-4b93-bbe3-620bb3cb2b0d"
      },
      "outputs": [],
      "source": [
        "nome = input('insira seu nome \\n')\n",
        "idade = input('insira sua idade \\n')\n",
        "naturalidade = input('insira sua naturalidade \\n')\n",
        "print('o nome do indivíduo é {} de idade {} nascido na cidade de {}'.format(nome,idade,naturalidade))"
      ]
    },
    {
      "cell_type": "code",
      "execution_count": null,
      "id": "b265e1cf-505d-4685-923f-dfb5d39bd80d",
      "metadata": {
        "id": "b265e1cf-505d-4685-923f-dfb5d39bd80d"
      },
      "outputs": [],
      "source": [
        "nomealuno = input('naluno')\n",
        "nomepai = input('nomidopai')\n",
        "nomemae = input('damae')\n",
        "print('Convidamos vocês pais {}, {} para a festa de seu filho {}'.format(nomemae, nomepai, nomealuno))"
      ]
    },
    {
      "cell_type": "markdown",
      "id": "05ae2b1f-f9e5-4050-9396-69a9e6301457",
      "metadata": {
        "id": "05ae2b1f-f9e5-4050-9396-69a9e6301457"
      },
      "source": [
        "### Exercício\n",
        "\n",
        "A sua empresa lhe pediu para fazer um programa que, ao receber\n",
        "a quantidade de vigas a se utilizar,\n",
        "o preço unitário de cada uma delas e o salário total dos funcionários,\n",
        "retornasse pra você o custo\n",
        "total da obra, bem como o preço a ser cobrado dos clientes -\n",
        "Com uma margem de lucro de 100%-."
      ]
    },
    {
      "cell_type": "code",
      "execution_count": null,
      "id": "e2c2cacb-b9ef-4d76-88e3-fccaccaae712",
      "metadata": {
        "id": "e2c2cacb-b9ef-4d76-88e3-fccaccaae712"
      },
      "outputs": [],
      "source": [
        "#Solução\n",
        "qtdvigas= input('qtd vigas?')\n",
        "previgas=input('preco cada viga')\n",
        "salariototalfuncionarios = input('qtd é o salário de td mundo junto?')\n",
        "custo = int(qtdvigas)*int(previgas) + int(salariototalfuncionarios)\n",
        "preco = 2*custo\n",
        "print('O custo total da obra foi {} e o preço total da obra foi {}'.format(custo,2*custo))"
      ]
    },
    {
      "cell_type": "markdown",
      "id": "263770fd-6b02-4901-8c0e-90d35fcdc09e",
      "metadata": {
        "id": "263770fd-6b02-4901-8c0e-90d35fcdc09e"
      },
      "source": [
        "# \"Fórmulas\" de Texto - Métodos de String\n",
        "\n",
        "## Estrutura:\n",
        "\n",
        "- Normalmente usamos a estrutura texto.método() para fazer as modificações que queremos\n",
        "- Alguns métodos pedem \"argumentos\", que são informações que temos que passar para a fórmula (método) para ela funcionar. Esses argumentos são passados dentro do parênteses\n",
        "\n",
        "## Como usar:\n",
        "\n",
        "Não decore os métodos, os que você for mais usando com o tempo você vai decorar o que precisar.\n",
        "\n",
        "Mas a dica é: use essa lista para consulta e busque entender como os métodos funcionam e suas aplicações, para poder consultar e usar quando precisar."
      ]
    },
    {
      "cell_type": "markdown",
      "id": "7901faa8-518b-44e3-9f11-50992150396d",
      "metadata": {
        "id": "7901faa8-518b-44e3-9f11-50992150396d"
      },
      "source": [
        "- capitalize() -> Coloca a 1ª letra Maiúscula"
      ]
    },
    {
      "cell_type": "code",
      "execution_count": null,
      "id": "0e0a3f34-7cb7-4926-ba11-4fc07edbfc4d",
      "metadata": {
        "id": "0e0a3f34-7cb7-4926-ba11-4fc07edbfc4d",
        "outputId": "62294b8d-d8de-48d0-f15b-7627defd83c8"
      },
      "outputs": [
        {
          "name": "stdout",
          "output_type": "stream",
          "text": [
            "Lira\n"
          ]
        }
      ],
      "source": [
        "texto = 'lira'\n",
        "print(texto.capitalize())"
      ]
    },
    {
      "cell_type": "markdown",
      "id": "0584c780-ef2d-4ede-ad8b-9ef13264bda1",
      "metadata": {
        "id": "0584c780-ef2d-4ede-ad8b-9ef13264bda1"
      },
      "source": [
        "- casefold() -> Transforma todas as letras em minúsculas (existe lower() mas o casefold é melhor normalmente)"
      ]
    },
    {
      "cell_type": "code",
      "execution_count": null,
      "id": "ab2334d5-026b-4796-84be-14674384cd14",
      "metadata": {
        "id": "ab2334d5-026b-4796-84be-14674384cd14",
        "outputId": "f02658a9-6287-45fe-e761-b916ea953967"
      },
      "outputs": [
        {
          "name": "stdout",
          "output_type": "stream",
          "text": [
            "lira\n"
          ]
        }
      ],
      "source": [
        "texto = 'Lira'\n",
        "print(texto.casefold())"
      ]
    },
    {
      "cell_type": "markdown",
      "id": "6f96899a-7f14-4a10-b7e9-e549d1c7fb56",
      "metadata": {
        "id": "6f96899a-7f14-4a10-b7e9-e549d1c7fb56"
      },
      "source": [
        "- count()\t-> Quantidade de vezes que um valor aparece na string"
      ]
    },
    {
      "cell_type": "code",
      "execution_count": null,
      "id": "c6ee7c7e-6a87-47d8-ac34-4cdb871f7b99",
      "metadata": {
        "id": "c6ee7c7e-6a87-47d8-ac34-4cdb871f7b99",
        "outputId": "11ade9a8-91ca-480f-deb7-0d96dd9767bf"
      },
      "outputs": [
        {
          "name": "stdout",
          "output_type": "stream",
          "text": [
            "2\n"
          ]
        }
      ],
      "source": [
        "texto = 'lira@yahoo.com.br'\n",
        "print(texto.count('.'))"
      ]
    },
    {
      "cell_type": "markdown",
      "id": "0c1e7783-d6e7-4819-b9cf-a6d6f0a9ab02",
      "metadata": {
        "id": "0c1e7783-d6e7-4819-b9cf-a6d6f0a9ab02"
      },
      "source": [
        "- endswith() -> Verifica se o texto termina com um valor específico e dá como resposta True ou False"
      ]
    },
    {
      "cell_type": "code",
      "execution_count": null,
      "id": "27adf5cc-2d99-43b6-a3ba-36cd6032df62",
      "metadata": {
        "id": "27adf5cc-2d99-43b6-a3ba-36cd6032df62",
        "outputId": "62a27e48-f4f8-4214-92db-7dff80b80942"
      },
      "outputs": [
        {
          "name": "stdout",
          "output_type": "stream",
          "text": [
            "True\n"
          ]
        }
      ],
      "source": [
        "texto = 'lira@gmail.com'\n",
        "print(texto.endswith('gmail.com'))"
      ]
    },
    {
      "cell_type": "markdown",
      "id": "e49d54e3-5d60-47f6-b84d-0d15b6df527a",
      "metadata": {
        "id": "e49d54e3-5d60-47f6-b84d-0d15b6df527a"
      },
      "source": [
        "- find() -> Procura um texto dentro de outro texto e dá como resposta a posição do texto encontrado"
      ]
    },
    {
      "cell_type": "code",
      "execution_count": null,
      "id": "46456c1a-37d8-4210-85c8-b47b528c4900",
      "metadata": {
        "id": "46456c1a-37d8-4210-85c8-b47b528c4900",
        "outputId": "6d57d13b-b8d3-4c33-f9d1-12bf6e5ef5f6"
      },
      "outputs": [
        {
          "name": "stdout",
          "output_type": "stream",
          "text": [
            "4\n"
          ]
        }
      ],
      "source": [
        "texto = 'lira@gmail.com'\n",
        "print(texto.find('@'))\n",
        "\n",
        "#Obs: lembrando como funciona a posição nas strings, então o @ está na posição 4\n",
        "#    l i r a @ g m a i l  .  c  o  m\n",
        "#    0 1 2 3 4 5 6 7 8 9 10 11 12 13"
      ]
    },
    {
      "cell_type": "markdown",
      "id": "8baedc95-2db5-4882-9185-03c69bf4ebdc",
      "metadata": {
        "id": "8baedc95-2db5-4882-9185-03c69bf4ebdc"
      },
      "source": [
        "- format() -> Formata uma string de acordo com os valores passados. Já usamos bastante ao longo do programa."
      ]
    },
    {
      "cell_type": "code",
      "execution_count": null,
      "id": "781b6c1d-2957-4134-a749-27e7d047c851",
      "metadata": {
        "id": "781b6c1d-2957-4134-a749-27e7d047c851",
        "outputId": "4bd65ed7-7006-4123-cc5e-3b2811978b78"
      },
      "outputs": [
        {
          "name": "stdout",
          "output_type": "stream",
          "text": [
            "O faturamento da loja foi de 1000 reais\n"
          ]
        }
      ],
      "source": [
        "faturamento = 1000\n",
        "print('O faturamento da loja foi de {} reais'.format(faturamento))"
      ]
    },
    {
      "cell_type": "markdown",
      "id": "0bbd1aa2-c93e-498e-9a86-de696675fb69",
      "metadata": {
        "id": "0bbd1aa2-c93e-498e-9a86-de696675fb69"
      },
      "source": [
        "- isalnum() -> Verifica se um texto é todo feito com caracteres alfanuméricos (letras e números) -> letras com acento ou ç são considerados letras para essa função."
      ]
    },
    {
      "cell_type": "code",
      "execution_count": null,
      "id": "b829abe2-bad1-4b55-8701-f56bf1c41f1e",
      "metadata": {
        "id": "b829abe2-bad1-4b55-8701-f56bf1c41f1e",
        "outputId": "bc6bdc5d-39dd-466a-ba1b-1654324e6acd"
      },
      "outputs": [
        {
          "name": "stdout",
          "output_type": "stream",
          "text": [
            "True\n"
          ]
        }
      ],
      "source": [
        "texto = 'João123'\n",
        "print(texto.isalnum())\n",
        "#Obs: se o texto fosse 'Jo~ao' ou então 'Joao#' o resultado seria False"
      ]
    },
    {
      "cell_type": "markdown",
      "id": "a19ae002-508f-439d-8151-f9c24e21c4d7",
      "metadata": {
        "id": "a19ae002-508f-439d-8151-f9c24e21c4d7"
      },
      "source": [
        "- isalpha() -> Verifica se um texto é todo feito de letras."
      ]
    },
    {
      "cell_type": "code",
      "execution_count": null,
      "id": "d4fe934a-8f3e-4007-a76c-53cfbd6211ed",
      "metadata": {
        "id": "d4fe934a-8f3e-4007-a76c-53cfbd6211ed",
        "outputId": "19e3472f-a5e8-4601-d18e-6c24b7ab3fe5"
      },
      "outputs": [
        {
          "name": "stdout",
          "output_type": "stream",
          "text": [
            "True\n"
          ]
        }
      ],
      "source": [
        "texto = 'João'\n",
        "print(texto.isalpha())\n",
        "#Obs: nesse caso se o texto fosse 'Joao123' o resultado seria False, porque 123 não são letras."
      ]
    },
    {
      "cell_type": "markdown",
      "id": "4f08a06f-0270-4d30-bd58-0983c757bd14",
      "metadata": {
        "id": "4f08a06f-0270-4d30-bd58-0983c757bd14"
      },
      "source": [
        "- isnumeric()\t-> Verifica se um texto é todo feito por números."
      ]
    },
    {
      "cell_type": "code",
      "execution_count": null,
      "id": "76eb56ef-1022-4a92-bf6a-0632625a6bb4",
      "metadata": {
        "id": "76eb56ef-1022-4a92-bf6a-0632625a6bb4"
      },
      "outputs": [],
      "source": [
        "texto = '123'\n",
        "print(texto.isnumeric())\n",
        "# Obs: existem os métodos isdigit() e isdecimal() que tem variações pontuais em caracteres especiais tipo textos com\n",
        "#frações e potências, mas para 99% dos casos eles não vão ser necessários."
      ]
    },
    {
      "cell_type": "markdown",
      "id": "efa085c9-9a60-4c58-8c56-4baca2e451e9",
      "metadata": {
        "id": "efa085c9-9a60-4c58-8c56-4baca2e451e9"
      },
      "source": [
        "- replace() -> Substitui um texto por um outro texto em uma string."
      ]
    },
    {
      "cell_type": "code",
      "execution_count": null,
      "id": "583a4c4e-17be-4c5e-b934-fc137e9e3223",
      "metadata": {
        "id": "583a4c4e-17be-4c5e-b934-fc137e9e3223",
        "outputId": "267d5af2-cf21-448a-b36d-1f4dbf2226f7"
      },
      "outputs": [
        {
          "name": "stdout",
          "output_type": "stream",
          "text": [
            "1000,00\n"
          ]
        }
      ],
      "source": [
        "texto = '1000.00'\n",
        "print(texto.replace('.', ','))\n",
        "#Obs: o replace precisa de 2 argumentos para funcionar. O 1º é o texto que você quer trocar.\n",
        "#O 2º é o texto que você quer colocar no lugar daquele texto que você está tirando."
      ]
    },
    {
      "cell_type": "markdown",
      "id": "a5b908b3-524f-496e-a187-7c3493f9081e",
      "metadata": {
        "id": "a5b908b3-524f-496e-a187-7c3493f9081e"
      },
      "source": [
        "- split()\t-> Separa uma string de acordo com um delimitador em vários textos diferentes."
      ]
    },
    {
      "cell_type": "code",
      "execution_count": null,
      "id": "fbe0cc5c-dc12-4f33-939b-3ec630e214f1",
      "metadata": {
        "id": "fbe0cc5c-dc12-4f33-939b-3ec630e214f1",
        "outputId": "1f3d5284-fd00-47f6-d92b-fbdb070ddb02"
      },
      "outputs": [
        {
          "name": "stdout",
          "output_type": "stream",
          "text": [
            "['lira', 'gmail.com']\n"
          ]
        }
      ],
      "source": [
        "texto = 'lira@gmail.com'\n",
        "print(texto.split('@'))"
      ]
    },
    {
      "cell_type": "markdown",
      "id": "adba3327-8c88-48e2-bfda-0571619eeeb1",
      "metadata": {
        "id": "adba3327-8c88-48e2-bfda-0571619eeeb1"
      },
      "source": [
        "- splitlines() -> separa um texto em vários textos de acordo com os \"enters\" do texto"
      ]
    },
    {
      "cell_type": "code",
      "execution_count": null,
      "id": "670f6467-e715-4467-9211-ef19ad999355",
      "metadata": {
        "id": "670f6467-e715-4467-9211-ef19ad999355",
        "outputId": "375231c9-eaa8-4b39-b0b5-7fd585b824a6"
      },
      "outputs": [
        {
          "name": "stdout",
          "output_type": "stream",
          "text": [
            "['Olá, bom dia', 'Venho por meio desse e-mail lhe informar o faturamento da loja no dia de hoje.', 'Faturamento = R$2.500,00']\n"
          ]
        }
      ],
      "source": [
        "texto = '''Olá, bom dia\n",
        "Venho por meio desse e-mail lhe informar o faturamento da loja no dia de hoje.\n",
        "Faturamento = R$2.500,00'''\n",
        "print(texto.splitlines())"
      ]
    },
    {
      "cell_type": "markdown",
      "id": "b7927b0b-cd27-4144-b171-bff99a8e36ff",
      "metadata": {
        "id": "b7927b0b-cd27-4144-b171-bff99a8e36ff"
      },
      "source": [
        "- startswith() -> Verifica se a string começa com determinado texto"
      ]
    },
    {
      "cell_type": "code",
      "execution_count": null,
      "id": "3434cd8f-bb32-4b76-9ad4-d6b81a5ca22d",
      "metadata": {
        "id": "3434cd8f-bb32-4b76-9ad4-d6b81a5ca22d",
        "outputId": "b2b4cb9e-fbe1-4e06-8780-1c21d27808e0"
      },
      "outputs": [
        {
          "name": "stdout",
          "output_type": "stream",
          "text": [
            "True\n"
          ]
        }
      ],
      "source": [
        "texto = 'BEB123453'\n",
        "print(texto.startswith('BEB'))"
      ]
    },
    {
      "cell_type": "markdown",
      "id": "f990e25e-219b-401e-a446-eb0d1228fd5f",
      "metadata": {
        "id": "f990e25e-219b-401e-a446-eb0d1228fd5f"
      },
      "source": [
        "- strip()\t-> Retira caracteres indesejados dos textos. Por padrão, retira espaços \"extras\" no início e no final"
      ]
    },
    {
      "cell_type": "code",
      "execution_count": null,
      "id": "a0c42ff2-9f28-4a18-ab16-b7379e4cc67d",
      "metadata": {
        "id": "a0c42ff2-9f28-4a18-ab16-b7379e4cc67d",
        "outputId": "54f46c81-eae1-4a2e-a9c9-7e1adb4ebec2"
      },
      "outputs": [
        {
          "name": "stdout",
          "output_type": "stream",
          "text": [
            "BEB123453\n"
          ]
        }
      ],
      "source": [
        "texto = ' BEB123453 '\n",
        "print(texto.strip())"
      ]
    },
    {
      "cell_type": "markdown",
      "id": "b6d13aac-9c92-48d2-9ae0-60a8972e8128",
      "metadata": {
        "id": "b6d13aac-9c92-48d2-9ae0-60a8972e8128"
      },
      "source": [
        "- title() -> Coloca a 1ª letra de cada palavra em maiúscula"
      ]
    },
    {
      "cell_type": "code",
      "execution_count": null,
      "id": "112ee5ac-b9fc-40b6-8c9c-dbef0eaf96b7",
      "metadata": {
        "id": "112ee5ac-b9fc-40b6-8c9c-dbef0eaf96b7",
        "outputId": "f32e8b55-90ae-4f04-f7ec-8fd67809a4c3"
      },
      "outputs": [
        {
          "name": "stdout",
          "output_type": "stream",
          "text": [
            "João Paulo Lira\n"
          ]
        }
      ],
      "source": [
        "texto = 'joão paulo lira'\n",
        "print(texto.title())"
      ]
    },
    {
      "cell_type": "markdown",
      "id": "68f2ed71-f9d9-407f-80f0-d7a26a28a8f8",
      "metadata": {
        "id": "68f2ed71-f9d9-407f-80f0-d7a26a28a8f8"
      },
      "source": [
        "- upper()\t-> Coloca o texto todo em letra maiúscula"
      ]
    },
    {
      "cell_type": "code",
      "execution_count": null,
      "id": "e08d73b2-b11f-416b-8a73-71521031ef15",
      "metadata": {
        "id": "e08d73b2-b11f-416b-8a73-71521031ef15",
        "outputId": "62c7828d-18b6-4ffb-872b-82175622a3f6"
      },
      "outputs": [
        {
          "name": "stdout",
          "output_type": "stream",
          "text": [
            "BEB12343\n"
          ]
        }
      ],
      "source": [
        "texto = 'beb12343'\n",
        "print(texto.upper())"
      ]
    },
    {
      "cell_type": "markdown",
      "id": "95cae4d0-e0bf-4965-90e8-93c21a61bb9b",
      "metadata": {
        "id": "95cae4d0-e0bf-4965-90e8-93c21a61bb9b"
      },
      "source": [
        "## Exercitando"
      ]
    },
    {
      "cell_type": "code",
      "execution_count": null,
      "id": "6d6c5572-492a-428b-a070-705c51933787",
      "metadata": {
        "id": "6d6c5572-492a-428b-a070-705c51933787"
      },
      "outputs": [],
      "source": [
        "texto = '''Olá, bom dia\n",
        "        Venho por meio desse e-mail lhe informar o faturamento da loja no dia de hoje.\n",
        "        Faturamento = R$2.500,00\n",
        "        '''"
      ]
    },
    {
      "cell_type": "markdown",
      "id": "e643fccb",
      "metadata": {
        "id": "e643fccb"
      },
      "source": [
        "# Exercícios complexos:"
      ]
    },
    {
      "cell_type": "markdown",
      "id": "bb0f9514",
      "metadata": {
        "id": "bb0f9514"
      },
      "source": [
        "# Lista de Estrutura Sequencial"
      ]
    },
    {
      "cell_type": "markdown",
      "id": "4e7a8c30",
      "metadata": {
        "id": "4e7a8c30"
      },
      "source": [
        "#### 1. Faça um Programa que mostre a mensagem (print) \"Alo mundo\" na tela."
      ]
    },
    {
      "cell_type": "code",
      "execution_count": null,
      "id": "883bfe85",
      "metadata": {
        "id": "883bfe85"
      },
      "outputs": [],
      "source": [
        "print('Alô mundo!')"
      ]
    },
    {
      "cell_type": "markdown",
      "id": "71d6d6a2",
      "metadata": {
        "id": "71d6d6a2"
      },
      "source": [
        "#### 2. Faça um Programa que peça um número (input) e então mostre a mensagem: \"O número informado foi [número].\""
      ]
    },
    {
      "cell_type": "code",
      "execution_count": null,
      "id": "30cfffcf",
      "metadata": {
        "id": "30cfffcf"
      },
      "outputs": [],
      "source": [
        "numero = input('Informe um número: ')\n",
        "print(f'O número informado foi {numero}.')"
      ]
    },
    {
      "cell_type": "markdown",
      "id": "c5e43160",
      "metadata": {
        "id": "c5e43160"
      },
      "source": [
        "#### 3. Faça um Programa que peça dois números e imprima a soma."
      ]
    },
    {
      "cell_type": "code",
      "execution_count": null,
      "id": "b0e79590",
      "metadata": {
        "id": "b0e79590"
      },
      "outputs": [],
      "source": [
        "x = float(input('Informe o primeiro número: '))\n",
        "y = float(input('Informe o segundo número: '))\n",
        "\n",
        "print('A soma dos dois números é:', x + y)"
      ]
    },
    {
      "cell_type": "markdown",
      "id": "17826987",
      "metadata": {
        "id": "17826987"
      },
      "source": [
        "#### 4. Faça um Programa que peça as 4 notas bimestrais de um aluno e mostre a média de todas as notas."
      ]
    },
    {
      "cell_type": "code",
      "execution_count": null,
      "id": "23b66762",
      "metadata": {
        "id": "23b66762"
      },
      "outputs": [],
      "source": [
        "nota1 = float(input('Informe a 1ª nota: '))\n",
        "nota2 = float(input('Informe a 2ª nota: '))\n",
        "nota3 = float(input('Informe a 3ª nota: '))\n",
        "nota4 = float(input('Informe a 4ª nota: '))\n",
        "\n",
        "media = (nota1 + nota2 + nota3 + nota4) / 4\n",
        "\n",
        "print('A média é:', media)"
      ]
    },
    {
      "cell_type": "markdown",
      "id": "62d461c5",
      "metadata": {
        "id": "62d461c5"
      },
      "source": [
        "#### 5. Faça um Programa que converta metros para centímetros. Você pode pedir o comprimento em metros para o usuário (input)."
      ]
    },
    {
      "cell_type": "code",
      "execution_count": null,
      "id": "d642f1ba",
      "metadata": {
        "id": "d642f1ba"
      },
      "outputs": [],
      "source": [
        "comprimento_m = float(input('Informe um comprimento em metros: '))\n",
        "comprimento_cm = comprimento_m * 100\n",
        "print('Este comprimento em centímetros é:', comprimento_cm, 'cm')"
      ]
    },
    {
      "cell_type": "markdown",
      "id": "f1311697",
      "metadata": {
        "id": "f1311697"
      },
      "source": [
        "#### 6. Faça um Programa que calcule a área de uma sala de um apartamento. Para isso, o seu programa precisa pedir a largura da sala, o comprimento da sala e imprimir a área em m² da sala."
      ]
    },
    {
      "cell_type": "code",
      "execution_count": null,
      "id": "612ea24b",
      "metadata": {
        "id": "612ea24b"
      },
      "outputs": [],
      "source": [
        "largura = float(input('Informe a largura da sala em metros: '))\n",
        "comprimento = float(input('Informe o comprimento da sala em metros: '))\n",
        "area = largura * comprimento\n",
        "print('A área da sala é:', area, 'm²')"
      ]
    },
    {
      "cell_type": "markdown",
      "id": "2a285929",
      "metadata": {
        "id": "2a285929"
      },
      "source": [
        "#### 7. Faça um Programa que pergunte quanto você ganha por hora e o número de horas trabalhadas no mês. Calcule e mostre o total do seu salário no referido mês."
      ]
    },
    {
      "cell_type": "code",
      "execution_count": null,
      "id": "359e2232",
      "metadata": {
        "id": "359e2232"
      },
      "outputs": [],
      "source": [
        "valor_hora = float(input('Informe o valor ganho por hora em R$/h: '))\n",
        "horas_trabalhadas = float(input('Informe a quantidade de horas trabalhadas no mês: '))\n",
        "total = valor_hora * horas_trabalhadas\n",
        "print('O salário do mês foi: R$', total)"
      ]
    },
    {
      "cell_type": "markdown",
      "id": "7e2d4615",
      "metadata": {
        "id": "7e2d4615"
      },
      "source": [
        "#### 8. Vamos criar um conversor de temperatura. Faça um Programa que peça a temperatura em graus Fahrenheit, transforme e mostre a temperatura em graus Celsius.\n",
        "$C = \\frac{5}{9}(F-32)$"
      ]
    },
    {
      "cell_type": "code",
      "execution_count": null,
      "id": "82daf9fd",
      "metadata": {
        "id": "82daf9fd"
      },
      "outputs": [],
      "source": [
        "temperatura_f = float(input('Informe a temperatura em Fahrenheit: '))\n",
        "temperatura_c = (5/9) * (temperatura_f - 32)\n",
        "print('A temperatura é:', temperatura_c, '°C')"
      ]
    },
    {
      "cell_type": "markdown",
      "id": "20708b1c",
      "metadata": {
        "id": "20708b1c"
      },
      "source": [
        "#### 9. Faça um Programa que peça a temperatura em graus Celsius, transforme e mostre em graus Fahrenheit.\n",
        "$F = \\frac{9}{5}C + 32$"
      ]
    },
    {
      "cell_type": "code",
      "execution_count": null,
      "id": "c73cfb38",
      "metadata": {
        "id": "c73cfb38"
      },
      "outputs": [],
      "source": [
        "temperatura_c = float(input('Informe a temperatura em Celsius: '))\n",
        "temperatura_f = 9/5 * temperatura_c + 32\n",
        "print('A temperatura é:', temperatura_f, '°F')"
      ]
    },
    {
      "cell_type": "markdown",
      "id": "b263a9dc",
      "metadata": {
        "id": "b263a9dc"
      },
      "source": [
        "#### 10. Tendo como dados de entrada a altura (h) de uma pessoa, construa um algoritmo que calcule seu peso ideal, usando a seguinte fórmula:\n",
        "$P = 72,7h - 58$\n",
        "\n",
        "Lembrando que \"algoritmo\" nada mais é do que um programa, como todos os outros que você vem fazendo"
      ]
    },
    {
      "cell_type": "code",
      "execution_count": null,
      "id": "9a9b8dca",
      "metadata": {
        "id": "9a9b8dca",
        "outputId": "f7e3d49d-f56f-42e1-f136-4944820ce4db"
      },
      "outputs": [
        {
          "name": "stdout",
          "output_type": "stream",
          "text": [
            "Informe a altura em metros: 1.71\n",
            "O peso ideal é: 66.31700000000001 kg\n"
          ]
        }
      ],
      "source": [
        "altura = float(input('Informe a altura em metros: '))\n",
        "peso_ideal = 72.7 * altura - 58\n",
        "print('O peso ideal é:', peso_ideal, 'kg')"
      ]
    },
    {
      "cell_type": "markdown",
      "id": "13bb40d7",
      "metadata": {
        "id": "13bb40d7"
      },
      "source": [
        "#### 11. Tendo como dado de entrada a altura (h) de uma pessoa, construa um algoritmo que calcule seu peso ideal, utilizando as seguintes fórmulas:\n",
        "##### a. Para homens: $P = 72,7h - 58$\n",
        "##### b. Para mulheres: $P = 62,1h - 44,7$"
      ]
    },
    {
      "cell_type": "code",
      "execution_count": null,
      "id": "bf82dc8c",
      "metadata": {
        "id": "bf82dc8c"
      },
      "outputs": [],
      "source": [
        "altura = float(input('Informe a altura em metros: '))\n",
        "peso_ideal_homens = 72.7 * altura - 58\n",
        "peso_ideal_mulheres = 62.1 * altura - 44.7\n",
        "\n",
        "print('O peso ideal com essa altura para homens é:', peso_ideal_homens, 'kg')\n",
        "print('O peso ideal com essa altura para mulheres é:', peso_ideal_mulheres, 'kg')"
      ]
    },
    {
      "cell_type": "markdown",
      "id": "f208ef89",
      "metadata": {
        "id": "f208ef89"
      },
      "source": [
        "#### 12. Faça um Programa que pergunte quanto você ganha por hora e o número de horas trabalhadas no mês."
      ]
    },
    {
      "cell_type": "code",
      "execution_count": null,
      "id": "2d5b23e0",
      "metadata": {
        "id": "2d5b23e0"
      },
      "outputs": [],
      "source": [
        "remuneracao = float(input('Informe a remuneração em R$ por hora: '))\n",
        "horas_trabalhadas = int(input('Informe a quantidade de horas trabalhadas: '))"
      ]
    },
    {
      "cell_type": "markdown",
      "id": "607dee3c",
      "metadata": {
        "id": "607dee3c"
      },
      "source": [
        "#####  Calcule o salário bruto (horas * salario por hora)"
      ]
    },
    {
      "cell_type": "code",
      "execution_count": null,
      "id": "7f80ccbb",
      "metadata": {
        "id": "7f80ccbb"
      },
      "outputs": [],
      "source": [
        "salario_bruto = remuneracao * horas_trabalhadas\n",
        "print(f'O salário bruto é R$ {salario_bruto}')"
      ]
    },
    {
      "cell_type": "markdown",
      "id": "2ed93cb0",
      "metadata": {
        "id": "2ed93cb0"
      },
      "source": [
        "##### Calcule o desconto do IR (11% do salário bruto)"
      ]
    },
    {
      "cell_type": "code",
      "execution_count": null,
      "id": "3363e22f",
      "metadata": {
        "id": "3363e22f"
      },
      "outputs": [],
      "source": [
        "ir = 0.11 * salario_bruto\n",
        "print(f'O desconto do IR é R$ {ir}')"
      ]
    },
    {
      "cell_type": "markdown",
      "id": "0994b2c0",
      "metadata": {
        "id": "0994b2c0"
      },
      "source": [
        "##### Calcule o desconto do INSS (8% do salário bruto)"
      ]
    },
    {
      "cell_type": "code",
      "execution_count": null,
      "id": "748c6088",
      "metadata": {
        "id": "748c6088"
      },
      "outputs": [],
      "source": [
        "inss = 0.08 * salario_bruto\n",
        "print(f'O desconto do INSS é R$ {inss}')"
      ]
    },
    {
      "cell_type": "markdown",
      "id": "06e8dae4",
      "metadata": {
        "id": "06e8dae4"
      },
      "source": [
        "##### Calcule o desconto do sindicato (5% do salário bruto)"
      ]
    },
    {
      "cell_type": "code",
      "execution_count": null,
      "id": "21b95b15",
      "metadata": {
        "id": "21b95b15",
        "scrolled": true
      },
      "outputs": [],
      "source": [
        "sindicato = 0.05 * salario_bruto\n",
        "print(f'O desconto do sindicato é R$ {sindicato}')"
      ]
    },
    {
      "cell_type": "markdown",
      "id": "bb14ce36",
      "metadata": {
        "id": "bb14ce36"
      },
      "source": [
        "##### Calcule o salário líquido (salário bruto - descontos)"
      ]
    },
    {
      "cell_type": "code",
      "execution_count": null,
      "id": "56317086",
      "metadata": {
        "id": "56317086"
      },
      "outputs": [],
      "source": [
        "salario_liquido = salario_bruto - ir - inss - sindicato\n",
        "print(f'O salário líquido é R$ {salario_liquido}')"
      ]
    },
    {
      "cell_type": "markdown",
      "id": "cfbfcc87",
      "metadata": {
        "id": "cfbfcc87"
      },
      "source": [
        "#### 13. Faça um programa para uma loja de tintas. O programa deverá pedir o tamanho em metros quadrados da área a ser pintada. Considere que a cobertura da tinta é de 1 litro para cada 3 metros quadrados e que a tinta é vendida em latas de 18 litros, que custam R\\$ 80,00. Informe ao usuário a quantidades de latas de tinta a serem compradas e o preço total. (para simplificação nesse momento, não se preocupe em arredondar a quantidade de latas a serem compradas - vamos trabalhar isso em breve)"
      ]
    },
    {
      "cell_type": "code",
      "execution_count": null,
      "id": "fb6a083b",
      "metadata": {
        "id": "fb6a083b",
        "outputId": "aefc812e-8d25-42bd-e76c-f1d2d0c61b41"
      },
      "outputs": [
        {
          "name": "stdout",
          "output_type": "stream",
          "text": [
            "Informe o tamanho da área a ser pintada em m²: 25\n",
            "Serão necessárias 0.462962962962963 latas, custando R$ 37.03703703703704 no total\n"
          ]
        }
      ],
      "source": [
        "area = float(input('Informe o tamanho da área a ser pintada em m²: '))\n",
        "\n",
        "litros_tinta = area / 3\n",
        "\n",
        "latas = litros_tinta / 18\n",
        "preco = latas * 80\n",
        "print(f'Serão necessárias {latas} latas, custando R$ {preco} no total')"
      ]
    },
    {
      "cell_type": "markdown",
      "id": "d6503c92",
      "metadata": {
        "id": "d6503c92"
      },
      "source": [
        "#### 14. Faça um programa que peça o tamanho de um arquivo para download (em MB) e a velocidade de um link de Internet (em Mbps), calcule e informe o tempo aproximado de download do arquivo usando este link (em minutos).\n",
        "\n",
        "Detalhe: MB significa megabyte, Mb (com b minúsculo) significa megabit. Um megabit é 1/8 de um megabyte."
      ]
    },
    {
      "cell_type": "code",
      "execution_count": null,
      "id": "0563aa62",
      "metadata": {
        "id": "0563aa62",
        "outputId": "6d0cc398-50a6-4207-8a79-82b9cffad2ff"
      },
      "outputs": [
        {
          "name": "stdout",
          "output_type": "stream",
          "text": [
            "Informe o tamanho do arquivo em MB: 100\n",
            "Informe a velocidade da conexão em Mbps: 1\n",
            "O tempo de download é de 13.333333333333334 minutos\n"
          ]
        }
      ],
      "source": [
        "tamanho = float(input('Informe o tamanho do arquivo em MB: '))\n",
        "velocidade = float(input('Informe a velocidade da conexão em Mbps: '))\n",
        "\n",
        "# aqui trasnformamos megabytes em megabits para que tamanho e velocidade estejam na mesma unidade\n",
        "tamanho_megabits = tamanho * 8\n",
        "\n",
        "tempo = tamanho_megabits / velocidade\n",
        "# transformando em minutos\n",
        "tempo_minutos = tempo / 60\n",
        "print(f'O tempo de download é de {tempo_minutos} minutos')"
      ]
    },
    {
      "cell_type": "code",
      "execution_count": null,
      "id": "2076bd97",
      "metadata": {
        "id": "2076bd97"
      },
      "outputs": [],
      "source": []
    },
    {
      "cell_type": "markdown",
      "id": "36b1b505-e57e-4c94-98ec-3d01102ff097",
      "metadata": {
        "id": "36b1b505-e57e-4c94-98ec-3d01102ff097"
      },
      "source": [
        "## if e Else\n",
        "if teste lógico:\n",
        "    valor se verdadeiro\n",
        "\n",
        " O if é uma estrutura de decisão a qual, após realizar um\n",
        " teste lógico, executará o conteúdo de seu bloco indentado"
      ]
    },
    {
      "cell_type": "code",
      "execution_count": null,
      "id": "9a62f292",
      "metadata": {
        "id": "9a62f292",
        "outputId": "67639a5c-023a-4c2c-c6a4-7ba875b85c3d"
      },
      "outputs": [
        {
          "name": "stdout",
          "output_type": "stream",
          "text": [
            "True\n"
          ]
        }
      ],
      "source": [
        "a = bool ('False')\n",
        "print(a)"
      ]
    },
    {
      "cell_type": "code",
      "execution_count": null,
      "id": "dbd66e3b",
      "metadata": {
        "id": "dbd66e3b",
        "outputId": "f8b70c52-72c9-49b8-e29f-2ddff9076b63"
      },
      "outputs": [
        {
          "name": "stdout",
          "output_type": "stream",
          "text": [
            "6\n",
            "6\n",
            "False\n",
            "False\n"
          ]
        }
      ],
      "source": [
        "\n",
        "print(10-4)\n",
        "print(6)\n",
        "print('silas' == 'leo')\n",
        "print(False)"
      ]
    },
    {
      "cell_type": "code",
      "execution_count": null,
      "id": "378f0258",
      "metadata": {
        "id": "378f0258",
        "outputId": "2f31bcf5-e275-4950-f0c0-50c0102c3a72"
      },
      "outputs": [
        {
          "name": "stdout",
          "output_type": "stream",
          "text": [
            "True\n",
            "sim\n"
          ]
        }
      ],
      "source": [
        "resultado = 15 > 10\n",
        "print(resultado)\n",
        "if resultado:\n",
        "    print('sim')\n",
        "if True:\n",
        "    print('sim')"
      ]
    },
    {
      "cell_type": "code",
      "execution_count": null,
      "id": "92d1c016",
      "metadata": {
        "id": "92d1c016",
        "outputId": "4fb56f30-481d-46c5-d6de-6e0aed2b001e"
      },
      "outputs": [
        {
          "name": "stdout",
          "output_type": "stream",
          "text": [
            "digitar 4\n",
            "4\n",
            "sim\n"
          ]
        }
      ],
      "source": [
        "resultado =\n",
        "if int(input('digitar 4\\n')) == 4:\n",
        "    print('sim')\n",
        ""
      ]
    },
    {
      "cell_type": "code",
      "execution_count": null,
      "id": "f6edd078-40ac-4b73-b3c1-6a5b58a4e0e9",
      "metadata": {
        "id": "f6edd078-40ac-4b73-b3c1-6a5b58a4e0e9"
      },
      "outputs": [],
      "source": [
        "1 - Pergunte se a pessoa é casada ou não. Caso seja, printe ela é casada. else, printe\n",
        "ela é solteira.\n",
        "2 - Dados dois inputs, diga qual é o maior deles\n",
        "3 - Dado o ano de nascimento, informe se a pessoa já pode votar ou não.\n",
        "4 - Faça um programa que pergunte a senha ao usuário, se a senha for igual a uma\n",
        "pré definida por vc, permita o login \"Login bem sucedido\" senão, imprima \"Senha incorreta\"\n",
        "5 - Dados 3 notas de alunos, veja qual deles teve a maior nota e a pior nota. imprima\n",
        "também quais deles reprovaram (nota menor que 50).\n",
        "\n",
        "casada = 10 == 10\n",
        "if casada:\n",
        "    print('ela é casada')\n",
        "else:\n",
        "    print('não, ela está sortera')\n",
        "\n",
        "-----------------------------------\n",
        "1-\n",
        "valor1,valor2 = input('v1'),input('v2')\n",
        "if int(valor1)>int(valor2):\n",
        "    print('O primeiro valor:{} é maior que o segundo valor: {}'.format(valor1,valor2))\n",
        "else:\n",
        "    print('O segundo valor:{} é maior que o primeiro valor: {}'.format(valor2,valor1))\n",
        "-------------------------------------\n",
        "2-\n",
        "anonascimento = int( input('digite ano nascimento')    )\n",
        "anoatual = 2024\n",
        "idade = anoatual-anonascimento\n",
        "if idade >=16:\n",
        "    print('ele poderá votar este ano')\n",
        "else:\n",
        "    print('ele não poderá votar este ano')\n",
        "--------------------------------------\n",
        "3-\n",
        "senha = input('digite sua senha')\n",
        "if senha == '1234':\n",
        "    print('ACESSO PERMITIDO')\n",
        "else:\n",
        "    print('ACESSO NEGADO')"
      ]
    },
    {
      "cell_type": "code",
      "execution_count": null,
      "id": "8c0ea7fd-d52d-4890-81d2-d5895c7325bb",
      "metadata": {
        "id": "8c0ea7fd-d52d-4890-81d2-d5895c7325bb"
      },
      "outputs": [],
      "source": [
        "usuario = input(\"digite usuário: \")\n",
        "senha = input(\"Senha: \")\n",
        "usuariovalido = 0\n",
        "senhavalida = 0\n",
        "\n",
        "if len(usuario) < 6:\n",
        "    usuariovalido = 1\n",
        "if len(senha) > 8:\n",
        "    if '@' in senha:\n",
        "        senhavalida = 1\n",
        "    if '#' in senha:\n",
        "        senhavalida = 1\n",
        "\n",
        "\n",
        "if usuariovalido == 0:\n",
        "    print('usuario invalido')\n",
        "else:\n",
        "    print('usuario valido')\n",
        "if senhavalida == 0:\n",
        "    print('senha invalida')\n",
        "else:\n",
        "    print('senha valida')"
      ]
    },
    {
      "cell_type": "markdown",
      "id": "baec5bf7-0e58-4de4-a714-c7f2128fe2aa",
      "metadata": {
        "id": "baec5bf7-0e58-4de4-a714-c7f2128fe2aa"
      },
      "source": [
        "### Exercício\n",
        "- Digite a nota do aluno e diga o conceito dele;\n",
        "- Aluno tiver uma nota <30 reprovado. <60 rec <100 aprovado. 100 aprovado com destaque\n",
        "- Total de aulas e analisar se ele tem 75% ou mais de frequência\n",
        "- nota, faltas, quantidade de aulas do curso\n"
      ]
    },
    {
      "cell_type": "code",
      "execution_count": null,
      "id": "f19a7980-2ff8-462f-b14f-9bfa64fb338f",
      "metadata": {
        "id": "f19a7980-2ff8-462f-b14f-9bfa64fb338f"
      },
      "outputs": [],
      "source": [
        "#Solução\n",
        "faltas = float(input('Digite a quantidade de faltas do aluno \\n'))\n",
        "horas = float(input('Quantas horas tem o curso? \\n'))\n",
        "if faltas <= (0.25*horas):\n",
        "    nota = int(input('Digite a nota do aluno \\n'))\n",
        "    if nota < 30:\n",
        "        print('O aluno está reprovado.')\n",
        "    elif nota <60:\n",
        "        print('O aluno está de recuperação. ')\n",
        "    elif nota<100:\n",
        "        print('O aluno está aprovado. ')\n",
        "    elif nota == 100:\n",
        "        print('O aluno está aprovado com destaque!!!')\n",
        "    else:\n",
        "        print('Por favor digite uma nota válida.')\n",
        "else:\n",
        "    print('O aluno não atingiu a frequência mínima desejada.')"
      ]
    },
    {
      "cell_type": "markdown",
      "id": "bd142538-77e4-41cd-92a9-4c77abe23c61",
      "metadata": {
        "id": "bd142538-77e4-41cd-92a9-4c77abe23c61"
      },
      "source": [
        "# WHILE"
      ]
    },
    {
      "cell_type": "code",
      "execution_count": null,
      "id": "38ff4c82-98e6-47ff-a01f-b28307c81be9",
      "metadata": {
        "id": "38ff4c82-98e6-47ff-a01f-b28307c81be9"
      },
      "outputs": [],
      "source": [
        "\n",
        "#while < teste lógico > :\n",
        "#    execute isso aqui:\n",
        "a = 0\n",
        "while a < 10:\n",
        "    print('este é o valor de a {}'.format(a))\n",
        "    a += 1\n",
        "-----------------------------------------------\n",
        "cadastrar = ''\n",
        "ab = []\n",
        "while True:\n",
        "\n",
        "    cadastrar = input('deseja continuar cadastrando? s/p')\n",
        "    if cadastrar == 'p':\n",
        "        break\n",
        "        ab.append(nome)\n"
      ]
    },
    {
      "cell_type": "code",
      "execution_count": null,
      "id": "5e9e18b3-4274-47c3-9dae-cd076a6c4c2f",
      "metadata": {
        "id": "5e9e18b3-4274-47c3-9dae-cd076a6c4c2f"
      },
      "outputs": [],
      "source": [
        "from random import randint\n",
        "numeroadivinhar = randint(1,100)\n",
        "chute = 101\n",
        "continuar = ''\n",
        "while continuar != 'n':\n",
        "    while numeroadivinhar != chute:\n",
        "        chute = int(input('qual número você acha que é? '))\n",
        "        if chute > numeroadivinhar:\n",
        "            print('O número que você chutou é alto demais')\n",
        "        elif chute < numeroadivinhar:\n",
        "            print('O número que você chutou é baixo demais')\n",
        "    print('Você acertou miseravi')\n",
        "    numeroadivinhar = randint(1,100)\n",
        "    chute = 1\n",
        "    continuar = input('desejar continuar? s/n')"
      ]
    },
    {
      "cell_type": "markdown",
      "id": "89849033-3fd6-4483-b4bf-c23291febeb3",
      "metadata": {
        "id": "89849033-3fd6-4483-b4bf-c23291febeb3"
      },
      "source": [
        "# For"
      ]
    },
    {
      "cell_type": "code",
      "execution_count": null,
      "id": "d8366530-9f49-4fb7-843c-c276c29039bf",
      "metadata": {
        "id": "d8366530-9f49-4fb7-843c-c276c29039bf",
        "outputId": "1d9730b0-f0de-433a-f6d2-3ad24c17c7b6"
      },
      "outputs": [
        {
          "name": "stdout",
          "output_type": "stream",
          "text": [
            "linha 0\n",
            "linha 1\n",
            "linha 2\n",
            "linha 3\n",
            "linha 4\n"
          ]
        }
      ],
      "source": [
        "# o for é uma estrutura de iteração, ou seja, ela irá percorrer algo que pode ser iterável\n",
        "# Se pensarmos numa lista, podemos por exemplo ter 5 elementos numa lista, logo o for irá percorrer estes cinco elementos\n",
        "# se pensarmos numa range de número, por exemplo, de 0 a 10, ele irá percorrer cada um dos números de 0 a 9\n",
        "# vamos ver as formas mais comuns de se utilizar o for:\n",
        "# for i in range(5): #aqui estamos falando para o for repetir algo 5x e salvar cada índice dessa repetição na variável i\n",
        "#     print('sim') #não necessariamente precisamos fazer algo com esse i\n",
        "for i in range(5):\n",
        "    print('linha {}'.format(i)) #mas normalmente iremos querer sim fazer algo com o índice atual"
      ]
    },
    {
      "cell_type": "code",
      "execution_count": null,
      "id": "34084519-3252-48f8-937f-c390fb15b499",
      "metadata": {
        "id": "34084519-3252-48f8-937f-c390fb15b499",
        "outputId": "33b50b67-028b-4227-b87b-28d7aba8c765"
      },
      "outputs": [
        {
          "name": "stdout",
          "output_type": "stream",
          "text": [
            "1\n",
            "2\n",
            "a\n",
            "b\n",
            "c\n",
            "d\n"
          ]
        }
      ],
      "source": [
        "#Podemos também ter um for percorrendo não um número, mas uma lista, pois a lista também é um objeto iterable, ou seja, iterável\n",
        "listaexemplo = [1,2,'a','b','c','d']\n",
        "# for item in listaexemplo: #aqui estou atribuindo ao item, a cada iteração, o valor atual da lista começando pelo primeiro valor até o último\n",
        "#     print('linha do item ',item)\n",
        "#Este método é interessante quando temos somente uma lista, pois é mais ágil do que fazer: for item in range(len(listaexemplo)) print(listaexemplo[item])\n",
        "for i in range(len(listaexemplo)):\n",
        "    print(listaexemplo[i])"
      ]
    },
    {
      "cell_type": "code",
      "execution_count": null,
      "id": "a6e1c3f3-e808-42d7-be0a-7c7d294a9068",
      "metadata": {
        "id": "a6e1c3f3-e808-42d7-be0a-7c7d294a9068",
        "outputId": "00d19974-1e5e-4553-8eac-6cd25a136879"
      },
      "outputs": [
        {
          "name": "stdout",
          "output_type": "stream",
          "text": [
            "índice 0\n",
            "item 1\n",
            "índice 1\n",
            "item 2\n",
            "índice 2\n",
            "item a\n",
            "índice 3\n",
            "item b\n",
            "índice 4\n",
            "item c\n",
            "índice 5\n",
            "item d\n"
          ]
        }
      ],
      "source": [
        "#Temos ainda um terceiro método de salvar tanto o índice como o valor da lista:\n",
        "for i, item in enumerate(listaexemplo):\n",
        "    print('índice',i)\n",
        "    print('item', item) #aqui, conseguimos salvar tanto o índice, quanto o item da lista"
      ]
    },
    {
      "cell_type": "code",
      "execution_count": null,
      "id": "7c26edf4-2208-498a-b285-c6768fd0e978",
      "metadata": {
        "id": "7c26edf4-2208-498a-b285-c6768fd0e978",
        "outputId": "bebfb4bd-54d9-49ab-804a-c003703bad9f"
      },
      "outputs": [
        {
          "name": "stdin",
          "output_type": "stream",
          "text": [
            "digite \n",
            " a\n",
            "digite \n",
            " b\n",
            "digite \n",
            " c\n",
            "digite \n",
            " d\n"
          ]
        },
        {
          "name": "stdout",
          "output_type": "stream",
          "text": [
            "['a', 'b', 'c', 'd']\n"
          ]
        }
      ],
      "source": [
        "listanova = [input('digite \\n') for i in range(4)] #aqui conseguimos criar a lista com um input diretamente do for\n",
        "print(listanova)"
      ]
    },
    {
      "cell_type": "code",
      "execution_count": null,
      "id": "eb1a6334-543c-400d-a37d-646ef019dd4c",
      "metadata": {
        "id": "eb1a6334-543c-400d-a37d-646ef019dd4c",
        "outputId": "e4657d71-37ba-410e-d917-87f547729f78"
      },
      "outputs": [
        {
          "name": "stdout",
          "output_type": "stream",
          "text": [
            "[0, 2, 4, 6, 8, 10, 12, 14, 16, 18, 20]\n"
          ]
        }
      ],
      "source": [
        "#Poderia ainda, criar uma lista de números pares:\n",
        "lista = [i for i in range(21) if i%2==0]\n",
        "print(lista)\n",
        "#e, caso eu tivesse uma função que me entregasse o valor desejado para cada índice da lista, substituir o i pelo nome da função"
      ]
    },
    {
      "cell_type": "code",
      "execution_count": null,
      "id": "8d0d63cc-ce67-40df-9e34-d78fff0f40bf",
      "metadata": {
        "id": "8d0d63cc-ce67-40df-9e34-d78fff0f40bf",
        "outputId": "0188ef85-ac83-486e-c5d6-4eff193195f2"
      },
      "outputs": [
        {
          "name": "stdout",
          "output_type": "stream",
          "text": [
            "jan\n",
            "fev\n",
            "mar\n",
            "jun\n",
            "___________\n",
            "chave: jan valor: 150\n",
            "chave: fev valor: 100\n",
            "chave: mar valor: 190\n",
            "chave: jun valor: 177\n",
            "___________\n",
            "chave: mar valor: 190 foram superiores a 150\n",
            "chave: jun valor: 177 foram superiores a 150\n"
          ]
        }
      ],
      "source": [
        "# For dentro de um dicionário:\n",
        "# dentro de um dicionário, o for irá percorrer os itens do dicionário:\n",
        "vendas = {'jan': 150, 'fev': 100, 'mar': 190, 'jun': 177}\n",
        "for venda in vendas:\n",
        "    print(venda)\n",
        "#logo, para imprimir a chave juntamente com o valor, basta usar a chave e buscá-lo:\n",
        "print('___________')\n",
        "for venda in vendas:\n",
        "    print('chave: {} valor: {}'.format(venda,vendas[venda]))\n",
        "#para saber os meses com vendas superiores a 150:\n",
        "print('___________')\n",
        "for venda in vendas:\n",
        "    if vendas[venda] > 150:\n",
        "        print('chave: {} valor: {} foram superiores a 150'.format(venda,vendas[venda]))"
      ]
    },
    {
      "cell_type": "code",
      "execution_count": null,
      "id": "48e15e9d-0029-4117-8360-9415919144e0",
      "metadata": {
        "scrolled": true,
        "id": "48e15e9d-0029-4117-8360-9415919144e0",
        "outputId": "498118fd-9511-4370-c038-4fa20ff00373"
      },
      "outputs": [
        {
          "name": "stdout",
          "output_type": "stream",
          "text": [
            "notebook asus: 2450 unidades\n",
            "iphone: 15000 unidades\n",
            "samsung galaxy: 12000 unidades\n",
            "tv samsung: 10000 unidades\n",
            "ps5: 14300 unidades\n",
            "tablet: 1720 unidades\n",
            "notebook dell: 17000 unidades\n",
            "ipad: 1000 unidades\n",
            "tv philco: 2500 unidades\n",
            "notebook hp: 1000 unidades\n",
            "-------------\n",
            "dict_items([('notebook asus', 2450), ('iphone', 15000), ('samsung galaxy', 12000), ('tv samsung', 10000), ('ps5', 14300), ('tablet', 1720), ('notebook dell', 17000), ('ipad', 1000), ('tv philco', 2500), ('notebook hp', 1000)])\n"
          ]
        }
      ],
      "source": [
        "# Separando o dicionário em listas de tuplas:\n",
        "# itens_dicionario = dicionario.items()\n",
        "\n",
        "# ou então:\n",
        "\n",
        "# for item in dicionario.items()\n",
        "# cada item do dicionario em formato de tupla\n",
        "# Para fazer o unpacking de um dicionário, precisamos necessariamente transformálo em uma lista de tuplas com o método item:\n",
        "vendas_tecnologia = {'notebook asus': 2450, 'iphone': 15000, 'samsung galaxy': 12000, 'tv samsung': 10000, 'ps5': 14300, 'tablet': 1720, 'notebook dell': 17000, 'ipad': 1000, 'tv philco': 2500, 'notebook hp': 1000}\n",
        "for produto, qtde in vendas_tecnologia.items():\n",
        "    print('{}: {} unidades'.format(produto, qtde))\n",
        "print('-------------')\n",
        "print(vendas_tecnologia.items())"
      ]
    },
    {
      "cell_type": "code",
      "execution_count": null,
      "id": "a607de96-abc1-40c5-a934-55ae8ea02b17",
      "metadata": {
        "id": "a607de96-abc1-40c5-a934-55ae8ea02b17"
      },
      "outputs": [],
      "source": [
        "for i in range(10):\n",
        "    nome1 = input('digite o {}º filho'.format(i+1))"
      ]
    },
    {
      "cell_type": "code",
      "execution_count": null,
      "id": "0eb9d6b6-a067-48db-b657-33bba2f4035f",
      "metadata": {
        "id": "0eb9d6b6-a067-48db-b657-33bba2f4035f"
      },
      "outputs": [],
      "source": [
        "contadoridade = 0\n",
        "for i in idades:\n",
        "    if i >24:\n",
        "        contadoridade +=1\n",
        "print('eu tenho {} acima de 24 anos'.format(contadoridade))\n",
        "\n",
        "from random import randint as rd\n",
        "idades = []\n",
        "for i in range (20):\n",
        "    idades.append(rd(17,50))\n",
        "\n",
        "#--------------------------------\n",
        "from time import sleep\n",
        "nomes = ['ana','paulo','thomas','leonardo'] #nomes dos funcionários cadastrados\n",
        "idades = [\n",
        "    23,    19,    67,    88]\n",
        "ab,ja,ad = [],[],[]\n",
        "for i in range(len(nomes)):\n",
        "    if idades[i] < 20:\n",
        "        ab.append(nomes[i])\n",
        "        print('A pessoa {} tem {} anos e é um aborrecente!'.format(nomes[i],idades[i]))\n",
        "    elif idades[i]<=30:\n",
        "        ja.append(nomes[i])\n",
        "        print('A pessoa {} tem {} anos e é um um jov adulto!'.format(nomes[i],idades[i]))\n",
        "    else:\n",
        "        ad.append(nomes[i])\n",
        "        print('A pessoa {} tem {} anos e é um um adulto!'.format(nomes[i],idades[i]))\n",
        "print('lista de adultos {}'.format(ad))\n",
        "print('lista de jovens adultos {}'.format(ja))\n",
        "print('lista de adolescentes {}'.format(ab))\n"
      ]
    },
    {
      "cell_type": "markdown",
      "id": "21f6bd5c",
      "metadata": {
        "id": "21f6bd5c"
      },
      "source": [
        "# Exercícios sobre for e while:"
      ]
    },
    {
      "cell_type": "markdown",
      "id": "ac60394f",
      "metadata": {
        "id": "ac60394f"
      },
      "source": [
        "# Estruturas de repetição\n",
        "\n",
        "<span style=\"color: red;\"><b>Todos os exercícios são feitos partindo-se do pressuposto de que todas as entradas são dadas de forma correta. Casos limite não mencionados no enunciado não são abordados porque não fazem parte do exercício.</b></span>"
      ]
    },
    {
      "cell_type": "markdown",
      "id": "017affd0",
      "metadata": {
        "id": "017affd0"
      },
      "source": [
        "#### 1. Faça um programa que peça uma nota, entre zero e dez. Mostre uma mensagem caso o valor seja inválido e continue pedindo até que o usuário informe um valor válido."
      ]
    },
    {
      "cell_type": "code",
      "execution_count": null,
      "id": "5f12870d",
      "metadata": {
        "id": "5f12870d"
      },
      "outputs": [],
      "source": [
        "nota = float(input('Informe uma nota entre 0 e 10: '))\n",
        "while not (0 <= nota <= 10):\n",
        "    print('Nota inválida')\n",
        "    nota = float(input('Informe uma nota entre 0 e 10: '))"
      ]
    },
    {
      "cell_type": "markdown",
      "id": "dd0c6d56",
      "metadata": {
        "id": "dd0c6d56"
      },
      "source": [
        "#### 2. Faça um programa que leia um nome de usuário e a sua senha e não aceite a senha igual ao nome do usuário, mostrando uma mensagem de erro e voltando a pedir as informações."
      ]
    },
    {
      "cell_type": "code",
      "execution_count": null,
      "id": "f6579866",
      "metadata": {
        "id": "f6579866"
      },
      "outputs": [],
      "source": [
        "login = input('Informe o login: ')\n",
        "senha = input('Informe o senha: ')\n",
        "while login == senha:\n",
        "    print('O login não pode ser igual à senha')\n",
        "    login = input('Informe o login: ')\n",
        "    senha = input('Informe o senha: ')"
      ]
    },
    {
      "cell_type": "markdown",
      "id": "ed113a82",
      "metadata": {
        "id": "ed113a82"
      },
      "source": [
        "#### 3. Faça um programa que leia e valide as seguintes informações (e para cada uma delas, continue pedindo a informação até o usuário inserir corretamente):\n",
        "##### Nome: maior que 3 caracteres;\n",
        "##### Idade: entre 0 e 150;\n",
        "##### Salário: maior que zero;\n",
        "##### Sexo: 'f' ou 'm';\n",
        "##### Estado Civil: 's', 'c', 'v', 'd';"
      ]
    },
    {
      "cell_type": "code",
      "execution_count": null,
      "id": "3284f187",
      "metadata": {
        "id": "3284f187"
      },
      "outputs": [],
      "source": [
        "nome = input('Informe o nome: ')\n",
        "\n",
        "while len(nome) < 4:\n",
        "    print('Insira um nome com mais de 3 caracteres')\n",
        "    nome = input('Informe o nome: ')\n",
        "\n",
        "idade = int(input('Informe a idade: '))\n",
        "\n",
        "while not (0 <= idade <= 150):\n",
        "    print('Insira uma idade entre 0 e 150 anos')\n",
        "    idade = int(input('Informe a idade: '))\n",
        "\n",
        "salario = float(input('Informe o salário: '))\n",
        "\n",
        "while salario <= 0:\n",
        "    print('Insira um salário maior que zero')\n",
        "    salario = float(input('Informe o salário: '))\n",
        "\n",
        "genero = input('Informe o gênero \"f\" para feminino ou \"m\" para masculino: ')\n",
        "\n",
        "while not genero in ['f', 'm']:\n",
        "    print('Insira um gênero válido')\n",
        "    genero = input('Informe o gênero \"f\" para feminino ou \"m\" para masculino: ')\n",
        "\n",
        "estado_civil = input('Informe o estado civil \"s\", \"c\", \"v\" ou \"d\": ')\n",
        "\n",
        "while not estado_civil in ['s', 'c', 'v', 'd']:\n",
        "    print('Insira um estado civil válido')\n",
        "    estado_civil = input('Informe o estado civil \"s\", \"c\", \"v\" ou \"d\": ')"
      ]
    },
    {
      "cell_type": "markdown",
      "id": "2f25dceb",
      "metadata": {
        "id": "2f25dceb"
      },
      "source": [
        "#### 4. Supondo que a população de um país A seja da ordem de 80000 habitantes com uma taxa anual de crescimento de 3% e que a população de B seja 200000 habitantes com uma taxa de crescimento de 1.5%. Faça um programa que calcule e escreva o número de anos necessários para que a população do país A ultrapasse ou iguale a população do país B, mantidas as taxas de crescimento."
      ]
    },
    {
      "cell_type": "code",
      "execution_count": null,
      "id": "7ad0f5e9",
      "metadata": {
        "id": "7ad0f5e9"
      },
      "outputs": [],
      "source": [
        "populacao_A = 80000\n",
        "populacao_B = 200000\n",
        "\n",
        "tempo = 0\n",
        "\n",
        "while populacao_A < populacao_B:\n",
        "    populacao_A *= 1.03\n",
        "    populacao_B *= 1.015\n",
        "    tempo += 1\n",
        "\n",
        "print('São necessários', tempo, 'anos para a população A igualar ou superar a população B')"
      ]
    },
    {
      "cell_type": "markdown",
      "id": "e9626858",
      "metadata": {
        "id": "e9626858"
      },
      "source": [
        "#### 5. Altere o programa anterior permitindo ao usuário informar as populações e as taxas de crescimento iniciais. Valide a entrada e permita repetir a operação."
      ]
    },
    {
      "cell_type": "code",
      "execution_count": null,
      "id": "c7e250a4",
      "metadata": {
        "id": "c7e250a4"
      },
      "outputs": [],
      "source": [
        "repete = 's'\n",
        "\n",
        "while repete == 's':\n",
        "\n",
        "    populacao_A = int(input('Informe a população A: '))\n",
        "    populacao_B = int(input('Informe a população B: '))\n",
        "\n",
        "    while populacao_A <= 0 or populacao_B <= 0:\n",
        "        print('As populações precisam ser maiores que zero')\n",
        "        populacao_A = int(input('Informe a população A: '))\n",
        "        populacao_B = int(input('Informe a população B: '))\n",
        "\n",
        "    taxa_A = float(input('Informe a taxa de crescimento da população A em porcentagem (exemplo: entre 3 para 3%): '))\n",
        "    taxa_B = float(input('Informe a taxa de crescimento da população A em porcentagem (exemplo: entre 3 para 3%): '))\n",
        "\n",
        "    while taxa_A <= 0 or taxa_B <= 0:\n",
        "        print('As taxas precisam ser maiores que zero')\n",
        "        taxa_A = float(input('Informe a taxa de crescimento da população A em porcentagem (exemplo: entre 3 para 3%): '))\n",
        "        taxa_B = float(input('Informe a taxa de crescimento da população A em porcentagem (exemplo: entre 3 para 3%): '))\n",
        "\n",
        "    taxa_A = taxa_A / 100 + 1\n",
        "    taxa_B = taxa_B / 100 + 1\n",
        "\n",
        "    tempo = 0\n",
        "\n",
        "    while populacao_A < populacao_B:\n",
        "        populacao_A *= taxa_A\n",
        "        populacao_B *= taxa_B\n",
        "        tempo += 1\n",
        "\n",
        "    print('São necessários', tempo, 'anos para a população A igualar ou superar a população B')\n",
        "\n",
        "    repete = input('Deseja repetir a operação? Tecle \"s\" para sim, qualquer outra tecla para não.')"
      ]
    },
    {
      "cell_type": "markdown",
      "id": "b3d268b5",
      "metadata": {
        "id": "b3d268b5"
      },
      "source": [
        "#### 6. Faça um programa que peça para o usuário inserir o faturamento dos últimos 5 meses (individualmente) e informe o maior faturamento"
      ]
    },
    {
      "cell_type": "code",
      "execution_count": null,
      "id": "8078e7a5",
      "metadata": {
        "id": "8078e7a5",
        "outputId": "a00727d2-530c-411e-a2e5-8d37b27eed44"
      },
      "outputs": [
        {
          "name": "stdout",
          "output_type": "stream",
          "text": [
            "Informe o faturamento do mês:1500\n",
            "Informe o faturamento do mês:2\n",
            "Informe o faturamento do mês:1\n",
            "Informe o faturamento do mês:5\n",
            "Informe o faturamento do mês:6\n",
            "1500.0 é o maior faturamento\n"
          ]
        }
      ],
      "source": [
        "for i in range(5):\n",
        "    novo_numero = float(input('Informe o faturamento do mês:'))\n",
        "    if i == 0:\n",
        "        maior = novo_numero\n",
        "    else:\n",
        "        if novo_numero > maior:\n",
        "            maior = novo_numero\n",
        "\n",
        "print(maior, 'é o maior faturamento')"
      ]
    },
    {
      "cell_type": "markdown",
      "id": "6407824c",
      "metadata": {
        "id": "6407824c"
      },
      "source": [
        "#### 7. Faça um programa que peça para o usuário inserir o faturamento dos últimos 5 meses (individualmente) e informe o faturamento total (soma) e o faturamento médio por mês (média)."
      ]
    },
    {
      "cell_type": "code",
      "execution_count": null,
      "id": "a02320d1",
      "metadata": {
        "id": "a02320d1",
        "outputId": "f8b12e7f-b3be-484e-9eb0-8f01d2d5a77b"
      },
      "outputs": [
        {
          "name": "stdout",
          "output_type": "stream",
          "text": [
            "Informe o faturamento do mês:1500\n",
            "Informe o faturamento do mês:10000\n",
            "Informe o faturamento do mês:20000\n",
            "Informe o faturamento do mês:35000\n",
            "Informe o faturamento do mês:100000\n",
            "Faturamento total: 166500.0\n",
            "Faturamento médio mensal: 33300.0\n"
          ]
        }
      ],
      "source": [
        "total = 0\n",
        "\n",
        "for i in range(5):\n",
        "    numero = float(input('Informe o faturamento do mês:'))\n",
        "    total += numero\n",
        "\n",
        "print('Faturamento total:', total)\n",
        "print('Faturamento médio mensal:', total/5)"
      ]
    },
    {
      "cell_type": "markdown",
      "id": "703f3c4d",
      "metadata": {
        "id": "703f3c4d"
      },
      "source": [
        "#### 8. Faça um programa que consiga categorizar a idade das equipes de uma empresa. Faça um programa que peça para n pessoas a sua idade, ao final o programa devera verificar se a média de idade da equipe varia entre 0 e 25 (jovem) ,26 e 60 (sênior) e maior que 60 (idosa); e então, dizer se a equipe é jovem, sênior ou idosa, conforme a média calculada."
      ]
    },
    {
      "cell_type": "code",
      "execution_count": null,
      "id": "b56a85de",
      "metadata": {
        "id": "b56a85de"
      },
      "outputs": [],
      "source": [
        "qtde = int(input(f'Informe quantas pessoas serão: '))\n",
        "\n",
        "total = 0\n",
        "\n",
        "for i in range(qtde):\n",
        "    idade = float(input(f'Informe a {i+1}ª idade: '))\n",
        "    total += idade\n",
        "\n",
        "media = total/qtde\n",
        "\n",
        "if 0 <= media <= 25:\n",
        "    print('A equipe é jovem')\n",
        "elif 25 < media <= 60:\n",
        "    print('A equipe é adulta')\n",
        "elif 60 < media:\n",
        "    print('A equipe é idosa')"
      ]
    },
    {
      "cell_type": "markdown",
      "id": "aad21b98",
      "metadata": {
        "id": "aad21b98"
      },
      "source": [
        "#### 9. Numa eleição existem três candidatos. Faça um programa que peça o número total de eleitores. Peça para cada eleitor votar e ao final mostrar o número de votos de cada candidato."
      ]
    },
    {
      "cell_type": "code",
      "execution_count": null,
      "id": "84aa7a93",
      "metadata": {
        "id": "84aa7a93"
      },
      "outputs": [],
      "source": [
        "qtde = int(input(f'Informe a quantidade de eleitores: '))\n",
        "\n",
        "candidato1 = 0\n",
        "candidato2 = 0\n",
        "candidato3 = 0\n",
        "\n",
        "for i in range(qtde):\n",
        "    candidato = int(input(f'Informe o voto do primeiro eleitor {i+1}. O eleitor pode votar nos candidatos 1, 2 ou 3: '))\n",
        "    if candidato == 1:\n",
        "        candidato1 += 1\n",
        "    elif candidato == 2:\n",
        "        candidato2 += 1\n",
        "    elif candidato == 3:\n",
        "        candidato3 += 1\n",
        "\n",
        "print('Votos do candidato 1:', candidato1)\n",
        "print('Votos do candidato 2:', candidato2)\n",
        "print('Votos do candidato 3:', candidato3)"
      ]
    },
    {
      "cell_type": "markdown",
      "id": "6e306453",
      "metadata": {
        "id": "6e306453"
      },
      "source": [
        "#### 10. Faça um programa que calcule o valor total investido por um colecionador em sua coleção de CDs e o valor médio gasto em cada um deles. O usuário deverá informar a quantidade de CDs e o valor para em cada um."
      ]
    },
    {
      "cell_type": "code",
      "execution_count": null,
      "id": "6b7fa4a2",
      "metadata": {
        "id": "6b7fa4a2"
      },
      "outputs": [],
      "source": [
        "qtde = int(input(f'Informe a quatidade de CDs: '))\n",
        "total = 0\n",
        "\n",
        "for i in range(qtde):\n",
        "    valor = int(input(f'Informe o preço do {i+1}º CD: '))\n",
        "    total += valor\n",
        "\n",
        "print(f'A média é de R$ {total/qtde} por CD')"
      ]
    },
    {
      "cell_type": "markdown",
      "id": "f19c8d86",
      "metadata": {
        "id": "f19c8d86"
      },
      "source": [
        "#### 11. O Sr. Manoel Joaquim possui uma grande loja de artigos de R\\\\$ 1,99, com cerca de 10 caixas. Para agilizar o cálculo de quanto cada cliente deve pagar ele desenvolveu um tabela que contém o número de itens que o cliente comprou e ao lado o valor da conta. Desta forma a atendente do caixa precisa apenas contar quantos itens o cliente está levando e olhar na tabela de preços. Você foi contratado para desenvolver o programa que monta esta tabela de preços, que conterá os preços de 1 até 50 produtos, conforme o exemplo abaixo:\n",
        "<pre>\n",
        "Lojas Quase Dois - Tabela de preços\n",
        "1 - R$ 1.99\n",
        "2 - R$ 3.98\n",
        "...\n",
        "50 - R$ 99.50\n",
        "</pre>"
      ]
    },
    {
      "cell_type": "code",
      "execution_count": null,
      "id": "4fc4d54d",
      "metadata": {
        "id": "4fc4d54d",
        "outputId": "9ec1bc02-c05c-4c8e-a5e9-fb4972d028ec"
      },
      "outputs": [
        {
          "name": "stdout",
          "output_type": "stream",
          "text": [
            "Lojas Quase Dois - Tabela de preços\n",
            "1 - R$ 1.99\n",
            "2 - R$ 3.98\n",
            "3 - R$ 5.97\n",
            "4 - R$ 7.96\n",
            "5 - R$ 9.95\n",
            "6 - R$ 11.94\n",
            "7 - R$ 13.93\n",
            "8 - R$ 15.92\n",
            "9 - R$ 17.91\n",
            "10 - R$ 19.90\n",
            "11 - R$ 21.89\n",
            "12 - R$ 23.88\n",
            "13 - R$ 25.87\n",
            "14 - R$ 27.86\n",
            "15 - R$ 29.85\n",
            "16 - R$ 31.84\n",
            "17 - R$ 33.83\n",
            "18 - R$ 35.82\n",
            "19 - R$ 37.81\n",
            "20 - R$ 39.80\n",
            "21 - R$ 41.79\n",
            "22 - R$ 43.78\n",
            "23 - R$ 45.77\n",
            "24 - R$ 47.76\n",
            "25 - R$ 49.75\n",
            "26 - R$ 51.74\n",
            "27 - R$ 53.73\n",
            "28 - R$ 55.72\n",
            "29 - R$ 57.71\n",
            "30 - R$ 59.70\n",
            "31 - R$ 61.69\n",
            "32 - R$ 63.68\n",
            "33 - R$ 65.67\n",
            "34 - R$ 67.66\n",
            "35 - R$ 69.65\n",
            "36 - R$ 71.64\n",
            "37 - R$ 73.63\n",
            "38 - R$ 75.62\n",
            "39 - R$ 77.61\n",
            "40 - R$ 79.60\n",
            "41 - R$ 81.59\n",
            "42 - R$ 83.58\n",
            "43 - R$ 85.57\n",
            "44 - R$ 87.56\n",
            "45 - R$ 89.55\n",
            "46 - R$ 91.54\n",
            "47 - R$ 93.53\n",
            "48 - R$ 95.52\n",
            "49 - R$ 97.51\n",
            "50 - R$ 99.50\n"
          ]
        }
      ],
      "source": [
        "print('Lojas Quase Dois - Tabela de preços')\n",
        "for i in range(50):\n",
        "    print(f'{i+1} - R$ {(i+1)*1.99:.2f}')"
      ]
    },
    {
      "cell_type": "markdown",
      "id": "6cd19c52",
      "metadata": {
        "id": "6cd19c52"
      },
      "source": [
        "#### 12. Um funcionário de uma empresa recebe aumento salarial anualmente: Sabe-se que:\n",
        "<pre>\n",
        "Esse funcionário foi contratado em 1995, com salário inicial de R$ 1.000,00;\n",
        "Em 1996 recebeu aumento de 1,5% sobre seu salário inicial;\n",
        "A partir de 1997 (inclusive), os aumentos salariais sempre correspondem ao dobro do percentual do ano anterior. Faça um programa que determine o salário desse funcionário em 2003.\n",
        "</pre>"
      ]
    },
    {
      "cell_type": "code",
      "execution_count": null,
      "id": "98a4811b",
      "metadata": {
        "id": "98a4811b"
      },
      "outputs": [],
      "source": [
        "salario = 1000 * 1.015\n",
        "porcentagem = 0.015\n",
        "\n",
        "for i in range(1997, 2004):\n",
        "    porcentagem *= 2\n",
        "    salario *= (1 + porcentagem)\n",
        "\n",
        "print('O salário em 2003 era R$ {:.2f}'.format(salario))"
      ]
    },
    {
      "cell_type": "markdown",
      "id": "227928d1",
      "metadata": {
        "id": "227928d1"
      },
      "source": [
        "#### 13. O cardápio de uma lanchonete é o seguinte:\n",
        "<pre>\n",
        "Especificação   Código  Preço\n",
        "Cachorro Quente 100     R$ 1,20\n",
        "Bauru Simples   101     R$ 1,30\n",
        "Bauru com ovo   102     R$ 1,50\n",
        "Hambúrguer      103     R$ 1,20\n",
        "Cheeseburguer   104     R$ 1,30\n",
        "Refrigerante    105     R$ 1,00\n",
        "Faça um programa que leia o código dos itens pedidos e as quantidades desejadas. Calcule e mostre o valor a ser pago por item (preço * quantidade) e o total geral do pedido. Considere que o cliente deve informar quando o pedido deve ser encerrado.\n",
        "</pre>"
      ]
    },
    {
      "cell_type": "code",
      "execution_count": null,
      "id": "8a784b86",
      "metadata": {
        "id": "8a784b86"
      },
      "outputs": [],
      "source": [
        "total = 0\n",
        "codigo = input('Informe o código do produto, caso deseje encerrar digite \"encerrar\": ')\n",
        "while codigo != 'encerrar':\n",
        "    qtde = int(input('Informe a quantidade: '))\n",
        "    if codigo == '100':\n",
        "        total += 1.2 * qtde\n",
        "    elif codigo == '101':\n",
        "        total += 1.3 * qtde\n",
        "    elif codigo == '102':\n",
        "        total += 1.5 * qtde\n",
        "    elif codigo == '103':\n",
        "        total += 1.2 * qtde\n",
        "    elif codigo == '104':\n",
        "        total += 1.3 * qtde\n",
        "    elif codigo == '105':\n",
        "        total += 1 * qtde\n",
        "\n",
        "    codigo = input('Informe o código do produto, caso deseje encerrar digite \"encerrar\": ')\n",
        "\n",
        "print('O total a ser pago é: R$ ', total)"
      ]
    },
    {
      "cell_type": "markdown",
      "id": "9877b8ba",
      "metadata": {
        "id": "9877b8ba"
      },
      "source": [
        "#### 14. Uma grande emissora de televisão quer fazer uma enquete entre os seus telespectadores para saber qual o melhor jogador após cada jogo. Para isto, faz-se necessário o desenvolvimento de um programa, que será utilizado pelas telefonistas, para a computação dos votos. Sua equipe foi contratada para desenvolver este programa, utilizando a linguagem de programação Python. Para computar cada voto, a telefonista digitará um número, entre 1 e 23, correspondente ao número da camisa do jogador. Um número de jogador igual zero, indica que a votação foi encerrada. Se um número inválido for digitado, o programa deve ignorá-lo, mostrando uma breve mensagem de aviso, e voltando a pedir outro número. Após o final da votação, o programa deverá exibir:\n",
        "<pre>a. O total de votos computados;\n",
        "b. Os números e respectivos votos de todos os jogadores que receberam votos;\n",
        "c. O percentual de votos de cada um destes jogadores;\n",
        "d. O número do jogador escolhido como o melhor jogador da partida, juntamente com o número de votos e o percentual de votos dados a ele.\n",
        "        Observe que os votos inválidos e o zero final não devem ser computados como votos. O resultado aparece ordenado pelo número do jogador. O programa deve fazer uso de arrays. O programa deverá executar o cálculo do percentual de cada jogador através de uma função. Esta função receberá dois parâmetros: o número de votos de um jogador e o total de votos. A função calculará o percentual e retornará o valor calculado. Abaixo segue uma tela de exemplo. O disposição das informações deve ser o mais próxima possível ao exemplo. Os dados são fictícios e podem mudar a cada execução do programa. Ao final, o programa deve ainda gravar os dados referentes ao resultado da votação em um arquivo texto no disco, obedecendo a mesma disposição apresentada na tela.</pre>\n",
        "```\n",
        "Enquete: Quem foi o melhor jogador?\n",
        "\n",
        "Número do jogador (0=fim): 9\n",
        "Número do jogador (0=fim): 10\n",
        "Número do jogador (0=fim): 9\n",
        "Número do jogador (0=fim): 10\n",
        "Número do jogador (0=fim): 11\n",
        "Número do jogador (0=fim): 10\n",
        "Número do jogador (0=fim): 50\n",
        "Informe um valor entre 1 e 23 ou 0 para sair!\n",
        "Número do jogador (0=fim): 9\n",
        "Número do jogador (0=fim): 9\n",
        "Número do jogador (0=fim): 0\n",
        "\n",
        "Resultado da votação:\n",
        "\n",
        "Foram computados 8 votos.\n",
        "\n",
        "Jogador Votos           %\n",
        "9               4               50,0%\n",
        "10              3               37,5%\n",
        "11              1               12,5%\n",
        "```"
      ]
    },
    {
      "cell_type": "code",
      "execution_count": null,
      "id": "79b82364",
      "metadata": {
        "id": "79b82364"
      },
      "outputs": [],
      "source": [
        "votos = []\n",
        "print('Enquete: Quem foi o melhor jogador?')\n",
        "for i in range(23):\n",
        "    votos.append(0)\n",
        "\n",
        "while True:\n",
        "    numero = int(input('Número do jogador (0=fim): '))\n",
        "    if numero == 0:\n",
        "        break\n",
        "    elif not 1 <= numero <= 23:\n",
        "        print('Informe um valor entre 1 e 23 ou 0 para sair!')\n",
        "        continue\n",
        "    votos[numero - 1] += 1\n",
        "\n",
        "total = sum(votos)\n",
        "print('Foram computados', total, 'votos.')\n",
        "print('Jogador\\tVotos\\t%')\n",
        "for i, voto in enumerate(votos):\n",
        "    if voto > 0:\n",
        "        print(f'{i+1}\\t{voto}\\t{voto/total:.1%}')\n",
        "\n",
        "melhor = max(votos)\n",
        "i = votos.index(melhor)\n",
        "porcentagem = melhor/total\n",
        "print(f'O melhor jogador foi o número {i+1}, com {melhor} votos, correspondendo a {porcentagem:.0%} do total de votos.')"
      ]
    },
    {
      "cell_type": "code",
      "execution_count": null,
      "id": "aa9c117e",
      "metadata": {
        "id": "aa9c117e"
      },
      "outputs": [],
      "source": []
    },
    {
      "cell_type": "markdown",
      "id": "bed9f41f-1aeb-4e46-a2b2-4da783a687dd",
      "metadata": {
        "id": "bed9f41f-1aeb-4e46-a2b2-4da783a687dd"
      },
      "source": [
        "# Métodos Específicos de Lista em Python\n",
        "\n",
        "- list.append(valor)<br>\n",
        "Adiciona um valor ao final de uma lista"
      ]
    },
    {
      "cell_type": "code",
      "execution_count": null,
      "id": "72b3e8f4-ee98-4500-815e-2185b7f76923",
      "metadata": {
        "id": "72b3e8f4-ee98-4500-815e-2185b7f76923",
        "outputId": "a5942752-be51-4aa3-e264-c38980d7943c"
      },
      "outputs": [
        {
          "name": "stdout",
          "output_type": "stream",
          "text": [
            "[150, 320, 110]\n"
          ]
        }
      ],
      "source": [
        "#Uso:\n",
        "vendas = [150, 320]\n",
        "vendas.append(110)\n",
        "print(vendas)"
      ]
    },
    {
      "cell_type": "markdown",
      "id": "275c9866-0ed6-4275-beea-1a1bf8217131",
      "metadata": {
        "id": "275c9866-0ed6-4275-beea-1a1bf8217131"
      },
      "source": [
        "- list.extend(lista2)<br>\n",
        "Adiciona todos os valores da lista2 na lista original"
      ]
    },
    {
      "cell_type": "code",
      "execution_count": null,
      "id": "8852b5dd-2047-4a83-ac2d-54ba9bf2db88",
      "metadata": {
        "id": "8852b5dd-2047-4a83-ac2d-54ba9bf2db88",
        "outputId": "fd25709d-9639-4330-990a-811cd608e2ab"
      },
      "outputs": [
        {
          "name": "stdout",
          "output_type": "stream",
          "text": [
            "[20, 40, 190, 30]\n"
          ]
        }
      ],
      "source": [
        "#Uso:\n",
        "vendas = [20,40]\n",
        "vendasnovas = [190, 30]\n",
        "vendas.extend(vendasnovas)\n",
        "print(vendas)"
      ]
    },
    {
      "cell_type": "markdown",
      "id": "a0c34df6-6e71-4da6-bb44-95c5db38ecad",
      "metadata": {
        "id": "a0c34df6-6e71-4da6-bb44-95c5db38ecad"
      },
      "source": [
        "- list.insert(posicao, valor)<br>\n",
        "Adiciona um valor em uma posição específica em uma lista. Não é recomendado usar a não ser que seja realmente necessário inserir em uma posição específica, porque o método append é mais eficiente."
      ]
    },
    {
      "cell_type": "code",
      "execution_count": null,
      "id": "efa46592-008f-4618-ba1b-2fbfe9bef6cc",
      "metadata": {
        "id": "efa46592-008f-4618-ba1b-2fbfe9bef6cc",
        "outputId": "830dd622-20fd-4bd7-b3d0-64204be3efe3"
      },
      "outputs": [
        {
          "name": "stdout",
          "output_type": "stream",
          "text": [
            "[150, 110, 320]\n"
          ]
        }
      ],
      "source": [
        "#Uso:\n",
        "vendas = [150, 320]\n",
        "vendas.insert(1, 110)\n",
        "print(vendas)\n",
        "#Obs: Compare com o caso do list.append para ver a diferença"
      ]
    },
    {
      "cell_type": "markdown",
      "id": "521ddbcf-0766-466b-9877-6bc60785766d",
      "metadata": {
        "id": "521ddbcf-0766-466b-9877-6bc60785766d"
      },
      "source": [
        "- list.remove(valor)<br>\n",
        "Remove o valor da lista (apenas a 1ª ocorrência, então caso haja 2 vezes o valor na lista, apenas a 1ª será removida). Além disso, dá um erro caso valor não exista dentro da lista."
      ]
    },
    {
      "cell_type": "code",
      "execution_count": null,
      "id": "8e782d65-69cc-4103-a145-e9b416541b48",
      "metadata": {
        "id": "8e782d65-69cc-4103-a145-e9b416541b48",
        "outputId": "3dda2c37-a3a0-47e0-c629-1667d1d5328e"
      },
      "outputs": [
        {
          "name": "stdout",
          "output_type": "stream",
          "text": [
            "['João', 'Julia', 'Ana', 'Paulo', 'Marcus']\n"
          ]
        }
      ],
      "source": [
        "#Uso:\n",
        "vendedores = ['João', 'Julia', 'Maria', 'Ana', 'Paulo', 'Marcus']\n",
        "vendedores.remove('Maria')\n",
        "print(vendedores)"
      ]
    },
    {
      "cell_type": "markdown",
      "id": "79e03ff2-9479-4871-93e9-010d0443bc31",
      "metadata": {
        "id": "79e03ff2-9479-4871-93e9-010d0443bc31"
      },
      "source": [
        "- list.pop(posicao)<br>\n",
        "Remove o item que está na posicao (índice) passado. Além disso, esse item é dado como resultado do pop, portanto pode ser armazenado em uma variável ou usado para outra coisa na mesma linha de código."
      ]
    },
    {
      "cell_type": "code",
      "execution_count": null,
      "id": "3c526e44-fa9b-45e6-ace3-4657dc72461f",
      "metadata": {
        "id": "3c526e44-fa9b-45e6-ace3-4657dc72461f",
        "outputId": "71ccd79c-888a-4ca9-ee23-04aab6e849eb"
      },
      "outputs": [
        {
          "name": "stdout",
          "output_type": "stream",
          "text": [
            "['João', 'Maria', 'Ana', 'Paulo', 'Marcus']\n"
          ]
        }
      ],
      "source": [
        "#Uso:\n",
        "vendedores = ['João', 'Julia', 'Maria', 'Ana', 'Paulo', 'Marcus']\n",
        "vendedores.pop(1)\n",
        "print(vendedores)"
      ]
    },
    {
      "cell_type": "markdown",
      "id": "f88da297-9a91-4566-8cd7-ef129727be28",
      "metadata": {
        "id": "f88da297-9a91-4566-8cd7-ef129727be28"
      },
      "source": [
        "- list.clear()<br>\n",
        "Remove todos os itens de uma lista"
      ]
    },
    {
      "cell_type": "code",
      "execution_count": null,
      "id": "ca31297b-369a-4c08-acfa-980a693aa546",
      "metadata": {
        "id": "ca31297b-369a-4c08-acfa-980a693aa546",
        "outputId": "58d6ad15-8778-450a-d836-6d2406baa005"
      },
      "outputs": [
        {
          "name": "stdout",
          "output_type": "stream",
          "text": [
            "[]\n"
          ]
        }
      ],
      "source": [
        "#Uso:\n",
        "vendedores = ['João', 'Julia', 'Maria', 'Ana', 'Paulo', 'Marcus']\n",
        "vendedores.clear()\n",
        "print(vendedores)"
      ]
    },
    {
      "cell_type": "markdown",
      "id": "29ed6ade-4656-448c-ae04-d75dbf55da15",
      "metadata": {
        "id": "29ed6ade-4656-448c-ae04-d75dbf55da15"
      },
      "source": [
        "- list.index(valor)<br>\n",
        "Retorna a posição do valor dentro da lista (em qual índice está o valor). Dá erro caso não haja o valor dentro da lista."
      ]
    },
    {
      "cell_type": "code",
      "execution_count": null,
      "id": "2f474148-c8f7-4a32-aa5c-bdc75da396f4",
      "metadata": {
        "id": "2f474148-c8f7-4a32-aa5c-bdc75da396f4",
        "outputId": "d178d3f0-53ab-414b-97b3-7b18a75bad23"
      },
      "outputs": [
        {
          "name": "stdout",
          "output_type": "stream",
          "text": [
            "0\n"
          ]
        }
      ],
      "source": [
        "#Uso:\n",
        "vendedores = ['João', 'Julia', 'Maria', 'Ana', 'Paulo', 'Marcus']\n",
        "posicao_Joao = vendedores.index('João')\n",
        "print(posicao_Joao)"
      ]
    },
    {
      "cell_type": "markdown",
      "id": "e8df71fe-eb6f-4946-b24e-ee628470bed7",
      "metadata": {
        "id": "e8df71fe-eb6f-4946-b24e-ee628470bed7"
      },
      "source": [
        "- list.count(valor)<br>\n",
        "Retorna a quantidade de vezes que o valor aparece na lista"
      ]
    },
    {
      "cell_type": "code",
      "execution_count": null,
      "id": "cab0f7fc-1dc4-404e-ac9e-5cb25f64f687",
      "metadata": {
        "id": "cab0f7fc-1dc4-404e-ac9e-5cb25f64f687",
        "outputId": "b41318fc-eb56-41fc-efd3-b8b828b9bb9b"
      },
      "outputs": [
        {
          "name": "stdout",
          "output_type": "stream",
          "text": [
            "2\n"
          ]
        }
      ],
      "source": [
        "#Uso:\n",
        "vendedores = ['João', 'Julia', 'Maria', 'Ana', 'Paulo', 'Marcus', 'João']\n",
        "qtde_Joao = vendedores.count('João')\n",
        "print(qtde_Joao)"
      ]
    },
    {
      "cell_type": "markdown",
      "id": "aabc6d42-cd63-414e-b7d6-4c4f4853c395",
      "metadata": {
        "id": "aabc6d42-cd63-414e-b7d6-4c4f4853c395"
      },
      "source": [
        "- list.sort(reverse=False)<br>\n",
        "Ordena os valores da lista em ordem crescente, ou alfabética, (reverse=False) ou decrescente (reverse=True)."
      ]
    },
    {
      "cell_type": "code",
      "execution_count": null,
      "id": "b3919722-803b-4db6-a2ba-59dd2a854720",
      "metadata": {
        "id": "b3919722-803b-4db6-a2ba-59dd2a854720",
        "outputId": "be3ee033-fb4b-49b2-c6e6-0a3549034e22"
      },
      "outputs": [
        {
          "name": "stdout",
          "output_type": "stream",
          "text": [
            "[480, 300, 190, 150]\n"
          ]
        }
      ],
      "source": [
        "#Uso:\n",
        "vendas = [150, 300, 190, 480]\n",
        "vendas.sort(reverse=True)\n",
        "print(vendas)"
      ]
    },
    {
      "cell_type": "markdown",
      "id": "022b7404-4b84-4050-85fe-3421bae8ae8c",
      "metadata": {
        "id": "022b7404-4b84-4050-85fe-3421bae8ae8c"
      },
      "source": [
        "- list.reverse()<br>\n",
        "Inverte a ordem dos elementos de uma lista."
      ]
    },
    {
      "cell_type": "code",
      "execution_count": null,
      "id": "9c411372-ca91-41ba-8a48-faea65795853",
      "metadata": {
        "id": "9c411372-ca91-41ba-8a48-faea65795853",
        "outputId": "1b6fc20f-cabd-4c7c-ef0f-ba64e3bc07c5"
      },
      "outputs": [
        {
          "name": "stdout",
          "output_type": "stream",
          "text": [
            "[480, 190, 300, 150]\n"
          ]
        }
      ],
      "source": [
        "#Uso:\n",
        "vendas = [150, 300, 190, 480]\n",
        "vendas.reverse()\n",
        "print(vendas)"
      ]
    },
    {
      "cell_type": "markdown",
      "id": "c4992402-6b7d-4005-b4cf-d72755411a4a",
      "metadata": {
        "id": "c4992402-6b7d-4005-b4cf-d72755411a4a"
      },
      "source": [
        "- list.copy()<br>\n",
        "Cria uma cópia da lista original. Outra opção é fazer lista2 = lista1[:]"
      ]
    },
    {
      "cell_type": "code",
      "execution_count": null,
      "id": "1650579b-c31a-41b5-b620-638c4c1ecd41",
      "metadata": {
        "id": "1650579b-c31a-41b5-b620-638c4c1ecd41",
        "outputId": "982ff742-f5f6-42a7-cbce-db09243f73f2"
      },
      "outputs": [
        {
          "name": "stdout",
          "output_type": "stream",
          "text": [
            "[1, 2, 4, 2]\n",
            "139880361397440\n",
            "139880361405056\n"
          ]
        }
      ],
      "source": [
        "#uso:\n",
        "lista1 = [1,2,4,2]\n",
        "lista2 = lista1.copy()\n",
        "print(lista2)\n",
        "print(id(lista1))\n",
        "print(id(lista2))\n",
        "#Observe que as listas possuem espaços diferentes na memória."
      ]
    },
    {
      "cell_type": "markdown",
      "id": "8fd3a2ac-491f-47be-a2a0-7348c6623064",
      "metadata": {
        "id": "8fd3a2ac-491f-47be-a2a0-7348c6623064"
      },
      "source": [
        "### For em listas"
      ]
    },
    {
      "cell_type": "code",
      "execution_count": null,
      "id": "6381e345-4a01-4284-8de7-7919657f69a1",
      "metadata": {
        "id": "6381e345-4a01-4284-8de7-7919657f69a1"
      },
      "outputs": [],
      "source": [
        "pessoas = [\n",
        "    [\"João\",  25,  \"Brasileiro\",  \"Pizza\", \"Flamengo\"],\n",
        "    [\"Maria\", 30, \"Espanhola\",  \"Paella\",  \"Real Madrid\"],\n",
        "    [\"Carlos\",  22,  \"Mexicano\", \"Tacos\", \"Chivas\"],\n",
        "    [\"Ana\", 28, \"Italiana\",  \"Pasta\",  \"Juventus\"],\n",
        "    [ \"Lucas\",  27,  \"Alemão\",  \"Salsichas\",  \"Bayern de Munique\"],\n",
        "    [ \"Julia\",  24,  \"Canadense\",  \"Poutine\", \"Toronto Raptors\"],\n",
        "]\n",
        "for nome,idade,nacionalidade,comida,time in pessoas:\n",
        "    print(time)"
      ]
    },
    {
      "cell_type": "markdown",
      "id": "2bf85c44-59c5-4e45-8830-c598ac1f6736",
      "metadata": {
        "id": "2bf85c44-59c5-4e45-8830-c598ac1f6736"
      },
      "source": [
        "### Percorrendo str com índices negativos"
      ]
    },
    {
      "cell_type": "raw",
      "id": "207b2d8c-4afb-4fd6-a575-86022c887e01",
      "metadata": {
        "id": "207b2d8c-4afb-4fd6-a575-86022c887e01"
      },
      "source": [
        "Texto: lira@gmail.com\n",
        "\n",
        "-14 -13 -12 -11 -10 -9 -8 -7 -6 -5 -4 -3 -2 -1\n",
        "  l   i   r   a   @  g  m  a  i  l  .  c  o  m\n",
        "  0   1   2   3   4  5  6  7  8  9 10 11 12 13\n",
        "\n",
        "Para pegar um texto de trás para frente: texto[índice] -> onde índice é negativo\n",
        "Para pegar o pedaço de um texto use : (dois pontos). texto[:indice] ou texto[indice:] ou ainda texto[indice:indice]"
      ]
    },
    {
      "cell_type": "code",
      "execution_count": null,
      "id": "1faa6cbc-674c-43a8-a841-dd9173525f4b",
      "metadata": {
        "id": "1faa6cbc-674c-43a8-a841-dd9173525f4b"
      },
      "outputs": [],
      "source": [
        "email = 'lira@gmail.com'\n",
        "nome = 'João Paulo Lira'"
      ]
    },
    {
      "cell_type": "markdown",
      "id": "ce3c4383-ea71-4a31-9e13-dae63d0ee725",
      "metadata": {
        "id": "ce3c4383-ea71-4a31-9e13-dae63d0ee725"
      },
      "source": [
        "Exercícios para Fixação:\n",
        "Basta completar os prints de forma correta"
      ]
    },
    {
      "cell_type": "code",
      "execution_count": null,
      "id": "8a247eb6-36c6-434f-8c12-90fdc171abbe",
      "metadata": {
        "id": "8a247eb6-36c6-434f-8c12-90fdc171abbe"
      },
      "outputs": [],
      "source": [
        "print('Tamanho do e-mail ' + str(len(email)) + ' caracteres')\n",
        "print('Primeiro Caractere ' + '?')\n",
        "print('Último Caractere ' + '?')\n",
        "print('Servidor do email ' + '?')"
      ]
    },
    {
      "cell_type": "markdown",
      "id": "abaa573f-3ef1-48a1-bad1-3d4c0d8e8554",
      "metadata": {
        "id": "abaa573f-3ef1-48a1-bad1-3d4c0d8e8554"
      },
      "source": [
        "# Listas\n",
        "\n",
        "<span style=\"color: red;\"><b>Todos os exercícios são feitos partindo-se do pressuposto de que todas as entradas são dadas de forma correta. Casos limite não mencionados no enunciado não são abordados porque não fazem parte do exercício.</b></span>"
      ]
    },
    {
      "cell_type": "markdown",
      "id": "ad73d510-c4bd-4ae9-9982-1b6cf1e5f367",
      "metadata": {
        "id": "ad73d510-c4bd-4ae9-9982-1b6cf1e5f367"
      },
      "source": [
        "#### 1. Faça um Programa que leia as vendas dos vendedores, mostre a venda de cada vendedor com o seu nome e a média de vendas."
      ]
    },
    {
      "cell_type": "code",
      "execution_count": null,
      "id": "7a820240-f299-49d4-87a2-7b60ab8ef5db",
      "metadata": {
        "id": "7a820240-f299-49d4-87a2-7b60ab8ef5db",
        "outputId": "3cee5c5e-9850-4671-a2c6-ddbc43e4aabf"
      },
      "outputs": [
        {
          "name": "stdout",
          "output_type": "stream",
          "text": [
            "Vendedor: Fulano, Vendas: 1000\n",
            "Vendedor: Beltrano, Vendas: 1500\n",
            "Vendedor: Ciclano, Vendas: 1200\n",
            "Vendedor: Lira, Vendas: 1300\n",
            "Média: 1250.0\n"
          ]
        }
      ],
      "source": [
        "vendas = [1000, 1500, 1200, 1300]\n",
        "vendedores = [\"Fulano\", \"Beltrano\", \"Ciclano\", \"Lira\"]\n",
        "\n",
        "for i in range(len(vendas)):\n",
        "    print(f\"Vendedor: {vendedores[i]}, Vendas: {vendas[i]}\")\n",
        "\n",
        "media = sum(vendas)/len(vendas)\n",
        "\n",
        "print('Média:', media)"
      ]
    },
    {
      "cell_type": "markdown",
      "id": "222e1b0c-c66c-4923-b2fe-ca91596d259a",
      "metadata": {
        "id": "222e1b0c-c66c-4923-b2fe-ca91596d259a"
      },
      "source": [
        "#### 2. Faça um Programa que crie uma lista com as médias de cada aluno, imprima as médias de cada aluno e a quantidade de alunos com média maior que 7."
      ]
    },
    {
      "cell_type": "code",
      "execution_count": null,
      "id": "9132167e-6a04-437a-85d3-30b9702a70c1",
      "metadata": {
        "id": "9132167e-6a04-437a-85d3-30b9702a70c1",
        "outputId": "a3a287ac-29f1-4afb-d55c-7bc31116a3da"
      },
      "outputs": [
        {
          "name": "stdout",
          "output_type": "stream",
          "text": [
            "José média: 8.75\n",
            "Joana média: 6.5\n",
            "Maria média: 10.0\n",
            "Carla média: 6.75\n",
            "Mauricio média: 6.25\n",
            "Andre média: 7.25\n",
            "Tiago média: 7.5\n",
            "Enzo média: 6.5\n",
            "Amanda média: 7.5\n",
            "Alessandra média: 4.25\n",
            "5 alunos tiveram nota maior ou igual a 7\n"
          ]
        }
      ],
      "source": [
        "alunos = [\"José\", \"Joana\", \"Maria\", \"Carla\", \"Mauricio\", \"Andre\", \"Tiago\", \"Enzo\", \"Amanda\", \"Alessandra\"]\n",
        "notas = [\n",
        "    [10, 9, 8, 8],\n",
        "    [9, 7, 6, 4],\n",
        "    [10, 10, 10, 10],\n",
        "    [5, 3, 10, 9],\n",
        "    [7, 6, 6, 6],\n",
        "    [7, 7, 8, 7],\n",
        "    [7, 7, 7, 9],\n",
        "    [8, 5, 6, 7],\n",
        "    [10, 9, 7, 4],\n",
        "    [10, 1, 3, 3],\n",
        "]\n",
        "\n",
        "medias = []\n",
        "for i in range(len(notas)):\n",
        "    media = sum(notas[i])/len(notas[i])\n",
        "    medias.append(media)\n",
        "    print(alunos[i], f\"média: {media}\")\n",
        "\n",
        "contador = 0\n",
        "for media in medias:\n",
        "    if media >= 7:\n",
        "        contador += 1\n",
        "\n",
        "print(f'{contador} alunos tiveram nota maior ou igual a 7')"
      ]
    },
    {
      "cell_type": "markdown",
      "id": "86f39557-21e3-4f57-9b7b-62727ca6d498",
      "metadata": {
        "id": "86f39557-21e3-4f57-9b7b-62727ca6d498"
      },
      "source": [
        "#### 3. Foram anotadas as idades e salários de 30 funcionários. Faça um programa que determine quantos funcionários com mais de 25 anos possuem salário inferior à média de todos os salários."
      ]
    },
    {
      "cell_type": "code",
      "execution_count": null,
      "id": "64968ac7-1397-4f58-8790-1021f4c29174",
      "metadata": {
        "id": "64968ac7-1397-4f58-8790-1021f4c29174",
        "outputId": "b800f834-f1e4-4856-bc8b-7e90608effd7"
      },
      "outputs": [
        {
          "name": "stdout",
          "output_type": "stream",
          "text": [
            "12 funcionários possuem mais de 25 anos e salário inferior à média.\n"
          ]
        }
      ],
      "source": [
        "idades = [35,32,50,33,48,50,33,48,22,49,35,38,20,47,49,48,34,21,48,44,48,30,25,42,42,23,25,23,38,35]\n",
        "salarios = [3739,2219,3554,3978,4014,3270,4792,3879,2981,2384,4826,2460,3680,4318,1872,1770,4640,3929,3295,1729,3965,4267,4007,1916,2987,2943,3852,4543,2055,1730]\n",
        "\n",
        "media = sum(salarios)/len(salarios)\n",
        "\n",
        "contador = 0\n",
        "for i, idade in enumerate(idades):\n",
        "    if idade > 25 and salarios[i] < media:\n",
        "        contador += 1\n",
        "\n",
        "print(f'{contador} funcionários possuem mais de 25 anos e salário inferior à média.')"
      ]
    },
    {
      "cell_type": "markdown",
      "id": "ff6baff9-b296-40c8-91a9-177cc54583fe",
      "metadata": {
        "id": "ff6baff9-b296-40c8-91a9-177cc54583fe"
      },
      "source": [
        "#### 4.Em quais meses a média de temperatura foi maior do que a média nacional?"
      ]
    },
    {
      "cell_type": "code",
      "execution_count": null,
      "id": "43574bf5-169c-4edf-8a3f-b5fb223c2f48",
      "metadata": {
        "id": "43574bf5-169c-4edf-8a3f-b5fb223c2f48",
        "outputId": "3b87ec68-3e70-43e2-f125-b840b0b4a8c9"
      },
      "outputs": [
        {
          "name": "stdout",
          "output_type": "stream",
          "text": [
            "Média Nacional: 25.833333333333332\n",
            "Janeiro: 30 graus\n",
            "Fevereiro: 29 graus\n",
            "Março: 28 graus\n",
            "Abril: 28 graus\n",
            "Junho: 26 graus\n",
            "Novembro: 27 graus\n",
            "Dezembro: 32 graus\n"
          ]
        }
      ],
      "source": [
        "meses = [\n",
        "    'Janeiro',\n",
        "    'Fevereiro',\n",
        "    'Março',\n",
        "    'Abril',\n",
        "    'Maio',\n",
        "    'Junho',\n",
        "    'Julho',\n",
        "    'Agosto',\n",
        "    'Setembro',\n",
        "    'Outubro',\n",
        "    'Novembro',\n",
        "    'Dezembro'\n",
        "]\n",
        "\n",
        "temperaturas = [30, 29, 28, 28, 25, 26, 20, 21, 19, 25, 27, 32]\n",
        "media_nacional = sum(temperaturas)/len(temperaturas)\n",
        "\n",
        "print('Média Nacional:', media_nacional)\n",
        "for i, mes in enumerate(meses):\n",
        "        if temperaturas[i] > media_nacional:\n",
        "            print(f\"{mes}: {temperaturas[i]} graus\")"
      ]
    },
    {
      "cell_type": "markdown",
      "id": "280fbe68-8700-4e66-b091-90e5545d79f2",
      "metadata": {
        "id": "280fbe68-8700-4e66-b091-90e5545d79f2"
      },
      "source": [
        "#### 5. As Organizações Tabajara resolveram dar um abono aos seus colaboradores em reconhecimento ao bom resultado alcançado durante o ano que passou. Para isto contratou você para desenvolver a aplicação que servirá como uma projeção de quanto será gasto com o pagamento deste abono.\n",
        "<pre>Após reuniões envolvendo a diretoria executiva, a diretoria financeira e os representantes do sindicato laboral, chegou-se a seguinte forma de cálculo:\n",
        ". Cada funcionário receberá o equivalente a 20% do seu salário bruto de dezembro;\n",
        ". O piso do abono será de 100 reais, isto é, aqueles funcionários cujo salário for muito baixo, recebem este valor mínimo;\n",
        "\n",
        "Neste momento, não se deve ter nenhuma preocupação com colaboradores com tempo menor de casa, descontos, impostos ou outras particularidades. O programa deverá calcular o valor do abono concedido a cada colaborador, de acordo com a regra definida acima. Ao final, o programa deverá apresentar:</pre>\n",
        "<pre>\n",
        "O salário de cada funcionário, juntamente com o valor do abono;\n",
        "O número total de funcionário processados;\n",
        "O valor total a ser gasto com o pagamento do abono;\n",
        "O número de funcionário que receberá o valor mínimo de 100 reais;\n",
        "O maior valor pago como abono; A tela abaixo é um exemplo de execução do programa, apenas para fins ilustrativos.\n",
        "<pre>\n",
        "Projeção de Gastos com Abono\n",
        "============================\n",
        "\n",
        "Salário: 1000\n",
        "Salário: 300\n",
        "Salário: 500\n",
        "Salário: 100\n",
        "Salário: 4500\n",
        "Salário: 0\n",
        "\n",
        "Salário    - Abono     \n",
        "R$ 1000.00 - R$  200.00\n",
        "R$  300.00 - R$  100.00\n",
        "R$  500.00 - R$  100.00\n",
        "R$  100.00 - R$  100.00\n",
        "R$ 4500.00 - R$  900.00\n",
        "\n",
        "Foram processados 5 colaboradores\n",
        "Total gasto com abonos: R$ 1400.00\n",
        "Valor mínimo pago a 3 colaboradores\n",
        "Maior valor de abono pago: R$ 900.00"
      ]
    },
    {
      "cell_type": "code",
      "execution_count": null,
      "id": "cdd9bf1f-9bac-4f6c-affb-282f0a4b6fa1",
      "metadata": {
        "id": "cdd9bf1f-9bac-4f6c-affb-282f0a4b6fa1",
        "outputId": "173673ea-e351-4e7c-d99c-1acbfa7ddc67"
      },
      "outputs": [
        {
          "name": "stdout",
          "output_type": "stream",
          "text": [
            "Salario - Abono\n",
            "R$ 1000 - R$ 200.0\n",
            "R$ 300 - R$ 100\n",
            "R$ 500 - R$ 100.0\n",
            "R$ 200 - R$ 100\n",
            "R$ 1500 - R$ 300.0\n",
            "R$ 3000 - R$ 600.0\n",
            "R$ 3400 - R$ 680.0\n",
            "R$ 5000 - R$ 1000.0\n",
            "R$ 7000 - R$ 1400.0\n",
            "R$ 2000 - R$ 400.0\n",
            "R$ 600 - R$ 120.0\n",
            "R$ 800 - R$ 160.0\n",
            "R$ 250 - R$ 100\n",
            "R$ 1500 - R$ 300.0\n",
            "R$ 20000 - R$ 4000.0\n",
            "Foram processados 15 colaboradores\n",
            "Total gasto com abonos: R$ 9560.00\n",
            "Valor mínimo pago a 4 colaboradores\n",
            "Maior valor de abono pago: R$ 4000.00\n"
          ]
        }
      ],
      "source": [
        "lista_salarios = [1000, 300, 500, 200, 1500, 3000, 3400, 5000, 7000, 2000, 600, 800, 250, 1500, 20000]\n",
        "abonos = []\n",
        "print('Salario - Abono')\n",
        "\n",
        "conta_minimo = 0\n",
        "for salario in lista_salarios:\n",
        "    abono = salario * 0.2\n",
        "    if abono < 100:\n",
        "        abono = 100\n",
        "    abonos.append(abono)\n",
        "    if abono == 100:\n",
        "        conta_minimo += 1\n",
        "    print(f'R$ {salario} - R$ {abono}')\n",
        "\n",
        "qtde = len(lista_salarios)\n",
        "total = sum(abonos)\n",
        "maximo = max(abonos)\n",
        "\n",
        "print('Foram processados', qtde, 'colaboradores')\n",
        "print(f'Total gasto com abonos: R$ {total:.2f}')\n",
        "print('Valor mínimo pago a', conta_minimo, 'colaboradores')\n",
        "print(f'Maior valor de abono pago: R$ {maximo:.2f}')"
      ]
    },
    {
      "cell_type": "markdown",
      "id": "64beda9c-7431-42a7-a05d-36bfcd94c877",
      "metadata": {
        "id": "64beda9c-7431-42a7-a05d-36bfcd94c877"
      },
      "source": [
        "#### 6. Faça um programa que carregue uma lista com os modelos de cinco carros (exemplo de modelos: FUSCA, GOL, VECTRA etc). Carregue uma outra lista com o consumo desses carros, isto é, quantos quilômetros cada um desses carros faz com um litro de combustível. Calcule e mostre:\n",
        "<pre>\n",
        "a. O modelo do carro mais econômico;\n",
        "b. Quantos litros de combustível cada um dos carros cadastrados consome para percorrer uma distância de 1000 quilômetros e quanto isto custará, considerando um que a gasolina custe R$ 2,25 o litro. Abaixo segue uma tela de exemplo. O disposição das informações deve ser o mais próxima possível ao exemplo. Os dados são fictícios e podem mudar a cada execução do programa.</pre>\n",
        "```\n",
        "Comparativo de Consumo de Combustível\n",
        "\n",
        "Veículo 1\n",
        "Nome: fusca\n",
        "Km por litro: 7\n",
        "Veículo 2\n",
        "Nome: gol\n",
        "Km por litro: 10\n",
        "Veículo 3\n",
        "Nome: uno\n",
        "Km por litro: 12.5\n",
        "Veículo 4\n",
        "Nome: Vectra\n",
        "Km por litro: 9\n",
        "Veículo 5\n",
        "Nome: Peugeout\n",
        "Km por litro: 14.5\n",
        "\n",
        "Relatório Final\n",
        " 1 - fusca           -    7.0 -  142.9 litros - R$ 321.43\n",
        " 2 - gol             -   10.0 -  100.0 litros - R$ 225.00\n",
        " 3 - uno             -   12.5 -   80.0 litros - R$ 180.00\n",
        " 4 - vectra          -    9.0 -  111.1 litros - R$ 250.00\n",
        " 5 - peugeout        -   14.5 -   69.0 litros - R$ 155.17\n",
        "O menor consumo é do peugeout.\n",
        "```"
      ]
    },
    {
      "cell_type": "code",
      "execution_count": null,
      "id": "01545c77-ffa1-4847-a639-70a800395a87",
      "metadata": {
        "id": "01545c77-ffa1-4847-a639-70a800395a87",
        "outputId": "5508f4e1-63c9-4411-c4ec-e00d3d7c9808"
      },
      "outputs": [
        {
          "name": "stdout",
          "output_type": "stream",
          "text": [
            "Comparativo de Consumo de Combustível\n",
            "Relatório Final\n",
            " 1 - fusca - 7.0 - 142.86 - R$ 321.43\n",
            " 2 -  gol - 10.0 - 100.00 - R$ 225.00\n",
            " 3 - uno - 12.5 - 80.00 - R$ 180.00\n",
            " 4 - vectra - 9.0 - 111.11 - R$ 250.00\n",
            " 5 - peugeot - 14.5 - 68.97 - R$ 155.17\n",
            "O menor consumo é do peugeot\n"
          ]
        }
      ],
      "source": [
        "print('Comparativo de Consumo de Combustível')\n",
        "veiculos = ['fusca',' gol', 'uno', 'vectra', 'peugeot']\n",
        "autonomias = [7, 10, 12.5, 9, 14.5]\n",
        "\n",
        "print('Relatório Final')\n",
        "for i, autonomia in enumerate(autonomias):\n",
        "    print(f' {i+1} - {veiculos[i]} - {autonomia:.1f} - {1000/autonomia:.2f} - R$ {1000/autonomia* 2.25:.2f}')\n",
        "\n",
        "maior = max(autonomias)\n",
        "i = autonomias.index(maior)\n",
        "print('O menor consumo é do', veiculos[i])"
      ]
    },
    {
      "cell_type": "markdown",
      "id": "418511e5-826d-448d-b9fb-63bde62c3831",
      "metadata": {
        "id": "418511e5-826d-448d-b9fb-63bde62c3831"
      },
      "source": [
        "#### 7. Uma empresa paga seus vendedores com base em comissões. O vendedor recebe \\\\$200 por semana mais 9 por cento de suas vendas brutas daquela semana. Por exemplo, um vendedor que teve vendas brutas de \\\\$3000 em uma semana recebe \\\\$200 mais 9 por cento de \\\\$3000, ou seja, um total de \\\\$470. Escreva um programa (usando um array de contadores) que determine quantos vendedores receberam salários nos seguintes intervalos de valores:\n",
        "<pre>\n",
        "$200 - $299\n",
        "$300 - $399\n",
        "$400 - $499\n",
        "$500 - $599\n",
        "$600 - $699\n",
        "$700 - $799\n",
        "$800 - $899\n",
        "$900 - $999\n",
        "$1000 em diante\n",
        "</pre>\n",
        "\n",
        "Existem várias formas de fazer. Faça primeiro da forma que parecer mais intuitiva para você.\n",
        "\n",
        "Em seguida, caso queira um desafio:\n",
        "Desafio: Crie uma forma para chegar na posição da lista a partir do salário, sem fazer vários ifs aninhados."
      ]
    },
    {
      "cell_type": "code",
      "execution_count": null,
      "id": "0be72135-de43-4688-b07f-088dc3cde184",
      "metadata": {
        "id": "0be72135-de43-4688-b07f-088dc3cde184",
        "outputId": "fe3e2ac4-598a-4071-dd46-fcca1aeb2124"
      },
      "outputs": [
        {
          "name": "stdout",
          "output_type": "stream",
          "text": [
            "290.0\n",
            "380.0\n",
            "470.0\n",
            "560.0\n",
            "650.0\n",
            "740.0\n",
            "695.0\n",
            "605.0\n",
            "524.0\n",
            "Entre 200 e 299: 1\n",
            "Entre 300 e 399: 1\n",
            "Entre 400 e 499: 1\n",
            "Entre 500 e 599: 2\n",
            "Entre 600 e 699: 3\n",
            "Entre 700 e 799: 1\n",
            "Entre 800 e 899: 0\n",
            "Entre 900 e 999: 0\n",
            "Mais que mil: 0\n"
          ]
        }
      ],
      "source": [
        "vendas = [1000, 2000, 3000, 4000, 5000, 6000, 5500, 4500, 3600]\n",
        "faixas = []\n",
        "menores_que_mil = 0\n",
        "tamanho_faixas = 100\n",
        "qtde_faixas = 9\n",
        "\n",
        "for venda in vendas:\n",
        "    bonus = venda * 0.09\n",
        "    salario = 200 + bonus\n",
        "    print(salario)\n",
        "    faixa = int(bonus / tamanho_faixas) + 1\n",
        "    faixas.append(faixa)\n",
        "\n",
        "for i in range(qtde_faixas-1):\n",
        "    print(f'Entre {i*100 + 200} e {i*100 + 299}:', faixas.count(i+1))\n",
        "    menores_que_mil += faixas.count(i+1)\n",
        "\n",
        "print('Mais que mil:', len(vendas) - menores_que_mil)"
      ]
    },
    {
      "cell_type": "markdown",
      "id": "0548eb84-05f9-4ba3-b7fe-bc3d96c41795",
      "metadata": {
        "id": "0548eb84-05f9-4ba3-b7fe-bc3d96c41795"
      },
      "source": [
        "# Adicionar, Remover e Modificar Itens no Dicionário\n",
        "\n",
        "### Estrutura:\n",
        "\n",
        "- Adicionar itens:\n",
        "\n",
        "dicionario = {}\n",
        "\n",
        "dicionario[chave] = valor\n",
        "\n",
        "outra opção:\n",
        "\n",
        "dicionario.update({chave: valor, chave: valor})\n",
        "\n",
        "#Dicionários possuem chaves e valores\n",
        "        as chaves ficam antes dos : e os valores após\n",
        "        Cada valor corresponde a uma chave, eu posso\n",
        "        'incovar' um valor por meio de uma chave e, por fim, chaves NÃO SE REPETEM em um dicionário"
      ]
    },
    {
      "cell_type": "code",
      "execution_count": null,
      "id": "40166c7b-ddba-49b2-b50c-45ffc4d445d1",
      "metadata": {
        "id": "40166c7b-ddba-49b2-b50c-45ffc4d445d1"
      },
      "outputs": [],
      "source": [
        "lucro_1tri = {'janeiro': 100000, 'fevereiro': 120000, 'março': 90000}\n",
        "lucro_2tri = {'abril': 88000, 'maio': 89000, 'junho': 120000}\n",
        "#adicionando 1 item\n",
        "print(lucro_1tri)\n",
        "#lucro_1tri['abril'] = 88000\n",
        "#print(lucro_1tri)\n",
        "#adicionando vários itens ou um dicionário a outro\n",
        "lucro_1tri.update({'abril': 88000, 'maio': 89000, 'junho': 120000})\n",
        "print(lucro_1tri)\n",
        "#adicionando um item já existente (manualmente ou pelo update)\n",
        "lucro_1tri['janeiro'] = 88000\n",
        "print(lucro_1tri)"
      ]
    },
    {
      "cell_type": "markdown",
      "id": "1a683d09-db16-4c6c-9b83-5aecd57d5593",
      "metadata": {
        "id": "1a683d09-db16-4c6c-9b83-5aecd57d5593"
      },
      "source": [
        "- Modificar itens:\n",
        "\n",
        "Da mesma forma que adicionamos 1 valor, caso essa chave já exista o item é apenas modificado.\n",
        "\n",
        "dicionario[chave] = valor\n",
        "\n",
        "Vamos modificar o lucro de fevereiro:<br>\n",
        "(Lembrando: caso o item não exista, ele vai criar o item no dicionário)"
      ]
    },
    {
      "cell_type": "code",
      "execution_count": null,
      "id": "8c7c0ec5-e5ba-4a77-9149-71b9fcb4ac77",
      "metadata": {
        "id": "8c7c0ec5-e5ba-4a77-9149-71b9fcb4ac77"
      },
      "outputs": [],
      "source": [
        "lucrofev = 85000\n",
        "lucro_1tri['fevereiro'] = lucrofev\n",
        "print(lucro_1tri)"
      ]
    },
    {
      "cell_type": "markdown",
      "id": "6db0068c-eebc-4528-913e-652e742f92ec",
      "metadata": {
        "id": "6db0068c-eebc-4528-913e-652e742f92ec"
      },
      "source": [
        "- Remover itens:"
      ]
    },
    {
      "cell_type": "markdown",
      "id": "c8f4d3c1-3aeb-4ecb-9a68-c86cb6845f8b",
      "metadata": {
        "id": "c8f4d3c1-3aeb-4ecb-9a68-c86cb6845f8b"
      },
      "source": [
        "valor = dicionario.pop(chave)"
      ]
    },
    {
      "cell_type": "code",
      "execution_count": null,
      "id": "a973bf87-7842-4ac2-b9f6-c2e5d66038dd",
      "metadata": {
        "id": "a973bf87-7842-4ac2-b9f6-c2e5d66038dd"
      },
      "outputs": [],
      "source": [
        "#removendo o mês de junho\n",
        "lucro_jun = lucro_1tri.pop('junho')\n",
        "print(lucro_1tri)\n",
        "print(lucro_jun)\n",
        "\n",
        "lucro_1tri.clear()\n",
        "#Aqui limpamos TODO o dicionário, o transformando em um dicionário vazio.\n",
        "print(lucro_1tri)"
      ]
    },
    {
      "cell_type": "markdown",
      "id": "70a6ae16-c6cc-4e70-9a89-c91d306cb079",
      "metadata": {
        "id": "70a6ae16-c6cc-4e70-9a89-c91d306cb079"
      },
      "source": [
        "# Métodos Específicos de Dicionário\n",
        "- clear() -> Deleta todos os elementos do Dicionário (semelhante ao que aprendemos em listas)"
      ]
    },
    {
      "cell_type": "code",
      "execution_count": null,
      "id": "a1d51c67-895a-4e2d-90aa-30a954bf2744",
      "metadata": {
        "id": "a1d51c67-895a-4e2d-90aa-30a954bf2744"
      },
      "outputs": [],
      "source": [
        "vendas_mes = {'jan': 150, 'fev': 100, 'mar': 190}\n",
        "vendas_mes.clear()\n",
        "print(vendas_mes)"
      ]
    },
    {
      "cell_type": "markdown",
      "id": "fcd721cc-9a77-458d-8639-f3e387d33e48",
      "metadata": {
        "id": "fcd721cc-9a77-458d-8639-f3e387d33e48"
      },
      "source": [
        "- Observação:\n",
        ".clear() é diferente de: del(dicionário)\n",
        "\n",
        "No clear, o dicionário será um dicionário vazio.\n",
        "Já no del, o dicionário será excluído.\n",
        "sintaxe do del:"
      ]
    },
    {
      "cell_type": "code",
      "execution_count": null,
      "id": "8069b534-69a9-4535-b7ea-d7c5a26e4091",
      "metadata": {
        "id": "8069b534-69a9-4535-b7ea-d7c5a26e4091"
      },
      "outputs": [],
      "source": [
        "vendas_mes = {'jan': 150, 'fev': 100, 'mar': 190}\n",
        "del vendas_mes\n",
        "print(vendas_mes)"
      ]
    },
    {
      "cell_type": "markdown",
      "id": "00c9d6ae-ff3f-4f0a-ac74-8544d89d489a",
      "metadata": {
        "id": "00c9d6ae-ff3f-4f0a-ac74-8544d89d489a"
      },
      "source": [
        "- copy() -> Cria uma cópia do dicionário (semelhante ao que aprendemos em listas)"
      ]
    },
    {
      "cell_type": "code",
      "execution_count": null,
      "id": "07b19203-bd79-485e-95f4-9ccd51ed0c7d",
      "metadata": {
        "id": "07b19203-bd79-485e-95f4-9ccd51ed0c7d"
      },
      "outputs": [],
      "source": [
        "vendas_mes = {'jan': 150, 'fev': 100, 'mar': 190}\n",
        "vendas2_mes = vendas_mes.copy()\n",
        "print(id(vendas2_mes))\n",
        "print(id(vendas_mes))"
      ]
    },
    {
      "cell_type": "markdown",
      "id": "0e51ff52-f87c-489c-a50f-5c131d3a1427",
      "metadata": {
        "id": "0e51ff52-f87c-489c-a50f-5c131d3a1427"
      },
      "source": [
        "- fromkeys(chaves, valor_padrao) -> Cria um dicionário com as chaves e o mesmo valor padrão para todas as chaves"
      ]
    },
    {
      "cell_type": "code",
      "execution_count": null,
      "id": "ef692396-d4a8-4c85-8e6f-e743cc05241c",
      "metadata": {
        "id": "ef692396-d4a8-4c85-8e6f-e743cc05241c"
      },
      "outputs": [],
      "source": [
        "chaves = ('jan', 'fev', 'mar')\n",
        "vendas = 100\n",
        "vendas_mes = dict.fromkeys(chaves, vendas)\n",
        "print(vendas_mes)\n",
        "#o dict aceita apenas 2 argumentos, por isso podemos utilizar o .zip para 'contornar' isso.\n",
        "dicionario = dict(zip(('jan','fev'),('ano novo','carvanal')))\n",
        "print(dicionario)"
      ]
    },
    {
      "cell_type": "markdown",
      "id": "d37986c2-de5c-4d63-a189-9e8b25b2f3c5",
      "metadata": {
        "id": "d37986c2-de5c-4d63-a189-9e8b25b2f3c5"
      },
      "source": [
        "- get(chave) -> \tRetorna o valor especificado pela chave (Semelhante a fazer dictionario[chave]"
      ]
    },
    {
      "cell_type": "code",
      "execution_count": null,
      "id": "78cceedb-5d7b-4d98-a8a9-ced63e5df28c",
      "metadata": {
        "id": "78cceedb-5d7b-4d98-a8a9-ced63e5df28c"
      },
      "outputs": [],
      "source": [
        "vendas_mes = {'jan': 150, 'fev': 100, 'mar': 190}\n",
        "print(vendas_mes.get('mar'))"
      ]
    },
    {
      "cell_type": "markdown",
      "id": "2bef3b70-056a-48ec-916f-4dc09abdfac2",
      "metadata": {
        "id": "2bef3b70-056a-48ec-916f-4dc09abdfac2"
      },
      "source": [
        "- items() -> Retorna uma lista em que cada item é uma tupla com (chave, valor)"
      ]
    },
    {
      "cell_type": "code",
      "execution_count": null,
      "id": "59852d4e-f275-43c1-9b68-b88fb680dc64",
      "metadata": {
        "id": "59852d4e-f275-43c1-9b68-b88fb680dc64"
      },
      "outputs": [],
      "source": [
        "vendas_mes = {'jan': 150, 'fev': 100, 'mar': 190}\n",
        "# print(list(vendas_mes.items()))\n",
        "for mes,valor in vendas_mes.items():\n",
        "    print('as vendas do mes {} foram {}')"
      ]
    },
    {
      "cell_type": "markdown",
      "id": "3ea6c977-088d-4c94-bd39-0a8bed0e6989",
      "metadata": {
        "id": "3ea6c977-088d-4c94-bd39-0a8bed0e6989"
      },
      "source": [
        "- keys() -> Retorna uma lista com todas as chaves do dicionário"
      ]
    },
    {
      "cell_type": "code",
      "execution_count": null,
      "id": "65cdf92b-5e3e-42c3-a65a-c72e1e524c6f",
      "metadata": {
        "id": "65cdf92b-5e3e-42c3-a65a-c72e1e524c6f"
      },
      "outputs": [],
      "source": [
        "vendas_mes = {'jan': 150, 'fev': 100, 'mar': 190}\n",
        "print(list(vendas_mes.keys()))"
      ]
    },
    {
      "cell_type": "markdown",
      "id": "e1222161-9650-40ee-a6a6-e8149e426ec4",
      "metadata": {
        "id": "e1222161-9650-40ee-a6a6-e8149e426ec4"
      },
      "source": [
        "- pop(chave) -> Retira o item do dicionário e retorna o valor dele para ser usado"
      ]
    },
    {
      "cell_type": "code",
      "execution_count": null,
      "id": "a1e2858e-2b07-491f-abef-717f5b5fe8e6",
      "metadata": {
        "id": "a1e2858e-2b07-491f-abef-717f5b5fe8e6"
      },
      "outputs": [],
      "source": [
        "vendas_mes = {'jan': 150, 'fev': 100, 'mar': 190}\n",
        "vendas_fev = vendas_mes.pop('fev') #retira o fevereiro do dicionário ao mesmo tempo que armazena o valor dele na variável\n",
        "print(vendas_mes)\n",
        "print(vendas_fev)"
      ]
    },
    {
      "cell_type": "markdown",
      "id": "ab2dd810-7bf9-4b81-894c-e2f175907239",
      "metadata": {
        "id": "ab2dd810-7bf9-4b81-894c-e2f175907239"
      },
      "source": [
        "- popitem() -> Retira o último item adicionado ao dicionário"
      ]
    },
    {
      "cell_type": "code",
      "execution_count": null,
      "id": "966513cc-98f1-404a-b8c3-c91dd27e5707",
      "metadata": {
        "id": "966513cc-98f1-404a-b8c3-c91dd27e5707"
      },
      "outputs": [],
      "source": [
        "vendas_mes = {'jan': 150, 'fev': 100, 'mar': 190}\n",
        "#retira o último item adicionado no dicionário ao mesmo tempo que armazena o item(chave, valor) dele na variável\n",
        "vendas_ult = vendas_mes.popitem()\n",
        "print(vendas_mes)\n",
        "print(vendas_ult)"
      ]
    },
    {
      "cell_type": "markdown",
      "id": "e72e20de-b438-4422-af38-72c15c6a6d04",
      "metadata": {
        "id": "e72e20de-b438-4422-af38-72c15c6a6d04"
      },
      "source": [
        "- setdefault(chave, valor) -> Retorna o valor da chave passada, mas caso a chave não exista, cria no dicionário o item com a chave e valor passados."
      ]
    },
    {
      "cell_type": "code",
      "execution_count": null,
      "id": "440f4ed1-9ec3-4dd4-a83c-7c81afc9dad4",
      "metadata": {
        "id": "440f4ed1-9ec3-4dd4-a83c-7c81afc9dad4"
      },
      "outputs": [],
      "source": [
        "vendas_mes = {'jan': 150, 'fev': 100, 'mar': 190}\n",
        "vendas_fev = vendas_mes.setdefault('fev', 500)\n",
        "print(vendas_fev)\n",
        "#repare que como fevereiro existe na lista, ele procura pelo valor de fevereiro e ignora o 500 passado\n",
        "#agora quando não existe na lista:\n",
        "vendas_abr = vendas_mes.setdefault('abr', 600)\n",
        "#repare que agora além de vendas_abr retornar o 600 como valor, ele adicionou um item no dicionario\n",
        "print(vendas_abr)\n",
        "print(vendas_mes)"
      ]
    },
    {
      "cell_type": "markdown",
      "id": "a3ed1af3-4899-4f0d-89dc-f3ecc2def965",
      "metadata": {
        "id": "a3ed1af3-4899-4f0d-89dc-f3ecc2def965"
      },
      "source": [
        "- update(dicionario) -> Adiciona o dicionário passado como parâmetro ao dicionário original\n",
        "(exemplo em adicionar itens)"
      ]
    },
    {
      "cell_type": "markdown",
      "id": "cf25ccdd-0f9f-4900-8c2e-617a94677c75",
      "metadata": {
        "id": "cf25ccdd-0f9f-4900-8c2e-617a94677c75"
      },
      "source": [
        "- values() -> Retorna uma lista com todos os valores do dicionários"
      ]
    },
    {
      "cell_type": "code",
      "execution_count": null,
      "id": "0c93da4b-1942-4187-b1ef-69399233cff9",
      "metadata": {
        "id": "0c93da4b-1942-4187-b1ef-69399233cff9"
      },
      "outputs": [],
      "source": [
        "vendas_mes = {'jan': 150, 'fev': 100, 'mar': 190}\n",
        "print(list(vendas_mes.values()))"
      ]
    },
    {
      "cell_type": "markdown",
      "id": "f0eaa574-2f6f-44c5-bcf8-2f0cd508c990",
      "metadata": {
        "id": "f0eaa574-2f6f-44c5-bcf8-2f0cd508c990"
      },
      "source": [
        "- update() ->"
      ]
    },
    {
      "cell_type": "code",
      "execution_count": null,
      "id": "3c476c88-ce01-4d5e-9adf-9690d6c36781",
      "metadata": {
        "id": "3c476c88-ce01-4d5e-9adf-9690d6c36781"
      },
      "outputs": [],
      "source": [
        "vendas_mes = {'jan': 150, 'fev': 100, 'mar': 190}\n",
        "vendas_2tri = {'abr': 400, 'mai': 600, 'jun': 500}\n",
        "vendas_mes.update(vendas_2tri)\n",
        "print(vendas_mes)"
      ]
    },
    {
      "cell_type": "markdown",
      "id": "58b8e70e-ca3f-4042-b359-f1afada9569c",
      "metadata": {
        "id": "58b8e70e-ca3f-4042-b359-f1afada9569c"
      },
      "source": [
        "## items() dos dicionários\n",
        "\n",
        "### Estrutura:"
      ]
    },
    {
      "cell_type": "code",
      "execution_count": null,
      "id": "0512cd7b-272e-43b2-adda-be7c708acb2e",
      "metadata": {
        "id": "0512cd7b-272e-43b2-adda-be7c708acb2e"
      },
      "outputs": [],
      "source": [
        "itens_dicionario = dicionario.items()\n",
        "\n",
        "ou então:\n",
        "\n",
        "for item in dicionario.items()\n",
        "    cada item do dicionario em formato de tupla"
      ]
    },
    {
      "cell_type": "code",
      "execution_count": null,
      "id": "4e3b209f-614d-4e6f-87bd-b358d6f16f33",
      "metadata": {
        "id": "4e3b209f-614d-4e6f-87bd-b358d6f16f33"
      },
      "outputs": [],
      "source": [
        "vendas_tecnologia = {'notebook asus': 2450, 'iphone': 15000, 'samsung galaxy': 12000, 'tv samsung': 10000, 'ps5': 14300, 'tablet': 1720, 'notebook dell': 17000, 'ipad': 1000, 'tv philco': 2500, 'notebook hp': 1000}\n",
        "\n",
        "for produto, qtde in vendas_tecnologia.items():\n",
        "    print('{}: {} unidades'.format(produto, qtde))"
      ]
    },
    {
      "cell_type": "markdown",
      "id": "c2590d0b-e233-43d0-8ebf-1e6f5fa6ca0d",
      "metadata": {
        "id": "c2590d0b-e233-43d0-8ebf-1e6f5fa6ca0d"
      },
      "source": [
        "- Quais produtos venderam mais de 5000 unidades?"
      ]
    },
    {
      "cell_type": "code",
      "execution_count": null,
      "id": "5f6ffcdc-cc27-49af-b0d3-f1fc20a92ee3",
      "metadata": {
        "id": "5f6ffcdc-cc27-49af-b0d3-f1fc20a92ee3"
      },
      "outputs": [],
      "source": [
        "### Exercício 1\n",
        "Crie um sistema de consulta de preços\n",
        "Seu sistema deve:\n",
        "- Pedir para o usuário o nome de um produto\n",
        "- Caso o produto exista na lista de produtos, o programa deve retornar o preço do produto como resposta\n",
        "       - Ex: O produto celular custa R$1500\n",
        "- Caso o produto não exista na lista de produtos, o programa deve printar uma mensagem para o usuário tentar novamente\n",
        "\n",
        "\n",
        "precos = {\"celular\": 1500, \"camera\": 1000, \"fone de ouvido\": 800, \"monitor\": 2000}\n",
        "\n",
        "produto_procurado = input(\"Digite o produto:\")\n",
        "produto_procurado = produto_procurado.lower()\n",
        "if produto_procurado in precos:\n",
        "    preco = precos[produto_procurado]\n",
        "    print(f\"Produto: {produto_procurado}, Preço: R${preco}\")\n",
        "else:\n",
        "    print(\"Produto não encontrado, tente novamente\")\n",
        "\n",
        "\n",
        "### Exercício 2\n",
        "Agora edite o programa anterior para fazer com que, caso não exista o produto, o programa pergunte se o usuário quer cadastrar o produto\n",
        "<br>Se ele responder sim, o programa deve pedir o nome do produto e o preco do produto e cadastrar no dicionário de preços\n",
        "<br>Em seguida do cadastro bem sucedido, o programa deve printar o dicionário de precos atualizado\n",
        "\n",
        "\n",
        "produto_procurado = input(\"Digite o produto:\")\n",
        "produto_procurado = produto_procurado.lower()\n",
        "if produto_procurado in precos:\n",
        "    preco = precos[produto_procurado]\n",
        "    print(f\"Produto: {produto_procurado}, Preço: R${preco}\")\n",
        "else:\n",
        "    opcao = input(f\"Deseja Cadastrar {produto_procurado}? (S/N)\")\n",
        "    if opcao.lower() == \"s\":\n",
        "        preco = float(input(f\"Digite o preço do {produto_procurado} (apenas números)\"))\n",
        "        precos[produto_procurado] = preco\n",
        "        print(precos)\n",
        "    else:\n",
        "        print(\"Produto não encontrado, tente novamente\")\n",
        "\n",
        "### Exercício 3\n",
        "Dada a lista de preços de produtos, uma loja resolveu fazer um reajuste nos preços dos produtos.\n",
        "calcule o novo valor dos produtos com base nas seguintes regras:\n",
        "- Preços até 1.000 vão ter um reajuste de 10% (ou seja, o novo preço será 110% do preço atual)\n",
        "- Preços até maiores que 1.000 até 2.000 vão ter reajuste de 15%\n",
        "- Preços acima de 2.000 vão ter reajuste de 20%\n",
        "\n",
        "precos = {\"celular\": 1500, \"camera\": 1000, \"fone de ouvido\": 800, \"monitor\": 3000}\n",
        "for produto in precos:\n",
        "    preco_produto = precos[produto]\n",
        "    if preco_produto <= 1000:\n",
        "        novo_preco = preco_produto * 1.1\n",
        "    elif preco_produto <= 2000:\n",
        "        novo_preco = preco_produto * 1.15\n",
        "    else:\n",
        "        novo_preco = preco_produto * 1.2\n",
        "    print(f\"Produto {produto}, Novo Preço: R${novo_preco}\")\n",
        "\n",
        "\n",
        "### Exercício 4\n",
        " - Edite o programa antigo para ter os 2 dicionários, o de preços originais e o de novos preços\n",
        " - Em seguida calcule o valor total de reajuste em R$ que teve entre a lista de produtos original e a lista final\n",
        "\n",
        "\n",
        "precos = {\"celular\": 1500, \"camera\": 1000, \"fone de ouvido\": 800, \"monitor\": 3000}\n",
        "novos_precos = {}\n",
        "for produto in precos:\n",
        "    preco_produto = precos[produto]\n",
        "    if preco_produto <= 1000:\n",
        "        novo_preco = preco_produto * 1.1\n",
        "    elif preco_produto <= 2000:\n",
        "        novo_preco = preco_produto * 1.15\n",
        "    else:\n",
        "        novo_preco = preco_produto * 1.2\n",
        "    print(f\"Produto {produto}, Novo Preço: R${novo_preco}\")\n",
        "    novos_precos[produto] = novo_preco\n",
        "total_antigo = sum(precos.values())\n",
        "total_novo = sum(novos_precos.values())\n",
        "reajuste = total_novo - total_antigo\n",
        "print(f\"O reajuste total foi de R${reajuste}\")\n",
        "\n",
        "\n",
        "### Exercício 5\n",
        "- Uma empresa está analisando os resultados de vendas do 1º semestre de 2022 e 2023\n",
        "- Qual foi o % de crescimento de cada mês de 2023 em relação a 2022?\n",
        "- Depois de calcular isso, calcule o valor total de crescimento de 2023 em relação a 2022\n",
        "\n",
        "vendas_22 = {\"jan\": 15000, \"fev\": 15500, \"mar\": 14000, \"abr\": 16600, \"mai\": 16300, \"jun\": 17000}\n",
        "vendas_23 = {\"jan\": 17000, \"fev\": 15000, \"mar\": 17500, \"abr\": 16900, \"mai\": 16000, \"jun\": 18500}\n",
        "\n",
        "for mes in vendas_23:\n",
        "    valor_22 = vendas_22[mes]\n",
        "    valor_23 = vendas_23[mes]\n",
        "    percentual = valor_23 / valor_22 - 1\n",
        "    print(f\"Em {mes}, a variação percentual foi de: {percentual:.1%}\")\n",
        "\n",
        "total_22 = sum(vendas_22.values())\n",
        "total_23 = sum(vendas_23.values())\n",
        "crescimento = total_23 / total_22 - 1\n",
        "print(f\"Crescimento Real: {crescimento:.1%}\")\n",
        "\n",
        "### Exercício 6 - Desafio\n",
        "- No final da reunião de apresentação dos números, seu chefe perguntou:\n",
        "- E se nos meses de 2023 que a gente vendeu menos do que 2022 a gente tivesse pelo menos empatado com 2022 (ou seja, se nos meses de 2023 em que as vendas foram menores do que o mesmo mês em 2022, o valor de vendas tivesse sido igual a 2022)\n",
        "- Qual teria sido o nosso crescimento de 2023 frente a 2022?\n",
        "\n",
        "for mes in vendas_23:\n",
        "    valor_22 = vendas_22[mes]\n",
        "    valor_23 = vendas_23[mes]\n",
        "    percentual = valor_23 / valor_22 - 1\n",
        "    if percentual < 0:\n",
        "        vendas_23[mes] = valor_22\n",
        "    print(f\"Em {mes}, a variação percentual foi de: {percentual:.1%}\")\n",
        "\n",
        "total_22 = sum(vendas_22.values())\n",
        "total_23 = sum(vendas_23.values())\n",
        "crescimento = total_23 / total_22 - 1\n",
        "print(f\"Crescimento simulado: {crescimento:.1%}\")#forma 1 -> usando apenas o dicionario e as chaves\n",
        "for chave in vendas_tecnologia:\n",
        "    if vendas_tecnologia[chave] > 5000:\n",
        "        print('{}: {} unidades'.format(chave, vendas_tecnologia[chave]))\n",
        "\n",
        "print('-------')\n",
        "#forma 2 -> usando o dicionario.items()\n",
        "for produto, qtde in vendas_tecnologia.items():\n",
        "    if qtde > 5000:\n",
        "        print('{}: {} unidades'.format(produto, qtde))"
      ]
    },
    {
      "cell_type": "markdown",
      "id": "68d42ff1",
      "metadata": {
        "id": "68d42ff1"
      },
      "source": [
        "### Exercício 1\n",
        "Crie um sistema de consulta de preços\n",
        "Seu sistema deve:\n",
        "- Pedir para o usuário o nome de um produto\n",
        "- Caso o produto exista na lista de produtos, o programa deve retornar o preço do produto como resposta\n",
        "       - Ex: O produto celular custa R$1500\n",
        "- Caso o produto não exista na lista de produtos, o programa deve printar uma mensagem para o usuário tentar novamente\n"
      ]
    },
    {
      "cell_type": "code",
      "execution_count": null,
      "id": "1ee2160f",
      "metadata": {
        "id": "1ee2160f"
      },
      "outputs": [],
      "source": [
        "precos = {\"celular\": 1500, \"camera\": 1000, \"fone de ouvido\": 800, \"monitor\": 2000}\n",
        "\n",
        "produto_procurado = input(\"Digite o produto:\")\n",
        "produto_procurado = produto_procurado.lower()\n",
        "if produto_procurado in precos:\n",
        "    preco = precos[produto_procurado]\n",
        "    print(f\"Produto: {produto_procurado}, Preço: R${preco}\")\n",
        "else:\n",
        "    print(\"Produto não encontrado, tente novamente\")"
      ]
    },
    {
      "cell_type": "markdown",
      "id": "e0325645",
      "metadata": {
        "id": "e0325645"
      },
      "source": [
        "\n",
        "### Exercício 2\n",
        "Agora edite o programa anterior para fazer com que, caso não exista o produto, o programa pergunte se o usuário quer cadastrar o produto\n",
        "<br>Se ele responder sim, o programa deve pedir o nome do produto e o preco do produto e cadastrar no dicionário de preços\n",
        "<br>Em seguida do cadastro bem sucedido, o programa deve printar o dicionário de precos atualizado\n"
      ]
    },
    {
      "cell_type": "code",
      "execution_count": null,
      "id": "f2723f5d",
      "metadata": {
        "id": "f2723f5d"
      },
      "outputs": [],
      "source": [
        "produto_procurado = input(\"Digite o produto:\")\n",
        "produto_procurado = produto_procurado.lower()\n",
        "if produto_procurado in precos:\n",
        "    preco = precos[produto_procurado]\n",
        "    print(f\"Produto: {produto_procurado}, Preço: R${preco}\")\n",
        "else:\n",
        "    opcao = input(f\"Deseja Cadastrar {produto_procurado}? (S/N)\")\n",
        "    if opcao.lower() == \"s\":\n",
        "        preco = float(input(f\"Digite o preço do {produto_procurado} (apenas números)\"))\n",
        "        precos[produto_procurado] = preco\n",
        "        print(precos)\n",
        "    else:\n",
        "        print(\"Produto não encontrado, tente novamente\")"
      ]
    },
    {
      "cell_type": "markdown",
      "id": "d27d599c",
      "metadata": {
        "id": "d27d599c"
      },
      "source": [
        "### Exercício 3\n",
        "Dada a lista de preços de produtos, uma loja resolveu fazer um reajuste nos preços dos produtos.\n",
        "calcule o novo valor dos produtos com base nas seguintes regras:\n",
        "- Preços até 1.000 vão ter um reajuste de 10% (ou seja, o novo preço será 110% do preço atual)\n",
        "- Preços até maiores que 1.000 até 2.000 vão ter reajuste de 15%\n",
        "- Preços acima de 2.000 vão ter reajuste de 20%"
      ]
    },
    {
      "cell_type": "code",
      "execution_count": null,
      "id": "a8a2393b",
      "metadata": {
        "id": "a8a2393b"
      },
      "outputs": [],
      "source": [
        "precos = {\"celular\": 1500, \"camera\": 1000, \"fone de ouvido\": 800, \"monitor\": 3000}\n",
        "for produto in precos:\n",
        "    preco_produto = precos[produto]\n",
        "    if preco_produto <= 1000:\n",
        "        novo_preco = preco_produto * 1.1\n",
        "    elif preco_produto <= 2000:\n",
        "        novo_preco = preco_produto * 1.15\n",
        "    else:\n",
        "        novo_preco = preco_produto * 1.2\n",
        "    print(f\"Produto {produto}, Novo Preço: R${novo_preco}\")\n"
      ]
    },
    {
      "cell_type": "markdown",
      "id": "e6780458",
      "metadata": {
        "id": "e6780458"
      },
      "source": [
        "### Exercício 4\n",
        " - Edite o programa antigo para ter os 2 dicionários, o de preços originais e o de novos preços\n",
        " - Em seguida calcule o valor total de reajuste em R$ que teve entre a lista de produtos original e a lista final\n"
      ]
    },
    {
      "cell_type": "code",
      "execution_count": null,
      "id": "bf7df6ff",
      "metadata": {
        "id": "bf7df6ff"
      },
      "outputs": [],
      "source": [
        "precos = {\"celular\": 1500, \"camera\": 1000, \"fone de ouvido\": 800, \"monitor\": 3000}\n",
        "novos_precos = {}\n",
        "for produto in precos:\n",
        "    preco_produto = precos[produto]\n",
        "    if preco_produto <= 1000:\n",
        "        novo_preco = preco_produto * 1.1\n",
        "    elif preco_produto <= 2000:\n",
        "        novo_preco = preco_produto * 1.15\n",
        "    else:\n",
        "        novo_preco = preco_produto * 1.2\n",
        "    print(f\"Produto {produto}, Novo Preço: R${novo_preco}\")\n",
        "    novos_precos[produto] = novo_preco\n",
        "total_antigo = sum(precos.values())\n",
        "total_novo = sum(novos_precos.values())\n",
        "reajuste = total_novo - total_antigo\n",
        "print(f\"O reajuste total foi de R${reajuste}\")"
      ]
    },
    {
      "cell_type": "markdown",
      "id": "79efcd1e",
      "metadata": {
        "id": "79efcd1e"
      },
      "source": [
        "\n",
        "### Exercício 5\n",
        "- Uma empresa está analisando os resultados de vendas do 1º semestre de 2022 e 2023\n",
        "- Qual foi o % de crescimento de cada mês de 2023 em relação a 2022?\n",
        "- Depois de calcular isso, calcule o valor total de crescimento de 2023 em relação a 2022"
      ]
    },
    {
      "cell_type": "code",
      "execution_count": null,
      "id": "56a9f771",
      "metadata": {
        "id": "56a9f771"
      },
      "outputs": [],
      "source": [
        "vendas_22 = {\"jan\": 15000, \"fev\": 15500, \"mar\": 14000, \"abr\": 16600, \"mai\": 16300, \"jun\": 17000}\n",
        "vendas_23 = {\"jan\": 17000, \"fev\": 15000, \"mar\": 17500, \"abr\": 16900, \"mai\": 16000, \"jun\": 18500}\n",
        "\n",
        "for mes in vendas_23:\n",
        "    valor_22 = vendas_22[mes]\n",
        "    valor_23 = vendas_23[mes]\n",
        "    percentual = valor_23 / valor_22 - 1\n",
        "    print(f\"Em {mes}, a variação percentual foi de: {percentual:.1%}\")\n",
        "\n",
        "total_22 = sum(vendas_22.values())\n",
        "total_23 = sum(vendas_23.values())\n",
        "crescimento = total_23 / total_22 - 1\n",
        "print(f\"Crescimento Real: {crescimento:.1%}\")"
      ]
    },
    {
      "cell_type": "markdown",
      "id": "b5fb21ff",
      "metadata": {
        "id": "b5fb21ff"
      },
      "source": [
        "### Exercício 6 - Desafio\n",
        "- No final da reunião de apresentação dos números, seu chefe perguntou:\n",
        "- E se nos meses de 2023 que a gente vendeu menos do que 2022 a gente tivesse pelo menos empatado com 2022 (ou seja, se nos meses de 2023 em que as vendas foram menores do que o mesmo mês em 2022, o valor de vendas tivesse sido igual a 2022)\n",
        "- Qual teria sido o nosso crescimento de 2023 frente a 2022?"
      ]
    },
    {
      "cell_type": "code",
      "execution_count": null,
      "id": "4022b343",
      "metadata": {
        "id": "4022b343"
      },
      "outputs": [],
      "source": [
        "for mes in vendas_23:\n",
        "    valor_22 = vendas_22[mes]\n",
        "    valor_23 = vendas_23[mes]\n",
        "    percentual = valor_23 / valor_22 - 1\n",
        "    if percentual < 0:\n",
        "        vendas_23[mes] = valor_22\n",
        "    print(f\"Em {mes}, a variação percentual foi de: {percentual:.1%}\")\n",
        "\n",
        "total_22 = sum(vendas_22.values())\n",
        "total_23 = sum(vendas_23.values())\n",
        "crescimento = total_23 / total_22 - 1\n",
        "print(f\"Crescimento simulado: {crescimento:.1%}\")"
      ]
    },
    {
      "cell_type": "markdown",
      "id": "a81a820d-a54a-438c-8271-22e13f5102cb",
      "metadata": {
        "id": "a81a820d-a54a-438c-8271-22e13f5102cb"
      },
      "source": [
        "## Listas importantes a partir do Dicionário\n",
        "\n",
        "### Métodos utilizados:\n",
        "\n",
        ".keys() -> uma \"lista\" com todas as chaves do dicionario\n",
        "\n",
        ".values() -> uma \"lista\" com todos os valores do dicionario\n",
        "\n",
        "Obs: Se o dicionario for modificado, automaticamente essas variáveis são modificadas, mesmo tendo sido criadas anteriormente"
      ]
    },
    {
      "cell_type": "code",
      "execution_count": null,
      "id": "e61dc6fc-7f41-4453-96b7-85af74fdbf6e",
      "metadata": {
        "id": "e61dc6fc-7f41-4453-96b7-85af74fdbf6e"
      },
      "outputs": [],
      "source": [
        "chaves = vendas_tecnologia.keys()\n",
        "valores = vendas_tecnologia.values()\n",
        "print(chaves)\n",
        "print(valores)"
      ]
    },
    {
      "cell_type": "markdown",
      "id": "fe3e0564-4c4e-4cdc-9485-6748a0366155",
      "metadata": {
        "id": "fe3e0564-4c4e-4cdc-9485-6748a0366155"
      },
      "source": [
        "### O for vai funcionar normal em dict_listas, porque não deixa de ser uma lista de itens que pode ser percorrida (iterable), mas o que aprendemos de lista não necessariamente se aplicam a essas dict_listas.\n",
        "\n",
        "Para transformar as dict_listas em listas normais, usamos a função list:\n",
        "\n",
        "- lista_chaves = list(dicionario.keys())\n",
        "\n",
        "- Pode ser útil caso a gente queira fazer alguma organização das chaves. Ex: Imprimir uma lista com os valores em ordem alfabética, de forma que todas as tvs fiquem juntas, todos os iphone/ipad também e assim vai:"
      ]
    },
    {
      "cell_type": "code",
      "execution_count": null,
      "id": "fe6d11e6-a751-4fbf-b913-20037b6efcea",
      "metadata": {
        "id": "fe6d11e6-a751-4fbf-b913-20037b6efcea"
      },
      "outputs": [],
      "source": [
        "for chave in vendas_tecnologia:\n",
        "     print('{}: {} unidades'.format(chave, vendas_tecnologia[chave]))\n",
        "print('-' * 40)\n",
        "\n",
        "#agora se quisermos organizar isso, fazemos:\n",
        "lista_chaves = list(chaves)\n",
        "lista_chaves.sort()\n",
        "\n",
        "for chave in lista_chaves:\n",
        "    print('{}: {} unidades'.format(chave, vendas_tecnologia[chave]))"
      ]
    },
    {
      "cell_type": "code",
      "execution_count": null,
      "id": "bf064362-4dfe-4256-b161-ad07fb8f64b4",
      "metadata": {
        "id": "bf064362-4dfe-4256-b161-ad07fb8f64b4"
      },
      "outputs": [],
      "source": [
        "for i in vendas_tecnologia:\n",
        "    if 'notebook' in i:\n",
        "        print(i)"
      ]
    },
    {
      "cell_type": "code",
      "execution_count": null,
      "id": "254844c4-391e-48e4-ae00-8656d7283d61",
      "metadata": {
        "id": "254844c4-391e-48e4-ae00-8656d7283d61"
      },
      "outputs": [],
      "source": [
        "#Exemplo for em dicionário\n",
        "informacoes_das_pessoas = {\n",
        "    \"João\": {\"Idade\": 25, \"Time\": \"Flamengo\", \"Comida_Favorita\": \"Pizza\"},\n",
        "    \"Maria\": {\"Idade\": 30, \"Time\": \"Real Madrid\", \"Comida_Favorita\": \"Paella\"},\n",
        "    \"Carlos\": {\"Idade\": 22, \"Time\": \"Chivas\", \"Comida_Favorita\": \"Tacos\"},\n",
        "    \"Ana\": {\"Idade\": 28, \"Time\": \"Juventus\", \"Comida_Favorita\": \"Pasta\"},\n",
        "    \"Lucas\": {\"Idade\": 27, \"Time\": \"Bayern de Munique\", \"Comida_Favorita\": \"Salsichas\"},\n",
        "    \"Julia\": {\"Idade\": 24, \"Time\": \"Toronto Raptors\", \"Comida_Favorita\": \"Poutine\"},\n",
        "    \"Rafael\": {\"Idade\": 32, \"Time\": \"Boca Juniors\", \"Comida_Favorita\": \"Asado\"},\n",
        "    \"Larissa\": {\"Idade\": 26, \"Time\": \"Paris Saint-Germain\", \"Comida_Favorita\": \"Croissant\"},\n",
        "    \"Pedro\": {\"Idade\": 29, \"Time\": \"Manchester United\", \"Comida_Favorita\": \"Fish and Chips\"},\n",
        "    \"Mariana\": {\"Idade\": 23, \"Time\": \"Seleção Japonesa\", \"Comida_Favorita\": \"Sushi\"}\n",
        "}\n",
        "\n",
        "# Exemplo de impressão para verificar os dados\n",
        "for nome, informacoes in informacoes_das_pessoas.items():\n",
        "    print(f\"{nome} tem {informacoes['Idade']} anos, torce para o time {informacoes['Time']} e sua comida favorita é {informacoes['Comida_Favorita']}\")\n"
      ]
    },
    {
      "cell_type": "code",
      "execution_count": null,
      "id": "61e4ee43-d658-4d13-8b6f-783f59d5b185",
      "metadata": {
        "id": "61e4ee43-d658-4d13-8b6f-783f59d5b185"
      },
      "outputs": [],
      "source": [
        "#Criação de dicionário com for\n",
        "album = {}\n",
        "for i in range(4):\n",
        "    musica = input('Qual é a música maestro?: ')\n",
        "    artista = input('Artista: ')\n",
        "    album [musica] = artista\n",
        "print(album)"
      ]
    },
    {
      "cell_type": "markdown",
      "id": "4a5ccc8f-130e-4c6b-a0d3-6be47adbdd1b",
      "metadata": {
        "id": "4a5ccc8f-130e-4c6b-a0d3-6be47adbdd1b"
      },
      "source": [
        "### Exercício: Manipulção de str"
      ]
    },
    {
      "cell_type": "code",
      "execution_count": null,
      "id": "86415e45-5609-4390-8b51-d1ea280d5f4c",
      "metadata": {
        "id": "86415e45-5609-4390-8b51-d1ea280d5f4c"
      },
      "outputs": [],
      "source": [
        "telparc = '(31) 93005325 (21) 930053201 RHFIX@APOIO.IND.BR'\n",
        "print(telparc.count(')'))\n",
        "if telparc.count(')') == 1:\n",
        "    pos = telparc.find(')')\n",
        "    operadora = telparc[pos-2:pos]\n",
        "    tel = telparc[pos+2:pos+11]\n",
        "    numero = operadora+tel\n",
        "elif telparc.count(')') == 2:\n",
        "    pos = telparc.find(')',6)\n",
        "    operadora = telparc[pos-2:pos]\n",
        "    tel = telparc[pos+2:pos+11]\n",
        "    numero = operadora + tel\n",
        "#     print(a[5+pos:14+pos])\n",
        "\n",
        "print(numero)"
      ]
    },
    {
      "cell_type": "markdown",
      "id": "8dd8b738-7a0b-4586-9a74-e92f352cbdee",
      "metadata": {
        "id": "8dd8b738-7a0b-4586-9a74-e92f352cbdee"
      },
      "source": [
        "# Criação de Funções"
      ]
    },
    {
      "cell_type": "code",
      "execution_count": null,
      "id": "e555d54d-6c3d-4678-aa8e-1ed59d14a882",
      "metadata": {
        "id": "e555d54d-6c3d-4678-aa8e-1ed59d14a882"
      },
      "outputs": [],
      "source": [
        "def conversao(c):\n",
        "    k = c + 273.15\n",
        "    print(k)\n",
        "\n",
        "\n",
        "temperatura = int(input('informe a temp: '))\n",
        "conversao(temperatura)"
      ]
    },
    {
      "cell_type": "code",
      "execution_count": null,
      "id": "43db6a21-e208-4036-bfdb-aa08d905da8d",
      "metadata": {
        "id": "43db6a21-e208-4036-bfdb-aa08d905da8d"
      },
      "outputs": [],
      "source": [
        "def verificar_tipo(valor):\n",
        "    match valor:\n",
        "        case str:\n",
        "            print(\"É uma string.\")\n",
        "        case int:\n",
        "            print(\"É um número inteiro.\")\n",
        "        case float:\n",
        "            print(\"É um número de ponto flutuante.\")\n",
        "        case _:\n",
        "            print(\"Tipo não reconhecido.\")\n",
        "\n",
        "# Exemplos de chamada da função\n",
        "verificar_tipo(\"Olá\")  # Saída: É uma string.\n",
        "verificar_tipo(42)     # Saída: É um número inteiro.\n",
        "verificar_tipo(3.14)   # Saída: É um número de ponto flutuante.\n",
        "verificar_tipo(True)   # Saída: Tipo não reconhecido."
      ]
    },
    {
      "cell_type": "code",
      "execution_count": null,
      "id": "332e79a5-f579-48ae-884d-5198f38cdf17",
      "metadata": {
        "id": "332e79a5-f579-48ae-884d-5198f38cdf17"
      },
      "outputs": [],
      "source": [
        "def calculadora(p1,p2,p3,op):\n",
        "    match op:\n",
        "        case 'soma':\n",
        "            resultado = p1+p2+p3\n",
        "        case 'subtração':\n",
        "            resultado = p1-p2-p3\n",
        "        case 'multiplicação':\n",
        "            resultado = p1*p2*p3\n",
        "        case 'divisão':\n",
        "            try:\n",
        "                resultado = p1/p2/p3\n",
        "            except ZeroDivisionError:\n",
        "                resultado = 'inválido'\n",
        "                print('Zero não é divisível')\n",
        "    print('A {} teve como resultado {}'.format(op,resultado))\n",
        "\n",
        "\n",
        "n1,n2,n3 =int(input('n1')),int(input('n2')),int(input('n3'))\n",
        "operacao = input('digite sm/sb/mu/dv')\n",
        "calculadora(n1,n2,n3,operacao)"
      ]
    },
    {
      "cell_type": "markdown",
      "id": "8b4596f0-f95f-4683-834e-4d6e9afe76e6",
      "metadata": {
        "id": "8b4596f0-f95f-4683-834e-4d6e9afe76e6"
      },
      "source": [
        "# Ordem dos Argumentos\n",
        "\n",
        "### Estrutura:\n",
        "\n",
        "- Sempre os positional arguments vêm antes e depois os keywords arguments.\n",
        "- Sempre os argumentos individuais vêm antes e depois os \"múltiplos\""
      ]
    },
    {
      "cell_type": "raw",
      "id": "81056735-09eb-4259-8711-fd76838c5afe",
      "metadata": {
        "id": "81056735-09eb-4259-8711-fd76838c5afe"
      },
      "source": [
        "def minha_funcao(arg1, arg2, arg3, arg4, *args, k = kwarg1, k2 = kwarg2, k3 = kwarg3, **kwargs):\n",
        "    ..."
      ]
    },
    {
      "cell_type": "raw",
      "id": "eb191ecc-1b8b-4fdd-bb52-b9196f7287e0",
      "metadata": {
        "id": "eb191ecc-1b8b-4fdd-bb52-b9196f7287e0"
      },
      "source": [
        "def teste(*varios,um):\n",
        "    soma=0\n",
        "    for i in varios:\n",
        "        soma+=i\n",
        "    soma-=um\n",
        "    return soma"
      ]
    },
    {
      "cell_type": "markdown",
      "id": "d8595c82-bf0d-4aa6-bc00-b64357db877b",
      "metadata": {
        "id": "d8595c82-bf0d-4aa6-bc00-b64357db877b"
      },
      "source": [
        "# Exercícios\n",
        "\n",
        "Para fazer um treino simples antes de avançarmos em mais functions, vamos criar uma function que resolve 1 \"desafio simples\"\n",
        "\n",
        "## 1. Function para Cálculo de Carga Tributária\n",
        "\n",
        "(Lembrando, não se atente ao funcionamento real da carga tributária, é apenas um exemplo imaginário para treinarmos as functions com algo mais prático)\n",
        "\n",
        "Imagine que você trabalha no setor contábil de uma grande empresa de Varejo.\n",
        "\n",
        "Crie uma function que calcule qual o % de carga tributária que está sendo aplicado sobre um determinado produto, dado o preço de venda, o \"lucro\" e os custos (com exceção do imposto) dele."
      ]
    },
    {
      "cell_type": "code",
      "execution_count": null,
      "id": "ee1e7f7a-5a3d-485a-a3ce-c603f9e6f9f1",
      "metadata": {
        "id": "ee1e7f7a-5a3d-485a-a3ce-c603f9e6f9f1"
      },
      "outputs": [],
      "source": [
        "preco = 1500\n",
        "custo = 400\n",
        "lucro = 785"
      ]
    },
    {
      "cell_type": "markdown",
      "id": "00e828a0-bec2-4e87-8268-41cf237fce18",
      "metadata": {
        "id": "00e828a0-bec2-4e87-8268-41cf237fce18"
      },
      "source": [
        "Repare que preço - custo não é igual ao lucro, porque ainda foi descontado o imposto. Sua functiona deve calcular qual foi o % de imposto aplicado sobre o preço total."
      ]
    },
    {
      "cell_type": "code",
      "execution_count": null,
      "id": "bcdf6442-6ca3-4d3a-8351-e02b28ba16a5",
      "metadata": {
        "id": "bcdf6442-6ca3-4d3a-8351-e02b28ba16a5"
      },
      "outputs": [],
      "source": [
        "#crie sua function aqui\n",
        "def carga_tributaria(preco, custo, lucro):\n",
        "    imposto = preco - custo - lucro\n",
        "    return imposto / preco"
      ]
    },
    {
      "cell_type": "code",
      "execution_count": null,
      "id": "20062872-a0f2-458d-b02e-0476ed9bad67",
      "metadata": {
        "id": "20062872-a0f2-458d-b02e-0476ed9bad67"
      },
      "outputs": [],
      "source": [
        "#aplique sua function nos valores fornecidos para ver se ela está funcionando corretamente\n",
        "print('A carga tributária foi de {:.1%}'.format(carga_tributaria(preco, custo, lucro)))"
      ]
    },
    {
      "cell_type": "markdown",
      "id": "470c1ca1-e2c1-4b24-b8da-ca9cb12194b9",
      "metadata": {
        "id": "470c1ca1-e2c1-4b24-b8da-ca9cb12194b9"
      },
      "source": [
        "## 2. Function para Análise de Indicadores\n",
        "\n",
        "A maioria das empresas tem suas próprias regras para cálculos de indicadores.\n",
        "\n",
        "- Algumas empresas definem que um cliente é considerado um cliente inadimplente quando ele está devendo acima de X reais e por mais de X dias.\n",
        "- Algumas empresas definem que um vendedor bateu a meta quando ele vendeu acima de X reais (outras ainda analisam não só as vendas desse vendedor, mas também da loja ou da unidade de negócios que ele faz parte, ou ainda uma avaliação qualitativa)\n",
        "- Algumas empresas definem que um produto está em \"falta\" no estoque quando ele está abaixo de um nível mínimo quando um cliente insere um novo pedido daquele produto\n",
        "- E assim vai para dezenas de indicadores.\n",
        "\n",
        "O ponto importante é, cada empresa tem alguma adaptação do cálculo de indicadores. E normalmente se formos analisar esses indicadores é interessante ter funções que façam todo o trabalho de análise deles. Por isso, vamos construir 2 exemplos aqui:\n",
        "\n",
        "### Item 1: Crie uma função que calcula o percentual de Stockout de uma empresa\n",
        "\n",
        "- O % de stockout é dado por (Vendas Perdidas por Estoque) / (Vendas Concluídas + Vendas Perdidas por Estoque) -> essas vendas são dadas em valor total (dinheiro) e não em quantidade de vendas\n",
        "- Seu programa recebe um dicionário com todas as vendas da empresa, o status dela (se foi Concluída ou Cancelada) e, caso tenha sido Cancelada, o motivo de Cancelamento. O formato é o seguinte:"
      ]
    },
    {
      "cell_type": "code",
      "execution_count": null,
      "id": "938def03-ea21-4a73-b11e-369d0934a005",
      "metadata": {
        "id": "938def03-ea21-4a73-b11e-369d0934a005"
      },
      "outputs": [],
      "source": [
        "vendas = {\n",
        "    'VE0001': (15000, 'Concluído', ''),\n",
        "    'VE0002': (13300, 'Cancelado', 'Cancelado pelo Cliente'),\n",
        "    'VE0003': (12000, 'Concluído', ''),\n",
        "    ...\n",
        "}"
      ]
    },
    {
      "cell_type": "markdown",
      "id": "2010c660-3e3f-42a2-b16d-ff8f7b1c2d5a",
      "metadata": {
        "id": "2010c660-3e3f-42a2-b16d-ff8f7b1c2d5a"
      },
      "source": [
        "- Para reforçar: As vendas Canceladas por qualquer outro motivo que não seja a Falta de Estoque não devem ser consideradas para a conta do Stockout."
      ]
    },
    {
      "cell_type": "code",
      "execution_count": null,
      "id": "25e62db8-9546-4252-8e58-38818ef5f495",
      "metadata": {
        "id": "25e62db8-9546-4252-8e58-38818ef5f495"
      },
      "outputs": [],
      "source": [
        "vendas = {'VE0001': (9868,'Concluído',''),'VE0002': (9642,'Concluído',''),'VE0003': (6007,'Concluído',''),'VE0004': (15562,'Concluído',''),'VE0005': (18752,'Cancelado','Estoque em Falta'),'VE0006': (16358,'Cancelado','Estoque em Falta'),'VE0007': (17045,'Concluído',''),'VE0008': (12230,'Concluído',''),'VE0009': (6747,'Concluído',''),'VE0010': (15114,'Concluído',''),'VE0011': (12497,'Concluído',''),'VE0012': (6001,'Concluído',''),'VE0013': (16227,'Cancelado','Cancelada pelo Cliente'),'VE0014': (16150,'Concluído',''),'VE0015': (17705,'Concluído',''),'VE0016': (9978,'Concluído',''),'VE0017': (4266,'Concluído',''),'VE0018': (11531,'Concluído',''),'VE0019': (10352,'Cancelado','Cancelada pelo Cliente'),'VE0020': (16544,'Concluído',''),'VE0021': (15488,'Concluído',''),'VE0022': (15828,'Concluído',''),'VE0023': (1218,'Concluído',''),'VE0024': (11560,'Concluído',''),'VE0025': (14220,'Concluído',''),'VE0026': (17839,'Concluído',''),'VE0027': (4050,'Concluído',''),'VE0028': (7594,'Cancelado','Estoque em Falta'),'VE0029': (19586,'Concluído',''),'VE0030': (8453,'Concluído',''),'VE0031': (3589,'Concluído',''),'VE0032': (13472,'Cancelado','Cancelada pelo Cliente'),'VE0033': (16994,'Concluído',''),'VE0034': (2139,'Concluído',''),'VE0035': (10173,'Concluído',''),'VE0036': (17784,'Cancelado','Estoque em Falta'),'VE0037': (12214,'Concluído',''),'VE0038': (5878,'Concluído',''),'VE0039': (2622,'Concluído',''),'VE0040': (9765,'Concluído',''),'VE0041': (8872,'Concluído',''),'VE0042': (16543,'Concluído',''),'VE0043': (8994,'Concluído',''),'VE0044': (4332,'Concluído',''),'VE0045': (19679,'Concluído',''),'VE0046': (14968,'Concluído',''),'VE0047': (6352,'Concluído',''),'VE0048': (11461,'Concluído',''),'VE0049': (5285,'Concluído',''),'VE0050': (11639,'Concluído',''),'VE0051': (6023,'Concluído',''),'VE0052': (4943,'Concluído',''),'VE0053': (5654,'Concluído',''),'VE0054': (11734,'Concluído',''),'VE0055': (2742,'Concluído',''),'VE0056': (5380,'Cancelado','Estoque em Falta'),'VE0057': (5578,'Concluído',''),'VE0058': (1897,'Concluído',''),'VE0059': (7857,'Concluído',''),'VE0060': (4472,'Concluído',''),'VE0061': (19874,'Concluído',''),'VE0062': (13323,'Cancelado','Cancelada pelo Cliente'),'VE0063': (5821,'Concluído',''),'VE0064': (4410,'Concluído',''),'VE0065': (16676,'Concluído',''),'VE0066': (10577,'Concluído',''),'VE0067': (10627,'Concluído',''),'VE0068': (1987,'Concluído',''),'VE0069': (13197,'Concluído',''),'VE0070': (15063,'Concluído',''),'VE0071': (14363,'Concluído',''),'VE0072': (10452,'Concluído',''),'VE0073': (15376,'Concluído',''),'VE0074': (4661,'Concluído',''),'VE0075': (13287,'Concluído',''),'VE0076': (8278,'Concluído',''),'VE0077': (7134,'Concluído',''),'VE0078': (16568,'Concluído',''),'VE0079': (17732,'Concluído',''),'VE0080': (5127,'Concluído',''),'VE0081': (4582,'Concluído',''),'VE0082': (14804,'Cancelado','Cancelada pelo Cliente'),'VE0083': (12362,'Concluído',''),'VE0084': (1148,'Concluído',''),'VE0085': (14018,'Concluído',''),'VE0086': (15891,'Concluído',''),'VE0087': (4517,'Concluído',''),'VE0088': (1770,'Concluído',''),'VE0089': (14926,'Concluído',''),'VE0090': (13627,'Concluído',''),'VE0091': (3047,'Concluído',''),'VE0092': (13924,'Concluído',''),'VE0093': (7158,'Concluído',''),'VE0094': (5942,'Concluído',''),'VE0095': (13480,'Concluído',''),'VE0096': (17686,'Concluído',''),'VE0097': (5722,'Cancelado','Cancelada pelo Cliente'),'VE0098': (16963,'Concluído',''),'VE0099': (14225,'Concluído',''),'VE0100': (12553,'Concluído',''),'VE0101': (18047,'Concluído',''),'VE0102': (11420,'Concluído',''),'VE0103': (6191,'Concluído',''),'VE0104': (8388,'Concluído',''),'VE0105': (17210,'Concluído',''),'VE0106': (12217,'Concluído',''),'VE0107': (8984,'Concluído',''),'VE0108': (7638,'Cancelado','Cancelada pelo Cliente'),'VE0109': (8462,'Concluído',''),'VE0110': (14081,'Concluído',''),'VE0111': (10842,'Concluído',''),'VE0112': (13261,'Concluído',''),'VE0113': (16953,'Cancelado','Estoque em Falta'),'VE0114': (5343,'Concluído',''),'VE0115': (4734,'Concluído',''),'VE0116': (13606,'Cancelado','Cancelada pelo Cliente'),'VE0117': (17106,'Cancelado','Estoque em Falta'),'VE0118': (17704,'Concluído',''),'VE0119': (12242,'Concluído',''),'VE0120': (7476,'Cancelado','Estoque em Falta'),'VE0121': (18408,'Concluído',''),'VE0122': (13612,'Concluído',''),'VE0123': (18198,'Concluído',''),'VE0124': (4844,'Concluído',''),'VE0125': (12750,'Concluído',''),'VE0126': (11969,'Concluído',''),'VE0127': (15337,'Concluído',''),'VE0128': (1100,'Concluído',''),'VE0129': (18893,'Concluído',''),'VE0130': (15850,'Concluído',''),'VE0131': (2097,'Concluído',''),'VE0132': (11636,'Cancelado','Estoque em Falta'),'VE0133': (12603,'Concluído',''),'VE0134': (10769,'Concluído',''),'VE0135': (11016,'Concluído',''),'VE0136': (14556,'Concluído',''),'VE0137': (1389,'Concluído',''),'VE0138': (11681,'Concluído',''),'VE0139': (16759,'Cancelado','Cancelada pelo Cliente'),'VE0140': (16317,'Concluído',''),'VE0141': (5965,'Concluído',''),'VE0142': (4493,'Concluído',''),'VE0143': (5398,'Concluído',''),'VE0144': (9875,'Concluído',''),'VE0145': (17492,'Concluído',''),'VE0146': (7473,'Concluído',''),'VE0147': (10284,'Concluído',''),'VE0148': (10778,'Concluído',''),'VE0149': (2227,'Concluído',''),'VE0150': (14157,'Concluído',''),'VE0151': (9516,'Concluído',''),'VE0152': (9824,'Concluído',''),'VE0153': (5118,'Concluído',''),'VE0154': (5123,'Concluído',''),'VE0155': (2697,'Concluído',''),'VE0156': (19024,'Concluído',''),'VE0157': (5128,'Concluído',''),'VE0158': (8293,'Cancelado','Estoque em Falta'),'VE0159': (18782,'Concluído',''),'VE0160': (12182,'Concluído',''),'VE0161': (9063,'Concluído',''),'VE0162': (17608,'Concluído',''),'VE0163': (8456,'Cancelado','Cancelada pelo Cliente'),'VE0164': (1291,'Concluído',''),'VE0165': (14018,'Concluído',''),'VE0166': (2791,'Concluído',''),'VE0167': (17953,'Concluído',''),'VE0168': (14627,'Concluído',''),'VE0169': (3296,'Concluído',''),'VE0170': (1863,'Concluído',''),'VE0171': (4719,'Concluído',''),'VE0172': (15060,'Concluído',''),'VE0173': (2596,'Cancelado','Cancelada pelo Cliente'),'VE0174': (4919,'Concluído',''),'VE0175': (13770,'Concluído',''),'VE0176': (15041,'Cancelado','Estoque em Falta'),'VE0177': (6702,'Concluído',''),'VE0178': (9989,'Concluído',''),'VE0179': (5135,'Concluído',''),'VE0180': (13337,'Concluído',''),'VE0181': (13457,'Concluído',''),'VE0182': (17218,'Concluído',''),'VE0183': (6424,'Concluído',''),'VE0184': (5478,'Concluído',''),'VE0185': (10478,'Cancelado','Cancelada pelo Cliente'),'VE0186': (3240,'Concluído',''),'VE0187': (16503,'Concluído',''),'VE0188': (12762,'Concluído',''),'VE0189': (6985,'Cancelado','Cancelada pelo Cliente'),'VE0190': (13013,'Concluído',''),'VE0191': (5706,'Concluído',''),'VE0192': (6521,'Cancelado','Estoque em Falta'),'VE0193': (12904,'Concluído',''),'VE0194': (14691,'Concluído',''),'VE0195': (19338,'Concluído',''),'VE0196': (4556,'Cancelado','Cancelada pelo Cliente'),'VE0197': (9653,'Concluído',''),'VE0198': (4617,'Concluído',''),'VE0199': (4717,'Concluído',''),'VE0200': (8366,'Concluído','')}"
      ]
    },
    {
      "cell_type": "code",
      "execution_count": null,
      "id": "c1beb5b7-8778-407f-8852-7d1506e0388f",
      "metadata": {
        "id": "c1beb5b7-8778-407f-8852-7d1506e0388f"
      },
      "outputs": [],
      "source": [
        "#sua function aqui\n",
        "def calculo_stockout(dicionario_vendas):\n",
        "    numerador = 0\n",
        "    denominador = 0\n",
        "    for venda in dicionario_vendas:\n",
        "        valor, status, motivo = dicionario_vendas[venda]\n",
        "        if status == 'Concluído':\n",
        "            denominador += valor\n",
        "        elif status == 'Cancelado' and motivo == 'Estoque em Falta':\n",
        "            denominador += valor\n",
        "            numerador += valor\n",
        "    return numerador / denominador"
      ]
    },
    {
      "cell_type": "code",
      "execution_count": null,
      "id": "e5db81d8-e7db-4094-972b-61b8eb84855d",
      "metadata": {
        "id": "e5db81d8-e7db-4094-972b-61b8eb84855d"
      },
      "outputs": [],
      "source": [
        "#rode sua function aqui com o dicionário dado para ver se ela está funcionando\n",
        "print('{:.2%}'.format(calculo_stockout(vendas)))"
      ]
    },
    {
      "cell_type": "markdown",
      "id": "14f29e98-cc12-4325-a289-b818d11a6ab7",
      "metadata": {
        "id": "14f29e98-cc12-4325-a289-b818d11a6ab7"
      },
      "source": [
        "### Item 2: Crie uma função para descobrir os clientes inadimplentes de uma empresa\n",
        "\n",
        "- O objetivo é identificar quem são os clientes inadimplentes e enviar essa lista de clientes para o setor de cobrança poder fazer a cobrança dos clientes.\n",
        "- Sua função deve então receber uma lista de clientes, analisar quais clientes estão inadimplentes, e retornar uma lista com os clientes inadimplentes (apenas o CPF deles já é suficiente)\n",
        "- A inadimplência nessa empresa é calculada da seguinte forma:\n",
        "    1. Se o cliente tiver devendo mais de 1.000 reais por mais de 20 dias, ele é considerado inadimplente.\n",
        "    2. Isso significa que caso ou cliente esteja devendo 2.000 reais a 10 dias, ele não é inadimplente, pois não se passaram 20 dias ainda. Da mesma forma, se ele estiver devendo 500 reais por 40 dias, ele também não é inadimplente, dado que ele deve menos de 1.000 reais.\n",
        "    3. As informações vêm no formato (cpf, valor_devido, qtde de dias)"
      ]
    },
    {
      "cell_type": "code",
      "execution_count": null,
      "id": "4fb7c363-b0b1-43e2-9705-fc65f3d820e7",
      "metadata": {
        "id": "4fb7c363-b0b1-43e2-9705-fc65f3d820e7"
      },
      "outputs": [],
      "source": [
        "clientes_devedores = [('462.286.561-65',14405,24),('251.569.170-81',16027,1),('297.681.579-21',8177,28),('790.223.154-40',9585,10),('810.442.219-10',18826,29),('419.210.299-79',11421,15),('908.507.760-43',12445,24),('911.238.364-17',1345,4),('131.115.339-28',11625,8),('204.169.467-27',5364,22),('470.806.376-11',932,29),('938.608.980-69',13809,19),('554.684.165-26',11227,2),('119.225.846-34',4475,9),('358.890.858-95',13932,20),('786.547.940-70',17048,25),('468.487.741-94',2902,8),('540.685.100-32',5806,21),('379.729.796-80',7622,24),('980.173.363-94',13167,24),('833.285.374-56',19581,24),('103.669.436-50',17126,4),('386.836.124-46',18825,11),('588.404.964-15',1545,30),('600.556.177-18',1921,7),('670.346.230-99',18079,28),('771.352.915-13',16581,23),('430.314.324-46',13942,24),('629.507.759-51',17951,11),('348.683.225-73',12424,10),('406.133.151-17',5888,30),('310.985.894-64',17316,30),('964.317.132-30',18818,30),('845.331.524-14',14284,13),('781.995.738-18',19369,29),('921.558.128-63',3206,27),('941.386.982-65',10228,26),('551.135.290-10',18822,18),('537.124.578-35',12670,6),('119.383.169-76',790,20),('938.473.410-98',8851,5),('279.775.182-54',5212,20),('210.872.954-53',13569,8),('684.995.531-65',8649,21),('653.886.282-57',504,28),('973.580.738-53',2533,9),('285.864.892-85',8200,21),('777.154.423-98',10336,8),('769.786.401-34',3233,12),('521.566.565-97',11882,14),('491.799.681-92',653,8),('344.357.819-36',8856,18),('265.362.581-99',8962,8),('331.410.527-56',18516,18),('143.188.958-61',7234,29),('751.630.472-61',13552,6),('714.707.807-80',2898,7),('585.584.932-83',239,25),('165.554.107-13',9572,23),('718.225.984-87',10534,25),('611.715.653-32',3210,11),('397.994.286-79',13651,24),('967.160.575-69',8997,25),('369.750.998-94',13952,2),('767.400.554-79',18320,11),('171.104.286-74',5821,21),('152.817.649-24',3358,30),('645.308.846-62',15176,25),('273.884.570-92',4436,13),('888.818.341-45',15730,3),('577.836.712-40',14670,16),('513.529.919-95',4002,1),('201.476.809-95',17442,21),('657.816.571-87',1582,2),('810.494.975-87',2157,9),('531.749.410-17',12355,18),('486.290.887-24',18576,26),('432.376.642-62',8027,23),('207.274.437-91',5125,29),('634.244.673-72',11387,15),('346.871.172-72',8105,23),('166.330.605-50',7865,11),('829.181.731-94',2425,8),('197.305.464-63',9681,8),('887.877.706-59',15681,10),('847.598.885-51',323,23),('817.170.984-26',5169,27),('591.397.550-29',13362,25),('872.733.198-95',5756,18),('615.629.238-82',11678,23),('194.782.846-77',11044,17),('146.392.158-88',6848,4),('240.427.458-70',3906,25),('583.662.427-52',3306,5),('841.627.523-64',4778,4),('985.337.216-77',15308,4),('912.410.722-57',11683,6),('700.720.266-23',12638,21),('605.405.529-53',3831,3),('383.256.402-25',2599,10),('248.103.486-68',9121,1),('261.974.594-90',2139,26),('297.126.704-91',18529,16),('680.569.318-52',10176,23),('296.334.647-38',225,13),('200.761.898-70',16244,20),('258.232.687-17',19462,18),('597.295.672-38',18840,11),('894.479.102-52',11375,12),('556.156.341-36',16269,23),('987.874.553-86',11253,17),('248.927.998-94',6510,1),('852.796.660-25',2662,23),('741.370.204-36',9303,16),('536.714.951-95',2877,23),('320.395.830-44',14554,5),('520.645.562-80',17547,24),('553.700.674-28',3147,14),('913.525.896-32',17651,28),('750.456.495-86',11524,9),('246.171.748-38',15184,4),('760.248.897-67',4953,25),('920.890.990-46',17172,20),('805.469.913-50',17500,21),('878.594.225-48',6255,3),('356.715.924-36',3454,13),('847.150.802-96',8602,22),('625.846.640-53',10888,19),('539.300.108-41',11225,21),('549.151.467-76',1286,21),('738.451.908-29',18905,22),('987.288.834-69',17533,25),('898.532.296-94',9719,11),('620.531.607-13',13584,10),('169.415.202-43',1871,29),('757.885.355-97',18150,28),('252.581.376-21',2497,3),('177.937.460-78',7178,8),('523.895.611-54',9878,26),('883.680.201-23',16761,3),('936.678.268-71',11017,9),('871.912.703-73',1754,9),('957.749.478-56',6914,9),('725.636.354-80',8605,13),('898.316.244-33',14363,12),('894.748.325-28',2764,3),('647.106.954-60',1482,6),('628.716.937-98',14107,8),('332.677.483-83',19146,15),('186.870.928-82',17050,12),('216.248.879-71',4384,16),('287.929.269-44',4894,19),('278.335.932-42',17220,13),('824.107.287-13',11797,7),('535.354.954-30',9195,22),('311.762.241-12',13871,2),('209.759.133-88',13580,21),('505.728.766-53',16950,13),('879.471.988-23',17427,14),('772.329.947-39',3462,8),('321.123.241-10',2592,22),('407.342.963-78',11435,21),('786.935.637-47',14240,9),('461.791.351-55',142,2),('770.920.161-42',1247,24),('639.870.185-59',6430,10),('815.943.237-83',19550,22),('141.774.255-61',17866,13),('379.995.400-37',9503,29),('261.103.178-64',19167,13),('495.461.913-57',12265,29),('498.848.750-79',14549,16),('578.770.731-84',1462,5),('408.987.269-72',5647,28),('191.970.336-40',6313,15),('761.137.848-34',10654,23),('810.512.154-21',14928,1),('256.371.788-38',7085,2),('216.401.188-57',1531,23),('956.318.620-43',6327,22),('986.516.478-33',3866,25),('105.665.555-60',7118,4),('259.228.430-72',1601,8),('133.627.971-58',10142,14),('327.988.845-70',14985,23),('363.167.322-63',17236,7),('189.986.406-38',16888,18),('661.194.373-45',7824,1),('805.728.877-53',514,10),('887.826.412-21',15977,24),('122.975.174-32',9409,25),('456.550.370-55',19922,18),('388.243.133-66',19785,17),('208.788.890-61',11893,22),('881.332.662-49',6344,16),('912.349.944-52',6858,15),('534.904.583-32',9559,11),('825.175.334-25',19805,15),('339.191.298-46',13325,8),('569.993.915-78',4339,15)]"
      ]
    },
    {
      "cell_type": "code",
      "execution_count": null,
      "id": "a9dd2174-bcd2-44b8-a618-a712b9f504d6",
      "metadata": {
        "id": "a9dd2174-bcd2-44b8-a618-a712b9f504d6"
      },
      "outputs": [],
      "source": [
        "#sua function aqui\n",
        "def clientes_inadimplentes(lista_devedores):\n",
        "    lista_inadimplentes = []\n",
        "    for cliente in lista_devedores:\n",
        "        cpf, valor, dias = cliente\n",
        "        if valor > 1000 and dias > 20:\n",
        "            lista_inadimplentes.append(cpf)\n",
        "    return lista_inadimplentes"
      ]
    },
    {
      "cell_type": "code",
      "execution_count": null,
      "id": "94176b39-9176-4103-9563-fec4c163225f",
      "metadata": {
        "scrolled": true,
        "id": "94176b39-9176-4103-9563-fec4c163225f",
        "outputId": "46995b41-b0cf-46ce-e70b-b30da9775cec"
      },
      "outputs": [
        {
          "name": "stdout",
          "output_type": "stream",
          "text": [
            "['462.286.561-65', '297.681.579-21', '810.442.219-10', '908.507.760-43', '204.169.467-27', '786.547.940-70', '540.685.100-32', '379.729.796-80', '980.173.363-94', '833.285.374-56', '588.404.964-15', '670.346.230-99', '771.352.915-13', '430.314.324-46', '406.133.151-17', '310.985.894-64', '964.317.132-30', '781.995.738-18', '921.558.128-63', '941.386.982-65', '684.995.531-65', '285.864.892-85', '143.188.958-61', '165.554.107-13', '718.225.984-87', '397.994.286-79', '967.160.575-69', '171.104.286-74', '152.817.649-24', '645.308.846-62', '201.476.809-95', '486.290.887-24', '432.376.642-62', '207.274.437-91', '346.871.172-72', '817.170.984-26', '591.397.550-29', '615.629.238-82', '240.427.458-70', '700.720.266-23', '261.974.594-90', '680.569.318-52', '556.156.341-36', '852.796.660-25', '536.714.951-95', '520.645.562-80', '913.525.896-32', '760.248.897-67', '805.469.913-50', '847.150.802-96', '539.300.108-41', '549.151.467-76', '738.451.908-29', '987.288.834-69', '169.415.202-43', '757.885.355-97', '523.895.611-54', '535.354.954-30', '209.759.133-88', '321.123.241-10', '407.342.963-78', '770.920.161-42', '815.943.237-83', '379.995.400-37', '495.461.913-57', '408.987.269-72', '761.137.848-34', '216.401.188-57', '956.318.620-43', '986.516.478-33', '327.988.845-70', '887.826.412-21', '122.975.174-32', '208.788.890-61']\n",
            "74\n",
            "200\n"
          ]
        }
      ],
      "source": [
        "#rode sua function aqui com a lista dada para ver se está funcionando\n",
        "print(clientes_inadimplentes(clientes_devedores))\n",
        "print(len(clientes_inadimplentes(clientes_devedores)))\n",
        "print(len(clientes_devedores))"
      ]
    },
    {
      "cell_type": "markdown",
      "id": "4e6f62a9-3b1f-4a4b-ab5f-2e49f57ea293",
      "metadata": {
        "id": "4e6f62a9-3b1f-4a4b-ab5f-2e49f57ea293"
      },
      "source": [
        "# Exercício 3\n",
        "\n",
        "## Criando uma Lista de Produtos\n",
        "\n",
        "Muitas vezes as listas de produtos, de clientes, de funcionários, etc que temos nas empresas não são 100% confiáveis.\n",
        "\n",
        "Isso significa que na prática, caímos em muitos casos de ter uma lista de produtos, mas quando olhamos por exemplo uma base com a posição em estoque de cada produto, surge nessa \"base\" produtos que não existiam na nossa lista inicial.\n",
        "\n",
        "Então agora vamos fazer uma function justamente com esse objetivo.\n",
        "\n",
        "Digamos que você receba, 2, 3, 5 ou até 10 bases com a posição em estoque de vários produtos.\n",
        "\n",
        "Vamos criar uma function que pega todas essas listas e cria, a partir dela, uma lista de produtos. Com o objetivo de saber todos os produtos que temos na empresa. Repare que a function pode receber 1, 2, 3 ou quantas listas de estoque forem necessárias.\n",
        "\n",
        "Obs: Lembre dos \"sets\" para fazer a lista de produtos não ter produtos repetidos"
      ]
    },
    {
      "cell_type": "code",
      "execution_count": null,
      "id": "a2adcdbd-36dc-47f6-9d25-f8fa0ce07b7f",
      "metadata": {
        "id": "a2adcdbd-36dc-47f6-9d25-f8fa0ce07b7f"
      },
      "outputs": [],
      "source": [
        "lista_estoque1 = [\n",
        "    (produto, qtde_estoque),\n",
        "    (produto2, qtde_estoque2),\n",
        "    ...\n",
        "]"
      ]
    },
    {
      "cell_type": "code",
      "execution_count": null,
      "id": "256beb30-b650-45ac-b345-dec08e229400",
      "metadata": {
        "id": "256beb30-b650-45ac-b345-dec08e229400"
      },
      "outputs": [],
      "source": [
        "#crie sua function aqui\n",
        "\n",
        "estoque_fim_jan = [('BSA2199',396),('PPF5239',251),('BSA1212',989),('PPF2154',449),('BEB3410',241),('PPF8999',527),('EMB9591',601),('BSA2006',314),('EMB3604',469),('EMB2070',733),('PPF9018',339),('PPF1468',906),('BSA5819',291),('PPF8666',850),('BEB2983',353),('BEB5877',456),('PPF5008',963),('PPF3877',185),('PPF7321',163),('BSA8833',644),('PPF4980',421),('PPF3063',757),('BSA2089',271),('BSA8398',180),('EMB4622',515),('EMB9814',563),('PPF3784',229),('PPF2398',270),('BEB3211',181),('PPF8655',459),('PPF1874',799),('PPF8789',126),('PPF6324',375),('EMB9290',883),('BSA5516',555),('BSA8451',243),('BSA8213',423)]\n",
        "estoque_fim_fev = [('BSA2199',849),('PPF5239',877),('BSA1212',336),('PPF2154',714),('BEB3410',834),('PPF8999',201),('EMB9591',576),('BSA2006',985),('EMB3604',615),('EMB2070',182),('PPF9018',127),('PPF1468',212),('BSA5819',338),('PPF8666',751),('BEB2983',363),('BEB5877',916),('PPF5008',331),('PPF3877',744),('PPF7321',488),('BSA8833',277),('PPF4980',530),('PPF3063',796),('BSA2089',396),('BSA8398',478),('EMB4622',603),('EMB9814',784),('PPF3784',434),('PPF2398',896),('BEB3211',826),('PPF8655',748),('PPF1874',210),('PPF8789',891),('PPF6324',250),('EMB6618',611),('BSA3409',984),('BSA9866',870),('BSA1792',672)]\n",
        "estoque_fim_mar = [('BSA2199',772),('PPF5239',394),('BSA1212',409),('PPF2154',473),('BEB3410',831),('PPF8999',764),('EMB9591',942),('BSA2006',482),('EMB3604',745),('EMB2070',451),('PPF9018',608),('PPF1468',675),('BSA5819',431),('PPF8666',795),('BEB2983',439),('BEB5877',588),('PPF5008',442),('PPF3877',950),('PPF7321',606),('BSA8833',464),('PPF4980',819),('PPF3063',687),('BSA2089',253),('BSA8398',437),('EMB4622',769),('EMB9814',178),('PPF3784',996),('PPF2398',588),('BEB3211',247),('PPF8655',309),('PPF1874',305),('PPF8789',878),('PPF6324',826),('EMB6618',534),('BSA3409',705),('BSA9895',618),('BSA4319',690)]\n",
        "estoque_fim_abr = [('BSA2199',647),('PPF5239',292),('BSA1212',551),('PPF2154',802),('BEB3410',712),('PPF8999',603),('EMB9591',963),('BSA2006',481),('EMB3604',199),('EMB2070',635),('PPF9018',956),('PPF1468',161),('BSA5819',787),('PPF8666',771),('BEB2983',867),('BEB5877',539),('PPF5008',614),('PPF3877',715),('PPF7321',336),('BSA8833',961),('PPF4980',116),('PPF3063',876),('BSA2089',579),('BSA8398',814),('EMB4622',434),('EMB9814',981),('PPF3784',498),('PPF2398',498),('BEB3211',606),('PPF8655',168),('PPF1874',518),('PPF8789',157),('PPF6324',501),('EMB6618',932),('BSA3409',247),('BSA9895',287),('BSA4319',477)]\n",
        "#agora aplique com as listas fornecidas para ver se ela está funcionando"
      ]
    },
    {
      "cell_type": "markdown",
      "id": "5d45e939-dcc8-435e-93aa-d945f3b93f81",
      "metadata": {
        "id": "5d45e939-dcc8-435e-93aa-d945f3b93f81"
      },
      "source": [
        "### Antes de irmos para o desafio que apresentamos na última aula (que é bem mais complexo do que um exemplo simples) vamos resolver um exercício um pouco mais simples para treinar\n",
        "\n",
        "## Cálculo do Percentual e da Lista de Vendedores\n",
        "\n",
        "- Queremos criar uma function que consiga identificar os vendedores que bateram uma meta, mas além disso, consigo já me dar como resposta o cálculo do % da lista de vendedores que bateu a meta (para eu não precisar calcular manualmente depois)\n",
        "- Essa function deve receber 2 informações como parâmetro: a meta e um dicionário com os vendedores e suas vendas. E me dar 2 respostas: uma lista com o nome dos vendedores que bateram a meta e o % de vendedores que bateu a meta."
      ]
    },
    {
      "cell_type": "code",
      "execution_count": null,
      "id": "9f6e829e-8f9a-416d-b7dd-74a1910a3a94",
      "metadata": {
        "id": "9f6e829e-8f9a-416d-b7dd-74a1910a3a94",
        "outputId": "6f79ce03-d337-4ee3-d598-d53f4f008e30"
      },
      "outputs": [
        {
          "name": "stdout",
          "output_type": "stream",
          "text": [
            "0.5\n",
            "['João', 'Julia', 'Ana']\n"
          ]
        }
      ],
      "source": [
        "meta = 10000\n",
        "vendas = {\n",
        "    'João': 15000,\n",
        "    'Julia': 27000,\n",
        "    'Marcus': 9900,\n",
        "    'Maria': 3750,\n",
        "    'Ana': 10300,\n",
        "    'Alon': 7870,\n",
        "}\n",
        "#crie sua function aqui\n",
        "def calculo_meta(meta, vendas):\n",
        "    bateram_meta = []\n",
        "    for vendedor in vendas:\n",
        "        if vendas[vendedor] >= meta:\n",
        "            bateram_meta.append(vendedor)\n",
        "    perc_baterammeta = len(bateram_meta) / len(vendas)\n",
        "    return perc_baterammeta, bateram_meta\n",
        "#aplique sua function nas informações para ver se está funcionando\n",
        "p_meta, vendedores_acima_meta = calculo_meta(meta, vendas)\n",
        "print(p_meta)\n",
        "print(vendedores_acima_meta)"
      ]
    },
    {
      "cell_type": "markdown",
      "id": "55d50012-f4aa-4989-af72-de1c02baf3db",
      "metadata": {
        "id": "55d50012-f4aa-4989-af72-de1c02baf3db"
      },
      "source": [
        "# Docstring e Annotations\n",
        "\n",
        "### Estrutura - São ferramentas \"apenas\" para organização:\n",
        "\n",
        "Quando criamos uma função, normalmente não seremos as únicas pessoas a usarem essa função e também pode ser que a gente precise usar essa mesma função semanas, meses ou até anos depois da sua criação.\n",
        "\n",
        "Por isso é importante usarmos DocStrings e Annotations\n",
        "\n",
        "- Docstring -> diz o que a função faz, quais valores ela tem como argumento e o que significa cada valor\n",
        "- Annotation -> diz o que devem ser os argumentos e o que a função retorna\n",
        "\n",
        "Em muitas empresas, o time de tecnologia vai ter um padrão que você deve seguir para isso, mas caso não tenha, vamos te mostrar um padrão bom a ser utilizado.\n",
        "\n",
        "### Docstring:"
      ]
    },
    {
      "cell_type": "raw",
      "id": "2cbe4dc8-aa58-425c-9ce2-dc4274cede1f",
      "metadata": {
        "id": "2cbe4dc8-aa58-425c-9ce2-dc4274cede1f"
      },
      "source": [
        "def minha_funcao(arg1, arg2, ...):\n",
        "    '''O que a função faz\n",
        "\n",
        "    Parameters:\n",
        "        arg1 (int): o que é o argumento 1\n",
        "        arg2 (str): o que é o argumento 2\n",
        "        ...\n",
        "\n",
        "    Returns:\n",
        "        texto (str): o que a função retorna como resposta\n",
        "    '''\n",
        "\n",
        "    ...código da função"
      ]
    },
    {
      "cell_type": "code",
      "execution_count": null,
      "id": "e000404f-9eaf-41d0-b216-34bfa49613d0",
      "metadata": {
        "id": "e000404f-9eaf-41d0-b216-34bfa49613d0"
      },
      "outputs": [],
      "source": [
        "def minha_soma(num1, num2, num3):\n",
        "    '''Faz a soma de 3 números inteiros e devolve como resposta um inteiro\n",
        "\n",
        "    Parameters:\n",
        "        num1 (int): primeiro número a ser somado\n",
        "        num2 (int): segundo número a ser somado\n",
        "        num3 (int): terceiro número a ser somado\n",
        "\n",
        "    Returns:\n",
        "        soma (int): o valor da soma dos 3 números dados como argumento\n",
        "    '''\n",
        "    return num1 + num2 + num3"
      ]
    },
    {
      "cell_type": "markdown",
      "id": "0d9476b7-0149-4e48-8e7b-c515f41b75f0",
      "metadata": {
        "id": "0d9476b7-0149-4e48-8e7b-c515f41b75f0"
      },
      "source": [
        "### Annotation:"
      ]
    },
    {
      "cell_type": "raw",
      "id": "0f24a607-7bad-4338-ac5d-cbf1b7db7e3b",
      "metadata": {
        "id": "0f24a607-7bad-4338-ac5d-cbf1b7db7e3b"
      },
      "source": [
        "def minha_funcao(arg1: isso, arg2: aquilo) -> o que a função retorna:\n",
        "    ...\n",
        "    return ..."
      ]
    },
    {
      "cell_type": "code",
      "execution_count": null,
      "id": "b833a22e-4199-4e04-824b-12afbb1fc143",
      "metadata": {
        "id": "b833a22e-4199-4e04-824b-12afbb1fc143"
      },
      "outputs": [],
      "source": [
        "def minha_soma(num1: 'primeiro número a ser somado', num2: int, num3: int) -> int:\n",
        "    return num1 + num2 + num3"
      ]
    },
    {
      "cell_type": "markdown",
      "id": "15c7d2e9-2468-4105-945f-5c051f16a1c3",
      "metadata": {
        "id": "15c7d2e9-2468-4105-945f-5c051f16a1c3"
      },
      "source": [
        "# Criação de objetos\n",
        "Para criar uma classe, iremos primeiramente digitar: class nome_da_Classe:\n",
        "Este método é automaticamente chamado assim que você inicia essa classe, então quase sempre você vai criar a classe e logo em baixo você vai definir o módulo init\n",
        "    uso do método init"
      ]
    },
    {
      "cell_type": "code",
      "execution_count": null,
      "id": "819be49c-6d08-41fb-86d6-069a85ef3a79",
      "metadata": {
        "id": "819be49c-6d08-41fb-86d6-069a85ef3a79"
      },
      "outputs": [],
      "source": [
        "class Pessoa: #Classe leonardo\n",
        "    def __init__(self,nomez):\n",
        "#Método construtor, irá executar automaticamente\n",
        "        nomez = nomez.upper()\n",
        "        self.nome = nomez\n",
        "    #Método que irá executar automaticamente\n",
        "    def malhar(self,nomez): #nós precisamos dar algum parâmetro\n",
        "#pra essa classe, como comummente precisamos das características\n",
        "#da nossa classe, passamos o main\n",
        "        return self.nome+' está bombado'\n",
        "\n",
        "a = Leonardo('leozin')\n",
        "print(f'aaaaa {a.nome} ')\n",
        "print(a.malhar('leo'))\n",
        "\n",
        "#Métodos que serão herdados conforme a criação de objetos dessa classe"
      ]
    },
    {
      "cell_type": "markdown",
      "id": "b2fc7f5a-c81c-414a-80ce-8a95376eccd0",
      "metadata": {
        "id": "b2fc7f5a-c81c-414a-80ce-8a95376eccd0"
      },
      "source": [
        "Self: Qualquer método que tiver dentro de uma classe terá o self como primeiro parâmetro, inclusive o pycharm e vs code\n",
        "já completam o self automaticamente pra gente.\n",
        "O self basicamente diz pra gente quem aquele objeto é, no caso as características daquele objeto estão contidas no self, no \"ser\" dele.\n",
        "se você colocasse somente tamanho ao invés de self.tamanho, você estaria criando somente uma variável, uma que nunca poderia ser acessada do lado de fora pois ela não diz respeito a nenhuma Característica do objeto em questão\n",
        "\n",
        "método nada mais é do que uma função que está dentro de uma classe, sempre que vc tá pegando um parâmetro vc não precisa colocar os parênteses, quando vc quer executar um método, vc precisa do abre e fecha parênteses.\n",
        "Pegando uma informação/atributo /// usando um método"
      ]
    },
    {
      "cell_type": "code",
      "execution_count": null,
      "id": "a8c5d15f-6673-4c8c-aac6-9788099d9a1b",
      "metadata": {
        "id": "a8c5d15f-6673-4c8c-aac6-9788099d9a1b"
      },
      "outputs": [],
      "source": [
        "class carro:\n",
        "    '''\n",
        "    Objeto carro que serve para locomoção do usuário. Contém as\n",
        "    características: rodas, kms, ligado, sendo obrigatória a informação\n",
        "    da característica cor\n",
        "    '''\n",
        "    def __init__(self,cor):\n",
        "        self.rodas = 4\n",
        "        self.cor = cor\n",
        "        self.kms = 0\n",
        "        self.ligado = False\n",
        "    def km(self,viagem):\n",
        "        '''\n",
        "        Fornecer a cada viagem a quantidade de kms percorridos\n",
        "        '''\n",
        "        self.kms = self.kms + viagem\n",
        "    def ligar_carro(self):\n",
        "        self.ligado = True\n",
        "    def impressau(self,coisa):\n",
        "        print(coisa)\n",
        "\n",
        "meucarro = carro('azul')\n",
        "seucarro = carro('vermelho')\n",
        "print(type(meucarro))\n",
        "-----------------\n",
        "class TV:\n",
        "    def __init__(self):\n",
        "        self.cor = 'cinza'\n",
        "        self.ligado = False\n",
        "        self.tamanho = 50\n",
        "        self.canal = 5\n",
        "    def mudar_canal_cima(self):\n",
        "        self.canal += 1\n",
        "    def m_kor(self,value):\n",
        "        self.cor = value\n",
        "sala = TV()\n",
        "\n",
        "print(sala.cor)\n",
        "sala.cor = 'marrom' #mudar uma característica/valor de uma classe\n",
        "print(sala.cor)\n",
        "print(sala.canal)\n",
        "sala.mudar_canal_cima()\n",
        "print(sala.canal)\n",
        "paralelepipedo = 'rosinha'\n",
        "sala.m_kor(paralelepipedo)\n",
        "print(sala.cor)\n",
        "\n",
        "#Criando dois objetos:\n",
        "quarto = TV()\n",
        "print(type(quarto))"
      ]
    },
    {
      "cell_type": "code",
      "execution_count": null,
      "id": "7bf2aa80-1c0a-441a-8acf-9485d6e99b49",
      "metadata": {
        "id": "7bf2aa80-1c0a-441a-8acf-9485d6e99b49"
      },
      "outputs": [],
      "source": [
        "#Vamos mudar a função mudar canal para que ela receba um parâmetro.\n",
        "#Porém, eu preciso dizer novamente que A é uma TV para que ele se atualize\n",
        "class TV:\n",
        "    def __init__(self):\n",
        "        self.cor = 'cinza'\n",
        "        self.ligado = False\n",
        "        self.tamanho = 50\n",
        "        self.canal = 5\n",
        "    def mudar_canal_cima(self,novo_canal):\n",
        "        self.canal = novo_canal\n",
        "\n",
        "print(sala.canal)\n",
        "--------------------\n",
        "sala.mudar_canal_cima('netflix')\n",
        "print(sala.canal)\n",
        "--------------------\n",
        "sala = TV() #Agora o sala pode receber os novos métodos dados à classe TV\n",
        "quarto = TV()\n",
        "-------------------\n",
        "\n",
        "sala.mudar_canal_cima('55')\n",
        "print(sala.canal)\n",
        "print(quarto.mudar_canal_cima('youtube')) #Toda função que não explicitamente retorna um valor (return) vai printar None quando chamada\n",
        "print(quarto.canal) #mas a função terá sido chamada com sucesso, só não faz sentido fazermos dessa forma."
      ]
    },
    {
      "cell_type": "markdown",
      "id": "7c2c12d4-ebfd-4965-949b-c0d85bc7f257",
      "metadata": {
        "id": "7c2c12d4-ebfd-4965-949b-c0d85bc7f257"
      },
      "source": [
        "Ou seja, o método executa normalmente como uma função, porém ele está encapsulado dentro daquele objeto\n",
        "Também podemos passar mais parâmetros pra sua função init. Afinal, nem sempre teremos algo pré definido, como o tamanho da tv por exemplo, logo, o usuário precisará informar aquele dado por meio de um parâmetro"
      ]
    },
    {
      "cell_type": "code",
      "execution_count": null,
      "id": "93349292-b87d-4396-8152-9f694a721a8b",
      "metadata": {
        "id": "93349292-b87d-4396-8152-9f694a721a8b",
        "outputId": "758512b4-8b81-41fa-9951-2e1e827a596b"
      },
      "outputs": [
        {
          "name": "stdout",
          "output_type": "stream",
          "text": [
            "40\n"
          ]
        }
      ],
      "source": [
        "class TV:\n",
        "    def __init__(self, tamanho):\n",
        "        self.cor = 'cinza'\n",
        "        self.ligado = False\n",
        "        self.tamanho = tamanho #lembrando que tamanho não é a mesma coisa que self.tamanho, um é um atributo, o outro é uma\n",
        "        #variável, os dois não tem relação\n",
        "        self.canal = 5\n",
        "    def mudar_canal_cima(self,novo_canal):\n",
        "        self.canal = novo_canal\n",
        "cozinha = TV(40)\n",
        "print(cozinha.tamanho)\n",
        "#ou ainda\n",
        "cozinha = TV(tamanho = 60)\n",
        "print(cozinha.tamanho)\n",
        "#Visto que eu sei a posição do argumento, posso passar ele de forma posicional"
      ]
    },
    {
      "cell_type": "markdown",
      "id": "af7c7705-a70d-4d88-8727-4cfa0ca63d37",
      "metadata": {
        "id": "af7c7705-a70d-4d88-8727-4cfa0ca63d37"
      },
      "source": [
        "Atributos podem ser dados fora do init, assim se tornando atributos gerais pra todos os objetos da classe:"
      ]
    },
    {
      "cell_type": "code",
      "execution_count": null,
      "id": "98bd3169-71f0-4df7-bd75-006d2259a3d6",
      "metadata": {
        "id": "98bd3169-71f0-4df7-bd75-006d2259a3d6"
      },
      "outputs": [],
      "source": [
        "class TV:\n",
        "    cor = 'cinza'\n",
        "    def __init__(self):\n",
        "\n",
        "        self.ligado = False\n",
        "        self.tamanho = 50\n",
        "        self.canal = 5\n",
        "    def mudar_canal_cima(self,novo_canal):\n",
        "        self.canal = novo_canal\n",
        "\n",
        "garagem = TV()\n",
        "print(garagem.cor)\n",
        "\n",
        "#agora essa cor será a mesma para todos da classe TV, e se você modificar\n",
        "#a cor, irá modificar para todos os objetos dessa classe.\n",
        "#Normalmente classes bem estruturadas dispensam a necessidade desse tipo de abordagem.\n",
        "TV.cor = 'magenta'\n",
        "print(garagem.cor)"
      ]
    },
    {
      "cell_type": "markdown",
      "id": "7b1440f6-1776-4da3-9b0f-34ddfd40506e",
      "metadata": {
        "id": "7b1440f6-1776-4da3-9b0f-34ddfd40506e"
      },
      "source": [
        "## Exercício: Sistemas de conta de banco.\n",
        "    Criar uma classe de como funcionam as contas dos bancos\n",
        "   O que eu posso fazer com essa conta?\n",
        "Faremos por exemplo um depósito, saldo, saque, transferência."
      ]
    },
    {
      "cell_type": "code",
      "execution_count": null,
      "id": "9120c80d-d28a-4e41-bbcd-42b0ca59d1b3",
      "metadata": {
        "id": "9120c80d-d28a-4e41-bbcd-42b0ca59d1b3"
      },
      "outputs": [],
      "source": [
        "#Solução:\n",
        "class ContaCorrente:\n",
        "    def __init__(self):\n",
        "        self.saldo = 0\n",
        "    def deposito(self,valor):\n",
        "        self.saldo += valor\n",
        "    def transf(self,valor,conta2):\n",
        "        self.saldo -= valor\n",
        "        conta2.saldo += valor\n",
        "\n",
        "minhaconta = ContaCorrente()\n",
        "minhaconta.deposito(1000)\n",
        "contamae = ContaCorrente()\n",
        "minhaconta.transf(300,contamae)\n",
        "print(minhaconta.saldo)\n",
        "print(contamae.saldo)"
      ]
    },
    {
      "cell_type": "markdown",
      "id": "c342c3f4-4fba-4f36-8fe9-23844f0ada8e",
      "metadata": {
        "id": "c342c3f4-4fba-4f36-8fe9-23844f0ada8e"
      },
      "source": [
        "# Tkinter"
      ]
    },
    {
      "cell_type": "code",
      "execution_count": null,
      "id": "9f3f3bcd-6cf0-4f17-8c98-b9cc4d8107c9",
      "metadata": {
        "id": "9f3f3bcd-6cf0-4f17-8c98-b9cc4d8107c9"
      },
      "outputs": [],
      "source": [
        "import tkinter as tk\n",
        "\n",
        "class carro:\n",
        "    def __init__(self):\n",
        "        carro.cor = 'beje'\n",
        "        carro.saldo = 90000\n",
        "\n",
        "janela = tk.Tk()\n",
        "\n",
        "msg = tk.Label(text = 'meu texto')\n",
        "msg.grid(row = 0,column = 0)\n",
        "msg2 = tk.Label(text = 'segundo texto')\n",
        "msg2.grid(row = 0,column = 1)\n",
        "a = 0\n",
        "meucarro = carro()\n",
        "\n",
        "def funssao():\n",
        "    meucarro.saldo -= 1000\n",
        "    msg3 = tk.Label(text = f'a cor do meu carro é {meucarro.saldo}.')\n",
        "    msg3.grid(row = 3,column= 0)\n",
        "\n",
        "butao = tk.Button(text = 'meu botão',command = funssao)\n",
        "butao.grid(row = 1,column=0)\n",
        "\n",
        "janela.mainloop()\n",
        "-----------------------------------\n",
        "import tkinter as tk\n",
        "\n",
        "class carro:\n",
        "    def __init__(self):\n",
        "        carro.cor = 'beje'\n",
        "        carro.saldo = 90000\n",
        "\n",
        "janela = tk.Tk()\n",
        "\n",
        "msg = tk.Label(text = 'meu texto')\n",
        "msg.grid(row = 0,column = 0)\n",
        "msg2 = tk.Label(text = 'segundo texto')\n",
        "msg2.grid(row = 0,column = 1)\n",
        "a = 0\n",
        "meucarro = carro()\n",
        "\n",
        "def funssao():\n",
        "    meucarro.saldo -= 1000\n",
        "    msg3 = tk.Label(text = f'a cor do meu carro é {meucarro.saldo}.')\n",
        "    msg3.grid(row = 3,column= 0)\n",
        "\n",
        "butao = tk.Button(text = 'meu botão',command = funssao)\n",
        "butao.grid(row = 1,column=0)\n",
        "\n",
        "janela.mainloop()\n",
        "----------------------------------\n",
        "import tkinter as tk\n",
        "\n",
        "janela = tk.Tk()\n",
        "\n",
        "janela.title('Inserir aqui o título')\n",
        "janela.rowconfigure(0, weight=1) #weight é o padrão de ajustar automaticamente\n",
        "#Ou seja, as linhas serão ajustadas automaticamente com as janelas\n",
        "janela.columnconfigure([0,1],weight=1) #aqui, estaremos fazendo com que as\n",
        "#colunas 0 e 1 se ajustem automaticamente à janela\n",
        "msg = tk.Label(text = 'aqui inserimos o texto da janela',bg ='red')\n",
        "msg.grid(row = 0, column = 0)\n",
        "msg2 = tk.Label(text = 'aq o texto da janela',bg ='red')\n",
        "msg2.grid(row = 1, column = 0)\n",
        "\n",
        "janela.mainloop()\n",
        "-----------------------------------\n",
        "import tkinter as tk\n",
        "\n",
        "class conta:\n",
        "    def __init__(self):\n",
        "        self.dinheiro = 2300\n",
        "minhaconta = conta()\n",
        "\n",
        "janela = tk.Tk()\n",
        "\n",
        "janela.title('Inserir aqui o título')\n",
        "\n",
        "msg = tk.Label(text = 'aqui inserimos o texto da janela',bg ='red')\n",
        "msg.grid(row = 0, column = 0)\n",
        "\n",
        "# msg2 = tk.Label(text = 'aqui inserimos o texto da janela',bg ='blue')\n",
        "# msg2.grid(row = 0, column = 1)\n",
        "def saldo():#como essa função vai ser chamada pelo tkinter, ela tem acesso a todos os dados do tkinter\n",
        "    print(minhaconta.dinheiro)\n",
        "    msgsaldo = tk.Label(text ='Saldo: {}'.format(minhaconta.dinheiro))\n",
        "    msgsaldo.grid(row=3,column=0)\n",
        "def depositar():#como essa função vai ser chamada pelo tkinter, ela tem acesso a todos os dados do tkinter\n",
        "    minhaconta.dinheiro += 100\n",
        "    msgsaldo = tk.Label(text ='Saldo: {}'.format(minhaconta.dinheiro))\n",
        "    msgsaldo.grid(row=3,column=0)\n",
        "\n",
        "botao = tk.Button(text = 'consultar saldo',command = saldo)\n",
        "botao.grid(row = 2,column = 1)\n",
        "botao2 = tk.Button(text = 'depositar',command = depositar)\n",
        "botao2.grid(row = 3,column = 1)\n",
        "\n",
        "\n",
        "\n",
        "\n",
        "\n",
        "\n",
        "janela.mainloop()"
      ]
    },
    {
      "cell_type": "markdown",
      "id": "d9dcfb0e-41ef-4b70-adb1-75ad9a1de655",
      "metadata": {
        "id": "d9dcfb0e-41ef-4b70-adb1-75ad9a1de655"
      },
      "source": [
        "# Format - Aula de Consulta\n",
        "\n",
        "### Como usar o format para criar formatações personalizadas em prints e textos."
      ]
    },
    {
      "cell_type": "code",
      "execution_count": null,
      "id": "28ee5822-ad08-4f48-8a6d-0c0c80818a04",
      "metadata": {
        "id": "28ee5822-ad08-4f48-8a6d-0c0c80818a04"
      },
      "outputs": [],
      "source": [
        ":<\t\tAlinha o texto à esquerda (se tiver espaço na tela para isso)\n",
        ":>\t\tAlinha o texto à direita (se tiver espaço na tela para isso)\n",
        ":^\t\tAlinha o texto ao centro (se tiver espaço na tela para isso)\n",
        ":+\t\tColoca o sinal sempre na frente do número (independente se é positivo ou negativo)\n",
        ":,\t\tColoca a vírgula como separador de milhar\n",
        ":_\t\tColoca o _ como separador de milhar\n",
        ":e\t\tFormato Científico\n",
        ":f\t\tNúmero com quantidade fixa de casas decimais\n",
        ":x\t\tFormato HEX minúscula (para cores)\n",
        ":X\t\tFormato HEX maiúscula (para cores)\n",
        ":%\t\tFormato Percentual"
      ]
    },
    {
      "cell_type": "markdown",
      "id": "e9237c6d-dc1c-43f0-a8c8-52426aea92ed",
      "metadata": {
        "id": "e9237c6d-dc1c-43f0-a8c8-52426aea92ed"
      },
      "source": [
        "- Exemplo de Alinhamento"
      ]
    },
    {
      "cell_type": "code",
      "execution_count": null,
      "id": "a6b615a1-1c8d-4d0f-890c-1444c273d8ab",
      "metadata": {
        "id": "a6b615a1-1c8d-4d0f-890c-1444c273d8ab"
      },
      "outputs": [],
      "source": [
        "email = 'lira@gmail.com'\n",
        "print('Meu e-mail não é {:<30}, show?'.format(email))"
      ]
    },
    {
      "cell_type": "markdown",
      "id": "63b48692-8e0a-4aa6-8e35-4edb58b03b12",
      "metadata": {
        "id": "63b48692-8e0a-4aa6-8e35-4edb58b03b12"
      },
      "source": [
        "- Exemplo de Edição de Sinal"
      ]
    },
    {
      "cell_type": "code",
      "execution_count": null,
      "id": "7fe0c297-5ef9-4b26-85cd-c1cd14752ba1",
      "metadata": {
        "id": "7fe0c297-5ef9-4b26-85cd-c1cd14752ba1"
      },
      "outputs": [],
      "source": [
        "custo = 500\n",
        "faturamento = 270\n",
        "lucro = faturamento - custo\n",
        "print('Faturamento foi {:+} e lucro foi {:+}'.format(faturamento, lucro))"
      ]
    },
    {
      "cell_type": "markdown",
      "id": "4c5673bf-5f02-4b34-bf94-31680f5c5cf8",
      "metadata": {
        "id": "4c5673bf-5f02-4b34-bf94-31680f5c5cf8"
      },
      "source": [
        "- Exemplo de Separador de Milhar"
      ]
    },
    {
      "cell_type": "code",
      "execution_count": null,
      "id": "85b81d2c-d2ea-43c2-bb8e-7b00f1d886f2",
      "metadata": {
        "id": "85b81d2c-d2ea-43c2-bb8e-7b00f1d886f2"
      },
      "outputs": [],
      "source": [
        "custo = 500\n",
        "faturamento = 270\n",
        "lucro = faturamento - custo\n",
        "print('Faturamento foi {:+} e lucro foi {:+}'.format(faturamento, lucro))"
      ]
    },
    {
      "cell_type": "markdown",
      "id": "acc74e55-04ff-4d3e-834c-6d351c7bedce",
      "metadata": {
        "id": "acc74e55-04ff-4d3e-834c-6d351c7bedce"
      },
      "source": [
        "- Formato com casas Decimais fixas"
      ]
    },
    {
      "cell_type": "code",
      "execution_count": null,
      "id": "a1c861f3-20d4-4d80-932d-12c695065959",
      "metadata": {
        "id": "a1c861f3-20d4-4d80-932d-12c695065959"
      },
      "outputs": [],
      "source": [
        "custo = 500\n",
        "faturamento = 270\n",
        "lucro = faturamento - custo\n",
        "print('Faturamento foi {:.2f} e lucro foi {:2f}'.format(faturamento, lucro))"
      ]
    },
    {
      "cell_type": "markdown",
      "id": "38e28df7-f25c-42cb-b31a-486d62993733",
      "metadata": {
        "id": "38e28df7-f25c-42cb-b31a-486d62993733"
      },
      "source": [
        "- Formato Percentual"
      ]
    },
    {
      "cell_type": "code",
      "execution_count": null,
      "id": "61ea092d-c27a-4b3f-b0e4-2877e094ffc4",
      "metadata": {
        "id": "61ea092d-c27a-4b3f-b0e4-2877e094ffc4",
        "outputId": "603bb945-e0bd-4755-83ab-b16d445b51b5"
      },
      "outputs": [
        {
          "name": "stdout",
          "output_type": "stream",
          "text": [
            "Margem de lucro foi de 61.54%\n"
          ]
        }
      ],
      "source": [
        "custo = 500\n",
        "faturamento = 1300\n",
        "lucro = faturamento - custo\n",
        "margem = lucro / faturamento\n",
        "print('Margem de lucro foi de {:.2%}'.format(margem))"
      ]
    },
    {
      "cell_type": "markdown",
      "id": "f0d992cb-8986-4e86-954a-497949b76d75",
      "metadata": {
        "id": "f0d992cb-8986-4e86-954a-497949b76d75"
      },
      "source": [
        "- Formato Moeda -> Combinação de Formatos\n",
        "\n",
        "Existem módulos/bibliotecas que vão facilitar isso, caso a gente queira, mas vamos ver como usar módulos mais a frente do curso. Por enquanto, se você precisar, pode fazer substituições em string"
      ]
    },
    {
      "cell_type": "code",
      "execution_count": null,
      "id": "17a3b4b2-c0bb-4af8-a3f4-0204b64635c4",
      "metadata": {
        "id": "17a3b4b2-c0bb-4af8-a3f4-0204b64635c4"
      },
      "outputs": [],
      "source": [
        "custo = 5000\n",
        "faturamento = 27000\n",
        "lucro = faturamento - custo\n",
        "print('Faturamento foi R${:,.2f} e lucro foi R${:,.2f}'.format(faturamento, lucro))\n",
        "\n",
        "#transformando no formato brasileiro\n",
        "lucro_texto = 'R${:_.2f}'.format(lucro)\n",
        "print(lucro_texto.replace('.', ',').replace('_', '.'))"
      ]
    },
    {
      "cell_type": "markdown",
      "id": "a94bc91a-8c32-4f6a-bbeb-d9710fd3c856",
      "metadata": {
        "id": "a94bc91a-8c32-4f6a-bbeb-d9710fd3c856"
      },
      "source": [
        "- Função round() para arredondar números, caso seja necessário"
      ]
    },
    {
      "cell_type": "code",
      "execution_count": null,
      "id": "aa375c8c-58c6-4163-8159-85702c9bf47b",
      "metadata": {
        "id": "aa375c8c-58c6-4163-8159-85702c9bf47b"
      },
      "outputs": [],
      "source": [
        "imposto = 0.15758\n",
        "preco = 100\n",
        "valor_imposto = round(preco * imposto, 1)\n",
        "print('Imposto sobre o preço é de {}'.format(valor_imposto))"
      ]
    },
    {
      "cell_type": "markdown",
      "id": "459de68d-887e-43b2-815d-ea817347d3f0",
      "metadata": {
        "id": "459de68d-887e-43b2-815d-ea817347d3f0"
      },
      "source": [
        "# Exercícios\n",
        "\n",
        "## Identificando Locais de Risco\n",
        "\n",
        "(Não conhecemos muito dos números e indicadores reais, esse é um exercício imaginário para treinarmos com um cenário mais prático)\n",
        "\n",
        "Digamos que você está construindo um programa para identificar níveis de CO2 (gás carbônico) em determinados locais para evitar potenciais acidentes. Em cada um desses locais a sua empresa tem 5 sensores que captam o nível de CO2 do local.\n",
        "\n",
        "Os níveis normais de CO2 são em média 350. O nível de CO2 de um local é dado pela média captada pelos 5 sensores.\n",
        "\n",
        "Isso significa que se tivermos os 5 sensores do Rio de Janeiro marcando: 350, 400, 450, 350, 300, o nível de CO2 do Rio de Janeiro será dado por: (350 + 400 + 450 + 350 + 300) / 5 = 370.\n",
        "\n",
        "Caso o nível seja maior do que 450, um aviso deve ser exibido pelo seu programa dizendo, por exemplo: Rio de Janeiro está com níveis altíssimos de CO2 (490), chamar equipe especializada para verificar a região.\n",
        "\n",
        "Os resultados dos sensores são monitorados frequentemente e são dados para o sistema em forma de dicionário:"
      ]
    },
    {
      "cell_type": "code",
      "execution_count": null,
      "id": "952ba6ee-6657-402a-8e02-94c1190212b2",
      "metadata": {
        "id": "952ba6ee-6657-402a-8e02-94c1190212b2"
      },
      "outputs": [],
      "source": [
        "niveis_co2 = {\n",
        "    'AC': [325,405,429,486,402],\n",
        "    'AL': [492,495,310,407,388],\n",
        "    'AP': [507,503,368,338,400],\n",
        "    'AM': [429,456,352,377,363],\n",
        "    'BA': [321,508,372,490,412],\n",
        "    'CE': [424,328,425,516,480],\n",
        "    'ES': [449,506,461,337,336],\n",
        "    'GO': [425,460,385,485,460],\n",
        "    'MA': [361,310,344,425,490],\n",
        "    'MT': [358,402,425,386,379],\n",
        "    'MS': [324,357,441,405,427],\n",
        "    'MG': [345,367,391,427,516],\n",
        "    'PA': [479,514,392,493,329],\n",
        "    'PB': [418,499,317,302,476],\n",
        "    'PR': [420,508,419,396,327],\n",
        "    'PE': [404,444,495,320,343],\n",
        "    'PI': [513,513,304,377,475],\n",
        "    'RJ': [502,481,492,502,506],\n",
        "    'RN': [446,437,519,356,317],\n",
        "    'RS': [427,518,459,317,321],\n",
        "    'RO': [517,466,512,326,458],\n",
        "    'RR': [466,495,469,495,310],\n",
        "    'SC': [495,436,382,483,479],\n",
        "    'SP': [495,407,362,389,317],\n",
        "    'SE': [508,351,334,389,418],\n",
        "    'TO': [339,490,304,488,419],\n",
        "    'DF': [376,516,320,310,518],\n",
        "}\n",
        "\n",
        "for estado in niveis_co2:\n",
        "    qtde_sensores = len(niveis_co2[estado])\n",
        "    total_co2 = sum(niveis_co2[estado])\n",
        "    media_co2 = total_co2 / qtde_sensores\n",
        "    if media_co2 > 450:\n",
        "        print('{} está com níveis altíssimos de CO2 ({}), chamar equipe especializada para verificar a região.'.format(estado, media_co2))"
      ]
    },
    {
      "cell_type": "markdown",
      "id": "34414f26-d05e-4506-9a2c-2771109f21aa",
      "metadata": {
        "id": "34414f26-d05e-4506-9a2c-2771109f21aa"
      },
      "source": [
        "# Exercícios de fixação\n",
        "A seguir, você encontrará alguns exercícios para fixar os conceitos aprendidos no curso até agora. Os exercícios estão divididos por exemplos práticos da vida real:\n",
        "\n",
        "- lista de compras\n",
        "- previsão de vendas\n",
        "- relatório de vendas\n",
        "- segmentação de clientes\n",
        "- analisador de texto\n",
        "\n",
        "Para cada assunto, você encontrará ao menos um exercício. Nos casos onde há mais de um exercício para o mesmo assunto, você será convidado a resolver o mesmo problema de formas diferentes. Isso é proposital, pois o objetivo é que você pratique o que aprendeu e, ao mesmo tempo, aprenda novas formas de resolver um mesmo problema. Por exemplo, usando diferentes estruturas de dados, ou diferentes formas de iterar sobre uma estrutura de dados, ou, ainda, utilizando funções.\n",
        "\n",
        "Tente resolver os exercícios sozinho. Se tiver dificuldades, consulte o material do curso e, se ainda assim não conseguir resolver, consulte a solução.\n",
        "\n",
        "## Lista de compras\n",
        "\n",
        "### Primeira versão da lista de compras\n",
        "\n",
        "Escreva um programa que permita que um usuário crie uma lista de compras.\n",
        "O usuário deve ser capaz de adicionar itens, remover itens e visualizar a lista.\n",
        "\n",
        "Estruture seu programa da seguinte forma:\n",
        "\n",
        "1. Crie uma lista vazia para armazenar os itens da lista de compras.\n",
        "2. Crie um loop infinito que imprima um menu de opções ao usuário e permita que ele escolha uma opção.\n",
        "3. Dentro do loop, use uma declaração if para executar a tarefa apropriada de acordo com a escolha do usuário.\n",
        "4. Se o usuário escolher adicionar um item, solicite que ele digite o nome do item e adicione-o à lista.\n",
        "5. Se o usuário escolher remover um item, solicite que ele digite o nome do item e remova-o da lista.\n",
        "6. Se o usuário escolher ver a lista, mostre cada item da lista em sua própria linha.\n",
        "7. Se o usuário escolher sair, encerre o loop usando break.\n",
        "\n",
        "Exemplo de saída:\n",
        "\n",
        "```\n",
        "1 Adicionar item\n",
        "2 Remover item\n",
        "3 Ver lista\n",
        "4 Sair\n",
        "Escolha uma opção: 1\n",
        "Digite um item: banana\n",
        "\n",
        "1 Adicionar item\n",
        "2 Remover item\n",
        "3 Ver lista\n",
        "4 Sair\n",
        "Escolha uma opção: 1\n",
        "Digite um item: maçã\n",
        "\n",
        "1 Adicionar item\n",
        "2 Remover item\n",
        "3 Ver lista\n",
        "4 Sair\n",
        "Escolha uma opção: 3\n",
        "['banana', 'maçã']\n",
        "\n",
        "1 Adicionar item\n",
        "2 Remover item\n",
        "3 Ver lista\n",
        "4 Sair\n",
        "Escolha uma opção: 2\n",
        "Digite um item: banana\n",
        "\n",
        "1 Adicionar item\n",
        "2 Remover item\n",
        "3 Ver lista\n",
        "4 Sair\n",
        "Escolha uma opção: 3\n",
        "['maçã']\n",
        "\n",
        "1 Adicionar item\n",
        "2 Remover item\n",
        "3 Ver lista\n",
        "4 Sair\n",
        "Escolha uma opção: 4\n",
        "```"
      ]
    },
    {
      "cell_type": "code",
      "execution_count": null,
      "id": "aa3afece-230e-4d34-9089-c264a2499a6c",
      "metadata": {
        "id": "aa3afece-230e-4d34-9089-c264a2499a6c"
      },
      "outputs": [],
      "source": [
        "# solução\n",
        "\n",
        "lista_compras = []\n",
        "while True:                                # linha em branco no início\n",
        "    print(\"\\n1Adicionar item\")\n",
        "    print(\"2 Remover item\")\n",
        "    print(\"3 Ver lista\")\n",
        "    print(\"4 Sair\")\n",
        "\n",
        "    escolha = input(\"Escolha uma opção: \")\n",
        "\n",
        "    if escolha == '1':\n",
        "        item = input(\"Digite um item: \")\n",
        "        lista_compras.append(item)\n",
        "    elif escolha == '2':\n",
        "        item = input(\"Digite um item: \")\n",
        "        if item in lista_compras:\n",
        "            lista_compras.remove(item)\n",
        "        else:\n",
        "            print('este item não está na lista')\n",
        "    elif escolha == '3':\n",
        "        print(lista_compras)\n",
        "    elif escolha == '4':\n",
        "        break"
      ]
    },
    {
      "cell_type": "markdown",
      "id": "6102e358-d7c1-4217-a3b9-bb3495f3b75b",
      "metadata": {
        "id": "6102e358-d7c1-4217-a3b9-bb3495f3b75b"
      },
      "source": [
        "### Segunda versão da lista de compras\n",
        "\n",
        "Mude o programa de lista de compras para usar um dicionário ao invés de uma lista.\n",
        "O programa deve ter as mesmas funcionalidades, mas agora deve ser possível\n",
        "adicionar mais de uma unidade de um item na lista de compras. Ou seja, o dicionário\n",
        "deve armazenar o nome do item e a quantidade desejada pelo usuário. Por exemplo,\n",
        "se o usuário digitar \"banana\" e \"2\", o dicionário deve armazenar \"banana\" como chave\n",
        "e 2 como valor. A estrutura do dicionário ficaria assim: `{\"banana\": 2}`.\n",
        "\n",
        "O programa deve permitir que o usuário adicione, remova e visualize o dicionário de compras.\n",
        "\n",
        "Além disso, o programa deve mostrar uma mensagem de erro se o usuário tentar\n",
        "usar uma opção inválida do menu. Por exemplo, se o usuário digitar 5, o programa\n",
        "deve mostrar a mensagem \"Opção inválida. Por favor, escolha uma opção válida.\" e\n",
        "mostrar o menu novamente. Além disso, o programa deve ser *case insensitive*, ou seja,\n",
        "\"Maçã\" e \"maçã\" devem ser considerados o mesmo item.\n",
        "\n",
        "Exemplo de saída:\n",
        "\n",
        "```\n",
        "1 Adicionar item\n",
        "2 Remover item\n",
        "3 Ver lista\n",
        "4 Sair\n",
        "Escolha uma opção: 1\n",
        "Digite um item: banana\n",
        "Digite a quantidade: 2\n",
        "\n",
        "1 Adicionar item\n",
        "2 Remover item\n",
        "3 Ver lista\n",
        "4 Sair\n",
        "Escolha uma opção: 1\n",
        "Digite um item: maçã\n",
        "Digite a quantidade: 3\n",
        "\n",
        "1 Adicionar item\n",
        "2 Remover item\n",
        "3 Ver lista\n",
        "4 Sair\n",
        "Escolha uma opção: 3\n",
        "{'banana': 2, 'maçã': 3}\n",
        "\n",
        "1 Adicionar item\n",
        "2 Remover item\n",
        "3 Ver lista\n",
        "4 Sair\n",
        "Escolha uma opção: 2\n",
        "Digite um item: banana\n",
        "Digite a quantidade: 1\n",
        "\n",
        "1 Adicionar item\n",
        "2 Remover item\n",
        "3 Ver lista\n",
        "4 Sair\n",
        "Escolha uma opção: 3\n",
        "{'banana': 1, 'maçã': 3}\n",
        "\n",
        "1 Adicionar item\n",
        "2 Remover item\n",
        "3 Ver lista\n",
        "4 Sair\n",
        "Escolha uma opção: 4\n",
        "```"
      ]
    },
    {
      "cell_type": "code",
      "execution_count": null,
      "id": "16198c4a-f2e3-4d89-be8a-50c99565f139",
      "metadata": {
        "id": "16198c4a-f2e3-4d89-be8a-50c99565f139"
      },
      "outputs": [],
      "source": [
        "# solução\n",
        "\n",
        "# observe que agora é um dicionário, não uma lista mais. Não confunda o nome da variável\n",
        "# com o tipo de dado que ela armazena. O nome da variável é lista_compras, mas ela\n",
        "# armazena um dicionário, não uma lista. O nome da variável é apenas uma convenção\n",
        "# para facilitar a leitura do código, já que é usual no cotidiano falarmos lista de compras.\n",
        "# Você poderia ter escolhido outro nome para a variável, como dicionario_compras, por exemplo.\n",
        "# Ou, simplesmente compras.\n",
        "# O importante é que o nome da variável seja significativo e facilite a leitura do código.\n",
        "\n",
        "lista_compras = {}\n",
        "\n",
        "while True:\n",
        "    print(\"\\n1 Adicionar item\")\n",
        "    print(\"2 Remover item\")\n",
        "    print(\"3 Ver lista\")\n",
        "    print(\"4 Sair\")\n",
        "\n",
        "    escolha = input(\"Escolha uma opção: \")\n",
        "\n",
        "    if escolha == '1':\n",
        "        item = input(\"Digite um item: \").lower()\n",
        "        quantidade = int(input(\"Digite a quantidade: \"))\n",
        "        if item in lista_compras:\n",
        "            lista_compras[item] += quantidade\n",
        "        else:\n",
        "            lista_compras[item] = quantidade\n",
        "    elif escolha == '2':\n",
        "        item = input(\"Digite um item: \").lower()\n",
        "        if item in lista_compras:\n",
        "            quantidade = int(input(\"Digite a quantidade: \"))\n",
        "            if quantidade >= lista_compras[item]:\n",
        "                del lista_compras[item]\n",
        "            else:\n",
        "                lista_compras[item] -= quantidade\n",
        "        else:\n",
        "            print(\"Item não está na lista de compras\")\n",
        "    elif escolha == '3':\n",
        "        for item, quantidade in lista_compras.items():\n",
        "            print(f\"{item}: {quantidade}\")\n",
        "    elif escolha == '4':\n",
        "        break\n",
        "    else:\n",
        "        print(\"Opção inválida. Por favor, escolha uma opção válida.\")"
      ]
    },
    {
      "cell_type": "markdown",
      "id": "4ab84571-d5f2-41ce-95cd-132681c5c9ea",
      "metadata": {
        "id": "4ab84571-d5f2-41ce-95cd-132681c5c9ea"
      },
      "source": [
        "### Terceira versão da lista de compras\n",
        "\n",
        "Mantenha o programa da lista de compras com dicionário, mas agora use funções para organizar o código. Crie funções para cada uma das opções do menu: `adicionar_item`, `remover_item` e `ver_lista`. Crie também uma função para mostrar o menu. O programa deve continuar funcionando da mesma forma, mas agora o código deve estar organizado em funções."
      ]
    },
    {
      "cell_type": "code",
      "execution_count": null,
      "id": "531c2746-5ddc-426c-8c55-1c3a4b0b8f48",
      "metadata": {
        "id": "531c2746-5ddc-426c-8c55-1c3a4b0b8f48"
      },
      "outputs": [],
      "source": [
        "# solução\n",
        "\n",
        "\n",
        "def adicionar_item(lista_compras):\n",
        "    item = input(\"Digite um item: \").lower()\n",
        "    quantidade = int(input(\"Digite a quantidade: \"))\n",
        "    if item in lista_compras:\n",
        "        lista_compras[item] += quantidade\n",
        "    else:\n",
        "        lista_compras[item] = quantidade\n",
        "\n",
        "\n",
        "def remover_item(lista_compras):\n",
        "    item = input(\"Digite um item: \").lower()\n",
        "    if item in lista_compras:\n",
        "#         quantidade = int(input(\"Digite a quantidade: \"))\n",
        "#         if quantidade >= lista_compras[item]:\n",
        "            del lista_compras[item]\n",
        "#         else:\n",
        "#             lista_compras[item] -= quantidade\n",
        "    else:\n",
        "        print(\"Item não está na lista de compras\")\n",
        "\n",
        "\n",
        "def ver_lista(lista_compras):\n",
        "    for item, quantidade in lista_compras.items():\n",
        "        print(f\"{item}: {quantidade}\")\n",
        "\n",
        "\n",
        "def main():\n",
        "\n",
        "    lista_compras = {}\n",
        "\n",
        "    while True:\n",
        "        print()\n",
        "\n",
        "        print(\"1 Adicionar item\")\n",
        "        print(\"2 Remover item\")\n",
        "        print(\"3 Ver lista\")\n",
        "        print(\"4 Sair\")\n",
        "        escolha = input(\"Escolha uma opção: \")\n",
        "        if escolha == '1':\n",
        "            adicionar_item(lista_compras)\n",
        "        elif escolha == '2':\n",
        "            remover_item(lista_compras)\n",
        "        elif escolha == '3':\n",
        "            ver_lista(lista_compras)\n",
        "        elif escolha == '4':\n",
        "            break\n",
        "        else:\n",
        "            print(\"Opção inválida. Por favor, escolha uma opção válida.\")"
      ]
    },
    {
      "cell_type": "markdown",
      "id": "75dfe708-03f4-4fa0-a1b6-c065fa4f092b",
      "metadata": {
        "id": "75dfe708-03f4-4fa0-a1b6-c065fa4f092b"
      },
      "source": [
        "## Previsão de vendas\n",
        "\n",
        "### Primeira versão da previsão de vendas\n",
        "\n",
        "Escreva um programa que preveja as vendas totais para cada produto em uma empresa.\n",
        "O usuário deve digitar o nome do produto, as vendas do mês atual e a taxa de crescimento,\n",
        "e o programa deve calcular as vendas previstas para o próximo mês.\n",
        "\n",
        "Estruture seu programa da seguinte forma:\n",
        "\n",
        "1. Crie um dicionário vazio para armazenar as previsões de vendas.\n",
        "2. Crie um loop infinito que solicite ao usuário o nome do produto, as vendas do mês atual e a taxa de crescimento.\n",
        "3. Dentro do loop, use uma declaração if para verificar se o usuário digitou 'sair'.\n",
        "4. Se o usuário digitar 'sair', encerre o loop usando break.\n",
        "5. Se o usuário digitar qualquer outra coisa, use as entradas para calcular as vendas previstas e adicione-as ao dicionário.\n",
        "6. Depois que o loop for encerrado, use um loop for para iterar sobre o dicionário e mostrar as previsões de vendas para cada produto.\n",
        "\n",
        "Exemplo de saída:\n",
        "\n",
        "```\n",
        "Digite o nome do produto (ou 'sair' para sair): iphone\n",
        "Digite as vendas do mês atual: 10000\n",
        "Digite a taxa de crescimento (%): 10\n",
        "Digite o nome do produto (ou 'sair' para sair): capinha para iphone\n",
        "Digite as vendas do mês atual: 200\n",
        "Digite a taxa de crescimento (%): 20\n",
        "Digite o nome do produto (ou 'sair' para sair): sair\n",
        "iphone: Previsão de vendas do próximo mês = R$ 11000.00\n",
        "capinha para iphone: Previsão de vendas do próximo mês = R$ 240.00\n",
        "```"
      ]
    },
    {
      "cell_type": "code",
      "execution_count": null,
      "id": "c0fe9346-a2a2-4a7d-bfe8-d1ad71dec35b",
      "metadata": {
        "id": "c0fe9346-a2a2-4a7d-bfe8-d1ad71dec35b"
      },
      "outputs": [],
      "source": [
        "# solução\n",
        "\n",
        "previsao = {}\n",
        "while True:\n",
        "    nome = input(\"Digite o nome do produto (ou 'sair' para sair): \")\n",
        "    if nome.lower() == 'sair':\n",
        "        break\n",
        "    vendas_atual = float(input(\"Digite as vendas do mês atual: \"))\n",
        "    taxa_crescimento = float(input(\"Digite a taxa de crescimento (%): \"))\n",
        "    vendas_proximo_mes = vendas_atual * (1 + taxa_crescimento / 100)\n",
        "    previsao[nome] = vendas_proximo_mes\n",
        "\n",
        "for nome, vendas_proximo_mes in previsao.items():\n",
        "    print(f\"{nome}: Previsão de vendas do próximo mês = R$ {vendas_proximo_mes:.2f}\")\n"
      ]
    },
    {
      "cell_type": "markdown",
      "id": "4ca3d768-523c-43a7-abfa-6a28b966b17e",
      "metadata": {
        "id": "4ca3d768-523c-43a7-abfa-6a28b966b17e"
      },
      "source": [
        "### Segunda versão da previsão de vendas\n",
        "\n",
        "Mantenha a mesma funcionalidade do programa anterior, mas agora valide a entrada do usuário.\n",
        "Se o usuário digitar um valor inválido para vendas ou taxa de crescimento, mostre a mensagem\n",
        "\"Entrada inválida. Por favor, digite um número para vendas e taxa de crescimento.\" e peça\n",
        "para o usuário digitar novamente. Tal validação deve ser feita usando try/except."
      ]
    },
    {
      "cell_type": "code",
      "execution_count": null,
      "id": "f49082b7-ea78-4276-8dc6-2452bb4bdd91",
      "metadata": {
        "id": "f49082b7-ea78-4276-8dc6-2452bb4bdd91"
      },
      "outputs": [],
      "source": [
        "# solução\n",
        "\n",
        "previsao = {}\n",
        "while True:\n",
        "    nome = input(\"Digite o nome do produto (ou 'sair' para sair): \")\n",
        "    if nome.lower() == 'sair':\n",
        "        break\n",
        "    try:\n",
        "        vendas_atual = float(input(\"Digite as vendas do mês atual: \"))\n",
        "        taxa_crescimento = float(input(\"Digite a taxa de crescimento (%): \"))\n",
        "    except ValueError:\n",
        "        print(\"Entrada inválida. Por favor, digite um número para vendas e taxa de crescimento.\")\n",
        "        continue\n",
        "    vendas_proximo_mes = vendas_atual * (1 + taxa_crescimento / 100)\n",
        "    previsao[nome] = vendas_proximo_mes\n",
        "\n",
        "for nome, vendas_proximo_mes in previsao.items():\n",
        "    print(f\"{nome}: Previsão de vendas do próximo mês = R$ {vendas_proximo_mes:.2f}\")"
      ]
    },
    {
      "cell_type": "markdown",
      "id": "95f19df7-e280-4a3a-8cd7-95403ed89345",
      "metadata": {
        "id": "95f19df7-e280-4a3a-8cd7-95403ed89345"
      },
      "source": [
        "## Relatório de vendas\n",
        "\n",
        "### Primeira versão do relatório de vendas\n",
        "\n",
        "Escreva um programa que calcula o total e a média de vendas para cada vendedor em uma empresa.\n",
        "O usuário deve digitar o nome do vendedor e suas vendas, e o programa deve manter o controle\n",
        "do total e da média de vendas para cada vendedor.\n",
        "\n",
        "Estruture seu programa da seguinte forma:\n",
        "\n",
        "1. Crie um dicionário vazio para armazenar os dados de vendas.\n",
        "2. Crie um loop infinito que solicite ao usuário o nome do vendedor e suas vendas.\n",
        "3. Dentro do loop, use uma declaração if para verificar se o usuário digitou 'sair'.\n",
        "4. Se o usuário digitar 'sair', encerre o loop usando break.\n",
        "5. Se o usuário digitar qualquer outra coisa, use as entradas para calcular o total e a média de vendas para o vendedor e adicione-os ao dicionário.\n",
        "6. Depois que o loop for encerrado, use um loop for para iterar sobre o dicionário e mostrar o total e a média de vendas para cada vendedor.\n",
        "\n",
        "Exemplo de saída:\n",
        "    \n",
        "```\n",
        "Digite o nome do vendedor (ou 'sair' para sair): João\n",
        "Digite as vendas: 100\n",
        "Digite o nome do vendedor (ou 'sair' para sair): Maria\n",
        "Digite as vendas: 200\n",
        "Digite o nome do vendedor (ou 'sair' para sair): João\n",
        "Digite as vendas: 300\n",
        "Digite o nome do vendedor (ou 'sair' para sair): sair\n",
        "João: Total de vendas = R$ 400.0, Média de vendas = R$ 200.0\n",
        "Maria: Total de vendas = R$ 200.0, Média de vendas = R$ 200.0\n",
        "```\n",
        "\n",
        "Dica: use o método sum() para calcular o total de vendas e o método len() para calcular o número de vendas."
      ]
    },
    {
      "cell_type": "code",
      "execution_count": null,
      "id": "f5a8efb7-48e3-46d4-bee4-228dacaa4b5a",
      "metadata": {
        "id": "f5a8efb7-48e3-46d4-bee4-228dacaa4b5a"
      },
      "outputs": [],
      "source": [
        "# solução\n",
        "\n",
        "dados_vendas = {}\n",
        "while True:\n",
        "    nome = input(\"Digite o nome do vendedor (ou 'sair' para sair): \")\n",
        "    if nome.lower() == 'sair':\n",
        "        break\n",
        "    vendas = float(input(\"Digite as vendas: \"))\n",
        "    if nome not in dados_vendas:\n",
        "        dados_vendas[nome] = [vendas]\n",
        "    else:\n",
        "        dados_vendas[nome].append(vendas)\n",
        "\n",
        "for nome, vendas in dados_vendas.items():\n",
        "    total_vendas = sum(vendas)\n",
        "    media_vendas = total_vendas / len(vendas)\n",
        "    print(f\"{nome}: Total de vendas = R$ {total_vendas:.2f}, Média de vendas = R$ {media_vendas:.2f}\")"
      ]
    },
    {
      "cell_type": "markdown",
      "id": "9a3ba9ee-7b0b-4611-a8cf-721cd1142246",
      "metadata": {
        "id": "9a3ba9ee-7b0b-4611-a8cf-721cd1142246"
      },
      "source": [
        "### Segunda versão do relatório de vendas\n",
        "\n",
        "Mantenha a mesma funcionalidade do programa anterior, mas agora valide a entrada do usuário.\n",
        "Se o usuário digitar um valor inválido para vendas, mostre a mensagem\n",
        "\"Entrada inválida. Por favor, digite um número para vendas.\" e peça para o usuário digitar\n",
        "novamente. Tal validação deve ser feita usando try/except.\n",
        "\n",
        "Além disso, ao invés de armazenar cada venda em uma lista para cada vendedor, armazene\n",
        "o total de vendas e a quantidade de vendas em um dicionário. Por exemplo, se o usuário\n",
        "digitar \"João\" e \"1000\" para vendas, o dicionário deve ficar assim:\n",
        "\n",
        "```python\n",
        "{'João': {'total_vendas': 1000, 'quantidade_vendas': 1}}\n",
        "```\n",
        "\n",
        "Se, após, o usuário digitar \"João\" e \"2000\" para vendas, o dicionário deve ficar assim:\n",
        "\n",
        "```python\n",
        "{'João': {'total_vendas': 3000, 'quantidade_vendas': 2}}\n",
        "```\n",
        "\n",
        "Perceba como o total de vendas de João aumentou em 2000, assim como a quantidade aumentou em uma unidade.\n",
        "\n",
        "Ao final, mostre o total de vendas e a média de vendas de cada vendedor.\n",
        "\n",
        "Exemplo de saída:\n",
        "\n",
        "```\n",
        "Digite o nome do vendedor (ou 'sair' para sair): João\n",
        "Digite as vendas: 1000\n",
        "Digite o nome do vendedor (ou 'sair' para sair): Maria\n",
        "Digite as vendas: 2000\n",
        "Digite o nome do vendedor (ou 'sair' para sair): João\n",
        "Digite as vendas: 2000\n",
        "Digite o nome do vendedor (ou 'sair' para sair): Maria\n",
        "Digite as vendas: 3000\n",
        "Digite o nome do vendedor (ou 'sair' para sair): sair\n",
        "João: Total de vendas = R$ 3000.00, Média de vendas = R$ 1500.00\n",
        "Maria: Total de vendas = R$ 5000.00, Média de vendas = R$ 2500.00\n",
        "```"
      ]
    },
    {
      "cell_type": "code",
      "execution_count": null,
      "id": "ca900de9-3d8c-4bca-b493-dc6adcec8a6a",
      "metadata": {
        "id": "ca900de9-3d8c-4bca-b493-dc6adcec8a6a"
      },
      "outputs": [],
      "source": [
        "# solução\n",
        "\n",
        "dados_vendas = {}\n",
        "while True:\n",
        "    nome = input(\"Digite o nome do vendedor (ou 'sair' para sair): \")\n",
        "    if nome.lower() == 'sair':\n",
        "        break\n",
        "    try:\n",
        "        vendas = float(input(\"Digite as vendas: \"))\n",
        "    except ValueError:\n",
        "        print(\"Entrada inválida. Por favor, digite um número para vendas.\")\n",
        "        continue\n",
        "    if nome not in dados_vendas:\n",
        "        dados_vendas[nome] = {'total_vendas': vendas, 'quantidade_vendas': 1}\n",
        "    else:\n",
        "        dados_vendas[nome]['total_vendas'] += vendas\n",
        "        dados_vendas[nome]['quantidade_vendas'] += 1\n",
        "\n",
        "for nome, dados in dados_vendas.items():\n",
        "    total_vendas = dados['total_vendas']\n",
        "    media_vendas = total_vendas / dados['quantidade_vendas']\n",
        "    print(f\"{nome}: Total de vendas = R$ {total_vendas:.2f}, Média de vendas = R$ {media_vendas:.2f}\")"
      ]
    },
    {
      "cell_type": "markdown",
      "id": "7d4a6f25-cef5-4ef9-8669-d8a6343f3790",
      "metadata": {
        "id": "7d4a6f25-cef5-4ef9-8669-d8a6343f3790"
      },
      "source": [
        "### Terceira versão do relatório de vendas\n",
        "\n",
        "Mantenha a funcionalidade do programa, mas agora use funções para organizar o código. Crie funções para cada uma das operações: `solicitar_nome_vendedor`, `solicitar_vendas` e `atualizar_dados` e `print_dados`. O programa deve continuar funcionando da mesma forma, mas agora o código deve estar organizado em funções."
      ]
    },
    {
      "cell_type": "code",
      "execution_count": null,
      "id": "f24bd7ca-3ceb-4352-8766-541e5a826d1c",
      "metadata": {
        "id": "f24bd7ca-3ceb-4352-8766-541e5a826d1c"
      },
      "outputs": [],
      "source": [
        "# solução\n",
        "\n",
        "\n",
        "def solicitar_nome_vendedor():\n",
        "    return input(\"Digite o nome do vendedor (ou 'sair' para sair): \").lower()\n",
        "\n",
        "\n",
        "def solicitar_vendas():\n",
        "    try:\n",
        "        return float(input(\"Digite as vendas: \"))\n",
        "    except ValueError:\n",
        "        print(\"Entrada inválida. Por favor, digite um número para vendas.\")\n",
        "        return None\n",
        "\n",
        "\n",
        "def atualizar_dados(dados_vendas, nome, vendas):\n",
        "    if nome not in dados_vendas:\n",
        "        dados_vendas[nome] = {'total_vendas': vendas, 'quantidade_vendas': 1}\n",
        "    else:\n",
        "        dados_vendas[nome]['total_vendas'] += vendas\n",
        "        dados_vendas[nome]['quantidade_vendas'] += 1\n",
        "\n",
        "\n",
        "def print_dados(dados_vendas):\n",
        "    for nome, dados in dados_vendas.items():\n",
        "        total_vendas = dados['total_vendas']\n",
        "        media_vendas = total_vendas / dados['quantidade_vendas']\n",
        "        print(f\"{nome}: Total de vendas = R$ {total_vendas:.2f}, Média de vendas = R$ {media_vendas:.2f}\")\n",
        "\n",
        "\n",
        "def main():\n",
        "    dados_vendas = {}\n",
        "    while True:\n",
        "        nome = solicitar_nome_vendedor()\n",
        "        if nome == 'sair':\n",
        "            break\n",
        "        vendas = solicitar_vendas()\n",
        "        if vendas is None:\n",
        "            continue\n",
        "        atualizar_dados(dados_vendas, nome, vendas)\n",
        "    print_dados(dados_vendas)\n",
        "\n",
        "if __name__ == \"__main__\":\n",
        "    main()"
      ]
    },
    {
      "cell_type": "markdown",
      "id": "3a87be55-b64c-43b6-a955-fb71fd71127b",
      "metadata": {
        "id": "3a87be55-b64c-43b6-a955-fb71fd71127b"
      },
      "source": [
        "## Segmentação de clientes\n",
        "\n",
        "### Primeira versão da segmentação de clientes\n",
        "\n",
        "Escreva um programa que segmenta clientes com base em suas compras totais.\n",
        "O usuário deve digitar o nome do cliente e suas compras totais, e o programa\n",
        "deve atribuir cada cliente a um segmento: 'Bronze' para compras de até R\\\\$ 1000,\n",
        "'Prata' para compras de até R\\\\$ 5000 e 'Ouro' para compras acima de R\\\\$ 5000.\n",
        "\n",
        "Estruture seu programa da seguinte forma:\n",
        "\n",
        "1. Crie um dicionário vazio para armazenar os clientes e seus segmentos.\n",
        "2. Crie um loop infinito que solicite ao usuário o nome do cliente e suas compras totais.\n",
        "3. Dentro do loop, use uma declaração if para atribuir o segmento apropriado ao cliente.\n",
        "4. Se o usuário digitar 'sair' para o nome do cliente, encerre o loop usando break.\n",
        "5. Fora do loop, use um loop for para imprimir o nome e o segmento de cada cliente.\n",
        "\n",
        "Exemplo de saída:\n",
        "    \n",
        "```\n",
        "Digite o nome do cliente (ou 'sair' para sair): João\n",
        "Digite o total de compras: 100\n",
        "Digite o nome do cliente (ou 'sair' para sair): Maria\n",
        "Digite o total de compras: 2000\n",
        "Digite o nome do cliente (ou 'sair' para sair): José\n",
        "Digite o total de compras: 6000\n",
        "Digite o nome do cliente (ou 'sair' para sair): sair\n",
        "João: Segmento do Cliente = Bronze\n",
        "Maria: Segmento do Cliente = Prata\n",
        "José: Segmento do Cliente = Ouro\n",
        "```"
      ]
    },
    {
      "cell_type": "code",
      "execution_count": null,
      "id": "46269377-bf83-49a6-858c-2bfef1a30ea6",
      "metadata": {
        "id": "46269377-bf83-49a6-858c-2bfef1a30ea6"
      },
      "outputs": [],
      "source": [
        "# solução\n",
        "\n",
        "clientes = {}\n",
        "while True:\n",
        "    nome = input(\"Digite o nome do cliente (ou 'sair' para sair): \")\n",
        "    if nome.lower() == 'sair':\n",
        "        break\n",
        "    compras = float(input(\"Digite o total de compras: \"))\n",
        "    if compras <= 1000:\n",
        "        segmento = 'Bronze'\n",
        "    elif compras <= 5000:\n",
        "        segmento = 'Prata'\n",
        "    else:\n",
        "        segmento = 'Ouro'\n",
        "    clientes[nome] = segmento\n",
        "\n",
        "for nome, segmento in clientes.items():\n",
        "    print(f\"{nome}: Segmento do Cliente = {segmento}\")"
      ]
    },
    {
      "cell_type": "markdown",
      "id": "be2e9d3e-e7ec-47d7-9464-7fb61a30a2e8",
      "metadata": {
        "id": "be2e9d3e-e7ec-47d7-9464-7fb61a30a2e8"
      },
      "source": [
        "### Segunda versão da segmentação de clientes\n",
        "\n",
        "Mantenha a mesma funcionalidade do programa anterior, mas agora valide a entrada do usuário.\n",
        "Se o usuário digitar um valor inválido para compras, mostre a mensagem\n",
        "\"Entrada inválida. Por favor, digite um número para compras.\" e peça para o usuário digitar\n",
        "novamente. Tal validação deve ser feita usando try/except.\n",
        "\n",
        "Além disso, ao invés de deixar os limites de compras fixos no programa, armazene-os em uma\n",
        "lista de tuplas. Por exemplo:\n",
        "\n",
        "```python\n",
        "segmentos = [(1000, 'Bronze'), (5000, 'Prata'), (float('inf'), 'Ouro')]\n",
        "```\n",
        "\n",
        "Assim, outros segmentos podem ser adicionados facilmente. O primeiro elemento da tupla é o\n",
        "limite de compras e o segundo é o nome do segmento. O último elemento da lista é uma tupla\n",
        "com limite `float('inf')`, que representa o segmento Ouro. Isso significa que, se o valor de\n",
        "compras for maior que todos os limites, o segmento será Ouro.\n",
        "\n",
        "Depois, percorra essa lista e, para cada tupla, verifique se o valor de compras é menor ou igual\n",
        "ao limite. Se for, armazene o segmento em um dicionário. Por exemplo, se o usuário digitar\n",
        "\"João\" e \"500\" para compras, o dicionário deve ficar assim:\n",
        "`{'João': 'Bronze'}`"
      ]
    },
    {
      "cell_type": "code",
      "execution_count": null,
      "id": "c7416288-ec64-4fbd-b8d2-4f57080df0f4",
      "metadata": {
        "id": "c7416288-ec64-4fbd-b8d2-4f57080df0f4"
      },
      "outputs": [],
      "source": [
        "# solução\n",
        "\n",
        "segmentos = [(1000, 'Bronze'), (5000, 'Prata'), (float('inf'), 'Ouro')]\n",
        "clientes = {}\n",
        "while True:\n",
        "    nome = input(\"Digite o nome do cliente (ou 'sair' para sair): \")\n",
        "    if nome.lower() == 'sair':\n",
        "        break\n",
        "    try:\n",
        "        compras = float(input(\"Digite o total de compras: \"))\n",
        "    except ValueError:\n",
        "        print(\"Entrada inválida. Por favor, digite um número para compras.\")\n",
        "        continue\n",
        "    for limite, segmento in segmentos:\n",
        "        if compras <= limite:\n",
        "            clientes[nome] = segmento\n",
        "            break\n",
        "\n",
        "for nome, segmento in clientes.items():\n",
        "    print(f\"{nome}: Segmento do Cliente = {segmento}\")"
      ]
    },
    {
      "cell_type": "markdown",
      "id": "f78c16a1-608d-47eb-9c6d-374be4157e2c",
      "metadata": {
        "id": "f78c16a1-608d-47eb-9c6d-374be4157e2c"
      },
      "source": [
        "### Terceira versão da segmentação de clientes\n",
        "\n",
        "Mantenha a funcionalidade do programa, mas agora use funções para organizar o código. Crie funções para cada uma das operações: `solicitar_nome_cliente`, `solicitar_total_compras` e `atribuir_segmento` e `print_segmento_por_cliente`. O programa deve continuar funcionando da mesma forma, mas agora o código deve estar organizado em funções. Além disso, normalize que todos os nomes sejam armazenados em letras minúsculas."
      ]
    },
    {
      "cell_type": "code",
      "execution_count": null,
      "id": "cb16cafd-9b3b-4dc3-836a-a6205a41a465",
      "metadata": {
        "id": "cb16cafd-9b3b-4dc3-836a-a6205a41a465"
      },
      "outputs": [],
      "source": [
        "# solução\n",
        "\n",
        "\n",
        "def solicitar_nome_cliente():\n",
        "    return input(\"Digite o nome do cliente (ou 'sair' para sair): \").lower()\n",
        "\n",
        "\n",
        "def solicitar_total_compras():\n",
        "    try:\n",
        "        return float(input(\"Digite o total de compras: \"))\n",
        "    except ValueError:\n",
        "        print(\"Entrada inválida. Por favor, digite um número para compras.\")\n",
        "        return None\n",
        "\n",
        "\n",
        "def atribuir_segmento(compras, segmentos):\n",
        "    for limite, segmento in segmentos:\n",
        "        if compras <= limite:\n",
        "            return segmento\n",
        "\n",
        "\n",
        "def print_segmento_por_cliente(clientes):\n",
        "    for nome, segmento in clientes.items():\n",
        "        print(f\"{nome}: Segmento do Cliente = {segmento}\")\n",
        "\n",
        "\n",
        "def main():\n",
        "    segmentos = [(1000, 'Bronze'), (5000, 'Prata'), (float('inf'), 'Ouro')]\n",
        "    clientes = {}\n",
        "    while True:\n",
        "        nome = solicitar_nome_cliente()\n",
        "        if nome == 'sair':\n",
        "            break\n",
        "        compras = solicitar_total_compras()\n",
        "        if compras is None:\n",
        "            continue\n",
        "        clientes[nome] = atribuir_segmento(compras, segmentos)\n",
        "    print_segmento_por_cliente(clientes)\n",
        "\n",
        "\n",
        "if __name__ == \"__main__\":\n",
        "    main()"
      ]
    },
    {
      "cell_type": "markdown",
      "id": "c82d867c-cbb3-40fa-b3a8-6cbd6f016335",
      "metadata": {
        "id": "c82d867c-cbb3-40fa-b3a8-6cbd6f016335"
      },
      "source": [
        "## Analisador de texto\n",
        "\n",
        "Crie um programa que analise um texto fornecido pelo usuário.\n",
        "O programa deve contar o número de palavras (independentemente se há repetição ou não),\n",
        "a quantidade de cada palavra e a\n",
        "quantidade de cada letra. Ignore maiúsculas e minúsculas ao contar letras.\n",
        "Não se preocupe com pontuação e espaços ao contar palavras.\n",
        "\n",
        "O programa deve conter uma função chamada `analisar_texto` que recebe o texto\n",
        "como parâmetro e retorna a contagem de palavras, a frequência de palavras e a\n",
        "frequência de letras.\n",
        "\n",
        "Para o texto \"Olá mundo! Este é um teste. Olá novamente.\" o programa deve\n",
        "imprimir:\n",
        "    \n",
        "```\n",
        "Contagem de palavras: 8\n",
        "Frequência de palavras: {'Olá': 2, 'mundo!': 1, 'Este': 1, 'é': 1, 'um': 1, 'teste.': 1, 'novamente.': 1}\n",
        "Frequência de letras: {'o': 4, 'l': 2, 'á': 2, 'm': 3, 'u': 2, 'n': 3, 'd': 1, '!': 1, 'e': 6, 's': 2, 't': 4, 'é': 1, '.': 2, 'v': 1, 'a': 1}\n",
        "```\n",
        "\n",
        "**Observação**: Mais adiante no curso, aprenderemos a lidar com a pontuação."
      ]
    },
    {
      "cell_type": "code",
      "execution_count": null,
      "id": "ba267a19-6048-4bd9-a3fb-eef32f35717c",
      "metadata": {
        "id": "ba267a19-6048-4bd9-a3fb-eef32f35717c"
      },
      "outputs": [],
      "source": [
        "# solução\n",
        "\n",
        "\n",
        "def analisar_texto(texto):\n",
        "\n",
        "    palavras = texto.split()  # separa com base em espaços\n",
        "    contagem_palavras = len(palavras)\n",
        "    frequencia_palavras = {}\n",
        "    frequencia_letras = {}\n",
        "\n",
        "    for palavra in palavras:\n",
        "        # abaixo, o get verificará se existe a palavra no dicionário. Não havendo, atribui o valor 0 e soma 1\n",
        "        frequencia_palavras[palavra] = frequencia_palavras.get(palavra, 0) + 1\n",
        "        for letra in palavra.lower():\n",
        "            # abaixo, o get verificará se existe a letra no dicionário. Não havendo, atribui o valor 0 e soma 1\n",
        "            frequencia_letras[letra] = frequencia_letras.get(letra, 0) + 1\n",
        "\n",
        "    return contagem_palavras, frequencia_palavras, frequencia_letras\n",
        "\n",
        "\n",
        "texto = \"Olá mundo! Este é um teste. Olá novamente.\"\n",
        "contagem_palavras, frequencia_palavras, frequencia_letras = analisar_texto(texto)\n",
        "print(f\"Contagem de palavras: {contagem_palavras}\")\n",
        "print(f\"Frequência de palavras: {frequencia_palavras}\")\n",
        "print(f\"Frequência de letras: {frequencia_letras}\")"
      ]
    },
    {
      "cell_type": "markdown",
      "id": "60d9fcbc-e744-4f13-abc9-bded36a08eda",
      "metadata": {
        "id": "60d9fcbc-e744-4f13-abc9-bded36a08eda"
      },
      "source": [
        "## Cadastro de CPF\n",
        "\n",
        "Crie um programa para cadastro de CPF de clientes que recebe o CPF em um input box apenas com números.\n",
        "\n",
        "Ex: 'Insira seu CPF (digite apenas números)'\n",
        "\n",
        "Caso o usuário digite algo diferente de números ou digite menos de 11 caracteres (tamanho do CPF brasileiro), o programa deve exibir uma mensagem de \"Digite seu CPF corretamente e digite apenas números\"\n",
        "\n",
        "## Melhorando nosso Cadastro de CPF\n",
        "\n",
        "Agora, além das validações anteriores, vamos criar um input que permita que o usuário insira pontos, traços e inclusive espaços vazios.\n",
        "\n",
        "Nosso programa deve \"tratar\" o que o usuário inserir para padronizar o CPF dele em apenas números.\n",
        "\n",
        "A verificação de tamanho do CPF com 11 caracteres continua válida, mas ela só deve ser feita depois de retirar todos os pontos, traços e espaços do CPF que o cliente inserir e, uma vez retirados pontos, traços e espaços, devem sobrar apenas números no CPF. Qualquer outro caractere deve ser considerado inválido.\n",
        "\n",
        "No final, nosso programa deve exibir uma mensagem para o usuário, caso ele tenha inserido o CPF inválido ou então apenas deve printar o CPF correto já só com número.\n",
        "\n",
        "## Cadastro de e-mails\n",
        "\n",
        "- A Hashtag sempre se comunica com seus clientes por e-mail. Para isso, a gente tem em cada página um cadastro de nome e e-mail. Nesse cadastro, nosso sistema verifica se o e-mail que a pessoa inseriu é um e-mail válido, verificando se ele tem '@' e se depois do '@' tem algum ponto, afinal:\n",
        "\n",
        "- liragmail.com NÃO é um e-mail válido\n",
        "- lira@gmail NÃO é um e-mail válido\n",
        "- lira@gmail.com é um e-mail válido\n",
        "\n",
        "Crie um programa que permita o cadastro de nome e e-mail de uma pessoa (por meio de inputs) e que verifique:\n",
        "1. Se nome e e-mail foram preenchidos, caso contrário ele deve avisar para preencher todos os dados corretamente\n",
        "2. Se o e-mail contém '@' e se depois do '@' existe algum '.', caso contrário ele deve exibir uma mensagem de e-mail inválido\n",
        "\n",
        "Obs: Pode te ajudar lembrar do método .find da aula de Métodos de String. Você pode testar o que ele dá como resposta caso ele não encontre um item dentro da string"
      ]
    },
    {
      "cell_type": "markdown",
      "id": "ee14bb22-9e4b-466e-883d-20046d16319f",
      "metadata": {
        "id": "ee14bb22-9e4b-466e-883d-20046d16319f"
      },
      "source": [
        "## Case da Hashtag\n",
        "\n",
        "Recentemente tivemos que fazer backup dos vídeos que temos hospedados no Vimeo. Acontece que não existe um botão de Download de todos os vídeos ao mesmo tempo, precisamos entrar em 1 por 1 e fazer o download manualmente.\n",
        "\n",
        "A alternativa é gerar um código em Python que converse com a API do Vimeo (API é uma integração que as ferramentas abrem para programadores poderem fazer integrações dos seus próprios programas/scripts com a ferramenta).\n",
        "\n",
        "Para resolver isso, a gente fez a integração e fizemos uma \"requisição\" de todos os vídeos para a Vimeo. Essa requisição dá como resposta para o nosso código isso:"
      ]
    },
    {
      "cell_type": "code",
      "execution_count": null,
      "id": "a2a30e09-327e-473b-8321-897834084948",
      "metadata": {
        "id": "a2a30e09-327e-473b-8321-897834084948",
        "outputId": "ebf1c9a6-aae0-4790-f542-ef82057a7926"
      },
      "outputs": [
        {
          "name": "stdout",
          "output_type": "stream",
          "text": [
            "{'uri': '/videos/465407533', 'name': '15 Atalhos no Excel para Ficar Mais Produtivo', 'download': [{'quality': 'source', 'type': 'source', 'width': 1920, 'height': 1080, 'expires': '2020-10-07T04:00:55+00:00', 'link': 'https://player.vimeo.com/play/2064518513?s=465407533_1602043255_5f2f93dd00b66eba66d481f913383b4f&loc=external&context=Vimeo%5CController%5CApi%5CResources%5CUser%5CVideosController.&download=1&filename=15%2BAtalhos%2Bno%2BExcel%2Bpara%2BFicar%2BMais%2BProdutivosource.mp4', 'created_time': '2020-10-06T14:26:17+00:00', 'fps': 30, 'size': 402678442, 'md5': 'af09508ceceed4994554f04e8b931e22', 'public_name': 'Original', 'size_short': '384.02MB'}, {'quality': 'hd', 'type': 'video/mp4', 'width': 1920, 'height': 1080, 'expires': '2020-10-07T04:00:55+00:00', 'link': 'https://player.vimeo.com/play/2064523157?s=465407533_1602043255_ab7b8353c59b5048032396ec5d95a276&loc=external&context=Vimeo%5CController%5CApi%5CResources%5CUser%5CVideosController.&download=1&filename=15%2BAtalhos%2Bno%2BExcel%2Bpara%2BFicar%2BMais%2BProdutivo175.mp4', 'created_time': '2020-10-06T14:29:06+00:00', 'fps': 30, 'size': 173556205, 'md5': '3c05e1e69bd6b13eb1464451033907d2', 'public_name': 'HD 1080p', 'size_short': '165.52MB'}, {'quality': 'sd', 'type': 'video/mp4', 'width': 960, 'height': 540, 'expires': '2020-10-07T04:00:55+00:00', 'link': 'https://player.vimeo.com/play/2064523153?s=465407533_1602043255_f5ac38009ec5c0a13b30600c631446a3&loc=external&context=Vimeo%5CController%5CApi%5CResources%5CUser%5CVideosController.&download=1&filename=15%2BAtalhos%2Bno%2BExcel%2Bpara%2BFicar%2BMais%2BProdutivo165.mp4', 'created_time': '2020-10-06T14:29:06+00:00', 'fps': 30, 'size': 89881848, 'md5': '4a5c5c96cdf18202ed20ca534fd88007', 'public_name': 'SD 540p', 'size_short': '85.72MB'}, {'quality': 'sd', 'type': 'video/mp4', 'width': 426, 'height': 240, 'expires': '2020-10-07T04:00:55+00:00', 'link': 'https://player.vimeo.com/play/2064522788?s=465407533_1602043255_16c69872e2c4e92cc949d0b772242959&loc=external&context=Vimeo%5CController%5CApi%5CResources%5CUser%5CVideosController.&download=1&filename=15%2BAtalhos%2Bno%2BExcel%2Bpara%2BFicar%2BMais%2BProdutivo139.mp4', 'created_time': '2020-10-06T14:28:31+00:00', 'fps': 30, 'size': 27401450, 'md5': '91cc0229087ec94bf67f64b01ad8768d', 'public_name': 'SD 240p', 'size_short': '26.13MB'}, {'quality': 'sd', 'type': 'video/mp4', 'width': 640, 'height': 360, 'expires': '2020-10-07T04:00:55+00:00', 'link': 'https://player.vimeo.com/play/2064522787?s=465407533_1602043255_310b087e2fc8c5e1154ce7a33d10d60e&loc=external&context=Vimeo%5CController%5CApi%5CResources%5CUser%5CVideosController.&download=1&filename=15%2BAtalhos%2Bno%2BExcel%2Bpara%2BFicar%2BMais%2BProdutivo164.mp4', 'created_time': '2020-10-06T14:28:31+00:00', 'fps': 30, 'size': 48627155, 'md5': '548640bf79ce1552a3401726bb0e4224', 'public_name': 'SD 360p', 'size_short': '46.37MB'}]}\n"
          ]
        }
      ],
      "source": [
        "video = {'uri': '/videos/465407533', 'name': '15 Atalhos no Excel para Ficar Mais Produtivo', 'download': [{'quality': 'source', 'type': 'source', 'width': 1920, 'height': 1080, 'expires': '2020-10-07T04:00:55+00:00', 'link': 'https://player.vimeo.com/play/2064518513?s=465407533_1602043255_5f2f93dd00b66eba66d481f913383b4f&loc=external&context=Vimeo%5CController%5CApi%5CResources%5CUser%5CVideosController.&download=1&filename=15%2BAtalhos%2Bno%2BExcel%2Bpara%2BFicar%2BMais%2BProdutivosource.mp4', 'created_time': '2020-10-06T14:26:17+00:00', 'fps': 30, 'size': 402678442, 'md5': 'af09508ceceed4994554f04e8b931e22', 'public_name': 'Original', 'size_short': '384.02MB'}, {'quality': 'hd', 'type': 'video/mp4', 'width': 1920, 'height': 1080, 'expires': '2020-10-07T04:00:55+00:00', 'link': 'https://player.vimeo.com/play/2064523157?s=465407533_1602043255_ab7b8353c59b5048032396ec5d95a276&loc=external&context=Vimeo%5CController%5CApi%5CResources%5CUser%5CVideosController.&download=1&filename=15%2BAtalhos%2Bno%2BExcel%2Bpara%2BFicar%2BMais%2BProdutivo175.mp4', 'created_time': '2020-10-06T14:29:06+00:00', 'fps': 30, 'size': 173556205, 'md5': '3c05e1e69bd6b13eb1464451033907d2', 'public_name': 'HD 1080p', 'size_short': '165.52MB'}, {'quality': 'sd', 'type': 'video/mp4', 'width': 960, 'height': 540, 'expires': '2020-10-07T04:00:55+00:00', 'link': 'https://player.vimeo.com/play/2064523153?s=465407533_1602043255_f5ac38009ec5c0a13b30600c631446a3&loc=external&context=Vimeo%5CController%5CApi%5CResources%5CUser%5CVideosController.&download=1&filename=15%2BAtalhos%2Bno%2BExcel%2Bpara%2BFicar%2BMais%2BProdutivo165.mp4', 'created_time': '2020-10-06T14:29:06+00:00', 'fps': 30, 'size': 89881848, 'md5': '4a5c5c96cdf18202ed20ca534fd88007', 'public_name': 'SD 540p', 'size_short': '85.72MB'}, {'quality': 'sd', 'type': 'video/mp4', 'width': 426, 'height': 240, 'expires': '2020-10-07T04:00:55+00:00', 'link': 'https://player.vimeo.com/play/2064522788?s=465407533_1602043255_16c69872e2c4e92cc949d0b772242959&loc=external&context=Vimeo%5CController%5CApi%5CResources%5CUser%5CVideosController.&download=1&filename=15%2BAtalhos%2Bno%2BExcel%2Bpara%2BFicar%2BMais%2BProdutivo139.mp4', 'created_time': '2020-10-06T14:28:31+00:00', 'fps': 30, 'size': 27401450, 'md5': '91cc0229087ec94bf67f64b01ad8768d', 'public_name': 'SD 240p', 'size_short': '26.13MB'}, {'quality': 'sd', 'type': 'video/mp4', 'width': 640, 'height': 360, 'expires': '2020-10-07T04:00:55+00:00', 'link': 'https://player.vimeo.com/play/2064522787?s=465407533_1602043255_310b087e2fc8c5e1154ce7a33d10d60e&loc=external&context=Vimeo%5CController%5CApi%5CResources%5CUser%5CVideosController.&download=1&filename=15%2BAtalhos%2Bno%2BExcel%2Bpara%2BFicar%2BMais%2BProdutivo164.mp4', 'created_time': '2020-10-06T14:28:31+00:00', 'fps': 30, 'size': 48627155, 'md5': '548640bf79ce1552a3401726bb0e4224', 'public_name': 'SD 360p', 'size_short': '46.37MB'}]}\n",
        "print(video)"
      ]
    },
    {
      "cell_type": "markdown",
      "id": "4863a7b5-fa76-4878-9ebe-82b8b4587d1a",
      "metadata": {
        "id": "4863a7b5-fa76-4878-9ebe-82b8b4587d1a"
      },
      "source": [
        "Repare que é um código completamente confuso, mas que no fim do dia é um dicionário.\n",
        "\n",
        "Dentro dele queremos printar o link de download do vídeo para depois simplesmente clicar em todos os links e fazer o download de todos os vídeos.\n",
        "\n",
        "No nosso caso, tínhamos uma lista com os mais de 2.000 vídeos (sendo cada vídeo um dicionário exatamente como esse aí em cima), e por isso fizemos exatamente esse mesmo procedimento que você vai construir aqui abaixo, só que dentro de um \"for\" para percorrer todos os vídeos. Não podemos disponibilizar a lista inteira por questões de segurança e proteção de dados mesmo, mas o dicionário acima já vale o exemplo."
      ]
    },
    {
      "cell_type": "code",
      "execution_count": null,
      "id": "4d252d32-d698-47f8-af74-b254f7966410",
      "metadata": {
        "scrolled": true,
        "id": "4d252d32-d698-47f8-af74-b254f7966410",
        "outputId": "c4530121-5175-4de8-8bcf-8001c3f0ff3b"
      },
      "outputs": [
        {
          "name": "stdout",
          "output_type": "stream",
          "text": [
            "uri\n",
            "name\n",
            "download\n",
            "https://player.vimeo.com/play/2064518513?s=465407533_1602043255_5f2f93dd00b66eba66d481f913383b4f&loc=external&context=Vimeo%5CController%5CApi%5CResources%5CUser%5CVideosController.&download=1&filename=15%2BAtalhos%2Bno%2BExcel%2Bpara%2BFicar%2BMais%2BProdutivosource.mp4\n"
          ]
        }
      ],
      "source": [
        "for item in video:\n",
        "    print(item)\n",
        "\n",
        "print(video['download'][0]['link'])"
      ]
    },
    {
      "cell_type": "markdown",
      "id": "be6bb865-c0f7-4188-994b-35764f038296",
      "metadata": {
        "id": "be6bb865-c0f7-4188-994b-35764f038296"
      },
      "source": [
        "# Métodos de Sets\n",
        "\n",
        "### Esses são os métodos mais usados de set\n",
        "\n",
        "- add -> adiciona um item no set"
      ]
    },
    {
      "cell_type": "code",
      "execution_count": null,
      "id": "0d8a0f8d-3e66-483c-b466-9a60a7022874",
      "metadata": {
        "id": "0d8a0f8d-3e66-483c-b466-9a60a7022874",
        "outputId": "4fa3053e-a012-47f5-8500-024aae0fa7ba"
      },
      "outputs": [
        {
          "name": "stdout",
          "output_type": "stream",
          "text": [
            "{'ipad', 'airpod', 'macbook', 'iphone'}\n"
          ]
        }
      ],
      "source": [
        "meu_set = {'iphone', 'macbook', 'ipad'}\n",
        "meu_set.add('airpod')\n",
        "print(meu_set)"
      ]
    },
    {
      "cell_type": "markdown",
      "id": "3ee01737-b34c-4e50-bf16-a7344a2f55cd",
      "metadata": {
        "id": "3ee01737-b34c-4e50-bf16-a7344a2f55cd"
      },
      "source": [
        "- remove -> retira um item de um set"
      ]
    },
    {
      "cell_type": "code",
      "execution_count": null,
      "id": "3b920b7b-1d44-41d9-a80a-22b9524fc19e",
      "metadata": {
        "id": "3b920b7b-1d44-41d9-a80a-22b9524fc19e",
        "outputId": "cf3e5744-e4c8-476a-bbef-4a309a0f6797"
      },
      "outputs": [
        {
          "name": "stdout",
          "output_type": "stream",
          "text": [
            "{'ipad', 'macbook'}\n"
          ]
        }
      ],
      "source": [
        "meu_set = {'iphone', 'macbook', 'ipad'}\n",
        "meu_set.remove('iphone')\n",
        "print(meu_set)"
      ]
    },
    {
      "cell_type": "markdown",
      "id": "df4bce34-23d1-491d-b982-c6236e7be20d",
      "metadata": {
        "id": "df4bce34-23d1-491d-b982-c6236e7be20d"
      },
      "source": [
        "- clear -> retira todos os itens de um set"
      ]
    },
    {
      "cell_type": "code",
      "execution_count": null,
      "id": "c6c082e5-8c66-471f-b8bd-0806311a4d7c",
      "metadata": {
        "id": "c6c082e5-8c66-471f-b8bd-0806311a4d7c",
        "outputId": "bba98d4a-b528-4056-f37d-ee1c5cb59b50"
      },
      "outputs": [
        {
          "name": "stdout",
          "output_type": "stream",
          "text": [
            "set()\n"
          ]
        }
      ],
      "source": [
        "meu_set = {'iphone', 'macbook', 'ipad'}\n",
        "meu_set.clear()\n",
        "print(meu_set)"
      ]
    },
    {
      "cell_type": "markdown",
      "id": "ba88cd29-069e-4479-8382-8647d5906037",
      "metadata": {
        "id": "ba88cd29-069e-4479-8382-8647d5906037"
      },
      "source": [
        "- union -> junta as informações de 2 sets. Se houver algum valor duplicado, ele constará apenas 1 vez no set final"
      ]
    },
    {
      "cell_type": "code",
      "execution_count": null,
      "id": "72ec7e10-aaeb-422f-b05e-5dedba55455e",
      "metadata": {
        "id": "72ec7e10-aaeb-422f-b05e-5dedba55455e",
        "outputId": "5c9b0833-3eb2-41ea-c95a-6fb63397564d"
      },
      "outputs": [
        {
          "name": "stdout",
          "output_type": "stream",
          "text": [
            "{'airpod', 'apple watch', 'macbook', 'ipad', 'ipod', 'iphone'}\n"
          ]
        }
      ],
      "source": [
        "produtos = {'iphone', 'macbook', 'ipad'}\n",
        "lancamentos = {'airpod', 'apple watch', 'ipod', 'ipad'}\n",
        "todos_produtos = produtos.union(lancamentos)\n",
        "print(todos_produtos)"
      ]
    },
    {
      "cell_type": "markdown",
      "id": "4cf46bba-876b-421c-96d9-f4144ee740ac",
      "metadata": {
        "id": "4cf46bba-876b-421c-96d9-f4144ee740ac"
      },
      "source": [
        "- intersection -> pega apenas as informações que existem nos 2 sets ao mesmo tempo"
      ]
    },
    {
      "cell_type": "code",
      "execution_count": null,
      "id": "aff960f1-f9a0-46b6-bfd5-7c4bfbf64c1d",
      "metadata": {
        "id": "aff960f1-f9a0-46b6-bfd5-7c4bfbf64c1d",
        "outputId": "0d4c6b63-13e0-4cc3-8ede-39db62e7c08f"
      },
      "outputs": [
        {
          "name": "stdout",
          "output_type": "stream",
          "text": [
            "{'ipad'}\n"
          ]
        }
      ],
      "source": [
        "produtos = {'iphone', 'macbook', 'ipad'}\n",
        "lancamentos = {'airpod', 'apple watch', 'ipod', 'ipad'}\n",
        "intersecao = produtos.intersection(lancamentos)\n",
        "print(intersecao)"
      ]
    },
    {
      "cell_type": "markdown",
      "id": "979912db-4b32-40a4-b193-7f8d4c708500",
      "metadata": {
        "id": "979912db-4b32-40a4-b193-7f8d4c708500"
      },
      "source": [
        "- difference -> retorna todas as informações de um set que não fazem parte de outro set"
      ]
    },
    {
      "cell_type": "code",
      "execution_count": null,
      "id": "efe88940-de1c-41d0-bdbe-d3b38159a6af",
      "metadata": {
        "id": "efe88940-de1c-41d0-bdbe-d3b38159a6af",
        "outputId": "e371e596-5642-43ea-9bee-5d4a9f0f1c44"
      },
      "outputs": [
        {
          "name": "stdout",
          "output_type": "stream",
          "text": [
            "{'macbook', 'iphone'}\n"
          ]
        }
      ],
      "source": [
        "produtos = {'iphone', 'macbook', 'ipad'}\n",
        "lancamentos = {'airpod', 'apple watch', 'ipod', 'ipad'}\n",
        "produtos_nao_lancamentos = produtos.difference(lancamentos)\n",
        "print(produtos_nao_lancamentos) #repare que ipad foi retirado do resultado porque ele estava contido no set de lançamentos"
      ]
    },
    {
      "cell_type": "markdown",
      "id": "eaf686b4-f045-471d-8507-74cbc53b784d",
      "metadata": {
        "id": "eaf686b4-f045-471d-8507-74cbc53b784d"
      },
      "source": [
        "## Projeto boliche"
      ]
    },
    {
      "cell_type": "code",
      "execution_count": null,
      "id": "de1ab944-640e-4022-a33c-e30d242b6d7d",
      "metadata": {
        "id": "de1ab944-640e-4022-a33c-e30d242b6d7d",
        "outputId": "fdc242e3-43ad-49ea-d680-f0db0906b860"
      },
      "outputs": [
        {
          "name": "stdout",
          "output_type": "stream",
          "text": [
            "num jog 2\n",
            "Insira 1º Nome: leo\n",
            "Insira 2º Nome: maria\n",
            "obrigado por jogar no nosso boliche!\n",
            "leo . Total: 178 Pontuação: [5, 19, 9, 18, 10, 0, 8, 12, 1, 12, 2, 12, 2, 12, 10, 0, 2, 20, 6, 18]\n",
            "maria . Total: 230 Pontuação: [9, 14, 9, 12, 9, 18, 2, 20, 10, 0, 9, 20, 8, 14, 8, 19, 8, 19, 6, 16]\n"
          ]
        }
      ],
      "source": [
        "#Solução\n",
        "from random import randint\n",
        "nomes=[]\n",
        "placar = []\n",
        "final = []\n",
        "numj = int(input('num jog '))\n",
        "for i in range(numj):\n",
        "    nomes.append(input('Insira {}º Nome: '.format(i+1)))\n",
        "for i in range(numj):\n",
        "    placar.append([])\n",
        "    final.append([])\n",
        "for i in range(10):\n",
        "    for ij in range(numj):\n",
        "    #     j1 = input('jogada 1: ')\n",
        "        j1 = randint(1,10)\n",
        "    #     if j1.isnumeric:\n",
        "        if True:\n",
        "    #         j1 = int(j1)\n",
        "            if j1 == 10:\n",
        "                j2 = 0\n",
        "#                 print('Strike!')\n",
        "\n",
        "            else:\n",
        "                j2 = randint(11,20)\n",
        "#                 j2 = randint(0,10-j1)\n",
        "    #             j2 = input('jogada 2: ')\n",
        "                if j1 + j2 == 10:\n",
        "                    pass\n",
        "#                     print('Spare!')\n",
        "            placar[ij].append(j1)\n",
        "            placar[ij].append(j2)\n",
        "        else:\n",
        "            break\n",
        "print(\"obrigado por jogar no nosso boliche!\")\n",
        "for i in range(numj):\n",
        "#     final[i].append(nomes[i])\n",
        "#     final[i].append(placar[i])\n",
        "    print(nomes[i],'. Total: {}'.format(sum(placar[i])), end=\" Pontuação: \")\n",
        "    print(placar[i])"
      ]
    },
    {
      "cell_type": "markdown",
      "id": "294b9ed2-d364-4c50-af90-07cad7856dd4",
      "metadata": {
        "id": "294b9ed2-d364-4c50-af90-07cad7856dd4"
      },
      "source": [
        "# Automação Web com Python\n",
        "\n",
        "### Python + Selenium\n",
        "\n",
        "- 2 Requisitos:\n",
        "    - Instalar o Selenium\n",
        "    - Baixar o webdriver (chromedriver ou geckodriver)"
      ]
    },
    {
      "cell_type": "code",
      "execution_count": null,
      "id": "85a0f1e6-23de-4aa3-b1ab-16c3130e13d7",
      "metadata": {
        "id": "85a0f1e6-23de-4aa3-b1ab-16c3130e13d7"
      },
      "outputs": [],
      "source": [
        "# Para aprendermos a usar, vamos uar o Python para baixar para a gente o Demonstrativo de Resultados da Magazine Luiza\n",
        "\n",
        "# Passo 1: Entrar em https://ri.magazineluiza.com.br/\n",
        "# Passo 2: Clicar em \"Planilha Dinâmica\"\n",
        "# Passo 3: Clicar em \"Clique aqui para fazer o download\""
      ]
    },
    {
      "cell_type": "code",
      "execution_count": null,
      "id": "3761dc89-0389-4e95-a411-d1b5445b8252",
      "metadata": {
        "id": "3761dc89-0389-4e95-a411-d1b5445b8252"
      },
      "outputs": [],
      "source": [
        "from selenium import webdriver\n",
        "navegador = webdriver.Chrome()\n",
        "navegador.get(\"https://www.amazon.com.br/Notebook-Positivo-C4128B-1-Celeron-Windows/dp/B09M4NZTG7/?_encoding=UTF8&pd_rd_w=xXfc7&content-id=amzn1.sym.ae0abb9a-7853-49c1-b8fd-5eb96e1d3d26%3Aamzn1.symc.0be80b80-fece-46bc-88bd-c8e6394f049e&pf_rd_p=ae0abb9a-7853-49c1-b8fd-5eb96e1d3d26&pf_rd_r=MPPWC70MR843A44JY2DA&pd_rd_wg=0KNf9&pd_rd_r=c811db03-8c2d-4152-9d63-e16749734313&ref_=pd_gw_ci_mcx_mr_hp_atf_m\")\n",
        "webdriver.Chrome().find_element_by_xpath('//*[@id=\"buy-now-button\"]').click()\n",
        "# navegador.find_element_by_xpath('//*[@id=\"gb\"]/div/div[1]/div/div[2]/a').click()\n",
        "# navegador.find_element_by_xpath('//*[@id=\"gb\"]/div/div[1]/div/div[2]/a').click()\n",
        "# navegador.find_element_by_xpath('//*[@id=\"D6OClzrGtocpQRELDA4Klw==\"]').click()"
      ]
    },
    {
      "cell_type": "markdown",
      "id": "1a5907ed-080e-4192-ae31-e5e3a77c3146",
      "metadata": {
        "id": "1a5907ed-080e-4192-ae31-e5e3a77c3146"
      },
      "source": [
        "## Webbroser\n",
        "### Pesquisando\n",
        "Devemos sempre estar pesquisando quando estamos falando de bibliotecas, assim podemos encontrar diversos módulos prontos e facilmente aplicá-los no python, resolvendo muitos de nossos problemas com apenas uma linha de código.\n",
        "Caso eu deseje eu posso criar uma rotina que abra tais abas no meu computador.\n",
        "Agora se eu quiser preencher um formulário, será que ele pode me ajudar?\n",
        "Caso eu queira só exibir uma informação, o módulo webbrowser vai ser suficiente\n",
        "pra interagir com o site, aprenderemos futuramente o módulo selenium, assim podendo fazer raspagem de dados e interação com o site.\n"
      ]
    },
    {
      "cell_type": "markdown",
      "id": "3f8c3710-cc65-4013-a45c-513df7a58fc3",
      "metadata": {
        "id": "3f8c3710-cc65-4013-a45c-513df7a58fc3"
      },
      "source": [
        "# Usando módulos para ajudar a resolver desafios\n",
        "\n",
        "### Objetivo\n",
        "\n",
        "- Muitas vezes algum módulo vai ajudar a gente a resolver um desafio que talvez até conseguíssemos resolver de outra forma.\n",
        "\n",
        "### Exemplo\n",
        "\n",
        "- Digamos que você está analisando todas as vendas dos produtos de tecnologia de um e-commerce e quer saber quais foram os 5 produtos que mais venderam (e suas respectivas quantidades de vendas) - ou seja, queremos descobrir um top 3 produtos de forma simples\n",
        "\n",
        "Para isso, iremos pesquisar como fazer algo:\n",
        "[pesquisa](https://www.google.com/search?q=python+top+3+values+in+dictionary&sca_esv=587228370&rlz=1C1ONGR_pt-PTBR1081BR1081&sxsrf=AM9HkKl2-wHHaHwFFmVorvtvav90R2E9Xg%3A1701511414392&ei=9gBrZaLEF4fK1sQP-9m1yAs&oq=python+top+3&gs_lp=Egxnd3Mtd2l6LXNlcnAiDHB5dGhvbiB0b3AgMyoCCAAyCBAAGIAEGMsBMggQABiABBjLATIGEAAYFhgeMgYQABgWGB4yBhAAGBYYHjIGEAAYFhgeMgYQABgWGB4yBhAAGBYYHjIGEAAYFhgeMgYQABgWGB5I0Q5QmgFY4QJwAXgBkAEAmAF7oAHxAaoBAzAuMrgBAcgBAPgBAcICChAAGEcY1gQYsAPCAg0QABiABBiKBRhDGLAD4gMEGAAgQYgGAZAGCg&sclient=gws-wiz-serp)\n",
        "esperando que encontremos um [site](https://www.geeksforgeeks.org/python-program-to-find-the-highest-3-values-in-a-dictionary/) que nos indique qual módulo importar pra executar uma ação e, por fim, a [documentação](https://docs.python.org/3/library/collections.html#collections.Counter) para nos orientarmos e acharmos o mostcommon"
      ]
    },
    {
      "cell_type": "code",
      "execution_count": null,
      "id": "43e262ce-27bc-46ae-b45a-45b0ee96b7f0",
      "metadata": {
        "id": "43e262ce-27bc-46ae-b45a-45b0ee96b7f0",
        "outputId": "1879836b-0e63-43c9-804d-b51d62d3a98b"
      },
      "outputs": [
        {
          "name": "stdout",
          "output_type": "stream",
          "text": [
            "[('notebook dell', 17000), ('iphone', 15000), ('ps5', 14300)]\n"
          ]
        }
      ],
      "source": [
        "from collections import Counter\n",
        "vendas_tecnologia = {'notebook asus': 2450, 'iphone': 15000, 'samsung galaxy': 12000, 'tv samsung': 10000, 'ps5': 14300, 'tablet': 1720, 'notebook dell': 17000, 'ipad': 1000, 'tv philco': 2500, 'notebook hp': 1000}\n",
        "\n",
        "aux = Counter(vendas_tecnologia)\n",
        "print(aux.most_common(3))"
      ]
    },
    {
      "cell_type": "markdown",
      "id": "2b0ea7dc-5e68-4759-976d-3c5e064abf3f",
      "metadata": {
        "id": "2b0ea7dc-5e68-4759-976d-3c5e064abf3f"
      },
      "source": [
        "# Bot zap\n",
        "\n",
        "## Objetivo: Enviar mensagem para várias pessoas ou grupos automaticamente\n",
        "### Cuidados!\n",
        "\n",
        "1. Whatsapp não gosta de nenhum tipo de automação\n",
        "2. Isso pode dar merda, já to avisando\n",
        "3. Isso não é o uso da API oficial do Whatsapp, o próprio whatsapp tem uma API oficial. Se o seu objetivo é fazer envio em massa ou criar aqueles robozinhos que respondem automaticamente no whatsapp, então use a API oficial\n",
        "4. Meu objetivo é 100% educacional\n",
        "\n",
        "### Dito isso, bora automatizar o envio de mensagens no Whatsapp\n",
        "\n",
        "- Vamos usar o Selenium (vídeo da configuração na descrição)\n",
        "- Temos 1 ferramenta muito boa alternativas:\n",
        "    - Usar o wa.me (mais fácil, mais seguro, mas mais demorado)"
      ]
    },
    {
      "cell_type": "code",
      "execution_count": null,
      "id": "5e3e1582-a2a5-43d8-b1f6-9307ed435c50",
      "metadata": {
        "id": "5e3e1582-a2a5-43d8-b1f6-9307ed435c50"
      },
      "outputs": [],
      "source": [
        "# import pandas as pd\n",
        "# contatos_df = pd.read_excel(\"contatos.xlsx\")\n",
        "# display(contatos_df)\n",
        "\n",
        "import time\n",
        "import openpyxl\n",
        "from urllib.parse import quote\n",
        "import webbrowser\n",
        "import keyboard\n",
        "\n",
        "planilha = openpyxl.load_workbook('contatos.xlsx')\n",
        "pl = planilha['Planilha1']\n",
        "for i in pl.iter_rows(min_row = 2):\n",
        "    nome = i[0].value\n",
        "    tel = i[1].value\n",
        "    msg = 'Feliz aniversário {}'.format(nome)\n",
        "    msgcompleta = 'https:web.whatsapp.com/send?phone={}&text={}'.format(tel,quote(msg))\n",
        "webbrowser.open(msgcompleta)\n",
        "time.sleep(21)\n",
        "keyboard.write('ronaldo')\n",
        "time.sleep(1)\n",
        "\n",
        "keyboard.press_and_release('enter')\n",
        "\n",
        "#another way\n",
        "planilha = openpyxl.load_workbook('contatos.xlsx')\n",
        "pl = planilha['Planilha1']\n",
        "for cel in pl.iter_rows(min_row =2):\n",
        "    nome = cel[0].value\n",
        "    tel = cel[1].value\n",
        "    msg = f'prof {nome}, não quer entrar na sala 26 para tomar uma xícara de café?'\n",
        "    msgwhats = f'https:/web.whatsapp.com/send?phone={tel}&text={quote(msg)}'\n",
        "    webbrowser.open(msgwhats)"
      ]
    },
    {
      "cell_type": "markdown",
      "id": "5b19bc81-0a7a-4a86-abe5-f605414ac3ad",
      "metadata": {
        "id": "5b19bc81-0a7a-4a86-abe5-f605414ac3ad"
      },
      "source": [
        "# Pygame"
      ]
    },
    {
      "cell_type": "code",
      "execution_count": null,
      "id": "c5b3ce46-da83-46ee-b71f-1bcc0c300ba7",
      "metadata": {
        "id": "c5b3ce46-da83-46ee-b71f-1bcc0c300ba7"
      },
      "outputs": [],
      "source": [
        "import pygame\n",
        "from pygame.locals import * #aqui estamos importando todas sa funções e constantes\n",
        "from sys import exit #aqui é uma função do python mesmo, pra fechar a janela quando clicarmos no \"x\"\n",
        "\n",
        "\n",
        "pygame.init()\n",
        "pygame.display.set_caption('string com título da janela')\n",
        "largura,altura = 640,480\n",
        "tela = pygame.display.set_mode((largura,altura)) #aqui estamos\n",
        "#definindo o tamanho do display com uma tupla contendo altura e largura\n",
        "while True: #aqui estaremos fazendo um looping que ficará ativo enquanto nosso jogo estiver sendo rodado\n",
        "    for event in pygame.event.get(): #aqui entraremos assim que houver um evento (clique, tecla) no jogo.\n",
        "        if event.type == QUIT: #caso o evento seja do tipo \"fechar\"\n",
        "            pygame.quit()\n",
        "            exit()\n",
        "        pygame.display.update()\n",
        ""
      ]
    },
    {
      "cell_type": "markdown",
      "id": "15a1ca36-64ec-40aa-8552-c661c6cbb0cc",
      "metadata": {
        "id": "15a1ca36-64ec-40aa-8552-c661c6cbb0cc"
      },
      "source": [
        "## Posição dos objetos em Python\n",
        "\n",
        "O posicionamento no python obedece as coordenadas cartesianas, com o y sendo invertido (aumentando para baixo).\n",
        "As cores são dadas em um formato de tupla com os valores RGB, respectivamente, de 0-255."
      ]
    },
    {
      "cell_type": "code",
      "execution_count": null,
      "id": "b8ebdbfd-1f23-431e-bc43-b7a4b8fdc627",
      "metadata": {
        "id": "b8ebdbfd-1f23-431e-bc43-b7a4b8fdc627"
      },
      "outputs": [],
      "source": [
        "import pygame\n",
        "from pygame.locals import * #aqui estamos importando todas sa funções e constantes\n",
        "from sys import exit #aqui é uma função do python mesmo, pra fechar a janela quando clicarmos no \"x\"\n",
        "\n",
        "\n",
        "pygame.init()\n",
        "pygame.display.set_caption('string com título da janela')\n",
        "largura,altura = 640,480\n",
        "tela = pygame.display.set_mode((largura,altura)) #aqui estamos\n",
        "#definindo o tamanho do display com uma tupla contendo altura e largura\n",
        "while True: #aqui estaremos fazendo um looping que ficará ativo enquanto nosso jogo estiver sendo rodado\n",
        "    for event in pygame.event.get(): #aqui entraremos assim que houver um evento (clique, tecla) no jogo.\n",
        "        if event.type == QUIT: #caso o evento seja do tipo \"fechar\"\n",
        "            pygame.quit()\n",
        "            exit()\n",
        "        pygame.draw.rect(tela,(255,10,0),(200,300,40,50)) #aonde ele será desenhado, qual a cor, ponto de início(x,y),largura e altura\n",
        "        pygame.draw.circle(tela,(33,111,0),(300,300),30) #aonde ele será desenhado, qual a cor, ponto de centro(x,y), (raio)\n",
        "        pygame.draw.line(tela,(201,111,0),(500,0),(500,630),5) #aonde ele será desenhado, qual a cor,início(x,y), fim(x,y), espessura\n",
        "\n",
        "\n",
        "\n",
        "        pygame.display.update()"
      ]
    },
    {
      "cell_type": "markdown",
      "id": "1ebb1c3e-d4a1-4183-8923-5b4324ba1b06",
      "metadata": {
        "id": "1ebb1c3e-d4a1-4183-8923-5b4324ba1b06"
      },
      "source": [
        "Agora, vamos começar a movimentar os objetos"
      ]
    },
    {
      "cell_type": "code",
      "execution_count": null,
      "id": "5987048c-3933-4c93-8842-bdf6cb03ef7d",
      "metadata": {
        "id": "5987048c-3933-4c93-8842-bdf6cb03ef7d"
      },
      "outputs": [],
      "source": [
        "from time import sleep as sl\n",
        "import pygame\n",
        "from pygame.locals import * #aqui estamos importando todas sa funções e constantes\n",
        "from sys import exit #aqui é uma função do python mesmo, pra fechar a janela quando clicarmos no \"x\"\n",
        "\n",
        "pygame.init()\n",
        "pygame.display.set_caption('string com título da janela')\n",
        "largura,altura = 640,480\n",
        "x,y = largura/2,0\n",
        "temporizador = pygame.time.Clock() #função de sleep, porém definido em FPS\n",
        "tela = pygame.display.set_mode((largura,altura)) #aqui estamos\n",
        "# definindo o tamanho do display com uma tupla contendo altura e largura\n",
        "while True: #aqui estaremos fazendo um looping que ficará ativo enquanto nosso jogo estiver sendo rodado\n",
        "    temporizador.tick(120)\n",
        "    for event in pygame.event.get(): #aqui entraremos assim que houver um evento (clique, tecla) no jogo.\n",
        "        if event.type == QUIT: #caso o evento seja do tipo \"fechar\"\n",
        "            pygame.quit()\n",
        "            exit()\n",
        "    tela.fill((0,0,0))\n",
        "    pygame.draw.rect(tela,(255,10,0),(x,y,40,50)) #aonde ele será desenhado, qual a cor, ponto de início(x,y),largura e altura\n",
        "#     x +=1\n",
        "    if y>=altura:\n",
        "        y = 0\n",
        "    y +=1\n",
        "    pygame.display.update()"
      ]
    },
    {
      "cell_type": "markdown",
      "id": "1144d815-41b6-4a06-a15e-012bd488d938",
      "metadata": {
        "id": "1144d815-41b6-4a06-a15e-012bd488d938"
      },
      "source": [
        "Podemos também criar movimentos controlados para os nossos objetos a partir de teclas pressionadas pelo nosso teclado.\n",
        "Para isso, irei remover o incremento de posição que fizemos anteriormente"
      ]
    },
    {
      "cell_type": "code",
      "execution_count": null,
      "id": "86f18d2c-be9a-4898-be9c-614e9c6fd18f",
      "metadata": {
        "id": "86f18d2c-be9a-4898-be9c-614e9c6fd18f"
      },
      "outputs": [],
      "source": [
        "from time import sleep as sl\n",
        "import pygame\n",
        "from pygame.locals import * #aqui estamos importando todas sa funções e constantes\n",
        "from sys import exit #aqui é uma função do python mesmo, pra fechar a janela quando clicarmos no \"x\"\n",
        "\n",
        "pygame.init()\n",
        "pygame.display.set_caption('string com título da janela')\n",
        "largura,altura = 640,480\n",
        "x,y = largura/2, altura/2\n",
        "\n",
        "temporizador = pygame.time.Clock() #função de sleep, porém definido em FPS\n",
        "tela = pygame.display.set_mode((largura,altura)) #aqui estamos\n",
        "# definindo o tamanho do display com uma tupla contendo altura e largura\n",
        "\n",
        "while True: #aqui estaremos fazendo um looping que ficará ativo enquanto nosso jogo estiver sendo rodado\n",
        "\n",
        "    temporizador.tick(120)  #quantidade de fps sendo gerada\n",
        "\n",
        "    for event in pygame.event.get(): #aqui entraremos assim que houver um evento (clique, tecla) no jogo.\n",
        "        if event.type == QUIT: #caso o evento seja do tipo \"fechar\"\n",
        "            pygame.quit()\n",
        "            exit()\n",
        "        if event.type == KEYDOWN: #verificando se há um input de teclas:\n",
        "            if event.key == K_w: #se a tecla pressionada for \"w\"\n",
        "                y -= 10 #aqui ele se movimentará pra cima (LEMBRE-SE QUE O EIXO Y AUMENTA PARA BAIXO NO PLANO CARTESIANO)\n",
        "            if event.key == K_a: #se a tecla pressionada for \"a\"\n",
        "                x -= 10 #aqui ele se movimentará pra esquerda\n",
        "            if event.key == K_s: #se a tecla pressionada for \"s\"\n",
        "                y += 10 #aqui ele se movimentará pra baixo\n",
        "            if event.key == K_d: #se a tecla pressionada for \"d\"\n",
        "                x += 10 #aqui ele se movimentará pra direita\n",
        "    tela.fill((0,0,0))\n",
        "    pygame.draw.rect(tela,(255,10,0),(x,y,40,50)) #aonde ele será desenhado, qual a cor, ponto de início(x,y),largura e altura\n",
        "#\n",
        "    pygame.display.update()"
      ]
    },
    {
      "cell_type": "markdown",
      "id": "44e3b9a0-116b-4e0d-ab43-292b00b458f4",
      "metadata": {
        "id": "44e3b9a0-116b-4e0d-ab43-292b00b458f4"
      },
      "source": [
        "Porém, gostaríamos que o objeto continuasse se movendo quando a tecla ficasse pressionada, para isso, faremos uma alteração em como faremos o incremento posicional:"
      ]
    },
    {
      "cell_type": "code",
      "execution_count": null,
      "id": "10be707f-3ffd-440c-aec4-19cded198462",
      "metadata": {
        "id": "10be707f-3ffd-440c-aec4-19cded198462"
      },
      "outputs": [],
      "source": [
        "from time import sleep as sl\n",
        "import pygame\n",
        "from pygame.locals import * #aqui estamos importando todas sa funções e constantes\n",
        "from sys import exit #aqui é uma função do python mesmo, pra fechar a janela quando clicarmos no \"x\"\n",
        "\n",
        "pygame.init()\n",
        "pygame.display.set_caption('string com título da janela')\n",
        "largura,altura = 640,480\n",
        "x,y = largura/2, altura/2\n",
        "\n",
        "temporizador = pygame.time.Clock() #função de sleep, porém definido em FPS\n",
        "tela = pygame.display.set_mode((largura,altura)) #aqui estamos\n",
        "# definindo o tamanho do display com uma tupla contendo altura e largura\n",
        "\n",
        "while True: #aqui estaremos fazendo um looping que ficará ativo enquanto nosso jogo estiver sendo rodado\n",
        "\n",
        "    temporizador.tick(120)  #quantidade de fps sendo gerada\n",
        "\n",
        "    for event in pygame.event.get(): #aqui entraremos assim que houver um evento (clique, tecla) no jogo.\n",
        "        if event.type == QUIT: #caso o evento seja do tipo \"fechar\"\n",
        "            pygame.quit()\n",
        "            exit()\n",
        "    if pygame.key.get_pressed()[K_w]:  #Agora, não precisamos mais fazer ele dentro do loop for, pois ele já está escaneando\n",
        "    #para saber se essa letra foi pressionada\n",
        "        y -= 10\n",
        "    if pygame.key.get_pressed()[K_a]:\n",
        "        x -= 10\n",
        "    if pygame.key.get_pressed()[K_s]:\n",
        "        y += 10\n",
        "    if pygame.key.get_pressed()[K_d]:\n",
        "            x += 10\n",
        "    tela.fill((0,0,0))\n",
        "    pygame.draw.rect(tela,(255,10,0),(x,y,40,50)) #aonde ele será desenhado, qual a cor, ponto de início(x,y),largura e altura\n",
        "#\n",
        "    pygame.display.update()"
      ]
    },
    {
      "cell_type": "markdown",
      "id": "03077d33-3172-4b51-81e9-9a835ac2ab77",
      "metadata": {
        "id": "03077d33-3172-4b51-81e9-9a835ac2ab77"
      },
      "source": [
        "Dentro de jogos, é completamente comum acontecerem colisões. Vamos aprender a tratá-las:"
      ]
    },
    {
      "cell_type": "code",
      "execution_count": null,
      "id": "baf22442-a795-42a1-846c-e9b4bf1066bc",
      "metadata": {
        "id": "baf22442-a795-42a1-846c-e9b4bf1066bc",
        "outputId": "5333fc8e-bfd4-4b1b-d519-eba309527d45"
      },
      "outputs": [
        {
          "name": "stdout",
          "output_type": "stream",
          "text": [
            "pygame 2.5.2 (SDL 2.28.3, Python 3.11.5)\n",
            "Hello from the pygame community. https://www.pygame.org/contribute.html\n"
          ]
        },
        {
          "ename": "SystemExit",
          "evalue": "",
          "output_type": "error",
          "traceback": [
            "An exception has occurred, use %tb to see the full traceback.\n",
            "\u001b[1;31mSystemExit\u001b[0m\n"
          ]
        },
        {
          "name": "stderr",
          "output_type": "stream",
          "text": [
            "C:\\Users\\Leona\\anaconda3\\Lib\\site-packages\\IPython\\core\\interactiveshell.py:3534: UserWarning: To exit: use 'exit', 'quit', or Ctrl-D.\n",
            "  warn(\"To exit: use 'exit', 'quit', or Ctrl-D.\", stacklevel=1)\n"
          ]
        }
      ],
      "source": [
        "from time import sleep as sl\n",
        "import pygame\n",
        "from pygame.locals import * #aqui estamos importando todas sa funções e constantes\n",
        "from sys import exit #aqui é uma função do python mesmo, pra fechar a janela quando clicarmos no \"x\"\n",
        "from random import randint as rt\n",
        "pygame.init()\n",
        "pygame.display.set_caption('string com título da janela')\n",
        "largura,altura = 640,480\n",
        "x,y = largura/2, altura/2\n",
        "x2,y2 = rt(40,600),rt(50,480)\n",
        "\n",
        "temporizador = pygame.time.Clock() #função de sleep, porém definido em FPS\n",
        "tela = pygame.display.set_mode((largura,altura)) #aqui estamos\n",
        "# definindo o tamanho do display com uma tupla contendo altura e largura\n",
        "\n",
        "while True: #aqui estaremos fazendo um looping que ficará ativo enquanto nosso jogo estiver sendo rodado\n",
        "\n",
        "    temporizador.tick(120)  #quantidade de fps sendo gerada\n",
        "\n",
        "    for event in pygame.event.get(): #aqui entraremos assim que houver um evento (clique, tecla) no jogo.\n",
        "        if event.type == QUIT: #caso o evento seja do tipo \"fechar\"\n",
        "            pygame.quit()\n",
        "            exit()\n",
        "    if pygame.key.get_pressed()[K_w]: #Agora, não precisamos mais fazer ele dentro do loop for, pois ele já está escaneando\n",
        "    #para saber se essa letra foi pressionada\n",
        "        y -= 10\n",
        "    if pygame.key.get_pressed()[K_a]:\n",
        "        x -= 10\n",
        "    if pygame.key.get_pressed()[K_s]:\n",
        "        y += 10\n",
        "    if pygame.key.get_pressed()[K_d]:\n",
        "        x += 10\n",
        "    tela.fill((0,0,0))\n",
        "    obj1 = pygame.draw.rect(tela,(255,10,0),(x,y,40,50)) #aonde ele será desenhado, qual a cor, ponto de início(x,y),largura e altura\n",
        "    obj2 = pygame.draw.rect(tela,(15,110,0),(x2,y2,40,50)) #aonde ele será desenhado, qual a cor, ponto de início(x,y),largura e altura\n",
        "\n",
        "    #Após a movimentação dos retângulos, devemos verificar se há a colisão:\n",
        "\n",
        "    if obj1.colliderect(obj2):\n",
        "        x2,y2 = rt(40,600),rt(50,480)\n",
        "\n",
        "\n",
        "    pygame.display.update()"
      ]
    },
    {
      "cell_type": "markdown",
      "id": "3a9c9367-d188-433a-b567-da1eb7bf26ad",
      "metadata": {
        "id": "3a9c9367-d188-433a-b567-da1eb7bf26ad"
      },
      "source": [
        "Vamos fazer um contador para a nossa pontuação no game, mas antes, vamos dividir o nosso programa entre a parte de declarações e a do código ativo (looping), para que possamos ter menos código no nosso campo de visão:"
      ]
    },
    {
      "cell_type": "code",
      "execution_count": null,
      "id": "c0997f99-3efd-4cdb-8f3c-ad29f2fe9047",
      "metadata": {
        "id": "c0997f99-3efd-4cdb-8f3c-ad29f2fe9047"
      },
      "outputs": [],
      "source": [
        "from time import sleep as sl\n",
        "import pygame\n",
        "from pygame.locals import * #aqui estamos importando todas sa funções e constantes\n",
        "from sys import exit #aqui é uma função do python mesmo, pra fechar a janela quando clicarmos no \"x\"\n",
        "from random import randint as rt\n",
        "pygame.init()\n",
        "pygame.display.set_caption('string com título da janela')\n",
        "largura,altura = 640,480\n",
        "x,y = largura/2, altura/2\n",
        "x2,y2 = rt(40,600),rt(50,480)\n",
        "\n",
        "temporizador = pygame.time.Clock() #função de sleep, porém definido em FPS\n",
        "tela = pygame.display.set_mode((largura,altura)) #aqui estamos\n",
        "# definindo o tamanho do display com uma tupla contendo altura e largura"
      ]
    },
    {
      "cell_type": "markdown",
      "id": "911e077e-94c1-49ca-8c67-df4cbd839a6f",
      "metadata": {
        "id": "911e077e-94c1-49ca-8c67-df4cbd839a6f"
      },
      "source": [
        "Como este é o nosso loop, não poderemos remover outros elementos dele, então simplesmente iremos remover as descrições anteriores:"
      ]
    },
    {
      "cell_type": "code",
      "execution_count": null,
      "id": "09461830-108f-426b-9030-25c13eeb3d14",
      "metadata": {
        "id": "09461830-108f-426b-9030-25c13eeb3d14"
      },
      "outputs": [],
      "source": [
        "while True:\n",
        "    temporizador.tick(120)\n",
        "    for event in pygame.event.get():\n",
        "        if event.type == QUIT:\n",
        "            pygame.quit()\n",
        "            exit()\n",
        "    if pygame.key.get_pressed()[K_w]:\n",
        "        y -= 10\n",
        "    if pygame.key.get_pressed()[K_a]:\n",
        "        x -= 10\n",
        "    if pygame.key.get_pressed()[K_s]:\n",
        "        y += 10\n",
        "    if pygame.key.get_pressed()[K_d]:\n",
        "        x += 10\n",
        "    tela.fill((0,0,0))\n",
        "    obj1 = pygame.draw.rect(tela,(255,10,0),(x,y,40,50))\n",
        "    obj2 = pygame.draw.rect(tela,(15,110,0),(x2,y2,40,50))\n",
        "    if obj1.colliderect(obj2):\n",
        "        x2,y2 = rt(40,600),rt(50,480)\n",
        "    pygame.display.update()"
      ]
    },
    {
      "cell_type": "markdown",
      "id": "346ea172-d5a8-4197-8538-14c5a841547b",
      "metadata": {
        "id": "346ea172-d5a8-4197-8538-14c5a841547b"
      },
      "source": [
        "E, por fim, partiremos daqui a fazer as novas modificações:"
      ]
    },
    {
      "cell_type": "code",
      "execution_count": null,
      "id": "c4f3b653-cde1-4e35-8c0e-e314180d3d0c",
      "metadata": {
        "id": "c4f3b653-cde1-4e35-8c0e-e314180d3d0c",
        "outputId": "cac6ace6-6893-4c5a-e21c-30a119ec53f8"
      },
      "outputs": [
        {
          "ename": "SystemExit",
          "evalue": "",
          "output_type": "error",
          "traceback": [
            "An exception has occurred, use %tb to see the full traceback.\n",
            "\u001b[1;31mSystemExit\u001b[0m\n"
          ]
        }
      ],
      "source": [
        "from time import sleep as sl\n",
        "import pygame\n",
        "from pygame.locals import * #aqui estamos importando todas sa funções e constantes\n",
        "from sys import exit #aqui é uma função do python mesmo, pra fechar a janela quando clicarmos no \"x\"\n",
        "from random import randint as rt\n",
        "pygame.init()\n",
        "pygame.display.set_caption('string com título da janela')\n",
        "largura,altura = 640,480\n",
        "x,y = largura/2, altura/2\n",
        "x2,y2 = rt(40,600),rt(50,480)\n",
        "\n",
        "temporizador = pygame.time.Clock() #função de sleep, porém definido em FPS\n",
        "tela = pygame.display.set_mode((largura,altura)) #aqui estamos\n",
        "# definindo o tamanho do display com uma tupla contendo altura e largura\n",
        "#as modificações anteriores ao nosso loop podem ficar no bloco de declarações\n",
        "fonte = pygame.font.SysFont('arial',40) #pygame.font.get_fonts() para ver as fontes disponíveis\n",
        "pontuacao = 0 #a pontuação irá começar em 0\n",
        "\n",
        "while True:\n",
        "    msg = f'Pontos: {pontuacao}'#a mensagem precisará ser atualizada, logo, ela precisa estar dentro do looping, bem como a pontuação\n",
        "    exibir_texto = fonte.render(msg, True, (255,255,255),(231,1,1)) #mensagem, anti aliasing (sem serrilhado), cor do texto\n",
        "    temporizador.tick(120)\n",
        "    for event in pygame.event.get():\n",
        "        if event.type == QUIT:\n",
        "            pygame.quit()\n",
        "            exit()\n",
        "    if pygame.key.get_pressed()[K_w]:\n",
        "        if y>0: #podemos também prender o retângulo na tela\n",
        "            y -= 10\n",
        "    if pygame.key.get_pressed()[K_a]:\n",
        "        if x > 0 :\n",
        "            x -= 10\n",
        "    if pygame.key.get_pressed()[K_s]:\n",
        "        if y < altura - 50:\n",
        "            y += 10\n",
        "    if pygame.key.get_pressed()[K_d]:\n",
        "        if x < largura - 40:\n",
        "            x += 10\n",
        "    tela.fill((0,0,0))\n",
        "    obj1 = pygame.draw.rect(tela,(255,10,0),(x,y,40,50))\n",
        "    obj2 = pygame.draw.rect(tela,(15,110,0),(x2,y2,40,50))\n",
        "    if obj1.colliderect(obj2):\n",
        "        x2,y2 = rt(40,600),rt(50,480)\n",
        "        pontuacao += 1\n",
        "    tela.blit(exibir_texto,(440,40)) #insere o texto na tela, a tupla informando a posição do texto\n",
        "    pygame.display.update()"
      ]
    },
    {
      "cell_type": "markdown",
      "id": "c8d242e9-86ca-48f9-88ca-aaf189d6c505",
      "metadata": {
        "id": "c8d242e9-86ca-48f9-88ca-aaf189d6c505"
      },
      "source": [
        "Inserindo Sons no nosso jogo:"
      ]
    },
    {
      "cell_type": "code",
      "execution_count": null,
      "id": "58ac0e06-13be-4725-99ea-a1a8af0ce3ff",
      "metadata": {
        "id": "58ac0e06-13be-4725-99ea-a1a8af0ce3ff"
      },
      "outputs": [],
      "source": [
        "from time import sleep as sl\n",
        "import pygame\n",
        "from pygame.locals import * #aqui estamos importando todas sa funções e constantes\n",
        "from sys import exit #aqui é uma função do python mesmo, pra fechar a janela quando clicarmos no \"x\"\n",
        "from random import randint as rt\n",
        "\n",
        "pygame.init()\n",
        "pygame.display.set_caption('string com título da janela')\n",
        "largura,altura = 640,480\n",
        "x,y = int(largura/2), int(altura/2)\n",
        "x2,y2 = rt(40,600),rt(50,480)\n",
        "\n",
        "# pygame.mixer.music.set_volume(0.8)\n",
        "# pygame.mixer.music.load('dejavu.mp3') #comando específico pra música de fundo\n",
        "# pygame.mixer.music.play(-1)\n",
        "# colisao = pygame.mixer.Sound('coin.mp3') #todos os outros sons devem ser assim, e em formato wav\n",
        "# colisao.set_volume(0.1)\n",
        "\n",
        "temporizador = pygame.time.Clock() #função de sleep, porém definido em FPS\n",
        "tela = pygame.display.set_mode((largura,altura)) #aqui estamos\n",
        "# definindo o tamanho do display com uma tupla contendo altura e largura\n",
        "\n",
        "#as modificações anteriores ao nosso loop podem ficar no bloco de declarações\n",
        "fonte = pygame.font.SysFont('arial',40) #pygame.font.get_fonts() para ver as fontes disponíveis\n",
        "pontuacao = 0 #a pontuação irá começar em 0\n",
        "\n",
        "while True:\n",
        "    msg = f'Pontos: {pontuacao}'#a mensagem precisará ser atualizada, logo, ela precisa estar dentro do looping, bem como a pontuação\n",
        "    exibir_texto = fonte.render(msg, True, (255,255,255),(231,1,1)) #mensagem, anti aliasing (sem serrilhado), cor do texto\n",
        "    temporizador.tick(120)\n",
        "    for event in pygame.event.get():\n",
        "        if event.type == QUIT:\n",
        "            pygame.quit()\n",
        "            exit()\n",
        "    if pygame.key.get_pressed()[K_w]:\n",
        "        if y>0: #podemos também prender o retângulo na tela\n",
        "            y -= 10\n",
        "    if pygame.key.get_pressed()[K_a]:\n",
        "        if x > 0 :\n",
        "            x -= 10\n",
        "    if pygame.key.get_pressed()[K_s]:\n",
        "        if y < altura - 50:\n",
        "            y += 10\n",
        "    if pygame.key.get_pressed()[K_d]:\n",
        "        if x < largura - 40:\n",
        "            x += 10\n",
        "    tela.fill((0,0,0))\n",
        "    obj1 = pygame.draw.rect(tela,(255,10,0),(x,y,40,50))\n",
        "    obj2 = pygame.draw.rect(tela,(15,110,0),(x2,y2,40,50))\n",
        "    if obj1.colliderect(obj2):\n",
        "        x2,y2 = rt(40,600),rt(50,480)\n",
        "        pontuacao += 1\n",
        "        colisao.play()\n",
        "    tela.blit(exibir_texto,(440,40)) #insere o texto na tela, a tupla informando a posição do texto\n",
        "    pygame.display.update()"
      ]
    },
    {
      "cell_type": "code",
      "execution_count": null,
      "id": "19b3df25-fff2-49b4-a112-3ea1bbdc7ff5",
      "metadata": {
        "id": "19b3df25-fff2-49b4-a112-3ea1bbdc7ff5",
        "outputId": "6ed973e4-7f65-4071-f9d0-6646cb68305b"
      },
      "outputs": [
        {
          "ename": "SystemExit",
          "evalue": "",
          "output_type": "error",
          "traceback": [
            "An exception has occurred, use %tb to see the full traceback.\n",
            "\u001b[1;31mSystemExit\u001b[0m\n"
          ]
        }
      ],
      "source": [
        "from time import sleep as sl\n",
        "import pygame\n",
        "from pygame.locals import * #aqui estamos importando todas sa funções e constantes\n",
        "from sys import exit #aqui é uma função do python mesmo, pra fechar a janela quando clicarmos no \"x\"\n",
        "from random import randint as rt\n",
        "\n",
        "pygame.init()\n",
        "pygame.display.set_caption('string com título da janela')\n",
        "largura,altura = 640,480\n",
        "x,y = int(largura/2), int(altura/2)\n",
        "x2,y2 = rt(40,600),rt(50,480)\n",
        "\n",
        "pygame.mixer.music.set_volume(0.8)\n",
        "pygame.mixer.music.load('dejavu.mp3') #comando específico pra música de fundo\n",
        "pygame.mixer.music.play(-1)\n",
        "colisao = pygame.mixer.Sound('coin.mp3') #todos os outros sons devem ser assim, e em formato wav\n",
        "colisao.set_volume(0.1)\n",
        "\n",
        "temporizador = pygame.time.Clock() #função de sleep, porém definido em FPS\n",
        "tela = pygame.display.set_mode((largura,altura)) #aqui estamos\n",
        "# definindo o tamanho do display com uma tupla contendo altura e largura\n",
        "\n",
        "#as modificações anteriores ao nosso loop podem ficar no bloco de declarações\n",
        "fonte = pygame.font.SysFont('arial',40) #pygame.font.get_fonts() para ver as fontes disponíveis\n",
        "pontuacao = 0 #a pontuação irá começar em 0\n",
        "\n",
        "while True:\n",
        "    msg = f'Pontos: {pontuacao}'#a mensagem precisará ser atualizada, logo, ela precisa estar dentro do looping, bem como a pontuação\n",
        "    exibir_texto = fonte.render(msg, True, (255,255,255),(231,1,1)) #mensagem, anti aliasing (sem serrilhado), cor do texto\n",
        "    temporizador.tick(120)\n",
        "    for event in pygame.event.get():\n",
        "        if event.type == QUIT:\n",
        "            pygame.quit()\n",
        "            exit()\n",
        "    if pygame.key.get_pressed()[K_w]:\n",
        "        if y>0: #podemos também prender o retângulo na tela\n",
        "            y -= 10\n",
        "    if pygame.key.get_pressed()[K_a]:\n",
        "        if x > 0 :\n",
        "            x -= 10\n",
        "    if pygame.key.get_pressed()[K_s]:\n",
        "        if y < altura - 50:\n",
        "            y += 10\n",
        "    if pygame.key.get_pressed()[K_d]:\n",
        "        if x < largura - 40:\n",
        "            x += 10\n",
        "    tela.fill((0,0,0))\n",
        "    obj1 = pygame.draw.rect(tela,(255,10,0),(x,y,40,50))\n",
        "    obj2 = pygame.draw.rect(tela,(15,110,0),(x2,y2,40,50))\n",
        "    if obj1.colliderect(obj2):\n",
        "        x2,y2 = rt(40,600),rt(50,480)\n",
        "        pontuacao += 1\n",
        "        colisao.play()\n",
        "    tela.blit(exibir_texto,(440,40)) #insere o texto na tela, a tupla informando a posição do texto\n",
        "    pygame.display.update()"
      ]
    },
    {
      "cell_type": "code",
      "execution_count": null,
      "id": "a809c95b-8412-40df-8c63-a6c51f661fc9",
      "metadata": {
        "id": "a809c95b-8412-40df-8c63-a6c51f661fc9"
      },
      "outputs": [],
      "source": [
        "#Vê se é necessário isso\n",
        "\n",
        "import pygame #importa a biblioteca pygame\n",
        "from pygame.locals import *  #aqui estamos importando todas sa funções e constantes\n",
        "from sys import exit #importa a função de fechar do sistema, é uma função do python mesmo, pra fechar a janela quando clicarmos no \"x\"\n",
        "from time import sleep\n",
        "\n",
        "pygame.init() #inicializa todas as funções dentro do pygame\n",
        "frames = pygame.time.Clock()\n",
        "larg,alt = 640,480 #a largura e altura em pixels da janela que criaremos\n",
        "x1,y1 = 110,0\n",
        "tela = pygame.display.set_mode((larg,alt))\n",
        "pygame.display.set_caption(\"Peppa pig\")\n",
        "while True: #todo jogo se passa dentro de um looping\n",
        "    frames.tick(100)\n",
        "    tela.fill((0,0,0))\n",
        "    for event in pygame.event.get():\n",
        "        if event.type == QUIT:\n",
        "            pygame.quit() #fechar o nosso jogo\n",
        "            exit()\n",
        "    pygame.draw.rect(tela,(0,255,0),(x1,y1,40,30))\n",
        "    if y1 >= alt:\n",
        "        y1 = 0\n",
        "    y1 += 1\n",
        "    #1 - aonde a gente vai desenhar\n",
        "    #2 - cor em rgb\n",
        "    #3 - tupla com valores em x e y de larg e alt respectivamente para a\n",
        "    #posicao inicial do retângulo e seu tamanho\n",
        "    pygame.draw.circle(tela,(255,0,122),(100,120),20)\n",
        "    #1 - aonde vai ser desenhado, cor, posição, raio\n",
        "    pygame.draw.line(tela,(255,200,0),(370,180),(500,300),13)\n",
        "    #1 - local de desenho, cor, posicao inicialem x e y, posicao final em x e y, largura\n",
        "    pygame.display.update() #realiza um refresh na tela"
      ]
    },
    {
      "cell_type": "code",
      "execution_count": null,
      "id": "abef076a-404b-4ea0-9fa6-30b70e6f486f",
      "metadata": {
        "id": "abef076a-404b-4ea0-9fa6-30b70e6f486f"
      },
      "outputs": [],
      "source": [
        "from IPython.display import clear_output\n",
        "clear_output(wait=True)\n",
        "import time\n",
        "for i in range(3):\n",
        "\n",
        "    print(\"Hello World!\")\n",
        "    time.sleep(2)\n",
        "    clear_output(wait=True)\n",
        "    print(\"Enjoy World!\")\n",
        "    time.sleep(2)"
      ]
    },
    {
      "cell_type": "code",
      "execution_count": null,
      "id": "181076bd-1023-4a7b-a151-c305cc97e0c4",
      "metadata": {
        "id": "181076bd-1023-4a7b-a151-c305cc97e0c4"
      },
      "outputs": [],
      "source": [
        "from IPython.display import clear_output\n",
        "c=0\n",
        "for i in range(10,4,-1):\n",
        "    clear_output(wait=True)\n",
        "    print(i)\n",
        "    time.sleep(0.3)"
      ]
    },
    {
      "cell_type": "markdown",
      "id": "097a1084-fff9-4bc9-8072-efe54242d2c9",
      "metadata": {
        "id": "097a1084-fff9-4bc9-8072-efe54242d2c9"
      },
      "source": [
        "# Exibindo Gráficos no Python\n",
        "\n",
        "### Importância\n",
        "\n",
        "- Para exploração e visualização de dados, nada melhor do que usar gráficos para isso. Apesar do Python ser programação, gráficos facilitam d+ em qualquer projeto que trabalhe com dados.\n",
        "\n",
        "### Estrutura\n",
        "\n",
        "- Usaremos o módulo Matplotlib.pyplot, que é o módulo mais usado no Python. Existem outros, como o Seaborn e o Plotly, caso queira ver/usar"
      ]
    },
    {
      "cell_type": "code",
      "execution_count": null,
      "id": "9ef175fa-6404-4264-ae3b-6b254b263096",
      "metadata": {
        "id": "9ef175fa-6404-4264-ae3b-6b254b263096",
        "outputId": "3ecad16f-685e-4e85-aaaa-9970ec650401"
      },
      "outputs": [
        {
          "data": {
            "image/png": "[encoded data removed]",
            "text/plain": [
              "<Figure size 640x480 with 1 Axes>"
            ]
          },
          "metadata": {},
          "output_type": "display_data"
        }
      ],
      "source": [
        "vendas_meses = [1500, 1727, 1350, 999, 1050, 1027, 1022, 1500, 2000, 2362, 2100, 2762]\n",
        "meses = ['jan', 'fev', 'mar', 'abr', 'mai', 'jun', 'jul', 'ago', 'set', 'out', 'nov', 'dez']\n",
        "\n",
        "#plotar o gráfico da forma mais simples\n",
        "import matplotlib.pyplot as plt\n",
        "\n",
        "plt.plot(meses, vendas_meses)\n",
        "plt.ylabel('Vendas')\n",
        "plt.xlabel('Meses')\n",
        "plt.axis([0, 12, 0, max(vendas_meses)+500])\n",
        "plt.show()"
      ]
    },
    {
      "cell_type": "markdown",
      "id": "64df4027-7499-4b6e-8706-8ef6f822d55f",
      "metadata": {
        "id": "64df4027-7499-4b6e-8706-8ef6f822d55f"
      },
      "source": [
        "- Adicionar um Label no eixo X ou eixo Y\n",
        "- Mudar os nomes dos meses\n",
        "- Ajeitando o Eixo"
      ]
    },
    {
      "cell_type": "markdown",
      "id": "bcfed3d6-e350-4295-8e64-ad48333f3f0f",
      "metadata": {
        "id": "bcfed3d6-e350-4295-8e64-ad48333f3f0f"
      },
      "source": [
        "# Mais edições de Gráfico com MatplotLib"
      ]
    },
    {
      "cell_type": "code",
      "execution_count": null,
      "id": "093be99d-6989-46f1-b8f5-aef2dd86c8f6",
      "metadata": {
        "id": "093be99d-6989-46f1-b8f5-aef2dd86c8f6"
      },
      "outputs": [],
      "source": [
        "#importando o matplotlib\n",
        "import matplotlib.pyplot as plt"
      ]
    },
    {
      "cell_type": "markdown",
      "id": "ad2e34f2-5de9-46b0-a71e-7ff0e8d0ee7d",
      "metadata": {
        "id": "ad2e34f2-5de9-46b0-a71e-7ff0e8d0ee7d"
      },
      "source": [
        "- Usando o módulo numpy para trabalhar com números"
      ]
    },
    {
      "cell_type": "code",
      "execution_count": null,
      "id": "fbc7bb1b-8fdf-421a-9828-9db304b9f40a",
      "metadata": {
        "id": "fbc7bb1b-8fdf-421a-9828-9db304b9f40a"
      },
      "outputs": [],
      "source": [
        "#importando o módulo numpy\n",
        "import numpy as np"
      ]
    },
    {
      "cell_type": "markdown",
      "id": "0f3edd73-205d-4dfe-804c-30ed6eb8a324",
      "metadata": {
        "id": "0f3edd73-205d-4dfe-804c-30ed6eb8a324"
      },
      "source": [
        "### Outros tipos de Gráfico:\n",
        "- Linha"
      ]
    },
    {
      "cell_type": "code",
      "execution_count": null,
      "id": "28551b9f-b21e-434a-bad2-651cdffa3292",
      "metadata": {
        "id": "28551b9f-b21e-434a-bad2-651cdffa3292",
        "outputId": "4f1d63f8-369e-44bf-c306-9509e2090343"
      },
      "outputs": [
        {
          "name": "stdout",
          "output_type": "stream",
          "text": [
            "[ 1  2  3  4  5  6  7  8  9 10 11 12 13 14 15 16 17 18 19 20 21 22 23 24\n",
            " 25 26 27 28 29 30 31 32 33 34 35 36 37 38 39 40 41 42 43 44 45 46 47 48\n",
            " 49 50]\n"
          ]
        }
      ],
      "source": [
        "vendas = np.random.randint(1000, 3000, 50)\n",
        "meses = np.arange(1, 51)\n",
        "print(meses)"
      ]
    },
    {
      "cell_type": "code",
      "execution_count": null,
      "id": "3834c4ce-e9ef-42ef-90f7-e0dade6d2130",
      "metadata": {
        "id": "3834c4ce-e9ef-42ef-90f7-e0dade6d2130",
        "outputId": "cdb7d6ca-e7f4-4ab1-c941-38d612de3096"
      },
      "outputs": [
        {
          "data": {
            "image/png": "[encoded data removed]",
            "text/plain": [
              "<Figure size 640x480 with 1 Axes>"
            ]
          },
          "metadata": {},
          "output_type": "display_data"
        }
      ],
      "source": [
        "plt.plot(meses, vendas)\n",
        "plt.axis([0, 50, 0, max(vendas)+200])\n",
        "plt.xlabel('Meses')\n",
        "plt.ylabel('Vendas')\n",
        "plt.show()"
      ]
    },
    {
      "cell_type": "markdown",
      "id": "ba2b9e00-4bf3-46b4-9ecd-0c21ec4a6797",
      "metadata": {
        "id": "ba2b9e00-4bf3-46b4-9ecd-0c21ec4a6797"
      },
      "source": [
        "- Editando o Gráfico de Linha"
      ]
    },
    {
      "cell_type": "code",
      "execution_count": null,
      "id": "38afb4f2-a157-49b8-99ec-f76e73798b4d",
      "metadata": {
        "id": "38afb4f2-a157-49b8-99ec-f76e73798b4d",
        "outputId": "2986b531-49a3-4f0c-fa19-251c974855e8"
      },
      "outputs": [
        {
          "data": {
            "image/png": "[encoded data removed]",
            "text/plain": [
              "<Figure size 640x480 with 1 Axes>"
            ]
          },
          "metadata": {},
          "output_type": "display_data"
        }
      ],
      "source": [
        "#mudando a linha para apenas os marcadores\n",
        "plt.plot(meses, vendas, color='red')\n",
        "plt.axis([0, 50, 0, max(vendas)+200])\n",
        "plt.xlabel('Meses')\n",
        "plt.ylabel('Vendas')\n",
        "plt.show()"
      ]
    },
    {
      "cell_type": "markdown",
      "id": "49033908-8cd2-4de6-9586-869686424b82",
      "metadata": {
        "id": "49033908-8cd2-4de6-9586-869686424b82"
      },
      "source": [
        "- editando o tamanho e a cor da linha - quais parâmetros posso editar?\n",
        "- Dispersão"
      ]
    },
    {
      "cell_type": "code",
      "execution_count": null,
      "id": "f34808e6-a893-4834-8679-0ca2f33c177f",
      "metadata": {
        "id": "f34808e6-a893-4834-8679-0ca2f33c177f",
        "outputId": "f28382ab-8ebe-4518-bec2-926a7eb45706"
      },
      "outputs": [
        {
          "data": {
            "image/png": "[encoded data removed]",
            "text/plain": [
              "<Figure size 640x480 with 1 Axes>"
            ]
          },
          "metadata": {},
          "output_type": "display_data"
        }
      ],
      "source": [
        "plt.scatter(meses, vendas)\n",
        "plt.show()"
      ]
    },
    {
      "cell_type": "markdown",
      "id": "2ed21446-5c65-4200-b81d-df90037d0210",
      "metadata": {
        "id": "2ed21446-5c65-4200-b81d-df90037d0210"
      },
      "source": [
        "- Barras"
      ]
    },
    {
      "cell_type": "code",
      "execution_count": null,
      "id": "afb07198-a3eb-4cf1-8758-2fc41e1bf865",
      "metadata": {
        "id": "afb07198-a3eb-4cf1-8758-2fc41e1bf865",
        "outputId": "a985b605-0a8e-4cca-931e-3a27dc7c615d"
      },
      "outputs": [
        {
          "data": {
            "image/png": "[encoded data removed]",
            "text/plain": [
              "<Figure size 640x480 with 1 Axes>"
            ]
          },
          "metadata": {},
          "output_type": "display_data"
        }
      ],
      "source": [
        "plt.bar(meses, vendas)\n",
        "plt.show()"
      ]
    },
    {
      "cell_type": "markdown",
      "id": "1df6e842-801f-496f-8217-f9cb9bc8ffa9",
      "metadata": {
        "id": "1df6e842-801f-496f-8217-f9cb9bc8ffa9"
      },
      "source": [
        "- Trabalhando com Múltiplos Gráficos no mesmo \"Plot\" -> Para melhor visualização/comparação"
      ]
    },
    {
      "cell_type": "code",
      "execution_count": null,
      "id": "3470db95-12c1-4df5-9193-ccac527b6f41",
      "metadata": {
        "scrolled": true,
        "id": "3470db95-12c1-4df5-9193-ccac527b6f41",
        "outputId": "265d7775-a209-483b-ca7c-f2562f6934c9"
      },
      "outputs": [
        {
          "data": {
            "image/png": "[encoded data removed]",
            "text/plain": [
              "<Figure size 1500x300 with 3 Axes>"
            ]
          },
          "metadata": {},
          "output_type": "display_data"
        }
      ],
      "source": [
        "plt.figure(1, figsize=(15, 3))\n",
        "plt.subplot(1, 3, 1)\n",
        "plt.plot(meses, vendas, color='red')\n",
        "plt.subplot(1, 3, 2)\n",
        "plt.scatter(meses, vendas)\n",
        "plt.subplot(1, 3, 3)\n",
        "plt.bar(meses, vendas)\n",
        "plt.show()"
      ]
    },
    {
      "cell_type": "code",
      "execution_count": null,
      "id": "2048481d",
      "metadata": {
        "id": "2048481d"
      },
      "outputs": [],
      "source": []
    },
    {
      "cell_type": "code",
      "execution_count": null,
      "id": "85803f3b",
      "metadata": {
        "id": "85803f3b"
      },
      "outputs": [],
      "source": []
    },
    {
      "cell_type": "code",
      "execution_count": null,
      "id": "e4713a19",
      "metadata": {
        "id": "e4713a19"
      },
      "outputs": [],
      "source": []
    },
    {
      "cell_type": "code",
      "execution_count": null,
      "id": "ef69bc2c",
      "metadata": {
        "id": "ef69bc2c"
      },
      "outputs": [],
      "source": []
    },
    {
      "cell_type": "markdown",
      "id": "94f67e01",
      "metadata": {
        "id": "94f67e01"
      },
      "source": [
        "# Módulo Time"
      ]
    },
    {
      "cell_type": "markdown",
      "id": "be518dab-b608-4765-91e2-92406ed89413",
      "metadata": {
        "id": "be518dab-b608-4765-91e2-92406ed89413"
      },
      "source": [
        "# Módulos\n",
        "## Módulo `time` em Python\n",
        "\n",
        "O módulo `time` em Python fornece uma variedade de funções para trabalhar com tempo.\n",
        "\n",
        "## time.time()\n",
        "\n",
        "A função `time()` retorna o tempo atual em segundos desde a Epoch (1º de janeiro de 1970).  "
      ]
    },
    {
      "cell_type": "code",
      "execution_count": null,
      "id": "d567ccee-c2ec-4aa1-b548-c845aadf97b7",
      "metadata": {
        "id": "d567ccee-c2ec-4aa1-b548-c845aadf97b7"
      },
      "outputs": [],
      "source": [
        "import time\n",
        "\n",
        "tempo_atual_segundos = time.time()\n",
        "\n",
        "print(f\"Tempo atual: {tempo_atual_segundos} segundos desde a Epoch\")"
      ]
    },
    {
      "cell_type": "code",
      "execution_count": null,
      "id": "609824c7-347e-4125-b1e6-106fbfdc5959",
      "metadata": {
        "id": "609824c7-347e-4125-b1e6-106fbfdc5959"
      },
      "outputs": [],
      "source": [
        "tempo_atual_nanosegundos = time.time_ns()\n",
        "\n",
        "print(f\"Tempo atual: {tempo_atual_nanosegundos} nanosegundos desde a Epoch (1/01/1970)\")"
      ]
    },
    {
      "cell_type": "code",
      "execution_count": null,
      "id": "cc382823-7493-4445-b5f9-702f6be8e404",
      "metadata": {
        "id": "cc382823-7493-4445-b5f9-702f6be8e404"
      },
      "outputs": [],
      "source": [
        "inicio = time.time()\n",
        "\n",
        "for i in range(100_000_000): # 10000000\n",
        "    pass\n",
        "\n",
        "fim = time.time()\n",
        "\n",
        "print(f\"Tempo decorrido: {fim - inicio} segundos\")"
      ]
    },
    {
      "cell_type": "markdown",
      "id": "91ea96d9-8768-40b0-a3df-300217d259d5",
      "metadata": {
        "id": "91ea96d9-8768-40b0-a3df-300217d259d5"
      },
      "source": [
        "## time.sleep()\n",
        "\n",
        "A função `sleep()` faz o programa esperar pelo número de segundos especificado."
      ]
    },
    {
      "cell_type": "code",
      "execution_count": null,
      "id": "38de3e73-52c6-4a1d-b180-3f75be9ba05e",
      "metadata": {
        "id": "38de3e73-52c6-4a1d-b180-3f75be9ba05e"
      },
      "outputs": [],
      "source": [
        "print(\"Iniciando a pausa\")\n",
        "time.sleep(5)  # Pausa o programa por 5 segundos\n",
        "print(\"Pausa terminada\")"
      ]
    },
    {
      "cell_type": "markdown",
      "id": "385c08fb-26a9-4002-ad35-c918d869335d",
      "metadata": {
        "id": "385c08fb-26a9-4002-ad35-c918d869335d"
      },
      "source": [
        "## time.ctime()\n",
        "\n",
        "A função `ctime()` converte um tempo expresso em segundos desde a epoch em uma string representando o tempo local."
      ]
    },
    {
      "cell_type": "code",
      "execution_count": null,
      "id": "1ce6e39b-0355-4c6e-b785-7e3e3ab92dea",
      "metadata": {
        "id": "1ce6e39b-0355-4c6e-b785-7e3e3ab92dea"
      },
      "outputs": [],
      "source": [
        "tempo_em_segundos = time.time()\n",
        "tempo_local = time.ctime(tempo_em_segundos)\n",
        "print(f\"Tempo local: {tempo_local}\")"
      ]
    },
    {
      "cell_type": "code",
      "execution_count": null,
      "id": "443fcd2a-212c-425d-946e-1bcc68331e65",
      "metadata": {
        "id": "443fcd2a-212c-425d-946e-1bcc68331e65"
      },
      "outputs": [],
      "source": [
        "tempo_em_segundos = time.time()\n",
        "tempo_local = time.ctime(tempo_em_segundos)\n",
        "print(f\"Tempo local: {tempo_local}\")"
      ]
    },
    {
      "cell_type": "markdown",
      "id": "5adde60e-559c-43b3-9755-acdd2d8251eb",
      "metadata": {
        "id": "5adde60e-559c-43b3-9755-acdd2d8251eb"
      },
      "source": [
        "## time.time() vs time.localtime()\n",
        "\n",
        "A função `time()` retorna o tempo atual em segundos desde a epoch. A função `localtime()` converte um tempo expresso em segundos desde a epoch em um objeto `struct_time`. Este objeto contém informações sobre o tempo local, como ano, mês, dia, hora, minuto, segundo, etc. A função `localtime()` usa o fuso horário local."
      ]
    },
    {
      "cell_type": "code",
      "execution_count": null,
      "id": "de71fa8d-a63b-4ba2-bc90-5cffd481934d",
      "metadata": {
        "id": "de71fa8d-a63b-4ba2-bc90-5cffd481934d",
        "outputId": "68e0335d-fc71-4703-f647-de38314a38cb"
      },
      "outputs": [
        {
          "name": "stdout",
          "output_type": "stream",
          "text": [
            "Tempo local: time.struct_time(tm_year=2024, tm_mon=3, tm_mday=5, tm_hour=16, tm_min=31, tm_sec=19, tm_wday=1, tm_yday=65, tm_isdst=0)\n",
            "[2024, 3, 5, 16, 31, 19, 1, 65, 0]\n"
          ]
        }
      ],
      "source": [
        "import time\n",
        "tempo_em_segundos = time.time()\n",
        "tempo_local = time.localtime(tempo_em_segundos)\n",
        "\n",
        "print(f\"Tempo local: {tempo_local}\")\n",
        "print(list(tempo_local))"
      ]
    },
    {
      "cell_type": "code",
      "execution_count": null,
      "id": "14059bff-bb35-4593-8574-7aebacc30826",
      "metadata": {
        "id": "14059bff-bb35-4593-8574-7aebacc30826",
        "outputId": "a07bc8a1-830a-4207-e92f-87e25414df31"
      },
      "outputs": [
        {
          "name": "stdout",
          "output_type": "stream",
          "text": [
            "2024\n"
          ]
        }
      ],
      "source": [
        "print(tempo_local.tm_year)"
      ]
    },
    {
      "cell_type": "code",
      "execution_count": null,
      "id": "86a08adf-8a9b-4c5c-b725-6b862f9d1642",
      "metadata": {
        "id": "86a08adf-8a9b-4c5c-b725-6b862f9d1642",
        "outputId": "a60ed2f7-dae5-44e9-e13f-7e76d472b3d8"
      },
      "outputs": [
        {
          "name": "stdout",
          "output_type": "stream",
          "text": [
            "16\n"
          ]
        }
      ],
      "source": [
        "print(tempo_local.tm_hour)"
      ]
    },
    {
      "cell_type": "code",
      "execution_count": null,
      "id": "f88b2fda-6c3d-48dc-89a4-fbcc62d321b9",
      "metadata": {
        "id": "f88b2fda-6c3d-48dc-89a4-fbcc62d321b9",
        "outputId": "5ed0f92d-9888-45df-acec-0ceda9097b50"
      },
      "outputs": [
        {
          "name": "stdout",
          "output_type": "stream",
          "text": [
            "5\n"
          ]
        }
      ],
      "source": [
        "print(tempo_local.tm_mday)"
      ]
    },
    {
      "cell_type": "code",
      "execution_count": null,
      "id": "b3942208-ea3e-4d49-84d0-ceb8f2e4da44",
      "metadata": {
        "id": "b3942208-ea3e-4d49-84d0-ceb8f2e4da44",
        "outputId": "838d2711-fbda-4ae7-b951-cd7df5bc308b"
      },
      "outputs": [
        {
          "name": "stdout",
          "output_type": "stream",
          "text": [
            "1\n"
          ]
        }
      ],
      "source": [
        "# Dia da semana (0-6, 0 é segunda-feira, 6 é domingo). Documentação: https://docs.python.org/3/library/time.html#time.struct_time\n",
        "print(tempo_local.tm_wday)"
      ]
    },
    {
      "cell_type": "code",
      "execution_count": null,
      "id": "7bca4ca1-7be2-420e-bfe5-05acd882739b",
      "metadata": {
        "id": "7bca4ca1-7be2-420e-bfe5-05acd882739b",
        "outputId": "6889711b-103b-443b-b377-0c28875559f2"
      },
      "outputs": [
        {
          "name": "stdout",
          "output_type": "stream",
          "text": [
            "65\n"
          ]
        }
      ],
      "source": [
        "# Dia do ano (1-366).\n",
        "print(tempo_local.tm_yday)"
      ]
    },
    {
      "cell_type": "code",
      "execution_count": null,
      "id": "d5a6ce9d-5c38-4d73-8ae4-175c186f9b8b",
      "metadata": {
        "id": "d5a6ce9d-5c38-4d73-8ae4-175c186f9b8b",
        "outputId": "fdbfc8bb-9199-4c43-b110-61706d9f7389"
      },
      "outputs": [
        {
          "name": "stdout",
          "output_type": "stream",
          "text": [
            "UTC\n"
          ]
        }
      ],
      "source": [
        "print(tempo_local.tm_zone)"
      ]
    },
    {
      "cell_type": "code",
      "execution_count": null,
      "id": "0d792364-6f2a-43cc-a0b2-55477a548fc2",
      "metadata": {
        "id": "0d792364-6f2a-43cc-a0b2-55477a548fc2",
        "outputId": "bd328542-5dec-45c1-ced7-636d06ab9015"
      },
      "outputs": [
        {
          "name": "stdout",
          "output_type": "stream",
          "text": [
            "1709656682.2059972\n",
            "Tue Mar  5 16:38:02 2024\n",
            "time.struct_time(tm_year=2024, tm_mon=3, tm_mday=5, tm_hour=16, tm_min=38, tm_sec=2, tm_wday=1, tm_yday=65, tm_isdst=0)\n"
          ]
        }
      ],
      "source": [
        "print(time.time())\n",
        "print(time.ctime(time.time()))\n",
        "print(time.localtime())"
      ]
    },
    {
      "cell_type": "markdown",
      "id": "a036ef56-e629-455b-939f-74dcdb4f747b",
      "metadata": {
        "id": "a036ef56-e629-455b-939f-74dcdb4f747b"
      },
      "source": [
        "## time.strftime()\n",
        "\n",
        "A função `strftime()` converte um objeto de tempo struct para uma string de acordo com um formato específico.\n",
        "\n",
        "Os símbolos de formato que podem ser usados estão disponíveis na documentação oficial do Python, [neste link](https://docs.python.org/3/library/time.html#time.strftime).\n",
        "\n",
        "Por exemplo, podemos querer uma string de tempo no seguinte formato: \"Dia da semana, dia do mês de mês do ano, horas:minutos:segundos\". Podemos usar o seguinte código para obter o tempo formatado:"
      ]
    },
    {
      "cell_type": "code",
      "execution_count": null,
      "id": "3c975488-9030-4fe9-aa8a-0395371d2d63",
      "metadata": {
        "id": "3c975488-9030-4fe9-aa8a-0395371d2d63",
        "outputId": "81097a03-555e-425e-ceca-bd5c7ac1b698"
      },
      "outputs": [
        {
          "name": "stdout",
          "output_type": "stream",
          "text": [
            "time.struct_time(tm_year=2024, tm_mon=3, tm_mday=5, tm_hour=21, tm_min=49, tm_sec=49, tm_wday=1, tm_yday=65, tm_isdst=0)\n"
          ]
        }
      ],
      "source": [
        "import time\n",
        "\n",
        "tempo_em_struct = time.localtime()\n",
        "print(tempo_em_struct)"
      ]
    },
    {
      "cell_type": "code",
      "execution_count": null,
      "id": "82540e87-0dc8-4a99-ae97-96bf421e07a8",
      "metadata": {
        "id": "82540e87-0dc8-4a99-ae97-96bf421e07a8",
        "outputId": "e89b375e-56ea-45d2-f987-d7d834b6ad4f"
      },
      "outputs": [
        {
          "name": "stdout",
          "output_type": "stream",
          "text": [
            "05 March 2024\n"
          ]
        }
      ],
      "source": [
        "print(time.strftime(\"%d %B %Y\", tempo_em_struct))"
      ]
    },
    {
      "cell_type": "code",
      "execution_count": null,
      "id": "92c7b32a-41ab-4d79-9af3-4e7d340190f9",
      "metadata": {
        "id": "92c7b32a-41ab-4d79-9af3-4e7d340190f9",
        "outputId": "001ac1c8-a47d-45bf-db1d-06a1a72f9dba"
      },
      "outputs": [
        {
          "name": "stdout",
          "output_type": "stream",
          "text": [
            "21:49:49\n"
          ]
        }
      ],
      "source": [
        "print(time.strftime(\"%H:%M:%S\", tempo_em_struct))"
      ]
    },
    {
      "cell_type": "code",
      "execution_count": null,
      "id": "4929a562-26b4-430c-9f2d-aaa4c40a637e",
      "metadata": {
        "id": "4929a562-26b4-430c-9f2d-aaa4c40a637e",
        "outputId": "2f41a6e5-f5a2-40df-b58c-34189e145a74"
      },
      "outputs": [
        {
          "name": "stdout",
          "output_type": "stream",
          "text": [
            "Tempo formatado: Tuesday, 05 de March de 2024, 21:49:49\n"
          ]
        }
      ],
      "source": [
        "tempo_formatado = time.strftime(\"%A, %d de %B de %Y, %H:%M:%S\", tempo_em_struct)\n",
        "print(f\"Tempo formatado: {tempo_formatado}\")"
      ]
    },
    {
      "cell_type": "markdown",
      "id": "c2effbe7-3c87-4ce3-b040-3a57ee511ca3",
      "metadata": {
        "id": "c2effbe7-3c87-4ce3-b040-3a57ee511ca3"
      },
      "source": [
        "Observe que o dia e o mês apareceram em inglês. Para obter o tempo formatado em português, podemos usar o módulo `locale` do Python."
      ]
    },
    {
      "cell_type": "code",
      "execution_count": null,
      "id": "8541b7db-3719-4564-a194-72572bdbf429",
      "metadata": {
        "id": "8541b7db-3719-4564-a194-72572bdbf429",
        "outputId": "81012a9f-70a5-4ab7-87fc-851374343ea7"
      },
      "outputs": [
        {
          "name": "stdout",
          "output_type": "stream",
          "text": [
            "Tempo formatado: terça, 05 de março de 2024, 21:56:24\n"
          ]
        }
      ],
      "source": [
        "import locale\n",
        "import time\n",
        "\n",
        "# Definir a localização para português.\n",
        "locale.setlocale(locale.LC_TIME, 'pt_BR.UTF-8')\n",
        "\n",
        "tempo_em_struct = time.localtime()\n",
        "tempo_formatado = time.strftime(\"%A, %d de %B de %Y, %H:%M:%S\", tempo_em_struct)\n",
        "print(f\"Tempo formatado: {tempo_formatado}\")"
      ]
    },
    {
      "cell_type": "markdown",
      "id": "a6624411-5e50-44e8-b833-1e5ec743abad",
      "metadata": {
        "id": "a6624411-5e50-44e8-b833-1e5ec743abad"
      },
      "source": [
        "## time.strptime()\n",
        "\n",
        "A função `strptime()` analisa uma string representando um horário de acordo com um formato. O retorno é um objeto `struct_time`."
      ]
    },
    {
      "cell_type": "code",
      "execution_count": null,
      "id": "538cf2f1-0349-4a66-8b6f-ac86a693df23",
      "metadata": {
        "id": "538cf2f1-0349-4a66-8b6f-ac86a693df23",
        "outputId": "5ee09427-0693-4a4f-a3a0-9af6d986939e"
      },
      "outputs": [
        {
          "name": "stdout",
          "output_type": "stream",
          "text": [
            "Tempo em struct: time.struct_time(tm_year=2023, tm_mon=6, tm_mday=30, tm_hour=0, tm_min=0, tm_sec=0, tm_wday=4, tm_yday=181, tm_isdst=-1)\n"
          ]
        }
      ],
      "source": [
        "string_tempo = \"30 Junho, 2023\"\n",
        "formato = \"%d %B, %Y\"\n",
        "tempo_em_struct = time.strptime(string_tempo, formato)\n",
        "\n",
        "print(f\"Tempo em struct: {tempo_em_struct}\")"
      ]
    },
    {
      "cell_type": "code",
      "execution_count": null,
      "id": "bdc678e5-6e68-4d3a-8f94-d3aa2736ed5f",
      "metadata": {
        "id": "bdc678e5-6e68-4d3a-8f94-d3aa2736ed5f",
        "outputId": "8d90d4fc-26e9-4cbf-e02a-52c0a76371f8"
      },
      "outputs": [
        {
          "name": "stdout",
          "output_type": "stream",
          "text": [
            "Tempo em struct: time.struct_time(tm_year=2023, tm_mon=9, tm_mday=6, tm_hour=0, tm_min=0, tm_sec=0, tm_wday=2, tm_yday=249, tm_isdst=-1)\n"
          ]
        }
      ],
      "source": [
        "# data na forma dia/mês/ano\n",
        "string_tempo = \"06/09/2023\"\n",
        "formato = \"%d/%m/%Y\"\n",
        "tempo_em_struct = time.strptime(string_tempo, formato)\n",
        "\n",
        "print(f\"Tempo em struct: {tempo_em_struct}\")"
      ]
    },
    {
      "cell_type": "markdown",
      "id": "a3c87717-457e-48bd-8219-3767234ac170",
      "metadata": {
        "id": "a3c87717-457e-48bd-8219-3767234ac170"
      },
      "source": [
        "## time.gmtime()\n",
        "\n",
        "A função `gmtime()` converte um tempo expresso em segundos desde a epoch em um objeto struct_time em UTC. UTC significa Coordinated Universal Time, também conhecido como GMT (Greenwich Mean Time). Este é o fuso horário padrão em que as funções `time` operam.\n"
      ]
    },
    {
      "cell_type": "code",
      "execution_count": null,
      "id": "9a97a783-3e20-40d5-ad0f-d9e5cc269db7",
      "metadata": {
        "id": "9a97a783-3e20-40d5-ad0f-d9e5cc269db7",
        "outputId": "c3220490-377a-47a6-9716-38f6c2955e94"
      },
      "outputs": [
        {
          "data": {
            "text/plain": [
              "time.struct_time(tm_year=1970, tm_mon=1, tm_mday=1, tm_hour=0, tm_min=0, tm_sec=0, tm_wday=3, tm_yday=1, tm_isdst=0)"
            ]
          },
          "execution_count": 117,
          "metadata": {},
          "output_type": "execute_result"
        }
      ],
      "source": [
        "# Tempo em UTC para 0 segundos desde a epoch\n",
        "time.gmtime(0)"
      ]
    },
    {
      "cell_type": "code",
      "execution_count": null,
      "id": "6848ffc7-4c35-4b8d-ae31-e3f1d8467f67",
      "metadata": {
        "id": "6848ffc7-4c35-4b8d-ae31-e3f1d8467f67",
        "outputId": "ec85520f-ad0a-429f-fa49-073785fae929"
      },
      "outputs": [
        {
          "name": "stdout",
          "output_type": "stream",
          "text": [
            "Tempo em UTC: time.struct_time(tm_year=2024, tm_mon=3, tm_mday=5, tm_hour=22, tm_min=9, tm_sec=17, tm_wday=1, tm_yday=65, tm_isdst=0)\n"
          ]
        }
      ],
      "source": [
        "gmt_struct = time.gmtime()  # tempo atual em UTC já que não fornecemos nenhum argumento\n",
        "\n",
        "print(f\"Tempo em UTC: {gmt_struct}\")"
      ]
    },
    {
      "cell_type": "code",
      "execution_count": null,
      "id": "6df2c9d0-66da-432e-9c77-c59d6a47c461",
      "metadata": {
        "id": "6df2c9d0-66da-432e-9c77-c59d6a47c461",
        "outputId": "b2c3b677-3130-434a-b81f-0f55337f51ec"
      },
      "outputs": [
        {
          "name": "stdout",
          "output_type": "stream",
          "text": [
            "Tempo local: time.struct_time(tm_year=2024, tm_mon=3, tm_mday=5, tm_hour=22, tm_min=9, tm_sec=20, tm_wday=1, tm_yday=65, tm_isdst=0)\n"
          ]
        }
      ],
      "source": [
        "# comparando com localtime\n",
        "print(f\"Tempo local: {time.localtime()}\")"
      ]
    },
    {
      "cell_type": "code",
      "execution_count": null,
      "id": "e5e7ad14-5e17-4f2b-ac36-88a14f9eed3f",
      "metadata": {
        "id": "e5e7ad14-5e17-4f2b-ac36-88a14f9eed3f",
        "outputId": "271dba9d-a2d1-433f-e813-48b24f8ab9b4"
      },
      "outputs": [
        {
          "name": "stdout",
          "output_type": "stream",
          "text": [
            "Tempo em UTC: terça, 05 de março de 2024, 22:09:17\n"
          ]
        }
      ],
      "source": [
        "print(f\"Tempo em UTC: {time.strftime('%A, %d de %B de %Y, %H:%M:%S', gmt_struct)}\")"
      ]
    },
    {
      "cell_type": "code",
      "execution_count": null,
      "id": "5e934935-6b55-40b7-954a-3b1049c7b969",
      "metadata": {
        "id": "5e934935-6b55-40b7-954a-3b1049c7b969",
        "outputId": "fefe7f61-4b76-416f-a549-580284f1c9fd"
      },
      "outputs": [
        {
          "name": "stdout",
          "output_type": "stream",
          "text": [
            "GMT\n"
          ]
        }
      ],
      "source": [
        "print(gmt_struct.tm_zone)"
      ]
    },
    {
      "cell_type": "code",
      "execution_count": null,
      "id": "04c2c4b0-8065-4b64-98c4-2b11e09f92e2",
      "metadata": {
        "id": "04c2c4b0-8065-4b64-98c4-2b11e09f92e2",
        "outputId": "46588c3a-c3e0-4cb7-85e2-8f896f5243e1"
      },
      "outputs": [
        {
          "name": "stdout",
          "output_type": "stream",
          "text": [
            "Tempo em UTC: time.struct_time(tm_year=2009, tm_mon=2, tm_mday=13, tm_hour=23, tm_min=31, tm_sec=30, tm_wday=4, tm_yday=44, tm_isdst=0)\n",
            "Tempo em UTC: sexta, 13 de fevereiro de 2009, 23:31:30\n"
          ]
        }
      ],
      "source": [
        "gmt_struct_exemplo = time.gmtime(1_234_567_890)\n",
        "\n",
        "print(f\"Tempo em UTC: {gmt_struct_exemplo}\")\n",
        "\n",
        "print(f\"Tempo em UTC: {time.strftime('%A, %d de %B de %Y, %H:%M:%S', gmt_struct_exemplo)}\")"
      ]
    },
    {
      "cell_type": "markdown",
      "id": "91e5fe70-f8d2-4bcc-a607-8f807f8e206e",
      "metadata": {
        "id": "91e5fe70-f8d2-4bcc-a607-8f807f8e206e"
      },
      "source": [
        "## time.mktime()\n",
        "\n",
        "A função `mktime()` converte um objeto `struct_time` em segundos desde a epoch. Este é o inverso da função `localtime()`. Por exemplo, podemos converter o objeto `struct_time` retornado pela função `localtime()` em segundos desde a epoch usando a função `mktime()`. O resultado deve ser o mesmo que o valor retornado pela função `time()`."
      ]
    },
    {
      "cell_type": "code",
      "execution_count": null,
      "id": "3b8a4006-9d9c-42b5-b849-4023ac6dd4d1",
      "metadata": {
        "id": "3b8a4006-9d9c-42b5-b849-4023ac6dd4d1"
      },
      "outputs": [],
      "source": [
        "tempo_em_struct = time.localtime()\n",
        "tempo_em_segundos = time.mktime(tempo_em_struct)\n",
        "print(f\"Tempo em segundos: {tempo_em_segundos}\")\n",
        "print(f\"Tempo em segundos: {time.time()}\")"
      ]
    },
    {
      "cell_type": "markdown",
      "id": "fe1c0f29-d4ae-49b5-afb3-c8fdf7d93399",
      "metadata": {
        "id": "fe1c0f29-d4ae-49b5-afb3-c8fdf7d93399"
      },
      "source": [
        "Podemos usar o método `mktime` para calcular a diferença entre dois tempos. Por exemplo, podemos calcular a diferença entre o tempo atual e o início do ano. O resultado será o número de segundos entre esses dois tempos. Podemos usar a função `localtime()` para obter o tempo atual e a função `mktime()` para obter o tempo em 1 de janeiro de 2023 (ano deste material)."
      ]
    },
    {
      "cell_type": "code",
      "execution_count": null,
      "id": "3557edce-be7c-4916-884a-53491784de08",
      "metadata": {
        "id": "3557edce-be7c-4916-884a-53491784de08"
      },
      "outputs": [],
      "source": [
        "import time\n",
        "tempo_atual = time.localtime()\n",
        "tempo_ano_novo = time.mktime((2023, 1, 1, 0, 0, 0, 0, 0, 0))\n",
        "\n",
        "diferenca = time.mktime(tempo_atual) - tempo_ano_novo\n",
        "print(f\"Diferença em segundos: {diferenca} do começo do ano até aqui\")"
      ]
    },
    {
      "cell_type": "markdown",
      "id": "425700da-8483-4e63-b50a-714dd62b75ff",
      "metadata": {
        "id": "425700da-8483-4e63-b50a-714dd62b75ff"
      },
      "source": [
        "### Contagem regressiva\n",
        "\n",
        "Um evento especial está programado para começar em 10 segundos. Crie uma contagem regressiva que começa em 10 e vai até 0, com uma pausa de um segundo entre cada número."
      ]
    },
    {
      "cell_type": "code",
      "execution_count": null,
      "id": "690fee87-4471-4084-ba0e-59d0c3a4f402",
      "metadata": {
        "id": "690fee87-4471-4084-ba0e-59d0c3a4f402",
        "outputId": "1dec9881-c55e-4d64-8545-4594bfb6afb2"
      },
      "outputs": [
        {
          "name": "stdout",
          "output_type": "stream",
          "text": [
            "10\n",
            "9\n",
            "8\n",
            "7\n",
            "6\n",
            "5\n",
            "4\n",
            "3\n",
            "2\n",
            "1\n",
            "O evento começou!\n"
          ]
        }
      ],
      "source": [
        "import time\n",
        "\n",
        "for i in range(10, 0, -1):\n",
        "    print(i)\n",
        "    time.sleep(1)\n",
        "print(\"O evento começou!\")"
      ]
    },
    {
      "cell_type": "code",
      "execution_count": null,
      "id": "edfafd92-ba4c-4f24-9a11-7f635470cdcd",
      "metadata": {
        "id": "edfafd92-ba4c-4f24-9a11-7f635470cdcd",
        "outputId": "5c1b380d-dc0f-4140-db5c-2d6063dd5264"
      },
      "outputs": [
        {
          "name": "stdout",
          "output_type": "stream",
          "text": [
            "0  \r"
          ]
        }
      ],
      "source": [
        "import time\n",
        "for i in range(10,-1,-1):\n",
        "    print(i,end=' \\r')\n",
        "    time.sleep(1)"
      ]
    },
    {
      "cell_type": "markdown",
      "id": "5d7393f8-bba7-4b45-9c12-632604d1e259",
      "metadata": {
        "id": "5d7393f8-bba7-4b45-9c12-632604d1e259"
      },
      "source": [
        "## Formatação de tempo\n",
        "\n",
        "Uma empresa quer exibir a data e a hora atual em seu site no formato \"Dia da semana, dia do mês de mês do ano, horas:minutos\". Crie um script Python que mostra a data e a hora atuais neste formato."
      ]
    },
    {
      "cell_type": "code",
      "execution_count": null,
      "id": "c1cbf8b4-3655-4723-bd1d-2c22ba76a0d9",
      "metadata": {
        "id": "c1cbf8b4-3655-4723-bd1d-2c22ba76a0d9",
        "outputId": "53d466d0-fd51-47f4-bf33-648568a8401e"
      },
      "outputs": [
        {
          "name": "stdout",
          "output_type": "stream",
          "text": [
            "Data e hora atuais: terça, 05 de março de 2024, 22:19\n"
          ]
        }
      ],
      "source": [
        "import time\n",
        "\n",
        "tempo_em_struct = time.localtime()\n",
        "tempo_formatado = time.strftime(\"%A, %d de %B de %Y, %H:%M\", tempo_em_struct)\n",
        "\n",
        "print(f\"Data e hora atuais: {tempo_formatado}\")"
      ]
    },
    {
      "cell_type": "code",
      "execution_count": null,
      "id": "a2fa3ef1-64ff-438c-acdb-3f8a8b66a27d",
      "metadata": {
        "id": "a2fa3ef1-64ff-438c-acdb-3f8a8b66a27d",
        "outputId": "c07595ec-aba5-43d6-c27f-a055afab4e10"
      },
      "outputs": [
        {
          "name": "stdout",
          "output_type": "stream",
          "text": [
            "Data e hora atuais: terça, 05 de março de 2024, 22:20\n"
          ]
        }
      ],
      "source": [
        "import locale\n",
        "import time\n",
        "\n",
        "# Definir a localização para português.\n",
        "locale.setlocale(locale.LC_TIME, 'pt_BR.UTF-8')\n",
        "\n",
        "tempo_em_struct = time.localtime()\n",
        "tempo_formatado = time.strftime(\"%A, %d de %B de %Y, %H:%M\", tempo_em_struct)\n",
        "\n",
        "print(f\"Data e hora atuais: {tempo_formatado}\")"
      ]
    },
    {
      "cell_type": "code",
      "execution_count": null,
      "id": "8860c569",
      "metadata": {
        "id": "8860c569"
      },
      "outputs": [],
      "source": []
    }
  ],
  "metadata": {
    "kernelspec": {
      "display_name": "anaconda-panel-2023.05-py310",
      "language": "python",
      "name": "conda-env-anaconda-panel-2023.05-py310-py"
    },
    "language_info": {
      "codemirror_mode": {
        "name": "ipython",
        "version": 3
      },
      "file_extension": ".py",
      "mimetype": "text/x-python",
      "name": "python",
      "nbconvert_exporter": "python",
      "pygments_lexer": "ipython3",
      "version": "3.11.5"
    },
    "colab": {
      "provenance": []
    }
  },
  "nbformat": 4,
  "nbformat_minor": 5
}