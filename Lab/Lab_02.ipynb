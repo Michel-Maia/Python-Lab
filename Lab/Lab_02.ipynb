{
  "nbformat": 4,
  "nbformat_minor": 0,
  "metadata": {
    "colab": {
      "provenance": [],
      "authorship_tag": "ABX9TyP9QzUI+tsm3/0YXGnDgk0x"
    },
    "kernelspec": {
      "name": "python3",
      "display_name": "Python 3"
    },
    "language_info": {
      "name": "python"
    }
  },
  "cells": [
    {
      "cell_type": "markdown",
      "source": [
        " LAB   Variáveis\n"
      ],
      "metadata": {
        "id": "owLbHgWynOQD"
      }
    },
    {
      "cell_type": "markdown",
      "source": [
        "Aqui está uma breve história:\n",
        "\n",
        "Era uma vez em Appleland, John tinha três maçãs, Maria cinco maçãs e Adam tinha seis maças. Todos ficaram muito felizes e viveram por muito tempo. Fim da história.\n",
        "\n",
        "Sua tarefa:\n",
        "\n",
        "crie as variáveis: john, mary e adam;\n",
        "atribuir valores às variáveis. Os valores devem ser iguais aos números de fruto possuído por John, Mary e Adam, respectivamente;\n",
        "tendo armazenado os números nas variáveis, imprimindo as variáveis em uma linha e separando cada uma delas com uma vírgula;\n",
        "Agora, crie uma nova variável chamada total_apples igual à adição das três variáveis anteriores.\n",
        "imprima o valor armazenado em total_apples no console;\n",
        "experimente com seu código: crie novas variáveis, atribua valores diferentes a elas e execute várias operações aritméticas nelas (por exemplo, +, -, *, /, //, etc.). Tente imprimir uma sequência de caracteres e um número inteiro juntos em uma linha, por exemplo, \"Número total de maças:\" e total_apples."
      ],
      "metadata": {
        "id": "JazGwErpnR5x"
      }
    },
    {
      "cell_type": "markdown",
      "source": [
        "Cenário\n",
        "Milhas e quilômetros são unidades de comprimento ou distância.\n",
        "\n",
        "Lembrando que 1 milha é igual a aproximadamente 1.61 quilômetros, complete o programa no editor para que converta:\n",
        "\n",
        "milhas em quilômetros;\n",
        "quilômetros em milhas.\n",
        "Não altere nada no código atual. Escreva seu código nos locais indicados por ###. Teste seu programa com os dados que fornecemos no código-fonte.\n",
        "\n",
        "Preste atenção especial ao que está acontecendo na função de print(). Analise como fornecemos multiplos argumentos para a função e como produzimos os dados esperados.\n",
        "\n",
        "Observe que alguns dos argumentos dentro da função print() são strings (por exemplo, \"milhas é\", enquanto outros são variáveis (por exemplo, miles).\n",
        "\n",
        "  Dica  \n",
        "Há mais uma coisa interessante acontecendo lá. Você pode ver outra função dentro da função print()? É a função round(). Seu trabalho é arredondar o resultado de saída para o número de casas decimais especificadas entre parênteses e retornar um float (dentro da função round() você pode encontrar o nome da variável, uma vírgula e o número de casas decimais que pretendemos por). Falaremos sobre funções muito em breve, então não se preocupe que tudo pode não estar totalmente claro ainda. Só queremos despertar a sua curiosidade.\n",
        "\n",
        "Depois de concluir o laboratório, abra o Sandbox e experimente um pouco mais. Tente escrever conversores diferentes, por exemplo, um conversor de USD para EUR, um conversor de temperatura, etc. - deixe sua imaginação voar! Tente gerar os resultados combinando strings e variáveis. Tente usar e experimentar a função round() para arredondar seus resultados para uma, duas ou três casas decimais. Confira o que acontece se você não fornecer qualquer número de dígitos. Lembre-se de testar seus programas.\n",
        "\n",
        "Experimente, tire conclusões e aprenda. Seja curioso.\n",
        "\n",
        "Saída esperada\n",
        "7.38 milhas é 11.88 quilômetros\n",
        "12.25 quilômetros é 7.61 milhas"
      ],
      "metadata": {
        "id": "I7XdTyaKnXKo"
      }
    },
    {
      "cell_type": "code",
      "source": [
        "kilometers = 12.25\n",
        "miles = 7.38\n",
        "\n",
        "## miles_to_kilometers = \n",
        "## kilometers_to_miles = \n",
        "\n",
        "print(miles, \"milhas é\", round(miles_to_kilometers, 2), \"quilômetros\")\n",
        "print(kilometers, \"quilômetros é\", round(kilometers_to_miles, 2), \"milhas\")"
      ],
      "metadata": {
        "id": "aoFo3auindXs"
      },
      "execution_count": null,
      "outputs": []
    },
    {
      "cell_type": "markdown",
      "source": [
        "Cenário\n",
        "Dê uma olhada no código no editor: ele lê um valor float, coloca-o em uma variável chamada x e imprime o valor de uma variável chamada y. Sua tarefa é completar o código para avaliar a seguinte expressão:\n",
        "\n",
        "3x3 - 2x2 + 3x - 1\n",
        "\n",
        "O resultado deve ser atribuído a y.\n",
        "\n",
        "Lembre-se de que a notação algébricas clássica gosta de omitir o operador de multiplicação - você precisa usá-la explicitamente. Observe como mudamos o tipo de dados para garantir que x seja do tipo float.\n",
        "\n",
        "Mantenha seu código limpo e legível e teste-o usando os dados que fornecemos, atribuindo-o sempre à variável x (codificando-o). Não desanime por qualquer falha inicial. Seja persistente e inquisitivo.\n",
        "\n",
        "Exemplo de entrada\n",
        "x = 0\n",
        "x = 1\n",
        "x = -1\n",
        "Exemplo de saída\n",
        "y = -1.0\n",
        "y = 3.0\n",
        "y = -9.0\n",
        "Output\n"
      ],
      "metadata": {
        "id": "ivJOWXmQnnTH"
      }
    },
    {
      "cell_type": "code",
      "source": [
        "x = # Codifique seus dados de teste aqui.\n",
        "x = float(x)\n",
        "# Escreva seu código aqui.\n",
        "print(\"y =\", y)"
      ],
      "metadata": {
        "id": "fqBFwwV8nqDP"
      },
      "execution_count": null,
      "outputs": []
    },
    {
      "cell_type": "markdown",
      "source": [
        "Cenário\n",
        "O código no editor contém comentários. Tente melhorá-lo: adicione ou remova comentários onde achar apropriado (sim, às vezes, remover um comentário pode tornar o código mais legível) e altere os nomes de variáveis onde você achar que isso melhorará a compreensão do código.\n",
        "\n",
        "  Observação  \n",
        "Os comentários são muito importantes. Eles são usados não apenas para tornar seus programas mais fáceis de entender, mas também para desabilitar as partes do código que não são necessárias no momento (por exemplo, quando você precisa testar apenas algumas partes do seu código e ignorar outras). Bons programadores descrevem cada parte importante do código e dão nomes auto-comentados às variáveis, pois às vezes é simplesmente muito melhor deixar as informações no código.\n",
        "\n",
        "É bom usar nomes de variáveis legíveis e, às vezes, é melhor dividir seu código em partes nomeadas (por exemplo, funções). Em algumas situações, é uma boa ideia escrever as etapas dos cálculos de forma mais clara.\n",
        "\n",
        "Só mais uma coisa: pode acontecer de um comentário conter uma informação errada ou incorreta - você nunca deve fazer isso de propósito!"
      ],
      "metadata": {
        "id": "68K5KIdtn00n"
      }
    },
    {
      "cell_type": "code",
      "source": [
        "#esse programa calcula o número de segundos em um dado número de horas\n",
        "# esse programa foi escrito a dois dias atrás\n",
        "\n",
        "a = 2 # número de horas\n",
        "seconds = 3600 # número de segundos em uma hora\n",
        "\n",
        "print(\"Horas: \", a) #imprimindo o número de horas\n",
        "# print(\"Seconds in Hours: \", a * seconds) # imprimindo o número de segundos em uma dada hora\n",
        "\n",
        "#aqui também devería escrever \"Adeus\", mas o programador não teve tempo de escrever código\n",
        "#esse é o final do programa que computa o número de segundos em 3 horas"
      ],
      "metadata": {
        "id": "_2Nkd7Y6n3cM"
      },
      "execution_count": null,
      "outputs": []
    },
    {
      "cell_type": "markdown",
      "source": [
        " LAB   Simples entradas e saídas\n",
        "Cenário\n",
        "Sua tarefa é completar o código para avaliar os resultados de quatro operações aritméticas básicas.\n",
        "\n",
        "Os resultados devem ser impressos no console.\n",
        "\n",
        "Talvez você não consiga proteger o código de um usuário que deseja dividir por zero. Tudo bem, não se preocupe com isso por enquanto.\n",
        "\n",
        "Teste seu código ‒ ele produz os resultados esperados?\n",
        "\n",
        "Não mostraremos nenhum dado de teste - isso seria muito simples."
      ],
      "metadata": {
        "id": "SyYJPknen_Ex"
      }
    },
    {
      "cell_type": "code",
      "source": [
        "# entre com um valor float para a variável a aqui\n",
        "# entre com um valor float para a variável b aqui\n",
        "\n",
        "# imprima o resultado da adição aqui\n",
        "# imprima o resultado da subtração aqui\n",
        "# imprima o resultado da multiplicação aqui\n",
        "# imprima o resultado da divisão aqui\n",
        "\n",
        "print(\"\\nIsso é tudo, pessoal!\")\n"
      ],
      "metadata": {
        "id": "uNhfcua5oA_6"
      },
      "execution_count": null,
      "outputs": []
    },
    {
      "cell_type": "markdown",
      "source": [
        "LAB   Operadores e Expressões\n",
        "Cenário\n",
        "Sua tarefa é completar o código para avaliar a seguinte expressão:\n",
        "\n",
        "\n",
        "O resultado deve ser atribuído a y. Tenha cuidado - observe os operadores e mantenha suas prioridades em mente. Não hesite em usar quantos parênteses forem necessários.\n",
        "\n",
        "Você pode usar variáveis adicionais para encurtar a expressão (mas não é necessário). Teste seu código com cuidado.\n",
        "\n",
        "\n",
        "Dados de teste\n",
        "Exemplo de entrada:\n",
        "\n",
        "1\n",
        "Saída prevista:\n",
        "\n",
        "y = 0.6000000000000001\n",
        "Output\n",
        "Exemplo de entrada:\n",
        "\n",
        "10\n",
        "Saída prevista:\n",
        "\n",
        "y = 0.09901951266867294\n",
        "Output\n",
        "Exemplo de entrada:\n",
        "\n",
        "100\n",
        "Saída prevista:\n",
        "\n",
        "y = 0.009999000199950014\n",
        "Output\n",
        "Exemplo de entrada:\n",
        "\n",
        "-5\n",
        "Saída prevista:\n",
        "\n",
        "y = -0.19258202567760344"
      ],
      "metadata": {
        "id": "pqyosHwxoEgn"
      }
    },
    {
      "cell_type": "code",
      "source": [
        "x = float(input(\"Digite o valor para x: \"))\n",
        "\n",
        "# Escreva seu código aqui.\n",
        "\n",
        "print(\"y =\", y)\n"
      ],
      "metadata": {
        "id": "7dOX5sD0oHfq"
      },
      "execution_count": null,
      "outputs": []
    },
    {
      "cell_type": "markdown",
      "source": [
        "Operadores e Expressões – 2\n",
        "Cenário\n",
        "Sua tarefa é preparar um código simples capaz de avaliar a hora de término de um período, dado como um número de minutos (pode ser arbitrariamente grande). A hora de início é fornecida como um par de horas (0..23) e minutos (0..59). O resultado deve ser impresso no console.\n",
        "\n",
        "Por exemplo, se um evento começa às 12:17 e dura 59 minutos, termina às 13:16.\n",
        "\n",
        "Não se preocupe com imperfeições no código - tudo bem se ele aceitar um tempo inválido - o mais importante é que o código produz resultados válidos para dados de entrada válidos.\n",
        "\n",
        "Teste seu código com cuidado. Dica: usar o operador % pode ser a chave para o sucesso.\n",
        "\n",
        "\n",
        "Dados de teste\n",
        "Exemplo de entrada:\n",
        "\n",
        "12\n",
        "17\n",
        "59\n",
        "Saída prevista:\n",
        "\n",
        "13:16\n",
        "Output\n",
        "Exemplo de entrada:\n",
        "\n",
        "23\n",
        "58\n",
        "642\n",
        "Saída prevista:\n",
        "\n",
        "10:40\n",
        "Output\n",
        "Exemplo de entrada:\n",
        "\n",
        "0\n",
        "1\n",
        "2939\n",
        "Saída prevista:\n",
        "\n",
        "1:0"
      ],
      "metadata": {
        "id": "d07xHKjZoLNz"
      }
    },
    {
      "cell_type": "code",
      "source": [
        "hour = int(input(\"Hora de início (horas): \"))\n",
        "mins = int(input(\"Hora de início (minutos): \"))\n",
        "dura = int(input(\"Duração do evento (minutos): \"))\n",
        "\n",
        "# Escreva seu código aqui.\n"
      ],
      "metadata": {
        "id": "BWY8ZR36oNKb"
      },
      "execution_count": null,
      "outputs": []
    }
  ]
}