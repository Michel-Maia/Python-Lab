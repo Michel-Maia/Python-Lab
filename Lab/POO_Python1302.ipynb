{
  "nbformat": 4,
  "nbformat_minor": 0,
  "metadata": {
    "colab": {
      "provenance": [],
      "authorship_tag": "ABX9TyNp5f4GkHfWNc7Re7soeEEt"
    },
    "kernelspec": {
      "name": "python3",
      "display_name": "Python 3"
    },
    "language_info": {
      "name": "python"
    }
  },
  "cells": [
    {
      "cell_type": "markdown",
      "source": [
        "**Python**\n",
        "* Orientação a Objetos\n",
        "\n",
        "ex.\n",
        "Classes e Objetos\n",
        "\n",
        "\n",
        "Filme\n",
        "ano\n",
        "duração\n",
        "\n",
        "Série\n",
        "nome\n",
        "ano\n",
        "temporadas\n"
      ],
      "metadata": {
        "id": "JPcHvGn4NWA0"
      }
    },
    {
      "cell_type": "code",
      "execution_count": 1,
      "metadata": {
        "colab": {
          "base_uri": "https://localhost:8080/"
        },
        "id": "AmnXtJmjNPQ7",
        "outputId": "0694178c-3fe6-4be6-c4dc-cb57a39ec659"
      },
      "outputs": [
        {
          "output_type": "stream",
          "name": "stdout",
          "text": [
            "<__main__.Filme object at 0x7b72b50f9060>\n"
          ]
        }
      ],
      "source": [
        "class Filme:\n",
        "  pass\n",
        "\n",
        "vingadores = Filme()\n",
        "print(vingadores)"
      ]
    },
    {
      "cell_type": "code",
      "source": [
        "class Filme:\n",
        "  def __init__(self, nome, ano, duracao):\n",
        "    self.nome = nome\n",
        "    self.ano = ano\n",
        "    self.duracao = duracao\n",
        "\n",
        "vingadores = Filme('vingadores - guerra infinita', 2018, 160)\n",
        "print(vingadores.nome)"
      ],
      "metadata": {
        "colab": {
          "base_uri": "https://localhost:8080/"
        },
        "id": "Sz1PjedYOYeT",
        "outputId": "8a7816d0-0c9f-4c6e-9b87-c8dd08d42421"
      },
      "execution_count": 2,
      "outputs": [
        {
          "output_type": "stream",
          "name": "stdout",
          "text": [
            "vingadores - guerra infinita\n"
          ]
        }
      ]
    },
    {
      "cell_type": "code",
      "source": [
        "class Serie:\n",
        "  def __init__(self, nome, ano, temporadas):\n",
        "    self.nome = nome\n",
        "    self.ano = ano\n",
        "    self.temporadas = temporadas\n",
        "\n",
        "atlanta = Serie('atlanta',2018,2)\n",
        "print(atlanta.nome)"
      ],
      "metadata": {
        "colab": {
          "base_uri": "https://localhost:8080/"
        },
        "id": "-_kK1eEQO78Z",
        "outputId": "83a4c501-9212-4590-86f0-49cc61860f19"
      },
      "execution_count": 3,
      "outputs": [
        {
          "output_type": "stream",
          "name": "stdout",
          "text": [
            "atlanta\n"
          ]
        }
      ]
    },
    {
      "cell_type": "markdown",
      "source": [
        "Lembrete: o python define funções anônimas com a expressão *lambda* e representa um recurso essencial para programação funcional"
      ],
      "metadata": {
        "id": "2vEWGNY6IBhd"
      }
    },
    {
      "cell_type": "code",
      "source": [
        "f = lambda x: x**2\n",
        "\n",
        "f(2)"
      ],
      "metadata": {
        "colab": {
          "base_uri": "https://localhost:8080/"
        },
        "id": "LY2Zp9vCIrKq",
        "outputId": "cab328f0-0286-4b2f-b2ee-b3d6ca721a5c"
      },
      "execution_count": 1,
      "outputs": [
        {
          "output_type": "execute_result",
          "data": {
            "text/plain": [
              "4"
            ]
          },
          "metadata": {},
          "execution_count": 1
        }
      ]
    },
    {
      "cell_type": "code",
      "source": [
        "listNum = [1,2,3,4,5,6]"
      ],
      "metadata": {
        "id": "PqBT2KxvJEMg"
      },
      "execution_count": 2,
      "outputs": []
    },
    {
      "cell_type": "code",
      "source": [
        "for i in listNum:\n",
        "  print(f(i))"
      ],
      "metadata": {
        "colab": {
          "base_uri": "https://localhost:8080/"
        },
        "id": "BNW9xr5CJIZQ",
        "outputId": "c174dbeb-6e71-4135-a6d7-231462ffa3ab"
      },
      "execution_count": 3,
      "outputs": [
        {
          "output_type": "stream",
          "name": "stdout",
          "text": [
            "1\n",
            "4\n",
            "9\n",
            "16\n",
            "25\n",
            "36\n"
          ]
        }
      ]
    },
    {
      "cell_type": "code",
      "source": [
        "def e(b):\n",
        "    a = b*b\n",
        "    return a\n",
        "\n",
        "a = 10\n",
        "e(a)\n",
        "e(a)\n",
        "print(e(a))"
      ],
      "metadata": {
        "colab": {
          "base_uri": "https://localhost:8080/"
        },
        "id": "wx8ZwKh9L6YI",
        "outputId": "1105c3f5-9e38-42ac-d382-9966998b2abf"
      },
      "execution_count": 4,
      "outputs": [
        {
          "output_type": "stream",
          "name": "stdout",
          "text": [
            "100\n"
          ]
        }
      ]
    },
    {
      "cell_type": "code",
      "source": [
        "def checa_lista(list):\n",
        "    elem = list[0]\n",
        "    for a in list:\n",
        "        if a > elem:\n",
        "            elem = a\n",
        "    return elem\n",
        "\n",
        "print(checa_lista([4,4,8,-3]))"
      ],
      "metadata": {
        "colab": {
          "base_uri": "https://localhost:8080/"
        },
        "id": "UpDDQ3aAMAc-",
        "outputId": "d120d707-cf31-4f6b-95bd-fe38a5f7f6a7"
      },
      "execution_count": 5,
      "outputs": [
        {
          "output_type": "stream",
          "name": "stdout",
          "text": [
            "8\n"
          ]
        }
      ]
    },
    {
      "cell_type": "code",
      "source": [
        "def f(x):\n",
        "    def g(y):\n",
        "        z=sum(range(x))\n",
        "        return z+y\n",
        "    return g\n",
        "\n",
        "k = f(5)\n",
        "print(k(2))"
      ],
      "metadata": {
        "colab": {
          "base_uri": "https://localhost:8080/"
        },
        "id": "mF7vmw31MPSV",
        "outputId": "e030c33e-f303-4a34-c750-6a47015d3872"
      },
      "execution_count": 6,
      "outputs": [
        {
          "output_type": "stream",
          "name": "stdout",
          "text": [
            "12\n"
          ]
        }
      ]
    },
    {
      "cell_type": "code",
      "source": [
        "def processar(n):\n",
        "    if n < 0:\n",
        "        print(\"Valor incorreto\")\n",
        "    elif n == 1:\n",
        "        return 0\n",
        "    elif n == 2:\n",
        "        return 1\n",
        "    else:\n",
        "        return processar(n - 1) + processar(n - 2)\n",
        "\n",
        "print(processar(3))"
      ],
      "metadata": {
        "colab": {
          "base_uri": "https://localhost:8080/"
        },
        "id": "xXGE7lYbMTOn",
        "outputId": "c3494ae3-d292-4d69-e1fc-1d0a925350ac"
      },
      "execution_count": 7,
      "outputs": [
        {
          "output_type": "stream",
          "name": "stdout",
          "text": [
            "1\n"
          ]
        }
      ]
    },
    {
      "cell_type": "markdown",
      "source": [
        "uma classe pode ser definida como uma descrição das propriedades ou de possíveis estados\n",
        "\n",
        "As classes proporcionam uma forma de organizar dados ou características (atributos) e funcionalidades ou ações (métodos)\n",
        "\n",
        "\n",
        "quando criamos uma nova classe, estamos criando uma definição teórica sobre um conceito que nosso sistema vai precisar\n",
        "\n",
        "essas definições serão seguidas pelos Objetos dessa classe\n"
      ],
      "metadata": {
        "id": "QztGXcZLYh7K"
      }
    },
    {
      "cell_type": "code",
      "source": [
        "class Carro():\n",
        "  pass"
      ],
      "metadata": {
        "id": "BV9lvuLTZiuh"
      },
      "execution_count": null,
      "outputs": []
    },
    {
      "cell_type": "markdown",
      "source": [
        "método _init_ e parâmetro self\n",
        "\n",
        "toda classe tem uma função especial chamada _init_ essa função é sempre o nosso primeiro contato com a classe\n",
        "\n",
        "essa função sempre recebe um parâmetro especial que identifica a própria classe, o parâmetro self"
      ],
      "metadata": {
        "id": "1bdkNeWzablJ"
      }
    },
    {
      "cell_type": "code",
      "source": [
        "class Carro():\n",
        "  def __init__(self):\n",
        "     print('Eu sou um carro')"
      ],
      "metadata": {
        "id": "Zd7v4xvyaT85"
      },
      "execution_count": 9,
      "outputs": []
    },
    {
      "cell_type": "code",
      "source": [
        "Carro()"
      ],
      "metadata": {
        "colab": {
          "base_uri": "https://localhost:8080/"
        },
        "id": "hsvPDzjubT_v",
        "outputId": "a22203ae-50b1-4f04-ce42-ba41f0db481e"
      },
      "execution_count": 10,
      "outputs": [
        {
          "output_type": "stream",
          "name": "stdout",
          "text": [
            "Eu sou um carro\n"
          ]
        },
        {
          "output_type": "execute_result",
          "data": {
            "text/plain": [
              "<__main__.Carro at 0x7abbdfba8ca0>"
            ]
          },
          "metadata": {},
          "execution_count": 10
        }
      ]
    },
    {
      "cell_type": "markdown",
      "source": [
        "os atributos são as caracteristicas de um objeto, podendo ser comparadas às variáveis da programação estruturada\n",
        "\n",
        "Essas caracteristicas definem o estado dos objetos"
      ],
      "metadata": {
        "id": "SXa7YWSdbi6X"
      }
    },
    {
      "cell_type": "code",
      "source": [
        "class Carro():\n",
        "  def __init__(self, marca, modelo, ano, cor, statusFarol = 'desligado'):\n",
        "     self.marca = marca\n",
        "     self.modelo = modelo\n",
        "     self.anoDeFab = ano\n",
        "     self.cor = cor\n",
        "\n",
        "     self.statusFarol = statusFarol\n",
        "\n",
        "  def ligarFarol(self):\n",
        "    if(self.statusFarol == 'desligado'):\n",
        "      self.statusFarol = 'ligado'\n",
        "      print('Farol ligado')\n",
        "    else:\n",
        "      print('O farol já esta ligado')\n",
        "\n",
        "  def desligarFarol(self):\n",
        "    if(self.statusFarol == 'ligado'):\n",
        "      self.statusFarol = 'desligado'\n",
        "      print('Farol desligado')"
      ],
      "metadata": {
        "id": "GYzQWsRH7BNQ"
      },
      "execution_count": 2,
      "outputs": []
    },
    {
      "cell_type": "code",
      "source": [
        "# ligarFarol()  e  desligarFarol()"
      ],
      "metadata": {
        "id": "7sOh9ovP_9QA"
      },
      "execution_count": null,
      "outputs": []
    }
  ]
}