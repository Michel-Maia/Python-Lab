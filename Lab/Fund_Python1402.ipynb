{
  "nbformat": 4,
  "nbformat_minor": 0,
  "metadata": {
    "colab": {
      "provenance": [],
      "authorship_tag": "ABX9TyN4A7Ka2eBBTN5alpPfl5mq"
    },
    "kernelspec": {
      "name": "python3",
      "display_name": "Python 3"
    },
    "language_info": {
      "name": "python"
    }
  },
  "cells": [
    {
      "cell_type": "markdown",
      "source": [
        "##Instanciando objetos##\n",
        "\n",
        "Quando falamos objetos estamos lidando com uma instância especifica de uma classe\n",
        "\n",
        "Eles representam entidades especificass do mundo real, como um determinado carro Gol, ou um carro Fusca\n",
        "\n",
        "criamos os objetos da seguinte forma"
      ],
      "metadata": {
        "id": "q9Qd593anPaI"
      }
    },
    {
      "cell_type": "code",
      "execution_count": null,
      "metadata": {
        "id": "PLewel0lm5W0"
      },
      "outputs": [],
      "source": [
        "gol = Carro('wolks', 'gol', 2010, 'laranja')\n",
        "fusca = Carro('wolks', 'fusca', 1990, 'azul')\n",
        "uno = Carro('fiat', 'uno', 2000, 'cinza', statusFarol = 'ligado')\n",
        "gol2 = Carro('wolks', 'gol', 2010, 'laranja')"
      ]
    },
    {
      "cell_type": "markdown",
      "source": [
        "##Utilizando nossos objetos##\n",
        "\n",
        "Através dos objetos que podemos chamar as funções (métodos) que definimos em nossa classe"
      ],
      "metadata": {
        "id": "5rif1WWInunW"
      }
    },
    {
      "cell_type": "code",
      "source": [
        "i = 0\n",
        "lista = []\n",
        "while i < 3:\n",
        "  marca = input('Digite a marca:')\n",
        "  modelo = input('Digite o modelo:')\n",
        "  ano = int(input('Digite o ano de fabricação: '))\n",
        "  cor = input('Digite a cor: ')\n",
        "  carro = (marca, modelo, ano, cor)\n",
        "\n",
        "  lista.append(carro)\n",
        "  i = i+1\n"
      ],
      "metadata": {
        "colab": {
          "base_uri": "https://localhost:8080/"
        },
        "id": "4ACtAUwM_bI7",
        "outputId": "9366af7e-75c8-4afd-de26-3c799b50de47"
      },
      "execution_count": 2,
      "outputs": [
        {
          "name": "stdout",
          "output_type": "stream",
          "text": [
            "Digite a marca:Fiat\n",
            "Digite o modelo:Uno\n",
            "Digite o ano de fabricação: 2000\n",
            "Digite a cor: Preto\n",
            "Digite a marca:Renault\n",
            "Digite o modelo:Sandero\n",
            "Digite o ano de fabricação: 2019\n",
            "Digite a cor: Prata\n",
            "Digite a marca:Citroen\n",
            "Digite o modelo:C3\n",
            "Digite o ano de fabricação: 2015\n",
            "Digite a cor: Vermelho\n"
          ]
        }
      ]
    },
    {
      "cell_type": "code",
      "source": [
        "lista"
      ],
      "metadata": {
        "colab": {
          "base_uri": "https://localhost:8080/"
        },
        "id": "Sz1BieCPF2ba",
        "outputId": "62ade567-ea0a-4732-86bb-d010990912c7"
      },
      "execution_count": 3,
      "outputs": [
        {
          "output_type": "execute_result",
          "data": {
            "text/plain": [
              "[('Fiat', 'Uno', 2000, 'Preto'),\n",
              " ('Renault', 'Sandero', 2019, 'Prata'),\n",
              " ('Citroen', 'C3', 2015, 'Vermelho')]"
            ]
          },
          "metadata": {},
          "execution_count": 3
        }
      ]
    },
    {
      "cell_type": "markdown",
      "source": [
        "o encapsulamento é a técnica que permite que os detalhes e informações internas da classe permaneçam ocultas para o usuário externos\n",
        "\n",
        "podemos chamar os atributos ou métodos encapsulados de atributos ou métodos\n",
        "\n",
        "em python é realizado o encapsulamento por meio de adição de dois underlines no início do nome do nosso atributo ou métodos"
      ],
      "metadata": {
        "id": "1wyZSWXHG5fu"
      }
    },
    {
      "cell_type": "code",
      "source": [
        "# atributo privado\n",
        "\n",
        "# self.__status = 'desligado'\n",
        "\n",
        "jeep = Carro('jeep', 'renegate', 2015, 'branco')\n"
      ],
      "metadata": {
        "id": "ORM-fw1RGF_D"
      },
      "execution_count": null,
      "outputs": []
    },
    {
      "cell_type": "markdown",
      "source": [
        "# métodos get e set\n",
        "\n",
        "apesar do usuário não poder acessar e modificar diretamente a variavel __status , é possível criar métodos do tipo get e set que servem para que o usuário possa ter acesso às variáveis privadas"
      ],
      "metadata": {
        "id": "DpiEYfMLJWIK"
      }
    },
    {
      "cell_type": "code",
      "source": [
        "# def getStatus(self):  # pegar e retornar o valor da variavel __status\n",
        "# return self.__status\n",
        "\n"
      ],
      "metadata": {
        "id": "y5s5j3cuKD3q"
      },
      "execution_count": null,
      "outputs": []
    },
    {
      "cell_type": "code",
      "source": [
        "class Empregado():\n",
        "    def __init__ (self, nome, sexo, salario):\n",
        "        self.nome = nome\n",
        "        self.sexo = sexo\n",
        "        self.salario = salario\n",
        "\n",
        "Fulano = Empregado(\"Fulano de Tal\", \"m\", 2500.00)\n",
        "print(Fulano.nome[0:6], Fulano.salario)"
      ],
      "metadata": {
        "colab": {
          "base_uri": "https://localhost:8080/"
        },
        "id": "flb9XNTyNJVo",
        "outputId": "f4c3f556-6b27-4bf9-a1f6-eb795d7bb9bb"
      },
      "execution_count": 5,
      "outputs": [
        {
          "output_type": "stream",
          "name": "stdout",
          "text": [
            "Fulano 2500.0\n"
          ]
        }
      ]
    },
    {
      "cell_type": "markdown",
      "source": [
        "no python as bibliotecas recuperam módulos, os módulos são um conjunto de códigos como funções, classes, variáveis, etc\n",
        "\n",
        "Math - Operações mateméticas como seno, cosseno, raiz quadrada\n",
        "SciPy - Biblioteca usada para matemática , ciência e engenharia\n",
        "Numpy - Usada para cálculo numérico e álgebra linear\n",
        "SymPy - Usada para computação simbólica\n",
        "Matplotlib - Usada para criação de gráficos e visualização de dados"
      ],
      "metadata": {
        "id": "Cg5aGsY7NkQO"
      }
    },
    {
      "cell_type": "code",
      "source": [
        "# importando bibliotecas - através do import é possível dar alias para as bibliotecas\n",
        "\n",
        "import math as mt"
      ],
      "metadata": {
        "id": "Kg5pZmkGOxjB"
      },
      "execution_count": 7,
      "outputs": []
    },
    {
      "cell_type": "code",
      "source": [
        "import pandas as pd\n",
        "import numpy as np"
      ],
      "metadata": {
        "id": "9IiorSlEPD4A"
      },
      "execution_count": 8,
      "outputs": []
    },
    {
      "cell_type": "code",
      "source": [
        "from math import sin\n"
      ],
      "metadata": {
        "id": "Fkiou_clPd3d"
      },
      "execution_count": 9,
      "outputs": []
    },
    {
      "cell_type": "code",
      "source": [
        "from math import sin, cos"
      ],
      "metadata": {
        "id": "OKbaF_nJPtOL"
      },
      "execution_count": null,
      "outputs": []
    },
    {
      "cell_type": "code",
      "source": [
        "# importar todas as funcionalidades\n",
        "\n",
        "from math import *"
      ],
      "metadata": {
        "id": "5BPCMEslPxFT"
      },
      "execution_count": null,
      "outputs": []
    },
    {
      "cell_type": "code",
      "source": [
        "import math, matplotlib"
      ],
      "metadata": {
        "id": "DuXxv571QCFk"
      },
      "execution_count": null,
      "outputs": []
    },
    {
      "cell_type": "code",
      "source": [
        "math.pi"
      ],
      "metadata": {
        "colab": {
          "base_uri": "https://localhost:8080/"
        },
        "id": "d_YVius0QD9k",
        "outputId": "587fa126-dd9a-49c8-b404-096a1235150f"
      },
      "execution_count": 10,
      "outputs": [
        {
          "output_type": "execute_result",
          "data": {
            "text/plain": [
              "3.141592653589793"
            ]
          },
          "metadata": {},
          "execution_count": 10
        }
      ]
    },
    {
      "cell_type": "code",
      "source": [
        "pi = math.pi\n",
        "pi"
      ],
      "metadata": {
        "colab": {
          "base_uri": "https://localhost:8080/"
        },
        "id": "oIZZp8AyQDM8",
        "outputId": "30e081bd-ccf4-4075-9ecf-05da671293e7"
      },
      "execution_count": 12,
      "outputs": [
        {
          "output_type": "execute_result",
          "data": {
            "text/plain": [
              "3.141592653589793"
            ]
          },
          "metadata": {},
          "execution_count": 12
        }
      ]
    },
    {
      "cell_type": "code",
      "source": [
        "math.sin(pi)"
      ],
      "metadata": {
        "colab": {
          "base_uri": "https://localhost:8080/"
        },
        "id": "COtj47jbQv0s",
        "outputId": "013d4b51-c83d-477c-adb6-2c53c6b60eb3"
      },
      "execution_count": 13,
      "outputs": [
        {
          "output_type": "execute_result",
          "data": {
            "text/plain": [
              "1.2246467991473532e-16"
            ]
          },
          "metadata": {},
          "execution_count": 13
        }
      ]
    },
    {
      "cell_type": "code",
      "source": [
        "math.cos(pi)"
      ],
      "metadata": {
        "colab": {
          "base_uri": "https://localhost:8080/"
        },
        "id": "eqhmWNFuRMBr",
        "outputId": "341b2baa-fc26-4ca0-b32c-d4205f5cfeac"
      },
      "execution_count": 14,
      "outputs": [
        {
          "output_type": "execute_result",
          "data": {
            "text/plain": [
              "-1.0"
            ]
          },
          "metadata": {},
          "execution_count": 14
        }
      ]
    },
    {
      "cell_type": "code",
      "source": [
        "import random\n",
        "\n",
        "print(\"Codigo fonte\")\n",
        "lista = list(range(20))\n",
        "pos = random.randrange(1,20,1)\n",
        "\n",
        "for i in range(20):\n",
        "    pos = random.randrange(1,20,1)\n",
        "    print(\"[i]:\", i)\n",
        "    aux = lista[i]\n",
        "    lista[i] = lista[pos]\n",
        "    lista[pos] = aux\n",
        "\n",
        "print(\"Lista final: \", lista)"
      ],
      "metadata": {
        "colab": {
          "base_uri": "https://localhost:8080/"
        },
        "id": "EU1Jn5ziRYK7",
        "outputId": "33ec4c33-f598-4c7a-d75c-bf02452220d9"
      },
      "execution_count": 15,
      "outputs": [
        {
          "output_type": "stream",
          "name": "stdout",
          "text": [
            "Codigo fonte\n",
            "[i]: 0\n",
            "[i]: 1\n",
            "[i]: 2\n",
            "[i]: 3\n",
            "[i]: 4\n",
            "[i]: 5\n",
            "[i]: 6\n",
            "[i]: 7\n",
            "[i]: 8\n",
            "[i]: 9\n",
            "[i]: 10\n",
            "[i]: 11\n",
            "[i]: 12\n",
            "[i]: 13\n",
            "[i]: 14\n",
            "[i]: 15\n",
            "[i]: 16\n",
            "[i]: 17\n",
            "[i]: 18\n",
            "[i]: 19\n",
            "Lista final:  [9, 0, 12, 15, 16, 7, 11, 5, 10, 8, 14, 6, 13, 19, 2, 17, 1, 18, 4, 3]\n"
          ]
        }
      ]
    }
  ]
}