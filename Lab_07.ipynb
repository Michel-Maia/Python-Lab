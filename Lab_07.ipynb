{
  "nbformat": 4,
  "nbformat_minor": 0,
  "metadata": {
    "colab": {
      "provenance": [],
      "authorship_tag": "ABX9TyNMZbyXko5ceTj/XwRrc0R3"
    },
    "kernelspec": {
      "name": "python3",
      "display_name": "Python 3"
    },
    "language_info": {
      "name": "python"
    }
  },
  "cells": [
    {
      "cell_type": "markdown",
      "source": [
        "**Um ano bissexto: escrevendo suas próprias funções**\n",
        "Sua tarefa é escrever e testar uma função que usa um argumento (um ano) e retorna True se o ano for um ano bissexto ou False caso contrário.\n",
        "\n",
        "A semente da função já é semeada no código de esqueleto no editor.\n",
        "\n",
        "Nota: também preparamos um código de teste curto, que você pode usar para testar sua função.\n",
        "\n",
        "O código usa duas listas - uma com os dados de teste e a outra contendo os resultados esperados. O código informará se algum dos resultados é inválido."
      ],
      "metadata": {
        "id": "YvJE8nflicl9"
      }
    },
    {
      "cell_type": "code",
      "execution_count": null,
      "metadata": {
        "id": "q5cr2CNNiVyK"
      },
      "outputs": [],
      "source": [
        "def is_year_leap(year):\n",
        " #\n",
        " # Escreva seu código aqui.\n",
        " #\n",
        "\n",
        "test_data = [1900, 2000, 2016, 1987]\n",
        "test_results = [False, True, True, False]\n",
        "for i in range(len(test_data)):\n",
        " yr = test_data[i]\n",
        " print(yr,\"->\",end=\"\")\n",
        " result = is_year_leap(yr)\n",
        " if result == test_results[i]:\n",
        " print(\"OK\")\n",
        " else:"
      ]
    },
    {
      "cell_type": "markdown",
      "source": [
        "**Quantos dias: escrevendo e usando suas próprias funções**\n",
        "Sua tarefa é escrever e testar uma função que usa dois argumentos (um ano e um mês) e retorna o número de dias para o determinado par de ano-mês (embora apenas fevereiro seja sensível ao valor do year, sua função deve ser universal).\n",
        "\n",
        "A parte inicial da função está pronta. Agora, convença a função a não retornar None se os argumentos não fizerem sentido.\n",
        "\n",
        "Obviamente, você pode (e deve) usar a função previamente testada e escrita (LAB 4.3.1.6). Pode ser muito útil. Recomendamos que você use uma lista com os comprimentos dos meses. Você pode criá-lo dentro da função - esse truque diminuirá significativamente o código.\n",
        "\n",
        "Preparamos um código de teste. Expanda-o para incluir mais casos de teste.\n",
        "\n"
      ],
      "metadata": {
        "id": "g5N5gvqeiqp9"
      }
    },
    {
      "cell_type": "code",
      "source": [
        "def is_year_leap(year):\n",
        " #\n",
        " # Seu código do LAB anterior.\n",
        " #\n",
        "\n",
        "def days_in_month(year, month):\n",
        " #\n",
        " # Escreva seu novo código aqui.\n",
        " #\n",
        "\n",
        "test_years = [1900, 2000, 2016, 1987]\n",
        "test_months = [2, 2, 1, 11]\n",
        "test_results = [28, 29, 31, 30]\n",
        "for i in range(len(test_years)):\n",
        " yr = test_years[i]\n",
        " mo = test_months[i]\n",
        " print(yr, mo, \"->\", end=\"\")\n",
        " result = days_in_month(yr, mo)\n",
        " if result == test_results[i]:\n",
        " print(\"OK\")\n",
        " else:\n",
        " print(\"Fracassado\")\n"
      ],
      "metadata": {
        "id": "k2PcuQCmis80"
      },
      "execution_count": null,
      "outputs": []
    },
    {
      "cell_type": "markdown",
      "source": [
        "**Dia do ano: escrevendo e usando funções**\n",
        "Sua tarefa é escrever e testar uma função que usa três argumentos (um ano, um mês e um dia do mês) e retorna o dia correspondente do ano ou retorna None se algum dos argumentos for inválido.\n",
        "\n",
        "Use as funções escritas e testadas anteriormente. Adicione seus próprios casos de teste ao código.\n",
        "\n"
      ],
      "metadata": {
        "id": "OJNHEOuri0AM"
      }
    },
    {
      "cell_type": "code",
      "source": [
        "def is_year_leap(year):\n",
        " #\n",
        " # Seu código do LAB anterior.\n",
        " #\n",
        "\n",
        "def days_in_month(year, month):\n",
        " #\n",
        " # Seu código do Lab anterior.\n",
        " #\n",
        "\n",
        "def day_of_year(year, month, day):\n",
        " #\n",
        " # Escreva seu código aqui.\n",
        " #\n",
        "\n",
        "print(day_of_year(2000, 12, 31))\n"
      ],
      "metadata": {
        "id": "uwFA70k3i4IE"
      },
      "execution_count": null,
      "outputs": []
    },
    {
      "cell_type": "markdown",
      "source": [
        "**Números primos ‒ como encontrá-los**\n",
        "\n",
        "Um número natural é primo se for maior que 1 e não tiver divisores diferentes de 1 e ele próprio.\n",
        "\n",
        "Complicado? Não mesmo. Por exemplo, 8 não é um número primo, pois você pode dividi-lo por 2 e 4 (não podemos usar divisores iguais a 1 e 8, pois a definição proíbe isso).\n",
        "\n",
        "Por outro lado, 7 é um número primo, pois não podemos encontrar divisores legais para ele.\n",
        "\n",
        "Sua tarefa é escrever uma função verificando se um número é primo ou não.\n",
        "\n",
        "A função:\n",
        "\n",
        "é chamado is_prime;\n",
        "requer um argumento (o valor a ser verificado)\n",
        "retorna True se o argumento for um número primo e False caso contrário.\n",
        "Dica: tente dividir o argumento por todos os valores subsequentes (começando em 2) e verifique o restante - se for zero, seu número não pode ser um primo; pense bem quando deve interromper o processo.\n",
        "\n",
        "Se você precisar conhecer a raiz quadrada de qualquer valor, poderá utilizar o operador **. Lembre-se: a raiz quadrada de x é o mesmo que x0.5\n",
        "\n",
        "Preencha o código no editor.\n",
        "\n",
        "Execute o código e verifique se a saída é igual à nossa.\n",
        "\n",
        "Saída prevista:\n",
        "\n",
        "2 3 5 7 11 13 17 19"
      ],
      "metadata": {
        "id": "Rt52CVCti6r8"
      }
    },
    {
      "cell_type": "code",
      "source": [
        "def is_prime(num):\n",
        " #\n",
        " # Escreva seu código aqui.\n",
        " #\n",
        "\n",
        "for i in range(1, 20):\n",
        " if is_prime(i + 1):\n",
        " print(i + 1, end=\" \")\n",
        "print()"
      ],
      "metadata": {
        "id": "7hdprT_3jB_d"
      },
      "execution_count": null,
      "outputs": []
    },
    {
      "cell_type": "markdown",
      "source": [
        "**Convertendo o consumo de combustível**\n",
        "O consumo de combustível de um carro pode ser expresso de várias maneiras diferentes. Por exemplo, na Europa, ele é mostrado como a quantidade de combustível consumida por 100 quilômetros.\n",
        "\n",
        "Nos EUA, é mostrado como o número de quilômetros percorridos por um carro usando um litro de combustível.\n",
        "\n",
        "Sua tarefa é escrever um par de funções convertendo l/100 km em mpg e vice-versa.\n",
        "\n",
        "As funções:\n",
        "\n",
        "são nomeados liters_100km_to_miles_gallon e miles_gallon_to_liters_100km respectivamente;\n",
        "use um argumento (o valor correspondente aos nomes)\n",
        "Preencha o código no editor e execute-o para verificar se a sua saída é igual à nossa.\n",
        "\n",
        "Aqui estão algumas informações para ajudá-lo:\n",
        "\n",
        "1 milha americana = 1609.344 metros;\n",
        "1 galão americano = 3,785411784 litros.\n",
        "Saída prevista:\n",
        "\n",
        "60.31143162393162\n",
        "31.36194444444444\n",
        "23.52145833333333\n",
        "3.9007393587617467\n",
        "7.490910297239916\n",
        "10.009131205673757"
      ],
      "metadata": {
        "id": "bouGC8zVjEij"
      }
    },
    {
      "cell_type": "code",
      "source": [
        "def liters_100km_to_miles_gallon(liters):\n",
        " #\n",
        " # Escreva seu código aquie your code here.\n",
        " #\n",
        "\n",
        "def miles_gallon_to_liters_100km(miles):\n",
        " #\n",
        " # Escreva seu código aqui.\n",
        " #\n",
        "\n",
        "print(liters_100km_to_miles_gallon(3.9))\n",
        "print(liters_100km_to_miles_gallon(7.5))\n",
        "print(liters_100km_to_miles_gallon(10.))\n",
        "print(miles_gallon_to_liters_100km(60.3))\n",
        "print(miles_gallon_to_liters_100km(31.4))\n",
        "print(miles_gallon_to_liters_100km(23.5))\n"
      ],
      "metadata": {
        "id": "UGLsiwc_jJSU"
      },
      "execution_count": null,
      "outputs": []
    }
  ]
}