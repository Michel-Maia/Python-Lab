{
  "nbformat": 4,
  "nbformat_minor": 0,
  "metadata": {
    "colab": {
      "provenance": [],
      "authorship_tag": "ABX9TyNnRt23ruYnZrdzGDGag2Yo"
    },
    "kernelspec": {
      "name": "python3",
      "display_name": "Python 3"
    },
    "language_info": {
      "name": "python"
    }
  },
  "cells": [
    {
      "cell_type": "markdown",
      "source": [
        "**Um ano bissexto: escrevendo suas próprias funções**\n",
        "Sua tarefa é escrever e testar uma função que usa um argumento (um ano) e retorna True se o ano for um ano bissexto ou False caso contrário.\n",
        "\n",
        "A semente da função já é semeada no código de esqueleto no editor.\n",
        "\n",
        "Nota: também preparamos um código de teste curto, que você pode usar para testar sua função.\n",
        "\n",
        "O código usa duas listas - uma com os dados de teste e a outra contendo os resultados esperados. O código informará se algum dos resultados é inválido."
      ],
      "metadata": {
        "id": "YvJE8nflicl9"
      }
    },
    {
      "cell_type": "code",
      "execution_count": null,
      "metadata": {
        "id": "q5cr2CNNiVyK"
      },
      "outputs": [],
      "source": [
        "def is_year_leap(year):\n",
        " #\n",
        " # Escreva seu código aqui.\n",
        " #\n",
        "\n",
        "test_data = [1900, 2000, 2016, 1987]\n",
        "test_results = [False, True, True, False]\n",
        "for i in range(len(test_data)):\n",
        " yr = test_data[i]\n",
        " print(yr,\"->\",end=\"\")\n",
        " result = is_year_leap(yr)\n",
        " if result == test_results[i]:\n",
        " print(\"OK\")\n",
        " else:"
      ]
    },
    {
      "cell_type": "markdown",
      "source": [
        "**Quantos dias: escrevendo e usando suas próprias funções**\n",
        "Sua tarefa é escrever e testar uma função que usa dois argumentos (um ano e um mês) e retorna o número de dias para o determinado par de ano-mês (embora apenas fevereiro seja sensível ao valor do year, sua função deve ser universal).\n",
        "\n",
        "A parte inicial da função está pronta. Agora, convença a função a não retornar None se os argumentos não fizerem sentido.\n",
        "\n",
        "Obviamente, você pode (e deve) usar a função previamente testada e escrita (LAB 4.3.1.6). Pode ser muito útil. Recomendamos que você use uma lista com os comprimentos dos meses. Você pode criá-lo dentro da função - esse truque diminuirá significativamente o código.\n",
        "\n",
        "Preparamos um código de teste. Expanda-o para incluir mais casos de teste.\n",
        "\n"
      ],
      "metadata": {
        "id": "g5N5gvqeiqp9"
      }
    },
    {
      "cell_type": "code",
      "source": [
        "def is_year_leap(year):\n",
        " #\n",
        " # Seu código do LAB anterior.\n",
        " #\n",
        "\n",
        "def days_in_month(year, month):\n",
        " #\n",
        " # Escreva seu novo código aqui.\n",
        " #\n",
        "\n",
        "test_years = [1900, 2000, 2016, 1987]\n",
        "test_months = [2, 2, 1, 11]\n",
        "test_results = [28, 29, 31, 30]\n",
        "for i in range(len(test_years)):\n",
        " yr = test_years[i]\n",
        " mo = test_months[i]\n",
        " print(yr, mo, \"->\", end=\"\")\n",
        " result = days_in_month(yr, mo)\n",
        " if result == test_results[i]:\n",
        " print(\"OK\")\n",
        " else:\n",
        " print(\"Fracassado\")\n"
      ],
      "metadata": {
        "id": "k2PcuQCmis80"
      },
      "execution_count": null,
      "outputs": []
    },
    {
      "cell_type": "markdown",
      "source": [
        "**Dia do ano: escrevendo e usando funções**\n",
        "Sua tarefa é escrever e testar uma função que usa três argumentos (um ano, um mês e um dia do mês) e retorna o dia correspondente do ano ou retorna None se algum dos argumentos for inválido.\n",
        "\n",
        "Use as funções escritas e testadas anteriormente. Adicione seus próprios casos de teste ao código.\n",
        "\n"
      ],
      "metadata": {
        "id": "OJNHEOuri0AM"
      }
    },
    {
      "cell_type": "code",
      "source": [
        "def is_year_leap(year):\n",
        " #\n",
        " # Seu código do LAB anterior.\n",
        " #\n",
        "\n",
        "def days_in_month(year, month):\n",
        " #\n",
        " # Seu código do Lab anterior.\n",
        " #\n",
        "\n",
        "def day_of_year(year, month, day):\n",
        " #\n",
        " # Escreva seu código aqui.\n",
        " #\n",
        "\n",
        "print(day_of_year(2000, 12, 31))\n"
      ],
      "metadata": {
        "id": "uwFA70k3i4IE"
      },
      "execution_count": null,
      "outputs": []
    },
    {
      "cell_type": "markdown",
      "source": [
        "**Números primos ‒ como encontrá-los**\n",
        "\n",
        "Um número natural é primo se for maior que 1 e não tiver divisores diferentes de 1 e ele próprio.\n",
        "\n",
        "Complicado? Não mesmo. Por exemplo, 8 não é um número primo, pois você pode dividi-lo por 2 e 4 (não podemos usar divisores iguais a 1 e 8, pois a definição proíbe isso).\n",
        "\n",
        "Por outro lado, 7 é um número primo, pois não podemos encontrar divisores legais para ele.\n",
        "\n",
        "Sua tarefa é escrever uma função verificando se um número é primo ou não.\n",
        "\n",
        "A função:\n",
        "\n",
        "é chamado is_prime;\n",
        "requer um argumento (o valor a ser verificado)\n",
        "retorna True se o argumento for um número primo e False caso contrário.\n",
        "Dica: tente dividir o argumento por todos os valores subsequentes (começando em 2) e verifique o restante - se for zero, seu número não pode ser um primo; pense bem quando deve interromper o processo.\n",
        "\n",
        "Se você precisar conhecer a raiz quadrada de qualquer valor, poderá utilizar o operador **. Lembre-se: a raiz quadrada de x é o mesmo que x0.5\n",
        "\n",
        "Preencha o código no editor.\n",
        "\n",
        "Execute o código e verifique se a saída é igual à nossa.\n",
        "\n",
        "Saída prevista:\n",
        "\n",
        "2 3 5 7 11 13 17 19"
      ],
      "metadata": {
        "id": "Rt52CVCti6r8"
      }
    },
    {
      "cell_type": "code",
      "source": [
        "def is_prime(num):\n",
        " #\n",
        " # Escreva seu código aqui.\n",
        " #\n",
        "\n",
        "for i in range(1, 20):\n",
        " if is_prime(i + 1):\n",
        " print(i + 1, end=\" \")\n",
        "print()"
      ],
      "metadata": {
        "id": "7hdprT_3jB_d"
      },
      "execution_count": null,
      "outputs": []
    },
    {
      "cell_type": "markdown",
      "source": [
        "**Convertendo o consumo de combustível**\n",
        "O consumo de combustível de um carro pode ser expresso de várias maneiras diferentes. Por exemplo, na Europa, ele é mostrado como a quantidade de combustível consumida por 100 quilômetros.\n",
        "\n",
        "Nos EUA, é mostrado como o número de quilômetros percorridos por um carro usando um litro de combustível.\n",
        "\n",
        "Sua tarefa é escrever um par de funções convertendo l/100 km em mpg e vice-versa.\n",
        "\n",
        "As funções:\n",
        "\n",
        "são nomeados liters_100km_to_miles_gallon e miles_gallon_to_liters_100km respectivamente;\n",
        "use um argumento (o valor correspondente aos nomes)\n",
        "Preencha o código no editor e execute-o para verificar se a sua saída é igual à nossa.\n",
        "\n",
        "Aqui estão algumas informações para ajudá-lo:\n",
        "\n",
        "1 milha americana = 1609.344 metros;\n",
        "1 galão americano = 3,785411784 litros.\n",
        "Saída prevista:\n",
        "\n",
        "60.31143162393162\n",
        "31.36194444444444\n",
        "23.52145833333333\n",
        "3.9007393587617467\n",
        "7.490910297239916\n",
        "10.009131205673757"
      ],
      "metadata": {
        "id": "bouGC8zVjEij"
      }
    },
    {
      "cell_type": "code",
      "source": [
        "def liters_100km_to_miles_gallon(liters):\n",
        " #\n",
        " # Escreva seu código aquie your code here.\n",
        " #\n",
        "\n",
        "def miles_gallon_to_liters_100km(miles):\n",
        " #\n",
        " # Escreva seu código aqui.\n",
        " #\n",
        "\n",
        "print(liters_100km_to_miles_gallon(3.9))\n",
        "print(liters_100km_to_miles_gallon(7.5))\n",
        "print(liters_100km_to_miles_gallon(10.))\n",
        "print(miles_gallon_to_liters_100km(60.3))\n",
        "print(miles_gallon_to_liters_100km(31.4))\n",
        "print(miles_gallon_to_liters_100km(23.5))\n"
      ],
      "metadata": {
        "id": "UGLsiwc_jJSU"
      },
      "execution_count": null,
      "outputs": []
    },
    {
      "cell_type": "code",
      "source": [
        "def function(x=0):return x\n"
      ],
      "metadata": {
        "id": "3MUJu-7UIblJ"
      },
      "execution_count": null,
      "outputs": []
    },
    {
      "cell_type": "code",
      "source": [
        "dictionary = {}\n",
        "my_list = ['a', 'b', 'c', 'd']\n",
        "\n",
        "for i in range(len(my_list) - 1):dictionary[my_list[i]] = (my_list[i], )\n",
        "\n",
        "for i in sorted(dictionary.keys()):k = dictionary[i]\n",
        "print(k[0])\n"
      ],
      "metadata": {
        "colab": {
          "base_uri": "https://localhost:8080/"
        },
        "id": "BrVqbV9AJ0JI",
        "outputId": "76fb922c-06b0-4ffd-e97d-47b2c8c7777f"
      },
      "execution_count": null,
      "outputs": [
        {
          "output_type": "stream",
          "name": "stdout",
          "text": [
            "c\n"
          ]
        }
      ]
    },
    {
      "cell_type": "code",
      "source": [
        "def func_1(a):\n",
        "  return a ** a\n",
        "\n",
        "def func_2(a):\n",
        "  return func_1(a) * func_1(a)\n",
        "\n",
        "\n",
        "print(func_2(2))\n",
        "\n",
        "\n",
        "\n"
      ],
      "metadata": {
        "colab": {
          "base_uri": "https://localhost:8080/"
        },
        "id": "4F4uoPo_KptF",
        "outputId": "7fae8602-0042-4a41-9525-eeaea61a16eb"
      },
      "execution_count": null,
      "outputs": [
        {
          "output_type": "stream",
          "name": "stdout",
          "text": [
            "16\n"
          ]
        }
      ]
    },
    {
      "cell_type": "code",
      "source": [
        "def fun(x):\n",
        "  global y\n",
        "  y = x * x\n",
        "  return y\n",
        "\n",
        "\n",
        "fun(2)\n",
        "print(y)\n",
        "\n",
        "\n",
        "\n"
      ],
      "metadata": {
        "colab": {
          "base_uri": "https://localhost:8080/"
        },
        "id": "rrj4HKbrLHpZ",
        "outputId": "9083ae74-8d5a-4bfd-db2a-756e6d65ae2b"
      },
      "execution_count": null,
      "outputs": [
        {
          "output_type": "stream",
          "name": "stdout",
          "text": [
            "4\n"
          ]
        }
      ]
    },
    {
      "cell_type": "code",
      "source": [
        "def any():\n",
        "  print(var + 1, end='')\n",
        "\n",
        "\n",
        "var = 1\n",
        "any()\n",
        "print(var)\n",
        "\n"
      ],
      "metadata": {
        "colab": {
          "base_uri": "https://localhost:8080/"
        },
        "id": "SZymWhYEMUOs",
        "outputId": "a6f10c95-d961-431e-a2d1-31b44fd3b808"
      },
      "execution_count": null,
      "outputs": [
        {
          "output_type": "stream",
          "name": "stdout",
          "text": [
            "21\n"
          ]
        }
      ]
    },
    {
      "cell_type": "code",
      "source": [
        "def fun(x, y, z):\n",
        "  return x + 2 * y + 3 * z\n",
        "\n",
        "\n",
        "print(fun(0, z=1, y=3))\n",
        "\n",
        "\n"
      ],
      "metadata": {
        "colab": {
          "base_uri": "https://localhost:8080/"
        },
        "id": "NYw2nhkIMbzc",
        "outputId": "0bea7587-3c18-453d-ec57-b154d8dbf917"
      },
      "execution_count": null,
      "outputs": [
        {
          "output_type": "stream",
          "name": "stdout",
          "text": [
            "9\n"
          ]
        }
      ]
    },
    {
      "cell_type": "code",
      "source": [
        "def fun(inp=2, out=3):\n",
        "  return inp * out\n",
        "\n",
        "\n",
        "print(fun(out=2))\n",
        "\n"
      ],
      "metadata": {
        "colab": {
          "base_uri": "https://localhost:8080/"
        },
        "id": "2qk4dlguNruu",
        "outputId": "2507c5b7-f522-4878-ccaa-cc7aee9db6f8"
      },
      "execution_count": null,
      "outputs": [
        {
          "output_type": "stream",
          "name": "stdout",
          "text": [
            "4\n"
          ]
        }
      ]
    },
    {
      "cell_type": "code",
      "source": [
        "dictionary = {'one': 'two', 'three': 'one', 'two': 'three'}\n",
        "v = dictionary['one']\n",
        "\n",
        "for k in range(len(dictionary)):\n",
        "  v = dictionary[v]\n",
        "\n",
        "print(v)\n",
        "\n"
      ],
      "metadata": {
        "colab": {
          "base_uri": "https://localhost:8080/"
        },
        "id": "c4SMbiQrNwTb",
        "outputId": "f074d2cc-20c6-47aa-d084-30ffaae259e5"
      },
      "execution_count": null,
      "outputs": [
        {
          "output_type": "stream",
          "name": "stdout",
          "text": [
            "two\n"
          ]
        }
      ]
    },
    {
      "cell_type": "code",
      "source": [
        "tup = (1, 2, 4, 8)\n",
        "tup = tup[1:-1]\n",
        "tup = tup[0]\n",
        "print(tup)\n",
        "\n"
      ],
      "metadata": {
        "colab": {
          "base_uri": "https://localhost:8080/"
        },
        "id": "Z4nUxzFHN2k9",
        "outputId": "c4215eaa-5a1a-4b03-f8c6-cb56bed47c42"
      },
      "execution_count": null,
      "outputs": [
        {
          "output_type": "stream",
          "name": "stdout",
          "text": [
            "2\n"
          ]
        }
      ]
    },
    {
      "cell_type": "code",
      "source": [
        "try:\n",
        "    value = input(\"Entre um valor: \")\n",
        "    print(value/value)\n",
        "except ValueError:\n",
        "    print(\"Entrada incorreta...\")\n",
        "except ZeroDivisionError:\n",
        "    print(\"Entrada muito ruim...\")\n",
        "except TypeError:\n",
        "    print(\"muito muito ruim entrada...\")\n",
        "except:\n",
        "    print(\"Booo!\")\n"
      ],
      "metadata": {
        "colab": {
          "base_uri": "https://localhost:8080/"
        },
        "id": "65wr4_TuOlZS",
        "outputId": "a5ea9ac4-5399-427b-f3f3-9abee1031cd3"
      },
      "execution_count": null,
      "outputs": [
        {
          "output_type": "stream",
          "name": "stdout",
          "text": [
            "Entre um valor: 1\n",
            "muito muito ruim entrada...\n"
          ]
        }
      ]
    },
    {
      "cell_type": "code",
      "source": [
        "my_list = [1, 2]\n",
        "\n",
        "for v in range(2):\n",
        "  my_list.insert(-1, my_list[v])\n",
        "\n",
        "print(my_list)\n",
        "\n"
      ],
      "metadata": {
        "colab": {
          "base_uri": "https://localhost:8080/"
        },
        "id": "9gp-oMTXP-PD",
        "outputId": "010fc378-c04d-424c-87a9-204d0a7e9a5b"
      },
      "execution_count": null,
      "outputs": [
        {
          "output_type": "stream",
          "name": "stdout",
          "text": [
            "[1, 1, 1, 2]\n"
          ]
        }
      ]
    },
    {
      "cell_type": "code",
      "source": [
        "nums = [1, 2, 3]\n",
        "vals = nums\n",
        "print(vals)\n",
        "print(nums)\n"
      ],
      "metadata": {
        "colab": {
          "base_uri": "https://localhost:8080/"
        },
        "id": "kk5zdbpwQhxq",
        "outputId": "6aaa5518-f066-4ab9-f5cc-85674d863a3e"
      },
      "execution_count": null,
      "outputs": [
        {
          "output_type": "stream",
          "name": "stdout",
          "text": [
            "[1, 2, 3]\n",
            "[1, 2, 3]\n"
          ]
        }
      ]
    },
    {
      "cell_type": "code",
      "source": [
        "1 // 2\n",
        "\n",
        "\n"
      ],
      "metadata": {
        "colab": {
          "base_uri": "https://localhost:8080/"
        },
        "id": "WhxuHeG-Q3HS",
        "outputId": "24fb5a73-93fc-403c-ccf0-24c2b48be8da"
      },
      "execution_count": null,
      "outputs": [
        {
          "output_type": "execute_result",
          "data": {
            "text/plain": [
              "0"
            ]
          },
          "metadata": {},
          "execution_count": 38
        }
      ]
    },
    {
      "cell_type": "code",
      "source": [
        "z = 0\n",
        "y = 10\n",
        "x = y < z and z > y or y < z and z < y\n",
        "print(x)\n",
        "\n"
      ],
      "metadata": {
        "colab": {
          "base_uri": "https://localhost:8080/"
        },
        "id": "LFTzPaanRBN0",
        "outputId": "af66e308-f9e8-482b-a341-0de920e8c23f"
      },
      "execution_count": null,
      "outputs": [
        {
          "output_type": "stream",
          "name": "stdout",
          "text": [
            "False\n"
          ]
        }
      ]
    },
    {
      "cell_type": "code",
      "source": [
        "my_list =  [x * x for x in range(5)]\n",
        "\n",
        "\n",
        "def fun(lst):\n",
        "  del lst[lst[2]]\n",
        "  return lst\n",
        "\n",
        "\n",
        "print(fun(my_list))\n",
        "\n"
      ],
      "metadata": {
        "colab": {
          "base_uri": "https://localhost:8080/"
        },
        "id": "bSr8SwxvRycN",
        "outputId": "2ead2a0b-b160-4bab-be47-7b8076456d96"
      },
      "execution_count": null,
      "outputs": [
        {
          "output_type": "stream",
          "name": "stdout",
          "text": [
            "[0, 1, 4, 9]\n"
          ]
        }
      ]
    },
    {
      "cell_type": "code",
      "source": [
        "x = 1\n",
        "y = 2\n",
        "x, y, z = x, x, y\n",
        "z, y, z = x, y, z\n",
        "\n",
        "print(x, y, z)\n",
        "\n"
      ],
      "metadata": {
        "colab": {
          "base_uri": "https://localhost:8080/"
        },
        "id": "0a-1dpHpR6Zn",
        "outputId": "8aa358b9-8e61-445e-a46c-cd65bcec8195"
      },
      "execution_count": null,
      "outputs": [
        {
          "output_type": "stream",
          "name": "stdout",
          "text": [
            "1 1 2\n"
          ]
        }
      ]
    },
    {
      "cell_type": "code",
      "source": [
        "a = 1\n",
        "b = 0\n",
        "a = a ^ b\n",
        "b = a ^ b\n",
        "a = a ^ b\n",
        "\n",
        "print(a, b)\n",
        "\n"
      ],
      "metadata": {
        "colab": {
          "base_uri": "https://localhost:8080/"
        },
        "id": "XBaCb2URR96X",
        "outputId": "898a9281-4db0-42c2-cf0c-fdb66779df52"
      },
      "execution_count": null,
      "outputs": [
        {
          "output_type": "stream",
          "name": "stdout",
          "text": [
            "0 1\n"
          ]
        }
      ]
    },
    {
      "cell_type": "code",
      "source": [
        "def fun(x):\n",
        "  if x % 2 == 0:\n",
        "    return 1\n",
        "  else:\n",
        "    return 2\n",
        "\n",
        "\n",
        "print(fun(fun(2)))\n",
        "\n"
      ],
      "metadata": {
        "colab": {
          "base_uri": "https://localhost:8080/"
        },
        "id": "J257M0KWSB6A",
        "outputId": "120b0280-c0bd-4b69-c8da-9ba8d0ac9bf3"
      },
      "execution_count": null,
      "outputs": [
        {
          "output_type": "stream",
          "name": "stdout",
          "text": [
            "2\n"
          ]
        }
      ]
    },
    {
      "cell_type": "code",
      "source": [
        "nums = [1, 2, 3]\n",
        "vals = nums\n",
        "del vals[:]\n",
        "print(vals)\n",
        "print(nums)\n"
      ],
      "metadata": {
        "colab": {
          "base_uri": "https://localhost:8080/"
        },
        "id": "VEywyFbISN3Q",
        "outputId": "bf7341da-4487-4392-f157-b29573abe303"
      },
      "execution_count": null,
      "outputs": [
        {
          "output_type": "stream",
          "name": "stdout",
          "text": [
            "[]\n",
            "[]\n"
          ]
        }
      ]
    },
    {
      "cell_type": "code",
      "source": [
        "x = int(input())\n",
        "y = int(input())\n",
        "x = x % y\n",
        "x = x % y\n",
        "y = y % x\n",
        "print(y)\n",
        "\n"
      ],
      "metadata": {
        "colab": {
          "base_uri": "https://localhost:8080/"
        },
        "id": "okT1IlT1SgIw",
        "outputId": "436105ca-468a-4492-a6f9-9cff07fb160b"
      },
      "execution_count": null,
      "outputs": [
        {
          "output_type": "stream",
          "name": "stdout",
          "text": [
            "3\n",
            "2\n",
            "0\n"
          ]
        }
      ]
    },
    {
      "cell_type": "code",
      "source": [
        "y = input()\n",
        "x = input()\n",
        "print(x + y)\n",
        "\n"
      ],
      "metadata": {
        "colab": {
          "base_uri": "https://localhost:8080/"
        },
        "id": "05mzIc5USrkR",
        "outputId": "9760b48d-045c-4428-cc9c-781b776d861d"
      },
      "execution_count": null,
      "outputs": [
        {
          "output_type": "stream",
          "name": "stdout",
          "text": [
            "3\n",
            "6\n",
            "63\n"
          ]
        }
      ]
    },
    {
      "cell_type": "code",
      "source": [
        "print(\"a\", \"b\", \"c\", sep=\"sep\")\n",
        "\n"
      ],
      "metadata": {
        "colab": {
          "base_uri": "https://localhost:8080/"
        },
        "id": "004S1mePS6AH",
        "outputId": "43738214-6c7a-4773-84d9-9a6d869283bb"
      },
      "execution_count": null,
      "outputs": [
        {
          "output_type": "stream",
          "name": "stdout",
          "text": [
            "asepbsepc\n"
          ]
        }
      ]
    },
    {
      "cell_type": "code",
      "source": [
        "x = 1 // 5 + 1 / 5\n",
        "print(x)\n",
        "\n"
      ],
      "metadata": {
        "colab": {
          "base_uri": "https://localhost:8080/"
        },
        "id": "uzTDHNkzTDlr",
        "outputId": "bb122c91-0fe7-4b06-977b-7a7134c2d6b2"
      },
      "execution_count": null,
      "outputs": [
        {
          "output_type": "stream",
          "name": "stdout",
          "text": [
            "0.2\n"
          ]
        }
      ]
    },
    {
      "cell_type": "code",
      "source": [
        "x = float(input())\n",
        "y = float(input())\n",
        "print(y ** (1 / x))\n",
        "\n"
      ],
      "metadata": {
        "colab": {
          "base_uri": "https://localhost:8080/"
        },
        "id": "PBAqriVnTL_4",
        "outputId": "1f3cb7eb-0d66-4888-ec60-3ed88f91457f"
      },
      "execution_count": null,
      "outputs": [
        {
          "output_type": "stream",
          "name": "stdout",
          "text": [
            "2\n",
            "4\n",
            "2.0\n"
          ]
        }
      ]
    },
    {
      "cell_type": "code",
      "source": [
        "dct = {'one': 'two', 'three': 'one', 'two': 'three'}\n",
        "v = dct['three']\n",
        "\n",
        "for k in range(len(dct)):\n",
        "  v = dct[v]\n",
        "\n",
        "print(v)\n",
        "\n"
      ],
      "metadata": {
        "colab": {
          "base_uri": "https://localhost:8080/"
        },
        "id": "KUkaTJbgTQiw",
        "outputId": "b34f7611-d4d3-40e5-a607-b1394ea6a026"
      },
      "execution_count": null,
      "outputs": [
        {
          "output_type": "stream",
          "name": "stdout",
          "text": [
            "one\n"
          ]
        }
      ]
    },
    {
      "cell_type": "code",
      "source": [
        "lst = [i for i in range(-1, -2)]\n",
        "tamanho = len(lst)\n",
        "print(tamanho)"
      ],
      "metadata": {
        "colab": {
          "base_uri": "https://localhost:8080/"
        },
        "id": "zXkOXB4_TVIC",
        "outputId": "26f50012-878e-4840-f9ed-d4224153d346"
      },
      "execution_count": null,
      "outputs": [
        {
          "output_type": "stream",
          "name": "stdout",
          "text": [
            "0\n"
          ]
        }
      ]
    },
    {
      "cell_type": "code",
      "source": [
        "def fun(x, y):\n",
        "  if x == y:\n",
        "    return x\n",
        "  else:\n",
        "    return fun(x, y-1)\n",
        "\n",
        "\n",
        "print(fun(0, 3))\n",
        "\n"
      ],
      "metadata": {
        "colab": {
          "base_uri": "https://localhost:8080/"
        },
        "id": "EBN7zYhvUGOm",
        "outputId": "4f7985a1-9445-43fe-f0cf-ebe1ec885e32"
      },
      "execution_count": null,
      "outputs": [
        {
          "output_type": "stream",
          "name": "stdout",
          "text": [
            "0\n"
          ]
        }
      ]
    },
    {
      "cell_type": "code",
      "source": [
        "tup = (1, 2, 4, 8)\n",
        "tup = tup[-2:-1]\n",
        "tup = tup[-1]\n",
        "print(tup)\n",
        "\n"
      ],
      "metadata": {
        "colab": {
          "base_uri": "https://localhost:8080/"
        },
        "id": "H6sFtVMXUboy",
        "outputId": "0b2d6b41-5f19-4b77-f320-a537589fb6dc"
      },
      "execution_count": null,
      "outputs": [
        {
          "output_type": "stream",
          "name": "stdout",
          "text": [
            "4\n"
          ]
        }
      ]
    },
    {
      "cell_type": "code",
      "source": [
        "dct = {}\n",
        "dct['1'] = (1, 2)\n",
        "dct['2'] = (2, 1)\n",
        "\n",
        "for x in dct.keys():\n",
        "  print(dct[x][1], end=\"\")\n",
        "\n",
        "\n"
      ],
      "metadata": {
        "colab": {
          "base_uri": "https://localhost:8080/"
        },
        "id": "alEXwFL4UfMj",
        "outputId": "818a54cf-0465-4427-916c-bfdd7b166140"
      },
      "execution_count": null,
      "outputs": [
        {
          "output_type": "stream",
          "name": "stdout",
          "text": [
            "21"
          ]
        }
      ]
    },
    {
      "cell_type": "code",
      "source": [
        "def fun(inp=2, out=3):\n",
        "  return inp * out\n",
        "\n",
        "\n",
        "print(fun(out=2))\n",
        "\n"
      ],
      "metadata": {
        "colab": {
          "base_uri": "https://localhost:8080/"
        },
        "id": "pbzV74XsUqjr",
        "outputId": "ba0fa31f-5bcc-4155-ee81-b6e26ad7db7e"
      },
      "execution_count": null,
      "outputs": [
        {
          "output_type": "stream",
          "name": "stdout",
          "text": [
            "4\n"
          ]
        }
      ]
    },
    {
      "cell_type": "code",
      "source": [
        "lst = [[x for x in range(3)] for y in range(3)]\n",
        "\n",
        "for r in range(3):\n",
        "    for c in range(3):\n",
        "        if lst[r][c] % 2 != 0:\n",
        "            print(\"#\")\n",
        "\n"
      ],
      "metadata": {
        "colab": {
          "base_uri": "https://localhost:8080/"
        },
        "id": "rGFQPod1UxB2",
        "outputId": "2ea58bd8-c360-4b7d-f2fe-dae1af25938a"
      },
      "execution_count": null,
      "outputs": [
        {
          "output_type": "stream",
          "name": "stdout",
          "text": [
            "#\n",
            "#\n",
            "#\n"
          ]
        }
      ]
    },
    {
      "cell_type": "code",
      "source": [
        "try:\n",
        "    value = input(\"Digite um valor: \")\n",
        "    print(int(value)/len(value))\n",
        "except ValueError:\n",
        "  print(\"Entrada ruim...\")\n",
        "except ZeroDivisionError:\n",
        "  print(\"Entrada muito ruim...\")\n",
        "except TypeError:\n",
        "  print(\"Muito, muito ruim entrada...\")\n",
        "except:\n",
        "  print(\"Booo!\")\n",
        "\n"
      ],
      "metadata": {
        "colab": {
          "base_uri": "https://localhost:8080/"
        },
        "id": "8HW1ViO5U61P",
        "outputId": "3fcc25d8-5728-4600-f450-bba0b49e577f"
      },
      "execution_count": null,
      "outputs": [
        {
          "output_type": "stream",
          "name": "stdout",
          "text": [
            "Digite um valor: 0\n",
            "0.0\n"
          ]
        }
      ]
    }
  ]
}