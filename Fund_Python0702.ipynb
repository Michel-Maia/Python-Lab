{
  "nbformat": 4,
  "nbformat_minor": 0,
  "metadata": {
    "colab": {
      "provenance": [],
      "authorship_tag": "ABX9TyNTfFOMs+PZSZewGf66V0in"
    },
    "kernelspec": {
      "name": "python3",
      "display_name": "Python 3"
    },
    "language_info": {
      "name": "python"
    }
  },
  "cells": [
    {
      "cell_type": "code",
      "source": [
        "x = int(5.9)\n",
        "print(x)"
      ],
      "metadata": {
        "colab": {
          "base_uri": "https://localhost:8080/"
        },
        "id": "WvIzYU4_xafF",
        "outputId": "96eb2fac-c1a9-48b5-cce2-f91499ba3955"
      },
      "execution_count": 12,
      "outputs": [
        {
          "output_type": "stream",
          "name": "stdout",
          "text": [
            "5\n"
          ]
        }
      ]
    },
    {
      "cell_type": "code",
      "source": [
        "x = 2\n",
        "y = 3\n",
        "z = 0.5\n",
        "\n",
        "print(x + x * x ** (y * x) / z)\n",
        "print(not x + z < y or x + x * z >= y and True)"
      ],
      "metadata": {
        "colab": {
          "base_uri": "https://localhost:8080/"
        },
        "id": "26t938f-yiIU",
        "outputId": "122c92b1-66e8-4d1e-eff1-4b4aafcb31d4"
      },
      "execution_count": 13,
      "outputs": [
        {
          "output_type": "stream",
          "name": "stdout",
          "text": [
            "258.0\n",
            "True\n"
          ]
        }
      ]
    },
    {
      "cell_type": "markdown",
      "source": [
        "Operações aritméticas\n",
        "\n",
        "A programação em geral é muito usada para resolver problemas matemáticos. Para isso o python apresenta operações básicas\n",
        "\n",
        "** potência\n",
        "*multiplicação\n",
        "/ divisão\n",
        "// divisão inteira\n",
        "% resto\n",
        "+soma\n",
        "-subtração\n",
        "\n"
      ],
      "metadata": {
        "id": "0cjpp9s_qUHC"
      }
    },
    {
      "cell_type": "code",
      "execution_count": 1,
      "metadata": {
        "id": "VBQOtiQXqLiF"
      },
      "outputs": [],
      "source": [
        "# Declaração de variavéis\n",
        "\n",
        "a = 2.0\n",
        "b = 7.0"
      ]
    },
    {
      "cell_type": "code",
      "source": [
        "print(\"Soma =\", a+b)\n",
        "print(\"Subtração\", b-a)"
      ],
      "metadata": {
        "colab": {
          "base_uri": "https://localhost:8080/"
        },
        "id": "n74eFyHnsekD",
        "outputId": "3b744ad0-d73b-4563-ce0a-cd6358712f5f"
      },
      "execution_count": 2,
      "outputs": [
        {
          "output_type": "stream",
          "name": "stdout",
          "text": [
            "Soma = 9.0\n",
            "Subtração 5.0\n"
          ]
        }
      ]
    },
    {
      "cell_type": "code",
      "source": [
        "print(\"Multiplicação =\", a*b)\n",
        "print(\"Divisão =\", b/a)\n",
        "print(\"Divisão inteira =\", b//a)"
      ],
      "metadata": {
        "colab": {
          "base_uri": "https://localhost:8080/"
        },
        "id": "GTV7VCl8s5Sg",
        "outputId": "ef829272-003d-402e-d5bc-a2e7a325bfaa"
      },
      "execution_count": 3,
      "outputs": [
        {
          "output_type": "stream",
          "name": "stdout",
          "text": [
            "Multiplicação = 14.0\n",
            "Divisão = 3.5\n",
            "Divisão inteira = 3.0\n"
          ]
        }
      ]
    },
    {
      "cell_type": "code",
      "source": [
        "print(\"Resto =\", b%a)\n",
        "print(\"Divisão e resto =\", divmod(b,a))\n"
      ],
      "metadata": {
        "colab": {
          "base_uri": "https://localhost:8080/"
        },
        "id": "rslVJecptWg7",
        "outputId": "5e2f95c8-4fb1-4e20-c82d-3b0df14574ec"
      },
      "execution_count": 4,
      "outputs": [
        {
          "output_type": "stream",
          "name": "stdout",
          "text": [
            "Resto = 1.0\n",
            "Divisão e resto = (3.0, 1.0)\n"
          ]
        }
      ]
    },
    {
      "cell_type": "code",
      "source": [
        "print(\"Potência =\", b**a)\n",
        "print(\"Potência alternativa =\", pow(b,a))"
      ],
      "metadata": {
        "colab": {
          "base_uri": "https://localhost:8080/"
        },
        "id": "1fhC6WJet3bC",
        "outputId": "016177a2-c670-4914-cc64-2f1deb32a158"
      },
      "execution_count": 5,
      "outputs": [
        {
          "output_type": "stream",
          "name": "stdout",
          "text": [
            "Potência = 49.0\n",
            "Potência alternativa = 49.0\n"
          ]
        }
      ]
    },
    {
      "cell_type": "markdown",
      "source": [
        "uma variavél é capaz de receber o resultado de uma operação"
      ],
      "metadata": {
        "id": "az9gn9dnuKnR"
      }
    },
    {
      "cell_type": "code",
      "source": [
        "c = a+b\n",
        "d = b/a\n",
        "\n",
        "print(c,d)"
      ],
      "metadata": {
        "colab": {
          "base_uri": "https://localhost:8080/"
        },
        "id": "9Ei0-TXpuSiw",
        "outputId": "cd81d2ff-9def-4445-bf27-7ce17ab31451"
      },
      "execution_count": 6,
      "outputs": [
        {
          "output_type": "stream",
          "name": "stdout",
          "text": [
            "9.0 3.5\n"
          ]
        }
      ]
    },
    {
      "cell_type": "markdown",
      "source": [
        "é importante ressaltar que as operações aritméticas devem ser realizadas entre variáveis numéricas(int, float...)\n",
        "Se tentarmos, por exemplo, realizar uma soma de um número do tipo int e um número string o código retornará erro"
      ],
      "metadata": {
        "id": "xJ1rRYnWvTWp"
      }
    },
    {
      "cell_type": "code",
      "source": [
        "numero = 1\n",
        "falso_numero = input(\"Digite um numero:\")\n",
        "\n",
        "print(type(numero), type(falso_numero))"
      ],
      "metadata": {
        "colab": {
          "base_uri": "https://localhost:8080/"
        },
        "id": "U-bZ-XDhvRYH",
        "outputId": "3dc03f54-c2ad-48fe-e8d5-c570ad5827a6"
      },
      "execution_count": 7,
      "outputs": [
        {
          "output_type": "stream",
          "name": "stdout",
          "text": [
            "Digite um numero:2\n",
            "<class 'int'> <class 'str'>\n"
          ]
        }
      ]
    },
    {
      "cell_type": "code",
      "source": [
        "print(\"Soma =\", numero+falso_numero)"
      ],
      "metadata": {
        "colab": {
          "base_uri": "https://localhost:8080/",
          "height": 175
        },
        "id": "Zf4MyOqFwF0m",
        "outputId": "67e401b6-54ed-4e34-ba52-cc0a171bdfcf"
      },
      "execution_count": 8,
      "outputs": [
        {
          "output_type": "error",
          "ename": "TypeError",
          "evalue": "unsupported operand type(s) for +: 'int' and 'str'",
          "traceback": [
            "\u001b[0;31m---------------------------------------------------------------------------\u001b[0m",
            "\u001b[0;31mTypeError\u001b[0m                                 Traceback (most recent call last)",
            "\u001b[0;32m<ipython-input-8-77a98f96950a>\u001b[0m in \u001b[0;36m<cell line: 1>\u001b[0;34m()\u001b[0m\n\u001b[0;32m----> 1\u001b[0;31m \u001b[0mprint\u001b[0m\u001b[0;34m(\u001b[0m\u001b[0;34m\"Soma =\"\u001b[0m\u001b[0;34m,\u001b[0m \u001b[0mnumero\u001b[0m\u001b[0;34m+\u001b[0m\u001b[0mfalso_numero\u001b[0m\u001b[0;34m)\u001b[0m\u001b[0;34m\u001b[0m\u001b[0;34m\u001b[0m\u001b[0m\n\u001b[0m",
            "\u001b[0;31mTypeError\u001b[0m: unsupported operand type(s) for +: 'int' and 'str'"
          ]
        }
      ]
    },
    {
      "cell_type": "code",
      "source": [
        "print(\"Soma =\", numero+int(falso_numero))"
      ],
      "metadata": {
        "colab": {
          "base_uri": "https://localhost:8080/"
        },
        "id": "TQ2zy0JxwTje",
        "outputId": "390acf4a-a8d0-4237-d143-c991ad078ce6"
      },
      "execution_count": 9,
      "outputs": [
        {
          "output_type": "stream",
          "name": "stdout",
          "text": [
            "Soma = 3\n"
          ]
        }
      ]
    },
    {
      "cell_type": "markdown",
      "source": [
        "#Precedencia de operações\n",
        "\n",
        "O Python executa operações matématicas de acordo com a prioridade que essas operações possuem."
      ],
      "metadata": {
        "id": "Nd67zS1BulXH"
      }
    },
    {
      "cell_type": "code",
      "source": [
        "print(2*3+5)\n",
        "print(5+2*3)"
      ],
      "metadata": {
        "colab": {
          "base_uri": "https://localhost:8080/"
        },
        "id": "Iup4-BtYvK6F",
        "outputId": "985ec644-324f-4017-8081-bb8af0d532ce"
      },
      "execution_count": 10,
      "outputs": [
        {
          "output_type": "stream",
          "name": "stdout",
          "text": [
            "11\n",
            "11\n"
          ]
        }
      ]
    },
    {
      "cell_type": "code",
      "source": [
        "print(2*(3+5))"
      ],
      "metadata": {
        "colab": {
          "base_uri": "https://localhost:8080/"
        },
        "id": "RciKwU7zwu5x",
        "outputId": "7316b7ff-1f6e-4664-a977-ddaca4b9f247"
      },
      "execution_count": 11,
      "outputs": [
        {
          "output_type": "stream",
          "name": "stdout",
          "text": [
            "16\n"
          ]
        }
      ]
    },
    {
      "cell_type": "markdown",
      "source": [
        "nesse exemplo o () forçou que a soma fosse realizada primeiro"
      ],
      "metadata": {
        "id": "TX4OlJIaw1P1"
      }
    },
    {
      "cell_type": "markdown",
      "source": [
        "##Operadores lógicos e relacionais; estruturas condicionais\n",
        "\n",
        "#Operadores lógicos\n",
        "\n",
        "Os operadores lógicos usados em Python são AND, OR e NOT"
      ],
      "metadata": {
        "id": "rCr6j7gku_iY"
      }
    },
    {
      "cell_type": "code",
      "source": [
        "a = True\n",
        "b = False"
      ],
      "metadata": {
        "id": "WEZpccu00JOs"
      },
      "execution_count": 14,
      "outputs": []
    },
    {
      "cell_type": "code",
      "source": [
        "print(type(a))"
      ],
      "metadata": {
        "colab": {
          "base_uri": "https://localhost:8080/"
        },
        "id": "PJThynUx0K85",
        "outputId": "8ee33690-b7db-4ca0-c457-124c9e56715b"
      },
      "execution_count": 15,
      "outputs": [
        {
          "output_type": "stream",
          "name": "stdout",
          "text": [
            "<class 'bool'>\n"
          ]
        }
      ]
    },
    {
      "cell_type": "markdown",
      "source": [
        "Dados dois valores booleanos a e b, o operador AND retorna TRUE **ambos forem True**"
      ],
      "metadata": {
        "id": "fAWO_E-Y0Unq"
      }
    },
    {
      "cell_type": "code",
      "source": [
        "a and b"
      ],
      "metadata": {
        "colab": {
          "base_uri": "https://localhost:8080/"
        },
        "id": "jj1r8UC10l9D",
        "outputId": "7f30bcee-4bc0-4ba6-b4c7-6ecc19a3bd8d"
      },
      "execution_count": 16,
      "outputs": [
        {
          "output_type": "execute_result",
          "data": {
            "text/plain": [
              "False"
            ]
          },
          "metadata": {},
          "execution_count": 16
        }
      ]
    },
    {
      "cell_type": "markdown",
      "source": [
        "já o operador OR retorna True quando **apenas um** dos dois valores booleanos for True"
      ],
      "metadata": {
        "id": "g_699uMG0neh"
      }
    },
    {
      "cell_type": "code",
      "source": [
        "a or b"
      ],
      "metadata": {
        "colab": {
          "base_uri": "https://localhost:8080/"
        },
        "id": "FH0WFqNA01_c",
        "outputId": "18847532-4129-4267-f693-6e26c6243a07"
      },
      "execution_count": 17,
      "outputs": [
        {
          "output_type": "execute_result",
          "data": {
            "text/plain": [
              "True"
            ]
          },
          "metadata": {},
          "execution_count": 17
        }
      ]
    },
    {
      "cell_type": "markdown",
      "source": [
        "o operador NOT apenas** muda o valor** do argumento"
      ],
      "metadata": {
        "id": "29iym9pW02bF"
      }
    },
    {
      "cell_type": "code",
      "source": [
        "not a"
      ],
      "metadata": {
        "colab": {
          "base_uri": "https://localhost:8080/"
        },
        "id": "Z8d45GjC0-Sq",
        "outputId": "56029c12-412a-4bb5-97b2-4bf28d261791"
      },
      "execution_count": 18,
      "outputs": [
        {
          "output_type": "execute_result",
          "data": {
            "text/plain": [
              "False"
            ]
          },
          "metadata": {},
          "execution_count": 18
        }
      ]
    }
  ]
}