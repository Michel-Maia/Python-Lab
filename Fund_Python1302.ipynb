{
  "nbformat": 4,
  "nbformat_minor": 0,
  "metadata": {
    "colab": {
      "provenance": [],
      "authorship_tag": "ABX9TyPo90Xp20vTQkyopnEVbRqo"
    },
    "kernelspec": {
      "name": "python3",
      "display_name": "Python 3"
    },
    "language_info": {
      "name": "python"
    }
  },
  "cells": [
    {
      "cell_type": "markdown",
      "source": [
        "**Expressões relacionais**\n",
        "\n",
        "As expressões relacionais ou expressões lógicas  que possuem valores  booleanos (verdadeiro ou falso) e são compostas por operadores como igual a, maior que, diferente de"
      ],
      "metadata": {
        "id": "46L4GYeuRjGO"
      }
    },
    {
      "cell_type": "code",
      "execution_count": 1,
      "metadata": {
        "id": "nZmdtBxVRYUW"
      },
      "outputs": [],
      "source": [
        "a = 3\n",
        "b = 4"
      ]
    },
    {
      "cell_type": "code",
      "source": [
        "c = a < b\n",
        "d = a > b\n",
        "e = a ==b"
      ],
      "metadata": {
        "id": "8xgkcf95SCde"
      },
      "execution_count": 2,
      "outputs": []
    },
    {
      "cell_type": "code",
      "source": [
        "print(c)\n",
        "print(d)\n",
        "print(e)"
      ],
      "metadata": {
        "colab": {
          "base_uri": "https://localhost:8080/"
        },
        "id": "VEtJfjRjSQxe",
        "outputId": "0dea1445-82e6-4c62-c62d-da04b76b6f77"
      },
      "execution_count": 3,
      "outputs": [
        {
          "output_type": "stream",
          "name": "stdout",
          "text": [
            "True\n",
            "False\n",
            "False\n"
          ]
        }
      ]
    },
    {
      "cell_type": "code",
      "source": [
        "print('a é menor que 3?', a < 3)\n",
        "print('a é menor ou igual a 3?', a <= 3)\n",
        "\n",
        "print('a está no intervalo [1,3]?', 1 <= a <= 3)\n",
        "print('b está no intervalo [1,3]?', 1 <= b <= 3)"
      ],
      "metadata": {
        "colab": {
          "base_uri": "https://localhost:8080/"
        },
        "id": "GXu97O4_SaRG",
        "outputId": "298d2806-243c-47db-ab39-ef06495bfb81"
      },
      "execution_count": 5,
      "outputs": [
        {
          "output_type": "stream",
          "name": "stdout",
          "text": [
            "a é menor que 3? False\n",
            "a é menor ou igual a 3? True\n",
            "a está no intervalo [1,3]? True\n",
            "b está no intervalo [1,3]? False\n"
          ]
        }
      ]
    },
    {
      "cell_type": "code",
      "source": [
        "x = 10\n",
        "y = 5\n",
        "z = 10\n",
        "\n",
        "print(\"x == y\",x == y)\n",
        "print(\"x == z\",x == z)\n",
        "print(\"x != y\",x != y)\n",
        "print(\"x != z\",x != z)"
      ],
      "metadata": {
        "colab": {
          "base_uri": "https://localhost:8080/"
        },
        "id": "anDf8zGDTsZ-",
        "outputId": "c0a1fc14-81f1-4ad8-d8d2-13890af33d4b"
      },
      "execution_count": 6,
      "outputs": [
        {
          "output_type": "stream",
          "name": "stdout",
          "text": [
            "x == y False\n",
            "x == z True\n",
            "x != y True\n",
            "x != z False\n"
          ]
        }
      ]
    },
    {
      "cell_type": "markdown",
      "source": [
        "**Estruturas condicionais if, else e elif**\n",
        "\n",
        "As estruturas condicionais são usadas quando queremos mudar o fluxo da execução do programa. As principais são if, else, elif\n"
      ],
      "metadata": {
        "id": "_GzgJfb6SbZL"
      }
    },
    {
      "cell_type": "code",
      "source": [
        "num = 88\n",
        "print('par' if num%2 == 0 else 'ímpar')"
      ],
      "metadata": {
        "colab": {
          "base_uri": "https://localhost:8080/"
        },
        "id": "ceGTPY4y1aAO",
        "outputId": "0a038de8-419c-48da-feec-52ccaef966e7"
      },
      "execution_count": 1,
      "outputs": [
        {
          "output_type": "stream",
          "name": "stdout",
          "text": [
            "par\n"
          ]
        }
      ]
    },
    {
      "cell_type": "code",
      "source": [
        "idade = 16\n",
        "\n",
        "if (idade >= 18 and idade < 70):\n",
        "    print(\"Seu voto é obrigatório\")\n",
        "elif (idade >= 16 and idade < 18 or idade > 70):\n",
        "    print (\"Seu voto é opcional\")\n",
        "else:\n",
        "    print(\"Você não pode votar\")"
      ],
      "metadata": {
        "colab": {
          "base_uri": "https://localhost:8080/"
        },
        "id": "pj03c1PA1tX9",
        "outputId": "707d79dc-e2ae-4ae1-b04c-5936b4e23d41"
      },
      "execution_count": 2,
      "outputs": [
        {
          "output_type": "stream",
          "name": "stdout",
          "text": [
            "Seu voto é opcional\n"
          ]
        }
      ]
    },
    {
      "cell_type": "markdown",
      "source": [
        "##Operadores em string##\n",
        "\n",
        "O sinal de + nas strings é usado para concatenar duas strings diferentes em uma única string"
      ],
      "metadata": {
        "id": "hmWbmGR95DuS"
      }
    },
    {
      "cell_type": "code",
      "source": [
        "resp = \"Maria é responsavel pelo setor\"\n",
        "setor =  \"comercial\"\n",
        "\n",
        "print(resp + \" \" + setor)"
      ],
      "metadata": {
        "colab": {
          "base_uri": "https://localhost:8080/"
        },
        "id": "ZLqEjZvd5SEJ",
        "outputId": "339973f2-7b99-46c4-a1ac-e7d1d4604036"
      },
      "execution_count": 3,
      "outputs": [
        {
          "output_type": "stream",
          "name": "stdout",
          "text": [
            "Maria é responsavel pelo setor comercial\n"
          ]
        }
      ]
    },
    {
      "cell_type": "markdown",
      "source": [
        "o sinal de * possui a ideia de repetição de string"
      ],
      "metadata": {
        "id": "u0w_x7Wa5jWy"
      }
    },
    {
      "cell_type": "code",
      "source": [
        "nome = \"Enzo\"\n",
        "2*nome"
      ],
      "metadata": {
        "colab": {
          "base_uri": "https://localhost:8080/",
          "height": 36
        },
        "id": "KGqUAy-_5pfj",
        "outputId": "7ca156d5-4a39-488e-fdc4-27dda8fd5e29"
      },
      "execution_count": 4,
      "outputs": [
        {
          "output_type": "execute_result",
          "data": {
            "text/plain": [
              "'EnzoEnzo'"
            ],
            "application/vnd.google.colaboratory.intrinsic+json": {
              "type": "string"
            }
          },
          "metadata": {},
          "execution_count": 4
        }
      ]
    },
    {
      "cell_type": "code",
      "source": [
        "print(type(nome))"
      ],
      "metadata": {
        "colab": {
          "base_uri": "https://localhost:8080/"
        },
        "id": "YnMmsuoZ6yiT",
        "outputId": "06fe20da-4507-4296-9589-ce6bb64a276f"
      },
      "execution_count": 5,
      "outputs": [
        {
          "output_type": "stream",
          "name": "stdout",
          "text": [
            "<class 'str'>\n"
          ]
        }
      ]
    },
    {
      "cell_type": "code",
      "source": [
        "'a' in nome"
      ],
      "metadata": {
        "colab": {
          "base_uri": "https://localhost:8080/"
        },
        "id": "lxqkwOHF7LNZ",
        "outputId": "04f4baf1-efca-45c2-c367-f166af60b8b8"
      },
      "execution_count": 7,
      "outputs": [
        {
          "output_type": "execute_result",
          "data": {
            "text/plain": [
              "False"
            ]
          },
          "metadata": {},
          "execution_count": 7
        }
      ]
    },
    {
      "cell_type": "markdown",
      "source": [
        "metodos de manipulação de string"
      ],
      "metadata": {
        "id": "fLMZ6vzC5qFp"
      }
    },
    {
      "cell_type": "code",
      "source": [
        "curso = \"python\""
      ],
      "metadata": {
        "id": "bYV94pxZ9bn2"
      },
      "execution_count": 8,
      "outputs": []
    },
    {
      "cell_type": "code",
      "source": [
        "curso?"
      ],
      "metadata": {
        "id": "Nz51B-8n9gFH"
      },
      "execution_count": 9,
      "outputs": []
    },
    {
      "cell_type": "code",
      "source": [
        "curso.count('a')"
      ],
      "metadata": {
        "colab": {
          "base_uri": "https://localhost:8080/"
        },
        "id": "3mNF80eN9j7W",
        "outputId": "c9cf0c74-36fd-4b31-dd4e-7ef5a92362e7"
      },
      "execution_count": 11,
      "outputs": [
        {
          "output_type": "execute_result",
          "data": {
            "text/plain": [
              "0"
            ]
          },
          "metadata": {},
          "execution_count": 11
        }
      ]
    },
    {
      "cell_type": "code",
      "source": [
        "curso.find('o')"
      ],
      "metadata": {
        "colab": {
          "base_uri": "https://localhost:8080/"
        },
        "id": "Ji_hCmU4-CtV",
        "outputId": "1bcdd1f3-cf9b-4c23-d11e-f00c8fb65448"
      },
      "execution_count": 12,
      "outputs": [
        {
          "output_type": "execute_result",
          "data": {
            "text/plain": [
              "4"
            ]
          },
          "metadata": {},
          "execution_count": 12
        }
      ]
    },
    {
      "cell_type": "code",
      "source": [
        "curso.capitalize()"
      ],
      "metadata": {
        "colab": {
          "base_uri": "https://localhost:8080/",
          "height": 36
        },
        "id": "w2tfkP7X-qNN",
        "outputId": "6b8468a6-4b45-45a9-d053-6323aab842be"
      },
      "execution_count": 13,
      "outputs": [
        {
          "output_type": "execute_result",
          "data": {
            "text/plain": [
              "'Python'"
            ],
            "application/vnd.google.colaboratory.intrinsic+json": {
              "type": "string"
            }
          },
          "metadata": {},
          "execution_count": 13
        }
      ]
    },
    {
      "cell_type": "code",
      "source": [
        "'-'.join(curso)"
      ],
      "metadata": {
        "colab": {
          "base_uri": "https://localhost:8080/",
          "height": 36
        },
        "id": "XW3mtrdA-2SM",
        "outputId": "a077ae62-00a1-4567-c492-175f7d9bdc24"
      },
      "execution_count": 14,
      "outputs": [
        {
          "output_type": "execute_result",
          "data": {
            "text/plain": [
              "'p-y-t-h-o-n'"
            ],
            "application/vnd.google.colaboratory.intrinsic+json": {
              "type": "string"
            }
          },
          "metadata": {},
          "execution_count": 14
        }
      ]
    },
    {
      "cell_type": "code",
      "source": [
        "seq = 'AUUCCUUCTGG'\n",
        "\n",
        "seq = seq.replace('A','G')\n",
        "seq = seq.replace('U','T')\n",
        "\n",
        "G = seq.count('G')\n",
        "C = seq.count('C')\n",
        "T = seq.count('T')\n",
        "\n",
        "print( G, C, T)"
      ],
      "metadata": {
        "colab": {
          "base_uri": "https://localhost:8080/"
        },
        "id": "yNlh_LCstJTQ",
        "outputId": "937af810-b7fb-41eb-8ba2-4f90a9fe783d"
      },
      "execution_count": 1,
      "outputs": [
        {
          "output_type": "stream",
          "name": "stdout",
          "text": [
            "3 3 5\n"
          ]
        }
      ]
    },
    {
      "cell_type": "markdown",
      "source": [
        "Conjuntos são coleções desordenadas de elementos sem repetições. Usados frequentemente para verificação da existência de objetos, eliminação de elementos duplicados."
      ],
      "metadata": {
        "id": "Z9i9JMKD5jLW"
      }
    },
    {
      "cell_type": "code",
      "source": [
        "frutas = {'uva','banana','maca','uva','limao','limao'}\n",
        "frutas"
      ],
      "metadata": {
        "colab": {
          "base_uri": "https://localhost:8080/"
        },
        "id": "JRLEMpsq5p1U",
        "outputId": "60ef9463-d417-4892-edbd-6b3232cc49af"
      },
      "execution_count": 2,
      "outputs": [
        {
          "output_type": "execute_result",
          "data": {
            "text/plain": [
              "{'banana', 'limao', 'maca', 'uva'}"
            ]
          },
          "metadata": {},
          "execution_count": 2
        }
      ]
    },
    {
      "cell_type": "code",
      "source": [
        "lista = [1,1,1,1,1,1,1,2,2,2,3,3,3,3,3,0,0,0,0,0]\n",
        "lista"
      ],
      "metadata": {
        "colab": {
          "base_uri": "https://localhost:8080/"
        },
        "id": "njeZ5guK9vdS",
        "outputId": "592468a0-c4d4-46a0-c5b7-476ebaf20ead"
      },
      "execution_count": 3,
      "outputs": [
        {
          "output_type": "execute_result",
          "data": {
            "text/plain": [
              "[1, 1, 1, 1, 1, 1, 1, 2, 2, 2, 3, 3, 3, 3, 3, 0, 0, 0, 0, 0]"
            ]
          },
          "metadata": {},
          "execution_count": 3
        }
      ]
    },
    {
      "cell_type": "code",
      "source": [
        "set_lista = set(lista)\n",
        "set_lista"
      ],
      "metadata": {
        "colab": {
          "base_uri": "https://localhost:8080/"
        },
        "id": "sDh3Rw9K94Gq",
        "outputId": "e027909f-2e20-4a4e-e6a3-6c4def471e06"
      },
      "execution_count": 4,
      "outputs": [
        {
          "output_type": "execute_result",
          "data": {
            "text/plain": [
              "{0, 1, 2, 3}"
            ]
          },
          "metadata": {},
          "execution_count": 4
        }
      ]
    },
    {
      "cell_type": "markdown",
      "source": [
        "Os conjuntos também suportam operações matemáticas como união, interseção, diferença e diferença simétrica"
      ],
      "metadata": {
        "id": "v-kQys2T-PzA"
      }
    },
    {
      "cell_type": "code",
      "source": [
        "'banana' in frutas"
      ],
      "metadata": {
        "colab": {
          "base_uri": "https://localhost:8080/"
        },
        "id": "HPQ9YKCF9-IR",
        "outputId": "61053e3e-797c-4397-84e8-4fdcdf74ac80"
      },
      "execution_count": 5,
      "outputs": [
        {
          "output_type": "execute_result",
          "data": {
            "text/plain": [
              "True"
            ]
          },
          "metadata": {},
          "execution_count": 5
        }
      ]
    },
    {
      "cell_type": "code",
      "source": [
        "a = {1,2,3,4,5}\n",
        "b = {1,7,2,8,9,10,11}\n",
        "\n",
        "print(a)\n",
        "print(b)"
      ],
      "metadata": {
        "colab": {
          "base_uri": "https://localhost:8080/"
        },
        "id": "OVXGfn74_3R2",
        "outputId": "46db3acb-dd7a-44b4-a46a-4f265179d894"
      },
      "execution_count": 6,
      "outputs": [
        {
          "output_type": "stream",
          "name": "stdout",
          "text": [
            "{1, 2, 3, 4, 5}\n",
            "{1, 2, 7, 8, 9, 10, 11}\n"
          ]
        }
      ]
    },
    {
      "cell_type": "code",
      "source": [
        "type(a)"
      ],
      "metadata": {
        "colab": {
          "base_uri": "https://localhost:8080/"
        },
        "id": "-AxSB0HCAIfl",
        "outputId": "8af5f12e-533b-48ce-a3c4-1d06f5875ec5"
      },
      "execution_count": 7,
      "outputs": [
        {
          "output_type": "execute_result",
          "data": {
            "text/plain": [
              "set"
            ]
          },
          "metadata": {},
          "execution_count": 7
        }
      ]
    },
    {
      "cell_type": "code",
      "source": [
        "# união\n",
        "\n",
        "a.union(b)"
      ],
      "metadata": {
        "colab": {
          "base_uri": "https://localhost:8080/"
        },
        "id": "EKN17OlfAMlO",
        "outputId": "cedb8979-3490-4172-8d63-e36be35ce3b0"
      },
      "execution_count": 8,
      "outputs": [
        {
          "output_type": "execute_result",
          "data": {
            "text/plain": [
              "{1, 2, 3, 4, 5, 7, 8, 9, 10, 11}"
            ]
          },
          "metadata": {},
          "execution_count": 8
        }
      ]
    },
    {
      "cell_type": "code",
      "source": [
        "# interseção\n",
        "\n",
        "inter = a.intersection(b)\n",
        "inter"
      ],
      "metadata": {
        "colab": {
          "base_uri": "https://localhost:8080/"
        },
        "id": "b3oGvzwWAdh1",
        "outputId": "ea7d0526-2eb3-49d3-95d2-29e09c380c35"
      },
      "execution_count": 12,
      "outputs": [
        {
          "output_type": "execute_result",
          "data": {
            "text/plain": [
              "{1, 2}"
            ]
          },
          "metadata": {},
          "execution_count": 12
        }
      ]
    },
    {
      "cell_type": "code",
      "source": [
        "# diferença\n",
        "\n",
        "dif1 = a.difference(b)\n",
        "dif2 = b.difference(a)\n",
        "\n",
        "print(dif1)\n",
        "print(dif2)"
      ],
      "metadata": {
        "colab": {
          "base_uri": "https://localhost:8080/"
        },
        "id": "AOi9EaKfAv-v",
        "outputId": "a04491ea-1397-4359-e9bf-fcc98ce1693b"
      },
      "execution_count": 10,
      "outputs": [
        {
          "output_type": "stream",
          "name": "stdout",
          "text": [
            "{3, 4, 5}\n",
            "{7, 8, 9, 10, 11}\n"
          ]
        }
      ]
    },
    {
      "cell_type": "code",
      "source": [
        "a.symmetric_difference(b)"
      ],
      "metadata": {
        "colab": {
          "base_uri": "https://localhost:8080/"
        },
        "id": "yv5ExVHoBrA-",
        "outputId": "d79127e9-7959-4664-a436-58dd65e3ba52"
      },
      "execution_count": 13,
      "outputs": [
        {
          "output_type": "execute_result",
          "data": {
            "text/plain": [
              "{3, 4, 5, 7, 8, 9, 10, 11}"
            ]
          },
          "metadata": {},
          "execution_count": 13
        }
      ]
    },
    {
      "cell_type": "code",
      "source": [
        "L=[-20,-10,0,10,20,30]\n",
        "print(L[-1::-2])"
      ],
      "metadata": {
        "colab": {
          "base_uri": "https://localhost:8080/"
        },
        "id": "zbFiXkhjCcht",
        "outputId": "5f92c43d-4dbc-4718-905b-34c70a4933f0"
      },
      "execution_count": 14,
      "outputs": [
        {
          "output_type": "stream",
          "name": "stdout",
          "text": [
            "[30, 10, -10]\n"
          ]
        }
      ]
    },
    {
      "cell_type": "code",
      "source": [
        "dados = {\n",
        "'Machado de Assis': 7575,\n",
        "'Santos Dumont': 7475,\n",
        "'Rui Barbosa': 1675 }\n",
        "\n",
        "print(dados['Santos Dumont'])"
      ],
      "metadata": {
        "colab": {
          "base_uri": "https://localhost:8080/"
        },
        "id": "C6bkBN_-Cj4r",
        "outputId": "dfaa12db-b66c-4f82-c9bc-7deb9539eec6"
      },
      "execution_count": 16,
      "outputs": [
        {
          "output_type": "stream",
          "name": "stdout",
          "text": [
            "7475\n"
          ]
        }
      ]
    },
    {
      "cell_type": "code",
      "source": [
        "a = [1, 2, 3]\n",
        "b = list(a)\n",
        "print(a)\n",
        "print(b)\n",
        "print(a==b)\n",
        "print(a is b)"
      ],
      "metadata": {
        "colab": {
          "base_uri": "https://localhost:8080/"
        },
        "id": "yf2UJ457C-Sb",
        "outputId": "8831854a-10f3-4fa8-e65d-67e33eb871f9"
      },
      "execution_count": 17,
      "outputs": [
        {
          "output_type": "stream",
          "name": "stdout",
          "text": [
            "[1, 2, 3]\n",
            "[1, 2, 3]\n",
            "True\n",
            "False\n"
          ]
        }
      ]
    },
    {
      "cell_type": "code",
      "source": [
        "v1 = 'Rio de Janeiro'\n",
        "v2 = v1.split('o')\n",
        "v3 = [v2[0] + v2[1][::1] + v2[2][::1]]\n",
        "print(v3)"
      ],
      "metadata": {
        "colab": {
          "base_uri": "https://localhost:8080/"
        },
        "id": "eAVgaF1mDPxr",
        "outputId": "fa42df88-0e13-4bda-bb3f-92129c1a3e4e"
      },
      "execution_count": 18,
      "outputs": [
        {
          "output_type": "stream",
          "name": "stdout",
          "text": [
            "['Ri de Janeir']\n"
          ]
        }
      ]
    },
    {
      "cell_type": "code",
      "source": [
        "a = ['UF'] + [ 'RN']\n",
        "print(len(a))\n",
        "b = ['4']*4\n",
        "print(len(b))"
      ],
      "metadata": {
        "colab": {
          "base_uri": "https://localhost:8080/"
        },
        "id": "S4oMP8CuDXQb",
        "outputId": "49c82105-2d9d-4d0e-d529-51c66e1ae445"
      },
      "execution_count": 19,
      "outputs": [
        {
          "output_type": "stream",
          "name": "stdout",
          "text": [
            "2\n",
            "4\n"
          ]
        }
      ]
    },
    {
      "cell_type": "code",
      "source": [
        "listaSetores = ['Comercial', 'RH', 'Financeiro', 'Adm','Operacional']\n",
        "\n",
        "for setores in listaSetores:\n",
        "  print(setores)"
      ],
      "metadata": {
        "colab": {
          "base_uri": "https://localhost:8080/"
        },
        "id": "OiqwMDFqFOBQ",
        "outputId": "becd8678-cdfb-4442-c191-07ad4986fb57"
      },
      "execution_count": 20,
      "outputs": [
        {
          "output_type": "stream",
          "name": "stdout",
          "text": [
            "Comercial\n",
            "RH\n",
            "Financeiro\n",
            "Adm\n",
            "Operacional\n"
          ]
        }
      ]
    },
    {
      "cell_type": "code",
      "source": [
        "nome = 'Enzo'\n",
        "\n",
        "for caracter in nome:\n",
        "  print(caracter)"
      ],
      "metadata": {
        "colab": {
          "base_uri": "https://localhost:8080/"
        },
        "id": "IlqG1FsSFf_R",
        "outputId": "b691a816-21bd-4977-f81e-c40e5a36353f"
      },
      "execution_count": 21,
      "outputs": [
        {
          "output_type": "stream",
          "name": "stdout",
          "text": [
            "E\n",
            "n\n",
            "z\n",
            "o\n"
          ]
        }
      ]
    },
    {
      "cell_type": "code",
      "source": [
        "range(5)"
      ],
      "metadata": {
        "colab": {
          "base_uri": "https://localhost:8080/"
        },
        "id": "5_-RZ7NEGE4P",
        "outputId": "4f95cc77-4328-4f9c-df86-4853ab63f46c"
      },
      "execution_count": 22,
      "outputs": [
        {
          "output_type": "execute_result",
          "data": {
            "text/plain": [
              "range(0, 5)"
            ]
          },
          "metadata": {},
          "execution_count": 22
        }
      ]
    },
    {
      "cell_type": "code",
      "source": [
        "range(2,5)"
      ],
      "metadata": {
        "colab": {
          "base_uri": "https://localhost:8080/"
        },
        "id": "MfsFVf8HGcHf",
        "outputId": "3afbeef7-dee3-4440-c51b-9b51e7f57f47"
      },
      "execution_count": 23,
      "outputs": [
        {
          "output_type": "execute_result",
          "data": {
            "text/plain": [
              "range(2, 5)"
            ]
          },
          "metadata": {},
          "execution_count": 23
        }
      ]
    },
    {
      "cell_type": "code",
      "source": [
        "list(range(2,5))"
      ],
      "metadata": {
        "colab": {
          "base_uri": "https://localhost:8080/"
        },
        "id": "yMCqm_nXGf8f",
        "outputId": "8086a068-d965-4ae0-d998-8d3bc325831b"
      },
      "execution_count": 24,
      "outputs": [
        {
          "output_type": "execute_result",
          "data": {
            "text/plain": [
              "[2, 3, 4]"
            ]
          },
          "metadata": {},
          "execution_count": 24
        }
      ]
    },
    {
      "cell_type": "code",
      "source": [
        "par = []\n",
        "impar = []\n",
        "for i in range(1,20):\n",
        "  if (i % 2 == 0):\n",
        "    par.append(i)\n",
        "  else:\n",
        "    impar.append(i)\n",
        "\n",
        "print(i)\n",
        "print(par)\n",
        "print(impar)\n"
      ],
      "metadata": {
        "colab": {
          "base_uri": "https://localhost:8080/"
        },
        "id": "ZBi_vfO3HC6-",
        "outputId": "391bf501-6a68-49f3-9ab8-2721b614d79c"
      },
      "execution_count": 28,
      "outputs": [
        {
          "output_type": "stream",
          "name": "stdout",
          "text": [
            "19\n",
            "[2, 4, 6, 8, 10, 12, 14, 16, 18]\n",
            "[1, 3, 5, 7, 9, 11, 13, 15, 17, 19]\n"
          ]
        }
      ]
    },
    {
      "cell_type": "code",
      "source": [
        "list(enumerate(listaSetores))"
      ],
      "metadata": {
        "colab": {
          "base_uri": "https://localhost:8080/"
        },
        "id": "UZ4YWcG3JKls",
        "outputId": "57ccc4a0-f398-4c61-ad3d-79608aa86427"
      },
      "execution_count": 29,
      "outputs": [
        {
          "output_type": "execute_result",
          "data": {
            "text/plain": [
              "[(0, 'Comercial'),\n",
              " (1, 'RH'),\n",
              " (2, 'Financeiro'),\n",
              " (3, 'Adm'),\n",
              " (4, 'Operacional')]"
            ]
          },
          "metadata": {},
          "execution_count": 29
        }
      ]
    },
    {
      "cell_type": "code",
      "source": [
        "for a,b in enumerate(listaSetores):\n",
        "  if (a == 2):\n",
        "    print(b)"
      ],
      "metadata": {
        "colab": {
          "base_uri": "https://localhost:8080/"
        },
        "id": "bjOcpcUFJa6-",
        "outputId": "41769553-22dc-471c-f531-c0613e0a9c37"
      },
      "execution_count": 30,
      "outputs": [
        {
          "output_type": "stream",
          "name": "stdout",
          "text": [
            "Financeiro\n"
          ]
        }
      ]
    },
    {
      "cell_type": "code",
      "source": [
        "i = 0\n",
        "while (i < 10):\n",
        "  print(i)\n",
        "  i = i+1"
      ],
      "metadata": {
        "colab": {
          "base_uri": "https://localhost:8080/"
        },
        "id": "eg3OxokSf5V3",
        "outputId": "0550b8b5-42b6-42f8-e1a2-d8b5698db46d"
      },
      "execution_count": 32,
      "outputs": [
        {
          "output_type": "stream",
          "name": "stdout",
          "text": [
            "0\n",
            "1\n",
            "2\n",
            "3\n",
            "4\n",
            "5\n",
            "6\n",
            "7\n",
            "8\n",
            "9\n"
          ]
        }
      ]
    },
    {
      "cell_type": "code",
      "source": [
        "i = 0\n",
        "print(listaSetores, len(listaSetores))\n",
        "\n",
        "while (i < len(listaSetores)):\n",
        "  print(listaSetores[i])\n",
        "\n",
        "  i +=1"
      ],
      "metadata": {
        "colab": {
          "base_uri": "https://localhost:8080/"
        },
        "id": "SNV3p_wxhKgY",
        "outputId": "d570975a-ba46-49d3-e69c-f4be4ab65fca"
      },
      "execution_count": 34,
      "outputs": [
        {
          "output_type": "stream",
          "name": "stdout",
          "text": [
            "['Comercial', 'RH', 'Financeiro', 'Adm', 'Operacional'] 5\n",
            "Comercial\n",
            "RH\n",
            "Financeiro\n",
            "Adm\n",
            "Operacional\n"
          ]
        }
      ]
    },
    {
      "cell_type": "code",
      "source": [
        "# continue - a intrução continue interrompe a execução do ciclo de repetição sem interromper a execução do laço de repetição, ao contrário doo break, que interrompe todo o laço.\n",
        "\n",
        "x = 0\n",
        "\n",
        "while (x <= 5):\n",
        "  x += 1\n",
        "  print(x, 'antes do if')\n",
        "  if (x == 4):\n",
        "    print('\\n')\n",
        "    continue\n",
        "  print(x, 'depois do if')\n"
      ],
      "metadata": {
        "colab": {
          "base_uri": "https://localhost:8080/"
        },
        "id": "9xf1KJVMmUkO",
        "outputId": "e8b9d18c-d8a4-4d03-ee82-107506ec4902"
      },
      "execution_count": 36,
      "outputs": [
        {
          "output_type": "stream",
          "name": "stdout",
          "text": [
            "1 antes do if\n",
            "1 depois do if\n",
            "2 antes do if\n",
            "2 depois do if\n",
            "3 antes do if\n",
            "3 depois do if\n",
            "4 antes do if\n",
            "\n",
            "\n",
            "5 antes do if\n",
            "5 depois do if\n",
            "6 antes do if\n",
            "6 depois do if\n"
          ]
        }
      ]
    },
    {
      "cell_type": "markdown",
      "source": [
        "##Pass##\n",
        "\n",
        "o Pass é uma operação nula. Quando ela é chamada nada acontece. É útil quando uma instrução é necessária sintaticamente, mas nenhum código precisa ser executado"
      ],
      "metadata": {
        "id": "Kqt-EvHDn0mn"
      }
    },
    {
      "cell_type": "code",
      "source": [
        "seq = {'a', 'a', 'b','b'}\n",
        "seq"
      ],
      "metadata": {
        "colab": {
          "base_uri": "https://localhost:8080/"
        },
        "id": "bbl70z0AoHpW",
        "outputId": "5328fa54-83c4-4537-b941-622cd9f8b3ba"
      },
      "execution_count": 37,
      "outputs": [
        {
          "output_type": "execute_result",
          "data": {
            "text/plain": [
              "{'a', 'b'}"
            ]
          },
          "metadata": {},
          "execution_count": 37
        }
      ]
    },
    {
      "cell_type": "markdown",
      "source": [
        "Observe que o código acima não executa nada e o pass serve apenas como placeholder"
      ],
      "metadata": {
        "id": "M5icN9FZoSvG"
      }
    },
    {
      "cell_type": "code",
      "source": [
        "# List Comprehension - fornece uma maneira sucinta de criar listas\n",
        "\n"
      ],
      "metadata": {
        "id": "6OpUYGsGofQ_"
      },
      "execution_count": null,
      "outputs": []
    },
    {
      "cell_type": "code",
      "source": [
        "quadrados = []\n",
        "\n",
        "for x in range(10):\n",
        "  quadrados.append(x**2)\n",
        "\n",
        "quadrados\n"
      ],
      "metadata": {
        "colab": {
          "base_uri": "https://localhost:8080/"
        },
        "id": "8NObRavIo_Ux",
        "outputId": "424e983a-356e-4699-bc95-65a1459acb6e"
      },
      "execution_count": 38,
      "outputs": [
        {
          "output_type": "execute_result",
          "data": {
            "text/plain": [
              "[0, 1, 4, 9, 16, 25, 36, 49, 64, 81]"
            ]
          },
          "metadata": {},
          "execution_count": 38
        }
      ]
    },
    {
      "cell_type": "code",
      "source": [
        "quadrados = [x**2 for x in range(10)]\n",
        "\n",
        "quadrados"
      ],
      "metadata": {
        "colab": {
          "base_uri": "https://localhost:8080/"
        },
        "id": "oobd4xnnpUhW",
        "outputId": "b070dc0e-8422-4e4e-d290-f5256433c8bc"
      },
      "execution_count": 39,
      "outputs": [
        {
          "output_type": "execute_result",
          "data": {
            "text/plain": [
              "[0, 1, 4, 9, 16, 25, 36, 49, 64, 81]"
            ]
          },
          "metadata": {},
          "execution_count": 39
        }
      ]
    },
    {
      "cell_type": "markdown",
      "source": [
        "parâmetros é uma lista com nenhum ou mais elementos que a função precisará receber para ser utilizada\n",
        "\n",
        "Funções, em programação, definida como um bloco de comandos definidos separadamente no código que realiza uma determinada tarefa"
      ],
      "metadata": {
        "id": "VUs3VoKH9Zct"
      }
    },
    {
      "cell_type": "code",
      "source": [
        "def minha_funcao():\n",
        "  print('Ola')"
      ],
      "metadata": {
        "id": "4GsR2XIC9oUj"
      },
      "execution_count": 40,
      "outputs": []
    },
    {
      "cell_type": "code",
      "source": [
        "minha_funcao()"
      ],
      "metadata": {
        "colab": {
          "base_uri": "https://localhost:8080/"
        },
        "id": "LlbGWp-a-W9N",
        "outputId": "b2779924-46e6-48f8-c4f0-b634d8a0fd05"
      },
      "execution_count": 41,
      "outputs": [
        {
          "output_type": "stream",
          "name": "stdout",
          "text": [
            "Ola\n"
          ]
        }
      ]
    },
    {
      "cell_type": "markdown",
      "source": [
        "Enquanto algumas funções não precisam de nenhuma informação prévia para ser executadas outras precisam, essas informações são chamadas de parâmetros"
      ],
      "metadata": {
        "id": "s_ba7GXR-wf8"
      }
    },
    {
      "cell_type": "code",
      "source": [
        "def calcula_area_circulo(raio):\n",
        "  pi = 3.14\n",
        "  area = pi * raio **2\n",
        "  print(\"A area do circulo é:\" , area)"
      ],
      "metadata": {
        "id": "-ZSjGfER_DCN"
      },
      "execution_count": 42,
      "outputs": []
    },
    {
      "cell_type": "code",
      "source": [
        "calcula_area_circulo(2)\n",
        "calcula_area_circulo(5)\n",
        "calcula_area_circulo(6)"
      ],
      "metadata": {
        "colab": {
          "base_uri": "https://localhost:8080/"
        },
        "id": "zXYGAYWM_Rrr",
        "outputId": "b774b05e-e9b3-4426-8fee-83781bf9a346"
      },
      "execution_count": 43,
      "outputs": [
        {
          "output_type": "stream",
          "name": "stdout",
          "text": [
            "A area do circulo é: 12.56\n",
            "A area do circulo é: 78.5\n",
            "A area do circulo é: 113.04\n"
          ]
        }
      ]
    },
    {
      "cell_type": "code",
      "source": [
        "def imprimeSetores(listaSetores):\n",
        "  for setores in listaSetores:\n",
        "    print(setores)\n",
        ""
      ],
      "metadata": {
        "id": "sQ0sSgaC_jpa"
      },
      "execution_count": null,
      "outputs": []
    }
  ]
}